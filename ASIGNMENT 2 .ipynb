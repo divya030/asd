{
 "cells": [
  {
   "cell_type": "code",
   "execution_count": null,
   "metadata": {},
   "outputs": [],
   "source": [
    "1.What are the two values of the Boolean data type? How do you write them?\n",
    "\n",
    "True  -- value is 1\n",
    "False -- value is 0"
   ]
  },
  {
   "cell_type": "code",
   "execution_count": null,
   "metadata": {},
   "outputs": [],
   "source": [
    "2. What are the three different types of Boolean operators?\n",
    "\n",
    "and -- returns True if both the operands are True.\n",
    "or  -- returns True if any one operand is True.\n",
    "not -- returns True if the operand is False and wiseversa."
   ]
  },
  {
   "cell_type": "code",
   "execution_count": null,
   "metadata": {},
   "outputs": [],
   "source": [
    "3. Make a list of each Boolean operators truth tables (i.e. every possible combination of Boolean\n",
    "values for the operator and what it evaluate ).\n",
    "\n",
    "AND operator--\n",
    "\n",
    "X         Y         RETURNS\n",
    "True     True        True\n",
    "True     False       False\n",
    "False    True        False\n",
    "False    False       False\n",
    "\n",
    "\n",
    "OR operator--\n",
    "\n",
    "X         Y         RETURNS\n",
    "True     True        True\n",
    "True     False       True\n",
    "False    True        True\n",
    "False    False       False\n",
    "\n",
    "\n",
    "NOT operator--\n",
    "\n",
    "X        RETURNS\n",
    "True      False\n",
    "False     True      \n",
    "           \n"
   ]
  },
  {
   "cell_type": "code",
   "execution_count": null,
   "metadata": {},
   "outputs": [],
   "source": [
    "4. What are the values of the following expressions?\n",
    "\n",
    "\n",
    "(5 > 4) and (3 == 5)                   -- False\n",
    "not (5 > 4)                            -- False\n",
    "(5 > 4) or (3 == 5)                    -- True\n",
    "not ((5 > 4) or (3 == 5))              -- False\n",
    "(True and True) and (True == False)    -- False\n",
    "(not False) or (not True)              -- True"
   ]
  },
  {
   "cell_type": "code",
   "execution_count": null,
   "metadata": {},
   "outputs": [],
   "source": [
    "5. What are the six comparison operators?\n",
    "\n",
    "Comparison operator --\n",
    "\n",
    "> --  Greater than             : returns True if left operand is greater than right operand.\n",
    "< --  lesser than              : returns True if left operand is lesser than right operand.\n",
    "== -- Equal to                 : return True if both operands are same.\n",
    "!= -- Not equal to             : return True if both operands are different.\n",
    ">= -- Greater than or equal to : returns True if left operand is greater than or equal to right operand.\n",
    "<= -- lesser than or equal to  : returns True if left operand is lesser than or equal to right operand."
   ]
  },
  {
   "cell_type": "code",
   "execution_count": null,
   "metadata": {},
   "outputs": [],
   "source": [
    "6. How do you tell the difference between the equal to and assignment operators?Describe a\n",
    "condition and when you would use one.\n",
    "\n",
    "Equal to   -- is used to compare two values whether they are same are not. Return True if both values are equal and False                 if they are different. They are represented by ==\n",
    "              eg:(2+2)==5, returns False.\n",
    "\n",
    "Assignment -- is used to assign a value to a variable. Represented by =\n",
    "              eg: a=5 \n",
    "              \n",
    "Condition --  also called as decision making statement.\n",
    "              are used to control the flow of statements by given conditions.\n",
    "              Python evaluates the given condition to boolean expression True or False. Based on the return value python                 executes the certain block of code specified for that. \n",
    "              Types -- if statement, if else statement,nested if statement, elif statement,while statement."
   ]
  },
  {
   "cell_type": "code",
   "execution_count": null,
   "metadata": {},
   "outputs": [],
   "source": [
    "7. Identify the three blocks in this code:\n",
    "\n",
    "spam = 0\n",
    "if spam == 10:\n",
    "print('eggs')\n",
    "if spam > 5:\n",
    "print('bacon')\n",
    "else:\n",
    "print('ham')\n",
    "print('spam')\n",
    "print('spam')"
   ]
  },
  {
   "cell_type": "code",
   "execution_count": null,
   "metadata": {},
   "outputs": [],
   "source": [
    "spam = 0\n",
    "\n",
    "# BLOCK 1-- \n",
    "if spam == 10:\n",
    "    print('eggs')\n",
    "    \n",
    "# BLOCK 2--\n",
    "if spam > 5:\n",
    "    print('bacon')\n",
    "    \n",
    "# BlOCK 3--\n",
    "else:\n",
    "    print('ham')\n",
    "    print('spam')\n",
    "    print('spam')"
   ]
  },
  {
   "cell_type": "code",
   "execution_count": null,
   "metadata": {},
   "outputs": [],
   "source": [
    "8. Write code that prints Hello if 1 is stored in spam, prints Howdy if 2 is stored in spam, and prints\n",
    "Greetings! if anything else is stored in spam."
   ]
  },
  {
   "cell_type": "code",
   "execution_count": 13,
   "metadata": {},
   "outputs": [
    {
     "name": "stdout",
     "output_type": "stream",
     "text": [
      "Enter here:34@sd\n",
      "Greetings!\n"
     ]
    }
   ],
   "source": [
    "spam = input(\"Enter here:\")\n",
    "\n",
    "if spam == '1':\n",
    "    print(\"Hello\")\n",
    "elif spam == '2':\n",
    "    print(\"Howdy\")\n",
    "else:\n",
    "    print(\"Greetings!\")"
   ]
  },
  {
   "cell_type": "code",
   "execution_count": null,
   "metadata": {},
   "outputs": [],
   "source": [
    "9.If your programme is stuck in an endless loop, what keys you’ll press?\n",
    "\n",
    "CTRL+C  (or)  I twice\n",
    "are used to interupt the endless loop."
   ]
  },
  {
   "cell_type": "code",
   "execution_count": null,
   "metadata": {},
   "outputs": [],
   "source": [
    "10. How can you tell the difference between break and continue?\n",
    "\n",
    "Break:\n",
    "-- if the break statement is used inside a loop, it will terminate the loop and exit\n",
    "-- if its used in nested loop it will come out of the current loop.\n",
    "\n",
    "Continue:\n",
    "-- if the continue statement is used inside a loop, it will stop the current execution i.e the code after continue            statement will not taken into account, it will goes straight to the start of the loop. "
   ]
  },
  {
   "cell_type": "code",
   "execution_count": 24,
   "metadata": {},
   "outputs": [
    {
     "name": "stdout",
     "output_type": "stream",
     "text": [
      "a\n",
      "s\n",
      "p\n",
      "i\n",
      "r\n",
      "i\n",
      "n\n",
      "the loop will terminate here \n"
     ]
    }
   ],
   "source": [
    "# example for break statement:\n",
    "\n",
    "a=\"aspiring\"\n",
    "\n",
    "for i in a:\n",
    "    print(i)\n",
    "    if i == 'n':\n",
    "        print(\"the loop will terminate here \")\n",
    "        break"
   ]
  },
  {
   "cell_type": "code",
   "execution_count": 38,
   "metadata": {},
   "outputs": [
    {
     "name": "stdout",
     "output_type": "stream",
     "text": [
      "a\n",
      "s\n",
      "p\n",
      "i\n",
      "r\n",
      "i\n",
      "n\n",
      "the loop continues\n",
      "g\n"
     ]
    }
   ],
   "source": [
    "# example for continue statement:\n",
    "\n",
    "a=\"aspiring\"\n",
    "\n",
    "for i in a:\n",
    "    print(i)\n",
    "    if i == 'n':\n",
    "        print(\"the loop continues\")\n",
    "        continue\n",
    "        print(\"this statement will not be displayed because of continue statement\")"
   ]
  },
  {
   "cell_type": "code",
   "execution_count": null,
   "metadata": {},
   "outputs": [],
   "source": [
    "11. In a for loop, what is the difference between range(10), range(0, 10), and range(0, 10, 1)?\n",
    "\n",
    "-- all three are same but the representation is diffrent.\n",
    "-- as they give value from 0 to 9 ,the last highest range value(10) will be excluded as the range \n",
    "   value starts from 0.\n"
   ]
  },
  {
   "cell_type": "code",
   "execution_count": null,
   "metadata": {},
   "outputs": [],
   "source": [
    "12. Write a short program that prints the numbers 1 to 10 using a for loop. Then write an equivalent\n",
    "program that prints the numbers 1 to 10 using a while loop."
   ]
  },
  {
   "cell_type": "code",
   "execution_count": 36,
   "metadata": {},
   "outputs": [
    {
     "name": "stdout",
     "output_type": "stream",
     "text": [
      "1 2 3 4 5 6 7 8 9 10 "
     ]
    }
   ],
   "source": [
    "# program that prints the numbers 1 to 10 using a for loop.\n",
    "\n",
    "for i in range(1,11):\n",
    "    print(i,end=\" \")"
   ]
  },
  {
   "cell_type": "code",
   "execution_count": 40,
   "metadata": {},
   "outputs": [
    {
     "name": "stdout",
     "output_type": "stream",
     "text": [
      "1 2 3 4 5 6 7 8 9 10 "
     ]
    }
   ],
   "source": [
    "# program that prints the numbers 1 to 10 using a while loop.\n",
    "\n",
    "i=1\n",
    "while i<11:\n",
    "    print(i,end=\" \")\n",
    "    i+=1"
   ]
  },
  {
   "cell_type": "code",
   "execution_count": null,
   "metadata": {},
   "outputs": [],
   "source": [
    "13. If you had a function named bacon() inside a module named spam, how would you call it after\n",
    "importing spam?\n",
    "\n",
    "-- can call the bacon fun by sapm.bacon()\n",
    "(or)\n",
    "\n",
    "from spam import bacon\n",
    "bacon()"
   ]
  }
 ],
 "metadata": {
  "kernelspec": {
   "display_name": "Python 3",
   "language": "python",
   "name": "python3"
  },
  "language_info": {
   "codemirror_mode": {
    "name": "ipython",
    "version": 3
   },
   "file_extension": ".py",
   "mimetype": "text/x-python",
   "name": "python",
   "nbconvert_exporter": "python",
   "pygments_lexer": "ipython3",
   "version": "3.8.5"
  }
 },
 "nbformat": 4,
 "nbformat_minor": 4
}
