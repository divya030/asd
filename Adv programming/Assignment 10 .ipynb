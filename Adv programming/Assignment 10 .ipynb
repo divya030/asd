{
 "cells": [
  {
   "cell_type": "markdown",
   "id": "3b9b8896",
   "metadata": {},
   "source": [
    "Q. 1. Create a function that takes the width, height and character and returns a\n",
    "\n",
    "picture frame as a 2D list. Examples get_frame(4, 5, '#') ➞ [ ['####'], ['# #'], ['# #'], ['# #'], ['####'] ] Frame is 4 characters wide and 5 characters tall.\n",
    "\n",
    "get_frame(10, 3, '') ➞ [ ['*******'], ['* *'], ['********'] ] Frame is 10 characters and wide and 3 characters tall.\n",
    "\n",
    "get_frame(2, 5, '0') ➞ 'invalid'"
   ]
  },
  {
   "cell_type": "code",
   "execution_count": 1,
   "id": "66311856",
   "metadata": {},
   "outputs": [
    {
     "name": "stdout",
     "output_type": "stream",
     "text": [
      "['####']\n",
      "['#  #']\n",
      "['#  #']\n",
      "['#  #']\n",
      "['####']\n"
     ]
    }
   ],
   "source": [
    "def get_frame(m, n,sign) :\n",
    "    row = []\n",
    "    frame = []\n",
    "    boxStr = '' \n",
    "    if m <= 2 or n <= 2:\n",
    "        return \"invalid\"\n",
    "    for i in range(1, n+1) :\n",
    "        boxStr = ''\n",
    "        row = []\n",
    "        for j in range(1, m+1) :\n",
    "            if (i == 1 or i == n or\n",
    "                j == 1 or j == m) :\n",
    "                boxStr = boxStr + sign\n",
    "            else :\n",
    "                boxStr = boxStr + ' '\n",
    "        row.append(boxStr)\n",
    "        frame.append(row)\n",
    "    for i in frame:\n",
    "        print(i)\n",
    "    #return frame\n",
    "        \n",
    " \n",
    " \n",
    "get_frame(4, 5, '#')"
   ]
  },
  {
   "cell_type": "markdown",
   "id": "2ca6b539",
   "metadata": {},
   "source": [
    "Q.2. Write three functions:\n",
    "\n",
    "boolean_and\n",
    "boolean_or\n",
    "boolean_xor\n",
    "These functions should evaluate a list of True and False values, starting from the leftmost element and evaluating pairwise. Examples boolean_and([True, True, False, True]) ➞ False [True, True, False, True] => [True, False, True] => [False, True] => False boolean_or([True, True, False, False]) ➞ True [True, True, False, True] => [True, False, False] => [True, False] => True boolean_xor([True, True, False, False]) ➞ False [True, True, False, False] => [False, False, False] => [False, False] => False"
   ]
  },
  {
   "cell_type": "code",
   "execution_count": 2,
   "id": "46a019d6",
   "metadata": {},
   "outputs": [
    {
     "data": {
      "text/plain": [
       "False"
      ]
     },
     "execution_count": 2,
     "metadata": {},
     "output_type": "execute_result"
    }
   ],
   "source": [
    "from functools import reduce\n",
    "\n",
    "def boolean_and(items):\n",
    "    status = reduce(lambda a,b: True if (a & b) else False, items)\n",
    "    return status\n",
    "\n",
    "def boolean_or(items):\n",
    "    status = reduce(lambda a,b: True if (a | b) else False, items)\n",
    "    return status\n",
    "\n",
    "def boolean_xor(items):\n",
    "    status = reduce(lambda a,b: True if (a ^ b) else False, items)\n",
    "    return status\n",
    "     \n",
    "\n",
    "boolean_and([True, True, False, True])\n"
   ]
  },
  {
   "cell_type": "markdown",
   "id": "efaf3eab",
   "metadata": {},
   "source": [
    "Q. 3. Create a function that creates a box based on dimension n.\n",
    "\n",
    "Examples make_box(5) ➞ [ '#####', '# #', '# #', '# #', '#####' ] make_box(3) ➞ [ '###', '# #', '###' ] make_box(2) ➞ [ '##', '##' ] make_box(1) ➞ [ '#' ]"
   ]
  },
  {
   "cell_type": "code",
   "execution_count": 3,
   "id": "5d71e7c7",
   "metadata": {},
   "outputs": [
    {
     "name": "stdout",
     "output_type": "stream",
     "text": [
      "#####\n",
      "#   #\n",
      "#   #\n",
      "#   #\n",
      "#####\n"
     ]
    },
    {
     "data": {
      "text/plain": [
       "['#####', '#   #', '#   #', '#   #', '#####']"
      ]
     },
     "execution_count": 3,
     "metadata": {},
     "output_type": "execute_result"
    }
   ],
   "source": [
    "def make_box(n) :\n",
    "    box = []\n",
    "    boxStr =''\n",
    "    for i in range(1, n+1) :\n",
    "        boxStr = ''\n",
    "        for j in range(1, n+1) :\n",
    "            if (i == 1 or i == n or\n",
    "                j == 1 or j == n) :           \n",
    "                boxStr = boxStr + '#'\n",
    "            else :\n",
    "                boxStr = boxStr + ' '\n",
    "        box.append(boxStr)\n",
    "    for i in range(len(box)):\n",
    "        print(box[i],end='\\n')\n",
    "    return box\n",
    "\n",
    "make_box(5)\n"
   ]
  },
  {
   "cell_type": "markdown",
   "id": "f72d99c0",
   "metadata": {},
   "source": [
    "Q. 4. Given a common phrase, return False if any individual word in the phrase\n",
    "\n",
    "contains duplicate letters. Return True otherwise. Examples no_duplicate_letters('Fortune favours the bold.') ➞ True no_duplicate_letters('You can lead a horse to water, but you can't make him drink.') ➞ True no_duplicate_letters('Look before you leap.') ➞ Fals"
   ]
  },
  {
   "cell_type": "code",
   "execution_count": 4,
   "id": "8764b8f9",
   "metadata": {},
   "outputs": [
    {
     "data": {
      "text/plain": [
       "True"
      ]
     },
     "execution_count": 4,
     "metadata": {},
     "output_type": "execute_result"
    }
   ],
   "source": [
    "\n",
    "def no_duplicate_letters(text):\n",
    "     \n",
    "    lst = text.split(' ')\n",
    "    for word in lst:\n",
    "        for i in range(len(word)):\n",
    "            for j in range(i + 1,len(word)):\n",
    "                if(word[i] == word[j]):\n",
    "                    return False;\n",
    "\n",
    "        # If no duplicate characters, return true\n",
    "    return True;\n",
    "\n",
    "no_duplicate_letters('Fortune favours the bold.')\n"
   ]
  },
  {
   "cell_type": "markdown",
   "id": "aa9575d7",
   "metadata": {},
   "source": [
    "Q. 5. Write a regular expression that will match the states that voted yes to\n",
    "\n",
    "President Trump's impeachment. You must use RegEx positive lookahead. Example txt = 'Texas = no, California = yes, Florida = yes, Michigan = no' pattern = '?=yes' re.findall(pattern, txt) ➞ ['California', 'Florida']"
   ]
  },
  {
   "cell_type": "code",
   "execution_count": 5,
   "id": "4b93000a",
   "metadata": {},
   "outputs": [
    {
     "name": "stdout",
     "output_type": "stream",
     "text": [
      "['California', 'Florida']\n"
     ]
    }
   ],
   "source": [
    "\n",
    "txt = 'Texas = no, California = yes, Florida = yes, Michigan = no'\n",
    "pattern = '?=yes'\n",
    "import re\n",
    "pattern = r'\\w+(?= = yes)'\n",
    "result = re.findall(pattern, txt) \n",
    "print(result)\n",
    "\n"
   ]
  }
 ],
 "metadata": {
  "kernelspec": {
   "display_name": "Python 3 (ipykernel)",
   "language": "python",
   "name": "python3"
  },
  "language_info": {
   "codemirror_mode": {
    "name": "ipython",
    "version": 3
   },
   "file_extension": ".py",
   "mimetype": "text/x-python",
   "name": "python",
   "nbconvert_exporter": "python",
   "pygments_lexer": "ipython3",
   "version": "3.9.13"
  }
 },
 "nbformat": 4,
 "nbformat_minor": 5
}
