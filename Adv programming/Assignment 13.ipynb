{
 "cells": [
  {
   "cell_type": "markdown",
   "id": "d83d1374",
   "metadata": {},
   "source": [
    "Q.1. Create a function that takes a list and string. The function should remove the letters in the string from the list, and return the list.\n",
    "\n",
    "Examples\n",
    "\n",
    "remove_letters([\"s\", \"t\", \"r\", \"i\", \"n\", \"g\", \"w\"], \"string\") ➞ [\"w\"]\n",
    "\n",
    "remove_letters([\"b\", \"b\", \"l\", \"l\", \"g\", \"n\", \"o\", \"a\", \"w\"], \"balloon\") ➞ [\"b\", \"g\", \"w\"]\n",
    "\n",
    "remove_letters([\"d\", \"b\", \"t\", \"e\", \"a\", \"i\"], \"edabit\") ➞ []"
   ]
  },
  {
   "cell_type": "code",
   "execution_count": 1,
   "id": "1e2e2879",
   "metadata": {},
   "outputs": [
    {
     "data": {
      "text/plain": [
       "[]"
      ]
     },
     "execution_count": 1,
     "metadata": {},
     "output_type": "execute_result"
    }
   ],
   "source": [
    "def remove_letters (l,w):\n",
    "    n=[]\n",
    "    for i in w:\n",
    "        n.append(i)\n",
    "    for item in n:\n",
    "        if item in l:\n",
    "            l.remove(item)\n",
    "    return l\n",
    "     \n",
    "    \n",
    "remove_letters([\"d\", \"b\", \"t\", \"e\", \"a\", \"i\"], \"edabit\")\n"
   ]
  },
  {
   "cell_type": "markdown",
   "id": "bad73541",
   "metadata": {},
   "source": [
    "Q. 2. A block sequence in three dimensions. We can write a formula for this one: Create a function that takes a number (step) as an argument and returns the amount of blocks in that step.\n",
    "\n",
    "Examples\n",
    "\n",
    "blocks(1) ➞ 5\n",
    "\n",
    "blocks(5) ➞ 39\n",
    "\n",
    "blocks(2) ➞ 12"
   ]
  },
  {
   "cell_type": "code",
   "execution_count": 2,
   "id": "1b28d0e3",
   "metadata": {},
   "outputs": [
    {
     "data": {
      "text/plain": [
       "39"
      ]
     },
     "execution_count": 2,
     "metadata": {},
     "output_type": "execute_result"
    }
   ],
   "source": [
    "\n",
    "def blocks(l):\n",
    "    a=5\n",
    "    b=7\n",
    "    if(l==1):\n",
    "        return a\n",
    "    else:\n",
    "        for i in range (1,l):\n",
    "            a=a+b\n",
    "            b=b+1\n",
    "        return a\n",
    "    \n",
    "    \n",
    "blocks(5)\n"
   ]
  },
  {
   "cell_type": "markdown",
   "id": "89c1fb1f",
   "metadata": {},
   "source": [
    "Q.3. Create a function that subtracts one positive integer from another, without using any arithmetic operators such as -, %, /, +, etc.\n",
    "\n",
    "Examples\n",
    "\n",
    "my_sub(5, 9) ➞ 4\n",
    "\n",
    "my_sub(10, 30) ➞ 20\n",
    "\n",
    "my_sub(0, 0) ➞ 0"
   ]
  },
  {
   "cell_type": "code",
   "execution_count": 3,
   "id": "4ed0da61",
   "metadata": {},
   "outputs": [
    {
     "data": {
      "text/plain": [
       "4"
      ]
     },
     "execution_count": 3,
     "metadata": {},
     "output_type": "execute_result"
    }
   ],
   "source": [
    "\n",
    "def my_sub(a,b):\n",
    "    n=[1 for i in range(a)]\n",
    "    m=[1 for i in range(b)]\n",
    "    for item in n:\n",
    "        if item in m:\n",
    "            m.remove(item)\n",
    "    return sum(m)\n",
    "\n",
    "my_sub(5, 9)\n"
   ]
  },
  {
   "cell_type": "markdown",
   "id": "bf4fa11f",
   "metadata": {},
   "source": [
    "Q. 4. Create a function that takes a string containing money in dollars and pounds sterling (seperated by comma) and returns the sum of dollar bills only, as an integer.\n",
    "\n",
    "For the input string:\n",
    "\n",
    "Each amount is prefixed by the currency symbol: $ for dollars and £ for pounds.\n",
    "Thousands are represented by the suffix k.\n",
    "i.e. \n",
    "4,000 and £40k = £40,000\n",
    "\n",
    "Examples\n",
    "\n",
    "add_bill(\"d20,p40,p60,d50\") ➞ 20 + 50 = 70\n",
    "\n",
    "add_bill(\"p30,d20,p60,d150,p360\") ➞ 20 + 150 = 170\n",
    "\n",
    "add_bill(\"p30,d2k,p60,d200,p360\") ➞ 2 * 1000 + 200 = 2200"
   ]
  },
  {
   "cell_type": "code",
   "execution_count": 4,
   "id": "3d6d0f8b",
   "metadata": {},
   "outputs": [
    {
     "data": {
      "text/plain": [
       "2200"
      ]
     },
     "execution_count": 4,
     "metadata": {},
     "output_type": "execute_result"
    }
   ],
   "source": [
    "\n",
    "def add_bill(r):\n",
    "    n=[]\n",
    "    l =list(r.split(\",\"))\n",
    "    l=[i for i in l if i[0] == 'd']\n",
    "    l=[i[1:] for i in l if i[0] == 'd']\n",
    "    for i in l:\n",
    "        if \"k\" in i:\n",
    "            i = i[:-1]\n",
    "            i= int(i)*1000\n",
    "            n.append(i)\n",
    "        else:\n",
    "            n.append(int(i))\n",
    "    return sum(n)\n",
    "\n",
    "\n",
    "add_bill(\"p30,d2k,p60,d200,p360\")\n"
   ]
  },
  {
   "cell_type": "markdown",
   "id": "b33c8653",
   "metadata": {},
   "source": [
    "Q.5. Create a function that flips a horizontal list into a vertical list, and a vertical list into a horizontal list.\n",
    "\n",
    "In other words, take an 1 x n list (1 row + n columns) and flip it into a n x 1 list (n rows and 1 column), and vice versa.\n",
    "\n",
    "Examples\n",
    "\n",
    "flip_list([1, 2, 3, 4]) ➞ [[1], [2], [3], [4]]\n",
    "\n",
    "Take a horizontal list and flip it vertical.\n",
    "\n",
    "flip_list([[5], [6], [9]]) ➞ [5, 6, 9]\n",
    "\n",
    "Take a vertical list and flip it horizontal.\n",
    "\n",
    "flip_list([]) ➞ []\n",
    "\n"
   ]
  },
  {
   "cell_type": "code",
   "execution_count": 5,
   "id": "fcf945a8",
   "metadata": {},
   "outputs": [
    {
     "data": {
      "text/plain": [
       "[['1'], ['2'], ['3'], ['4']]"
      ]
     },
     "execution_count": 5,
     "metadata": {},
     "output_type": "execute_result"
    }
   ],
   "source": [
    "def flip_list(l):\n",
    "    y = []\n",
    "    for i in l:\n",
    "        if type(i)!= list:\n",
    "            listA = [str(i)]\n",
    "            for elem in listA:\n",
    "               t = elem.split(', ')\n",
    "               y.append((t))\n",
    "        else:\n",
    "            y.append(i[0])\n",
    "    return y\n",
    "\n",
    "\n",
    "flip_list([1, 2, 3, 4])\n"
   ]
  }
 ],
 "metadata": {
  "kernelspec": {
   "display_name": "Python 3 (ipykernel)",
   "language": "python",
   "name": "python3"
  },
  "language_info": {
   "codemirror_mode": {
    "name": "ipython",
    "version": 3
   },
   "file_extension": ".py",
   "mimetype": "text/x-python",
   "name": "python",
   "nbconvert_exporter": "python",
   "pygments_lexer": "ipython3",
   "version": "3.9.13"
  }
 },
 "nbformat": 4,
 "nbformat_minor": 5
}
