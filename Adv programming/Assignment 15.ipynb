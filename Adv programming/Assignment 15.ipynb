{
 "cells": [
  {
   "cell_type": "markdown",
   "id": "a9d11894",
   "metadata": {},
   "source": [
    "Q. 1. Write a function that returns True if a given name can generate an array of words.\n",
    "\n",
    "Examples\n",
    "\n",
    "anagram(\"Justin Bieber\", [\"injures\", \"ebb\", \"it\"]) ➞ True\n",
    "\n",
    "anagram(\"Natalie Portman\", [\"ornamental\", \"pita\"]) ➞ True\n",
    "\n",
    "anagram(\"Chris Pratt\", [\"chirps\", \"rat\"]) ➞ False Not all letters are used\n",
    "\n",
    "anagram(\"Jeff Goldblum\", [\"jog\", \"meld\", \"bluffs\"]) ➞ False \"s\" does not exist in the original name\n",
    "\n"
   ]
  },
  {
   "cell_type": "code",
   "execution_count": 1,
   "id": "c7cd0fe3",
   "metadata": {},
   "outputs": [
    {
     "data": {
      "text/plain": [
       "True"
      ]
     },
     "execution_count": 1,
     "metadata": {},
     "output_type": "execute_result"
    }
   ],
   "source": [
    "def anagram(s,l):\n",
    "    length = 0\n",
    "    s1=''\n",
    "    for i in l:\n",
    "        length = length+len(i)\n",
    "        if i:\n",
    "            s1 +=i\n",
    "    s1=s1.lower()\n",
    "\n",
    "    s = s.replace(\" \", \"\")\n",
    "    s=s.lower()\n",
    "    if sorted(list(s)) == sorted(list(s1)):\n",
    "        return True\n",
    "    else:\n",
    "        return False\n",
    "     \n",
    "        \n",
    "        \n",
    "anagram(\"Justin Bieber\", [\"injures\", \"ebb\", \"it\"])\n"
   ]
  },
  {
   "cell_type": "markdown",
   "id": "d17d6f51",
   "metadata": {},
   "source": [
    "Q. 2. Given an array of users, each defined by an object with the following properties: name, score, reputation create a function that sorts the array to form the correct leaderboard.\n",
    "\n",
    "The leaderboard takes into consideration the score of each user of course, but an emphasis is put on their reputation in the community, so to get the trueScore, you should add the reputation multiplied by 2 to the score.\n",
    "\n",
    "Once you know the trueScore of each user, sort the array according to it in descending ord"
   ]
  },
  {
   "cell_type": "code",
   "execution_count": 2,
   "id": "1734f59b",
   "metadata": {},
   "outputs": [
    {
     "name": "stdout",
     "output_type": "stream",
     "text": [
      "{'name': 'c', 'score': 115, 'reputation': 30} , #trueScore = 175\n",
      "{'name': 'b', 'score': 90, 'reputation': 40} , #trueScore = 170\n",
      "{'name': 'a', 'score': 100, 'reputation': 20} , #trueScore = 140\n"
     ]
    }
   ],
   "source": [
    "def leaderboards(l):\n",
    "    p=l\n",
    "    t=[]\n",
    "    j=0\n",
    "    for i in p:\n",
    "        x=(2*i[\"reputation\"]) + i[\"score\"]\n",
    "        t.append(x)\n",
    "        i.update(trueScore = x) \n",
    "    p = sorted(p, key = lambda i: i['trueScore'],reverse=True)\n",
    "    t= sorted(t,reverse=True)\n",
    "    for i in p:\n",
    "        i.pop('trueScore')\n",
    "        print(\"{0} , #trueScore = {1}\".format(p[j], t[j]))\n",
    "        j+=1\n",
    "     \n",
    "    \n",
    "leaderboards([\n",
    "  { \"name\": \"a\", \"score\": 100, \"reputation\": 20 },\n",
    "  { \"name\": \"b\", \"score\": 90, \"reputation\": 40 },\n",
    "  { \"name\": \"c\", \"score\": 115, \"reputation\": 30 },\n",
    "])"
   ]
  },
  {
   "cell_type": "markdown",
   "id": "bdce70ea",
   "metadata": {},
   "source": [
    "Q. 3. Create a function that, given a phrase and a number of letters guessed, returns a string with hyphens - for every letter of the phrase not guessed, and each letter guessed in place.\n",
    "\n",
    "Examples\n",
    "\n",
    "hangman(\"helicopter\", [\"o\", \"e\", \"s\"]) ➞ \"-e---o--e-\"\n",
    "\n",
    "hangman(\"tree\", [\"r\", \"t\", \"e\"]) ➞ \"tree\"\n",
    "\n",
    "hangman(\"Python rules\", [\"a\", \"n\", \"p\", \"r\", \"z\"]) ➞ \"P----n r----\"\n",
    "\n",
    "hangman(\"He\"s a very naughty boy!\", [\"e\", \"a\", \"y\"]) ➞ \"-e\"- a -e-y -a----y –y!\""
   ]
  },
  {
   "cell_type": "code",
   "execution_count": 3,
   "id": "97cac0a2",
   "metadata": {},
   "outputs": [
    {
     "data": {
      "text/plain": [
       "'-e---o--e-'"
      ]
     },
     "execution_count": 3,
     "metadata": {},
     "output_type": "execute_result"
    }
   ],
   "source": [
    "def hangman(s,l):\n",
    "    Temp = \"\"\n",
    "    for letter in s:\n",
    "        if letter in l:\n",
    "            Temp += letter\n",
    "        else:\n",
    "            Temp += \"-\"\n",
    "    return Temp\n",
    "\n",
    "hangman(\"helicopter\", [\"o\", \"e\", \"s\"])\n"
   ]
  },
  {
   "cell_type": "markdown",
   "id": "23ed9a07",
   "metadata": {},
   "source": [
    "Q. 4. The Collatz sequence is as follows:\n",
    "\n",
    "Start with some given integer n.\n",
    "If it is even, the next number will be n divided by 2.\n",
    "If it is odd, multiply it by 3 and add 1 to make the next number.\n",
    "The sequence stops when it reaches 1.\n",
    "According to the Collatz conjecture, it will always reach 1. If that's true, you can construct a finite sequence following the aforementioned method for any given integer.\n",
    "\n",
    "Write a function that takes in an integer n and returns the highest integer in the corresponding Collatz sequence."
   ]
  },
  {
   "cell_type": "code",
   "execution_count": 4,
   "id": "fd76edac",
   "metadata": {},
   "outputs": [
    {
     "name": "stdout",
     "output_type": "stream",
     "text": [
      "# Collatz sequence: [10, 5, 16, 8, 4, 2, 1]\n"
     ]
    },
    {
     "data": {
      "text/plain": [
       "16"
      ]
     },
     "execution_count": 4,
     "metadata": {},
     "output_type": "execute_result"
    }
   ],
   "source": [
    "def max_collatz(n):\n",
    "    l=[]\n",
    "    l.append(n)\n",
    "    while(n!= 1):\n",
    "        if n%2 ==0:\n",
    "            n=int(n/2)\n",
    "        else:\n",
    "            n= (3*n)+1\n",
    "        l.append(n)\n",
    "\n",
    "    print(\"# Collatz sequence:\",l)\n",
    "    return max(l)\n",
    "\n",
    "\n",
    "max_collatz(10)\n"
   ]
  },
  {
   "cell_type": "markdown",
   "id": "32e7a664",
   "metadata": {},
   "source": [
    "Q. 5. Write a function that sorts a list of integers by their digit length in descending order, then settles ties by sorting numbers with the same digit length in ascending order.\n",
    "\n",
    "Examples\n",
    "\n",
    "digit_sort([77, 23, 5, 7, 101]) ➞ [101, 23, 77, 5, 7]\n",
    "\n",
    "digit_sort([1, 5, 9, 2, 789, 563, 444]) ➞ [444, 563, 789, 1, 2, 5, 9]\n",
    "\n",
    "digit_sort([53219, 3772, 564, 32, 1]) ➞ [53219, 3772, 564, 32, 1]"
   ]
  },
  {
   "cell_type": "code",
   "execution_count": 5,
   "id": "84036653",
   "metadata": {},
   "outputs": [
    {
     "data": {
      "text/plain": [
       "['101', '23', '77', '5', '7']"
      ]
     },
     "execution_count": 5,
     "metadata": {},
     "output_type": "execute_result"
    }
   ],
   "source": [
    "\n",
    "def digit_sort(l):\n",
    "    l=sorted(l,reverse = True)\n",
    "    l = [str(i) for i in l]\n",
    "    i= len(l)\n",
    "    for k in range (i):\n",
    "        for j in range(0,i-1):\n",
    "            if len(l[j])==len(l[j+1]):\n",
    "                if l[j]>l[j+1]:\n",
    "                    temp = l[j]\n",
    "                    l[j] =l[j+1]\n",
    "                    l[j+1]=temp\n",
    "    return l\n",
    "     \n",
    "    \n",
    "digit_sort([77, 23, 5, 7, 101])\n"
   ]
  }
 ],
 "metadata": {
  "kernelspec": {
   "display_name": "Python 3 (ipykernel)",
   "language": "python",
   "name": "python3"
  },
  "language_info": {
   "codemirror_mode": {
    "name": "ipython",
    "version": 3
   },
   "file_extension": ".py",
   "mimetype": "text/x-python",
   "name": "python",
   "nbconvert_exporter": "python",
   "pygments_lexer": "ipython3",
   "version": "3.9.13"
  }
 },
 "nbformat": 4,
 "nbformat_minor": 5
}
