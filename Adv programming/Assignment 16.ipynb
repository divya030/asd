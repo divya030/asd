{
 "cells": [
  {
   "cell_type": "markdown",
   "id": "46cbb227",
   "metadata": {},
   "source": [
    "Q.1. Rondo Form is a type of musical structure, in which there is a recurring theme/refrain, notated as A. Here are the rules for valid rondo forms:\n",
    "\n",
    "Rondo forms always start and end with an A section.\n",
    "In between the A sections, there should be contrasting sections notated as B, then C, then D, etc... No letter should be skipped.\n",
    "There shouldn't be any repeats in the sequence (such as ABBACCA).\n",
    "Create a function which validates whether a given string is a valid Rondo Form.\n",
    "\n",
    "Examples\n",
    "\n",
    "valid_rondo(\"ABACADAEAFAGAHAIAJA\") ➞ True\n",
    "\n",
    "valid_rondo(\"ABA\") ➞ True\n",
    "\n",
    "valid_rondo(\"ABBACCA\") ➞ False\n",
    "\n",
    "valid_rondo(\"ACAC\") ➞ False\n",
    "\n",
    "valid_rondo(\"A\") ➞ False"
   ]
  },
  {
   "cell_type": "code",
   "execution_count": 1,
   "id": "f58aeae3",
   "metadata": {},
   "outputs": [
    {
     "data": {
      "text/plain": [
       "True"
      ]
     },
     "execution_count": 1,
     "metadata": {},
     "output_type": "execute_result"
    }
   ],
   "source": [
    "def valid_rondo(s):\n",
    "    letter = ord(\"A\")\n",
    "    next_letter = ord(\"B\")\n",
    "    l= len(s)\n",
    "    if l<2:\n",
    "        return False\n",
    "    elif s[0] and s[l-1] != \"A\":\n",
    "        return False\n",
    "    else:\n",
    "        for i in range(0,l-1,2):\n",
    "\n",
    "            if s[i]!= \"A\":\n",
    "                return False\n",
    "            else:\n",
    "                for i in range(1,l-1,2):\n",
    "\n",
    "                    if ord(s[i]) != next_letter:\n",
    "                        return False\n",
    "                    else:\n",
    "                        next_letter += 1\n",
    "                return True\n",
    "     \n",
    "\n",
    "    \n",
    "\n",
    "valid_rondo(\"ABACADAEAFAGAHAIAJA\")\n"
   ]
  },
  {
   "cell_type": "markdown",
   "id": "75251881",
   "metadata": {},
   "source": [
    "Q. 2. Create a function that returns the whole of the first sentence which contains a specific word. Include the full stop at the end of the sentence.\n",
    "\n",
    "Examples\n",
    "\n",
    "txt = \"I have a cat. I have a mat. Things are going swell.\"\n",
    "\n",
    "sentence_searcher(txt, \"have\") ➞ \"I have a cat.\"\n",
    "\n",
    "sentence_searcher(txt, \"MAT\") ➞ \"I have a mat.\"\n",
    "\n",
    "sentence_searcher(txt, \"things\") ➞ \"Things are going swell.\"\n",
    "\n",
    "sentence_searcher(txt, \"flat\") ➞ \"\""
   ]
  },
  {
   "cell_type": "code",
   "execution_count": 2,
   "id": "f5e74790",
   "metadata": {},
   "outputs": [
    {
     "data": {
      "text/plain": [
       "'I have a cat'"
      ]
     },
     "execution_count": 2,
     "metadata": {},
     "output_type": "execute_result"
    }
   ],
   "source": [
    "\n",
    "def sentence_searcher(txt,s):\n",
    "    t = txt.split(\".\")\n",
    "    s=s.lower()\n",
    "    for i in t:\n",
    "        x=i.lower()\n",
    "        if s in x:\n",
    "\n",
    "            return i\n",
    "        return \"\" \n",
    "    \n",
    "txt = \"I have a cat. I have a mat. Things are going swell.\"\n",
    "\n",
    "\n",
    "sentence_searcher(txt, \"have\")\n"
   ]
  },
  {
   "cell_type": "markdown",
   "id": "9d52d923",
   "metadata": {},
   "source": [
    "Q. 3. Given a number, find the \"round \"of each digit of the number. An integer is called \"round\" if all its digits except the leftmost (most significant) are equal to zero.\n",
    "\n",
    "- Round numbers: 4000, 1, 9, 800, 90\n",
    "- Not round numbers: 110, 707, 222, 1001\n",
    "\n",
    "Create a function that takes a number and returns the \"round\" of each digit (except if the digit is zero) as a string. Check out the following examples for more clarification.\n",
    "\n",
    "Examples\n",
    "\n",
    "sum_round(101) ➞ \"1 100\"\n",
    "\n",
    "sum_round(1234) ➞ \"4 30 200 1000\"\n",
    "\n",
    "sum_round(54210) ➞ \"10 200 4000 50000\""
   ]
  },
  {
   "cell_type": "code",
   "execution_count": 3,
   "id": "2894901c",
   "metadata": {},
   "outputs": [
    {
     "data": {
      "text/plain": [
       "'1 100 '"
      ]
     },
     "execution_count": 3,
     "metadata": {},
     "output_type": "execute_result"
    }
   ],
   "source": [
    "def sum_round(n):\n",
    "    n=str(n)\n",
    "    n=n[::-1]\n",
    "    z = \"\"\n",
    "    for i in range(len(n)):\n",
    "        x = int(n[i])*(10**i) \n",
    "        if x != 0:\n",
    "            z += str(x)\n",
    "            z += \" \"\n",
    "    return z\n",
    "     \n",
    "\n",
    "sum_round(101)"
   ]
  },
  {
   "cell_type": "markdown",
   "id": "462237e5",
   "metadata": {},
   "source": [
    "Q.4. Your task, is to create N x N multiplication table, of size n provided in\n",
    "\n",
    "parameter. For example, when n is 5, the multiplication table is:\n",
    "\n",
    "1, 2, 3, 4, 5\n",
    "2, 4, 6, 8, 10\n",
    "3, 6, 9, 12, 15\n",
    "4, 8, 12, 16, 20\n",
    "5, 10, 15, 20, 25\n",
    "This example will result in: [[1, 2, 3, 4, 5], [2, 4, 6, 8, 10], [3, 6, 9, 12, 15], [4, 8, 12, 16, 20], [5, 10, 15, 20, 25]] Examples multiplication_table(1) ➞ [[1]] multiplication_table(3) ➞ [[1, 2, 3], [2, 4, 6], [3, 6, 9]]\n",
    "\n"
   ]
  },
  {
   "cell_type": "code",
   "execution_count": 4,
   "id": "b58b1c25",
   "metadata": {},
   "outputs": [
    {
     "data": {
      "text/plain": [
       "[[1]]"
      ]
     },
     "execution_count": 4,
     "metadata": {},
     "output_type": "execute_result"
    }
   ],
   "source": [
    "def multiplication_table(n):   \n",
    "    t = 1\n",
    "    tab = []\n",
    "    tmp = []\n",
    "    while t <= n:\n",
    "        tmp = []\n",
    "        for i in range(1,n+1):\n",
    "            tmp.append(i*t)\n",
    "        tab.append(tmp)\n",
    "        t = t + 1\n",
    "    return tab\n",
    "     \n",
    "    \n",
    "multiplication_table(1)\n"
   ]
  },
  {
   "cell_type": "markdown",
   "id": "d14843a5",
   "metadata": {},
   "source": [
    "Q. 5. Create a function that returns True if two lines rhyme and False otherwise. For the purposes of this exercise, two lines rhyme if the last word from each sentence contains the same vowels.\n",
    "\n",
    "Examples\n",
    "\n",
    "does_rhyme(\"Sam I am!\", \"Green eggs and ham.\") ➞ True\n",
    "\n",
    "does_rhyme(\"Sam I am!\", \"Green eggs and HAM.\") ➞ True\n",
    "\n",
    "Capitalization and punctuation should not matter.\n",
    "\n",
    "does_rhyme(\"You are off to the races\", \"a splendid day.\") ➞ False\n",
    "\n",
    "does_rhyme(\"and frequently do?\", \"you gotta move.\") ➞ False"
   ]
  },
  {
   "cell_type": "code",
   "execution_count": 5,
   "id": "8de47982",
   "metadata": {},
   "outputs": [
    {
     "data": {
      "text/plain": [
       "True"
      ]
     },
     "execution_count": 5,
     "metadata": {},
     "output_type": "execute_result"
    }
   ],
   "source": [
    "def last(s):\n",
    "    s=s.split(\" \")[-1]\n",
    "    n1=\"\"\n",
    "    for i in s:\n",
    "        if (i.isalpha()) == True:\n",
    "            n1+=i\n",
    "    return n1\n",
    "def does_rhyme(s1,s2):\n",
    "    s1=last(s1)\n",
    "    s2=last(s2)\n",
    "    for i in range(len(s1),0,-1):\n",
    "        if s1 in s2:\n",
    "            return True\n",
    "        else:\n",
    "            return False\n",
    "        \n",
    "        \n",
    "does_rhyme(\"Sam I am!\", \"Green eggs and ham.\")\n"
   ]
  }
 ],
 "metadata": {
  "kernelspec": {
   "display_name": "Python 3 (ipykernel)",
   "language": "python",
   "name": "python3"
  },
  "language_info": {
   "codemirror_mode": {
    "name": "ipython",
    "version": 3
   },
   "file_extension": ".py",
   "mimetype": "text/x-python",
   "name": "python",
   "nbconvert_exporter": "python",
   "pygments_lexer": "ipython3",
   "version": "3.9.13"
  }
 },
 "nbformat": 4,
 "nbformat_minor": 5
}
