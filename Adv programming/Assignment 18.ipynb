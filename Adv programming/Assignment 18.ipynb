{
 "cells": [
  {
   "cell_type": "markdown",
   "id": "2e2cf355",
   "metadata": {},
   "source": [
    "Q. A robot has been given a list of movement instructions. Each instruction is either left, right, up or down, followed by a distance to move. The robot starts at [0, 0]. You want to calculate where the robot will end up and return its final position as a list.\n",
    "\n",
    "To illustrate, if the robot is given the following instructions:\n",
    "\n",
    "[\"right 10\", \"up 50\", \"left 30\", \"down 10\"]\n",
    "\n",
    "It will end up 20 left and 40 up from where it started, so we return [-20, 40].\n",
    "\n",
    "Examples\n",
    "\n",
    "track_robot([\"right 10\", \"up 50\", \"left 30\", \"down 10\"]) ➞ [-20, 40]\n",
    "\n",
    "track_robot([]) ➞ [0, 0] // If there are no instructions, the robot doesn't move.\n",
    "\n",
    "track_robot([\"right 100\", \"right 100\", \"up 500\", \"up 10000\"]) ➞ [200, 10500]"
   ]
  },
  {
   "cell_type": "code",
   "execution_count": 1,
   "id": "025758a0",
   "metadata": {},
   "outputs": [
    {
     "data": {
      "text/plain": [
       "[0, 0]"
      ]
     },
     "execution_count": 1,
     "metadata": {},
     "output_type": "execute_result"
    }
   ],
   "source": [
    "\n",
    "def track_robot(lst):\n",
    "    start=[0,0]\n",
    "    for i in lst:\n",
    "        way,val=i.split(\" \")\n",
    "        if way ==\"right\":\n",
    "            start[0] +=int(val)\n",
    "        elif way ==\"left\":\n",
    "            start[0] -=int(val)\n",
    "        elif way ==\"up\":\n",
    "            start[1] +=int(val)\n",
    "        else:\n",
    "            start[1] -=int(val)\n",
    "    return (start)\n",
    "     \n",
    "    \n",
    "track_robot([])\n"
   ]
  },
  {
   "cell_type": "markdown",
   "id": "690ec1c8",
   "metadata": {},
   "source": [
    "Q.2. Write a function that will return the longest word in a sentence. In cases where more than one word is found, return the first one.\n",
    "\n",
    "Examples\n",
    "\n",
    "find_longest(\"A thing of beauty is a joy forever.\") ➞ \"forever\"\n",
    "\n",
    "find_longest(\"Forgetfulness is by all means powerless!\") ➞ \"forgetfulness\"\n",
    "\n",
    "find_longest(\"\"Strengths\" is the longest and most commonly used word that contains only a single vowel.\") ➞ \"strengths\""
   ]
  },
  {
   "cell_type": "code",
   "execution_count": 2,
   "id": "2f40ce76",
   "metadata": {},
   "outputs": [
    {
     "data": {
      "text/plain": [
       "'forever'"
      ]
     },
     "execution_count": 2,
     "metadata": {},
     "output_type": "execute_result"
    }
   ],
   "source": [
    "def find_longest(string):\n",
    "    new=string.split()\n",
    "    largest=\"\"\n",
    "    for i in new:\n",
    "        temp=\"\"\n",
    "        for j in i:\n",
    "            if j.isalpha():\n",
    "                temp+=j\n",
    "        if len(temp)> len(largest):\n",
    "            largest = temp\n",
    "\n",
    "    return (largest)\n",
    "     \n",
    "    \n",
    "find_longest(\"A thing of beauty is a joy forever.\")\n"
   ]
  },
  {
   "cell_type": "markdown",
   "id": "a566f0e9",
   "metadata": {},
   "source": [
    "Q. 3. Create a function to check if a candidate is qualified in an imaginary coding interview of an imaginary tech startup.\n",
    "\n",
    "The criteria for a candidate to be qualified in the coding interview is:\n",
    "\n",
    "The candidate should have complete all the questions.\n",
    "The maximum time given to complete the interview is 120 minutes.\n",
    "The maximum time given for very easy questions is 5 minutes each.\n",
    "The maximum time given for easy questions is 10 minutes each.\n",
    "The maximum time given for medium questions is 15 minutes each.\n",
    "The maximum time given for hard questions is 20 minutes each."
   ]
  },
  {
   "cell_type": "code",
   "execution_count": 4,
   "id": "58ea60b6",
   "metadata": {},
   "outputs": [
    {
     "data": {
      "text/plain": [
       "'qualified'"
      ]
     },
     "execution_count": 4,
     "metadata": {},
     "output_type": "execute_result"
    }
   ],
   "source": [
    "\n",
    "def interview(lst,taken_time):\n",
    "    std =[5,5,10,10,15,15,20,20]\n",
    "    total_time=120\n",
    "    if len(lst)== total_time:\n",
    "        return \"disqualified\"\n",
    "    for i in range(len(lst)):\n",
    "        if lst[i]>std[i]:\n",
    "            return \"disqualified\"\n",
    "    return \"qualified\"\n",
    "     \n",
    "    \n",
    "interview([5, 5, 10, 10, 15, 15, 20, 20], 120)\n"
   ]
  },
  {
   "cell_type": "markdown",
   "id": "c29496cb",
   "metadata": {},
   "source": [
    "Q.4. Write a function that divides a list into chunks of size n, where n is the length of each chunk.\n",
    "\n",
    "Examples\n",
    "\n",
    "chunkify([2, 3, 4, 5], 2) ➞ [[2, 3], [4, 5]]\n",
    "\n",
    "chunkify([2, 3, 4, 5, 6], 2) ➞ [[2, 3], [4, 5], [6]]\n",
    "\n",
    "chunkify([2, 3, 4, 5, 6, 7], 3) ➞ [[2, 3, 4], [5, 6, 7]]\n",
    "\n",
    "chunkify([2, 3, 4, 5, 6, 7], 1) ➞ [[2], [3], [4], [5], [6], [7]]\n",
    "\n",
    "chunkify([2, 3, 4, 5, 6, 7], 7) ➞ [[2, 3, 4, 5, 6, 7]]"
   ]
  },
  {
   "cell_type": "code",
   "execution_count": 5,
   "id": "aae70024",
   "metadata": {},
   "outputs": [
    {
     "data": {
      "text/plain": [
       "[[2, 3], [4, 5]]"
      ]
     },
     "execution_count": 5,
     "metadata": {},
     "output_type": "execute_result"
    }
   ],
   "source": [
    "\n",
    "def chunkify(lst,num):\n",
    "    new=[lst[i:i + num] for i in range(0, len(lst), num)] \n",
    "    return new\n",
    "\n",
    "chunkify([2, 3, 4, 5], 2)\n"
   ]
  },
  {
   "cell_type": "markdown",
   "id": "70b24e16",
   "metadata": {},
   "source": [
    "Q.5. You are given a list of strings consisting of grocery items, with prices in parentheses. Return a list of prices in float format."
   ]
  },
  {
   "cell_type": "code",
   "execution_count": 6,
   "id": "9955e7f6",
   "metadata": {},
   "outputs": [
    {
     "data": {
      "text/plain": [
       "[4.99]"
      ]
     },
     "execution_count": 6,
     "metadata": {},
     "output_type": "execute_result"
    }
   ],
   "source": [
    "def get_prices(lst):\n",
    "  \n",
    "        \n",
    "     return [float(i.split(\"$\")[-1][:-1]) for i in lst]\n",
    "     \n",
    "        \n",
    "get_prices([\"salad ($4.99)\"])\n"
   ]
  }
 ],
 "metadata": {
  "kernelspec": {
   "display_name": "Python 3 (ipykernel)",
   "language": "python",
   "name": "python3"
  },
  "language_info": {
   "codemirror_mode": {
    "name": "ipython",
    "version": 3
   },
   "file_extension": ".py",
   "mimetype": "text/x-python",
   "name": "python",
   "nbconvert_exporter": "python",
   "pygments_lexer": "ipython3",
   "version": "3.9.13"
  }
 },
 "nbformat": 4,
 "nbformat_minor": 5
}
