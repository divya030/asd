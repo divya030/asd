{
 "cells": [
  {
   "cell_type": "markdown",
   "id": "77f8c478",
   "metadata": {},
   "source": [
    "Q. 1. Create a function to perform basic arithmetic operations that includes\n",
    "\n",
    "addition, subtraction, multiplication and division on a string number (e.g. '12 + 24' or '23 - 21' or '12 // 12' or '12 * 21'). Here, we have 1 followed by a space, operator followed by another space and 2. For the challenge, we are going to have only two numbers between 1 valid operator. The return value should be a number. eval() is not allowed. In case of division, whenever the second number equals '0' return -1. For example: '15 // 0' ➞ -1 Examples arithmetic_operation('12 + 12') ➞ 24 // 12 + 12 = 24 arithmetic_operation('12 - 12') ➞ 24 // 12 - 12 = 0 arithmetic_operation('12 * 12') ➞ 144 // 12 * 12 = 144 arithmetic_operation('12 // 0') ➞ -1 // 12 / 0 = -1"
   ]
  },
  {
   "cell_type": "code",
   "execution_count": 2,
   "id": "3e34c6fa",
   "metadata": {},
   "outputs": [
    {
     "name": "stdout",
     "output_type": "stream",
     "text": [
      "The expression : 12 + 12\n"
     ]
    },
    {
     "data": {
      "text/plain": [
       "24"
      ]
     },
     "execution_count": 2,
     "metadata": {},
     "output_type": "execute_result"
    }
   ],
   "source": [
    "\n",
    "def arithmetic_operation(str):\n",
    "    operators = ['+','*','/','-','//','%']\n",
    "    exp = list(str.split())\n",
    "    if exp[1] == '+':\n",
    "        print(\"The expression :\",str)\n",
    "        return int(exp[0]) + int(exp[2])\n",
    "    elif exp[1] == '-':\n",
    "        print(\"The expression :\",str)\n",
    "        return int(exp[0]) - int(exp[2])\n",
    "    elif exp[1] == '//':\n",
    "        print(\"The expression :\",str)\n",
    "        if int(exp[2]) == 0 or int(exp[0]) == 0:\n",
    "            return -1\n",
    "        else:\n",
    "            return int(exp[0]) // int(exp[2])    \n",
    "    elif exp[1] == '*':\n",
    "        print(\"The expression :\",str)\n",
    "        return int(exp[0]) * int(exp[2]) \n",
    "    elif exp[1] == '/':\n",
    "        print(\"The expression :\",str)\n",
    "        if int(exp[2]) == 0 or int(exp[0]) == 0:\n",
    "            return -1\n",
    "        else:            \n",
    "            return int(exp[0]) / int(exp[2])              \n",
    "    elif exp[1] == '%':\n",
    "        print(\"The expression :\",str)\n",
    "        return int(exp[0])  % int(exp[2])\n",
    "    \n",
    "    \n",
    "    \n",
    "arithmetic_operation('12 + 12')\n",
    "     "
   ]
  },
  {
   "cell_type": "markdown",
   "id": "fa8f6648",
   "metadata": {},
   "source": [
    "Q. 2. Write a function that takes the coordinates of three points in the form of a\n",
    "\n",
    "2d array and returns the perimeter of the triangle. The given points are the vertices of a triangle on a two-dimensional plane. Examples perimeter( [ [15, 7], [5, 22], [11, 1] ] ) ➞ 47.08 perimeter( [ [0, 0], [0, 1], [1, 0] ] ) ➞ 3.42 perimeter( [ [-10, -10], [10, 10 ], [-10, 10] ] ) ➞ 68.28"
   ]
  },
  {
   "cell_type": "code",
   "execution_count": 3,
   "id": "4cd3fc79",
   "metadata": {},
   "outputs": [
    {
     "name": "stdout",
     "output_type": "stream",
     "text": [
      "The co ordinates are  [15, 7] [5, 22] [11, 1]\n"
     ]
    },
    {
     "data": {
      "text/plain": [
       "51.31762562623766"
      ]
     },
     "execution_count": 3,
     "metadata": {},
     "output_type": "execute_result"
    }
   ],
   "source": [
    "\n",
    "import math\n",
    "def perimeter(ary):\n",
    "   \n",
    "    x = ary[0]\n",
    "    y = ary[1]\n",
    "    z = ary[2]\n",
    "    #Find lenth of 3 sides\n",
    "    a = math.sqrt((x[0]-x[1])**2 + (y[0]-y[1])**2)\n",
    "    b = math.sqrt((y[0]-y[1])**2 + (z[0]-z[1])**2)\n",
    "    c = math.sqrt((z[0]-z[1])**2 + (x[0]-x[1])**2)\n",
    "    perimetr = a + b + c\n",
    "    print(\"The co ordinates are \",x,y,z)\n",
    "    return perimetr\n",
    "     \n",
    "\n",
    "perimeter( [ [15, 7], [5, 22], [11, 1] ] )"
   ]
  },
  {
   "cell_type": "markdown",
   "id": "fe71dec4",
   "metadata": {},
   "source": [
    "Q. 3. A city skyline can be represented as a 2-D list with 1s representing\n",
    "\n",
    "buildings. In the example below, the height of the tallest building is 4 (second- most right column)."
   ]
  },
  {
   "cell_type": "code",
   "execution_count": 4,
   "id": "ce42ba1f",
   "metadata": {},
   "outputs": [
    {
     "data": {
      "text/plain": [
       "('The hieght of tallest building is : ', 3)"
      ]
     },
     "execution_count": 4,
     "metadata": {},
     "output_type": "execute_result"
    }
   ],
   "source": [
    "\n",
    "def tallest_skyscraper(array):\n",
    "    list_of_height = []\n",
    "    sum = 0\n",
    "    for i in range(len(array[0])):\n",
    "        for j in range(len(array)):\n",
    "            sum = sum + array[j][i]\n",
    "        list_of_height.append(sum)\n",
    "        sum = 0\n",
    "    return \"The hieght of tallest building is : \", max(list_of_height)\n",
    "\n",
    "\n",
    "tallest_skyscraper([\n",
    "[0, 0, 0, 0],\n",
    "[0, 1, 0, 0],\n",
    "[0, 1, 1, 0],\n",
    "[1, 1, 1, 1]\n",
    "])"
   ]
  },
  {
   "cell_type": "markdown",
   "id": "6b3a4290",
   "metadata": {},
   "source": [
    "Q. 4. A financial institution provides professional services to banks and claims\n",
    "\n",
    "charges from the customers based on the number of man-days provided. Internally, it has set a scheme to motivate and reward staff to meet and exceed targeted billable utilization and revenues by paying a bonus for each day claimed from customers in excess of a threshold target. This quarterly scheme is calculated with a threshold target of 32 days per quarter, and the incentive payment for each billable day in excess of such threshold target is shown as follows: y"
   ]
  },
  {
   "cell_type": "code",
   "execution_count": 6,
   "id": "b206b43c",
   "metadata": {},
   "outputs": [
    {
     "data": {
      "text/plain": [
       "('The incentive is : ', 0)"
      ]
     },
     "execution_count": 6,
     "metadata": {},
     "output_type": "execute_result"
    }
   ],
   "source": [
    "def bonus(day):\n",
    "    days = [32,40,48]\n",
    "    inc = 0\n",
    "    while True :\n",
    "        if day <=32 :\n",
    "            break\n",
    "        if day > 48:\n",
    "            inc = inc + (day - days[2]) * 600\n",
    "            day = day - (day - days[2])\n",
    "            print(inc)\n",
    "        elif day > 40 :\n",
    "            inc = inc + (day -days[1]) * 550\n",
    "            day = day - (day - days[1])\n",
    "        elif day > 32:\n",
    "            inc = inc + (day -days[0]) * 325\n",
    "            day = day - (day - days[0])\n",
    "    return \"The incentive is : \",inc\n",
    "     \n",
    "    \n",
    "bonus(15)"
   ]
  },
  {
   "cell_type": "markdown",
   "id": "6b12e381",
   "metadata": {},
   "source": [
    "Q. 5. A number is said to be Disarium if the sum of its digits raised to their\n",
    "\n",
    "respective positions is the number itself. Create a function that determines whether a number is a Disarium or not. Examples is_disarium(75) ➞ False 7^1 + 5^2 = 7 + 25 = 32 is_disarium(135) ➞ True 1^1 + 3^2 + 5^3 = 1 + 9 + 125 = 135 is_disarium(544) ➞ False is_disarium(518) ➞ True is_disarium(466) ➞ False is_disarium(8) ➞ True"
   ]
  },
  {
   "cell_type": "code",
   "execution_count": 7,
   "id": "01777d93",
   "metadata": {},
   "outputs": [
    {
     "data": {
      "text/plain": [
       "(544, 'Number is not Disarium')"
      ]
     },
     "execution_count": 7,
     "metadata": {},
     "output_type": "execute_result"
    }
   ],
   "source": [
    "\n",
    "def is_disarium(num):\n",
    "    sum = 0\n",
    "    tempNum = num\n",
    "    while(num>0):\n",
    "        dgcnt= len(str(num))\n",
    "        digit = num%10\n",
    "        sum= sum + digit**dgcnt   \n",
    "        dgcnt-=1\n",
    "        num = num//10    \n",
    "    if sum == tempNum:\n",
    "        return tempNum,\"Number is Disarium\"\n",
    "    else:\n",
    "        return tempNum,\"Number is not Disarium\"\n",
    "    \n",
    "    \n",
    "\n",
    "is_disarium(544)"
   ]
  },
  {
   "cell_type": "code",
   "execution_count": null,
   "id": "36cee083",
   "metadata": {},
   "outputs": [],
   "source": []
  }
 ],
 "metadata": {
  "kernelspec": {
   "display_name": "Python 3 (ipykernel)",
   "language": "python",
   "name": "python3"
  },
  "language_info": {
   "codemirror_mode": {
    "name": "ipython",
    "version": 3
   },
   "file_extension": ".py",
   "mimetype": "text/x-python",
   "name": "python",
   "nbconvert_exporter": "python",
   "pygments_lexer": "ipython3",
   "version": "3.9.13"
  }
 },
 "nbformat": 4,
 "nbformat_minor": 5
}
