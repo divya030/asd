{
 "cells": [
  {
   "cell_type": "markdown",
   "id": "7018d304",
   "metadata": {},
   "source": [
    " 1. In mathematics, the Fibonacci numbers, commonly denoted Fn, form a\n",
    "\n",
    "sequence, called the Fibonacci sequence, such that each number is the sum of the two preceding ones, starting from 0 and 1:"
   ]
  },
  {
   "cell_type": "code",
   "execution_count": 1,
   "id": "e9266a7d",
   "metadata": {},
   "outputs": [
    {
     "name": "stdout",
     "output_type": "stream",
     "text": [
      "Not a positive number\n"
     ]
    }
   ],
   "source": [
    "def fib_fast(num):\n",
    "    count = 0\n",
    "    sum = 0\n",
    "    f1 , f2 = 0,1\n",
    "    if num <= 0:\n",
    "        print(\"Not a positive number\")\n",
    "    elif num == 1:\n",
    "        print(\"nth Fibonacci series upto \",num, \":\")\n",
    "        \n",
    "        return num\n",
    "    else:\n",
    "        print(\"nth Fibonacci series upto \",num, \":\")\n",
    "        while count <= num:        \n",
    "            count+=1\n",
    "            if count > num:\n",
    "                return f1\n",
    "            fth = f1 + f2\n",
    "            f1,f2 = f2, fth\n",
    "            \n",
    "            \n",
    "fib_fast(-1)\n"
   ]
  },
  {
   "cell_type": "markdown",
   "id": "bf24b1b7",
   "metadata": {},
   "source": [
    "Q. 2. Create a function that takes a strings characters as ASCII and returns each\n",
    "\n",
    "characters hexadecimal value as a string. Examples convert_to_hex('hello world') ➞ '68 65 6c 6c 6f 20 77 6f 72 6c 64' convert_to_hex('Big Boi') ➞ '42 69 67 20 42 6f 69' convert_to_hex('Marty Poppinson') ➞ '4d 61 72 74 79 20 50 6f 70 70 69 6e 73 6f 6e'"
   ]
  },
  {
   "cell_type": "code",
   "execution_count": 2,
   "id": "b12502b1",
   "metadata": {},
   "outputs": [
    {
     "data": {
      "text/plain": [
       "'68 65 6c 6c 6f 20 77 6f 72 6c 64'"
      ]
     },
     "execution_count": 2,
     "metadata": {},
     "output_type": "execute_result"
    }
   ],
   "source": [
    "\n",
    "def convert_to_hex(str):\n",
    " \n",
    "    # Initialize final String\n",
    "    hexa = []\n",
    "    for i in range(len(str)):      \n",
    "        ch = str[i]      \n",
    "        in1 = ord(ch)\n",
    "        part = hex(in1).lstrip(\"0x\")\n",
    "        hexa.append(part)\n",
    "    return \" \".join(hexa)\n",
    "\n",
    "\n",
    "convert_to_hex('hello world')"
   ]
  },
  {
   "cell_type": "markdown",
   "id": "5e63b213",
   "metadata": {},
   "source": [
    "Q. 3. Someone has attempted to censor my strings by replacing every vowel\n",
    "\n",
    "with a , lk* ths. Luckily, I've been able to find the vowels that were removed. Given a censored string and a string of the censored vowels, return the original uncensored string. Example uncensor('Whr* dd my vwls g?', 'eeioeo') ➞ 'Where did my vowels go?' uncensor('abcd', '') ➞ 'abcd' uncensor('PPRCS', 'UEAE') ➞ 'UPPERCASE'"
   ]
  },
  {
   "cell_type": "code",
   "execution_count": 3,
   "id": "183e85bb",
   "metadata": {},
   "outputs": [
    {
     "data": {
      "text/plain": [
       "'Where did my vowels go?'"
      ]
     },
     "execution_count": 3,
     "metadata": {},
     "output_type": "execute_result"
    }
   ],
   "source": [
    "\n",
    "def uncensor(string, vowels):\n",
    "    new = ''\n",
    "    counter = 0\n",
    "    for i in range(len(string)):\n",
    "        if string[i] == '*':            \n",
    "            new += vowels[counter]\n",
    "            counter += 1\n",
    "        else:\n",
    "            new += string[i]\n",
    "    return new\n",
    "\n",
    "\n",
    "uncensor('Wh*r* d*d my v*w*ls g*?', 'eeioeo')"
   ]
  },
  {
   "cell_type": "markdown",
   "id": "78fedcaf",
   "metadata": {},
   "source": [
    "Q. 4. Write a function that takes an IP address and returns the domain name\n",
    "\n",
    "using PTR DNS records. Example get_domain('8.8.8.8') ➞ 'dns.google' get_domain('8.8.4.4') ➞ 'dns.google'"
   ]
  },
  {
   "cell_type": "code",
   "execution_count": null,
   "id": "3e38442a",
   "metadata": {},
   "outputs": [],
   "source": [
    "from dns import reversename\n",
    "from dns import resolver\n",
    "\n",
    "def get_domain(ipAdd):\n",
    "\n",
    "    domain_address = reversename.from_address(ipAdd)\n",
    "    domain_name = str(resolver.resolve(domain_address,\"PTR\")[0])\n",
    "    return domain_name\n",
    "\n",
    "\n",
    "get_domain('8.8.8.8')"
   ]
  },
  {
   "cell_type": "markdown",
   "id": "527e8f38",
   "metadata": {},
   "source": [
    "Q. 5. Create a function that takes an integer n and returns the factorial of\n",
    "\n",
    "factorials. See below examples for a better understanding: Examples fact_of_fact(4) ➞ 288 4! * 3! * 2! * 1! = 288 fact_of_fact(5) ➞ 34560 fact_of_fact(6) ➞ 24883200"
   ]
  },
  {
   "cell_type": "code",
   "execution_count": 5,
   "id": "fe434f65",
   "metadata": {},
   "outputs": [
    {
     "data": {
      "text/plain": [
       "'Factorial of 4 is 288'"
      ]
     },
     "execution_count": 5,
     "metadata": {},
     "output_type": "execute_result"
    }
   ],
   "source": [
    "def factorial(n):\n",
    "    fact = 1    \n",
    "    for num in range(2, n + 1):\n",
    "        fact = fact * num\n",
    "    return(fact)\n",
    "\n",
    "def fact_of_fact(num):\n",
    "    factorial_of_fact = 1\n",
    "    if num < 0:\n",
    "        print(\"Can not calculate Factorial of a negative number\")\n",
    "    elif num == 0:\n",
    "        print(\"Factorial of zero is 1\")\n",
    "    else:\n",
    "        for i in range(1,num+1):\n",
    "            factorial_of_fact = factorial_of_fact * factorial(i)\n",
    "    return \"Factorial of {} is {}\".format(num, factorial_of_fact)\n",
    "\n",
    "\n",
    "\n",
    "\n",
    "fact_of_fact(4)"
   ]
  }
 ],
 "metadata": {
  "kernelspec": {
   "display_name": "Python 3 (ipykernel)",
   "language": "python",
   "name": "python3"
  },
  "language_info": {
   "codemirror_mode": {
    "name": "ipython",
    "version": 3
   },
   "file_extension": ".py",
   "mimetype": "text/x-python",
   "name": "python",
   "nbconvert_exporter": "python",
   "pygments_lexer": "ipython3",
   "version": "3.9.13"
  }
 },
 "nbformat": 4,
 "nbformat_minor": 5
}
