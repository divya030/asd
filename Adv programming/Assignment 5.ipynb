{
 "cells": [
  {
   "cell_type": "markdown",
   "id": "b8d7f21c",
   "metadata": {},
   "source": [
    "Q. 1. Create a function that takes a number n (integer greater than zero) as an\n",
    "\n",
    "argument, and returns 2 if n is odd and 8 if n is even. You can only use the following arithmetic operators: addition of numbers +, subtraction of numbers -, multiplication of number , division of number /, and exponentiation *. You are not allowed to use any other methods in this challenge (i.e. no if statements, comparison operators, etc). Examples f(1) ➞ 2 f(2) ➞ 8 f(3) ➞ 2"
   ]
  },
  {
   "cell_type": "code",
   "execution_count": 1,
   "id": "27a09b23",
   "metadata": {},
   "outputs": [
    {
     "data": {
      "text/plain": [
       "2"
      ]
     },
     "execution_count": 1,
     "metadata": {},
     "output_type": "execute_result"
    }
   ],
   "source": [
    "\n",
    "def f(num):\n",
    "    evenOddList = [8,2]\n",
    "    return evenOddList[num & 1]\n",
    "\n",
    "\n",
    "f(1)\n"
   ]
  },
  {
   "cell_type": "markdown",
   "id": "dd5e9448",
   "metadata": {},
   "source": [
    "Q. 2. Create a function that returns the majority vote in a list. A majority vote is\n",
    "\n",
    "an element that occurs > N/2 times in a list (where N is the length of the list). Examples majority_vote(['A', 'A', 'B']) ➞ 'A' majority_vote(['A', 'A', 'A', 'B', 'C', 'A']) ➞ 'A' majority_vote(['A', 'B', 'B', 'A', 'C', 'C']) ➞ None"
   ]
  },
  {
   "cell_type": "code",
   "execution_count": 3,
   "id": "670d3a18",
   "metadata": {},
   "outputs": [
    {
     "data": {
      "text/plain": [
       "('Majority Element ', 'A')"
      ]
     },
     "execution_count": 3,
     "metadata": {},
     "output_type": "execute_result"
    }
   ],
   "source": [
    "\n",
    "def majority_vote(lst):\n",
    "    done = []\n",
    "    maxCount = 0\n",
    "    count = 0\n",
    "    for i in lst:\n",
    "        if i not in done:\n",
    "            count = lst.count(i)\n",
    "            done.append(i)\n",
    "            if count > maxCount:\n",
    "                maxCount = count\n",
    "                ele = i\n",
    "\n",
    "    if maxCount > len(lst)//2:\n",
    "        maxCount = count\n",
    "        return \"Majority Element \",ele\n",
    "    else:\n",
    "        return \"no majority elements\"\n",
    "    \n",
    "    \n",
    "majority_vote(['A', 'A', 'B'])"
   ]
  },
  {
   "cell_type": "markdown",
   "id": "6ef1e4a3",
   "metadata": {},
   "source": [
    "Q. 3. Create a function that takes a string txt and censors any word from a given\n",
    "\n",
    "list lst. The text removed must be replaced by the given character char. Examples censor_string('Today is a Wednesday!', ['Today', 'a'], '-') ➞ '----- is - Wednesday!' censor_string('The cow jumped over the moon.', ['cow', 'over'], ''), 'The ** jumped **** the moon.') censor_string('Why did the chicken cross the road?', ['Did', 'chicken', 'road'], '') ➞ 'Why ** the ******* cross the ****?'"
   ]
  },
  {
   "cell_type": "code",
   "execution_count": 4,
   "id": "09caee96",
   "metadata": {},
   "outputs": [
    {
     "data": {
      "text/plain": [
       "'----- is - Wednesday!'"
      ]
     },
     "execution_count": 4,
     "metadata": {},
     "output_type": "execute_result"
    }
   ],
   "source": [
    "def censor_string(text, censorlst, replacer):\n",
    "\n",
    "    word_list = text.split()\n",
    "    for censor in censorlst:\n",
    "        index = 0\n",
    "        for word in word_list:\n",
    "            if censor.lower() == word.lower():\n",
    "                ch = len(censor) * replacer\n",
    "                word_list[index] = ch\n",
    "            elif censor.lower() == word[0:-1].lower():\n",
    "                ch = len(censor) * replacer\n",
    "                word_list[index] = ch+word[-1]\n",
    "            index+=1\n",
    "\n",
    "    return \" \".join(word_list)\n",
    "\n",
    "\n",
    "censor_string('Today is a Wednesday!', ['Today', 'a'], '-')\n"
   ]
  },
  {
   "cell_type": "markdown",
   "id": "2b1cc79d",
   "metadata": {},
   "source": [
    "Q. 4. In mathematics a Polydivisible Number (or magic number) is a number in a\n",
    "\n",
    "given number base with digits abcde... that has the following properties:\n",
    "\n",
    "Its first digit a is not 0.\n",
    "The number formed by its first two digits ab is a multiple of 2.\n",
    "The number formed by its first three digits abc is a multiple of 3.\n",
    "The number formed by its first four digits abcd is a multiple of 4.\n",
    "Create a function which takes an integer n and returns True if the given number is a Polydivisible Number and False otherwise. Examples is_polydivisible(1232) ➞ True 1 / 1 = 1"
   ]
  },
  {
   "cell_type": "code",
   "execution_count": 5,
   "id": "b1c85e65",
   "metadata": {},
   "outputs": [
    {
     "data": {
      "text/plain": [
       "(1232, 'is Not Polydivisible number.')"
      ]
     },
     "execution_count": 5,
     "metadata": {},
     "output_type": "execute_result"
    }
   ],
   "source": [
    "def is_polydivisible(n):\n",
    "    tempNum = n\n",
    "    digit = []\n",
    "  \n",
    "    # digit extraction of input number\n",
    "    while (n > 0):          \n",
    "        digit.append(n % 10)\n",
    "        n /= 10\n",
    "  \n",
    "    digit.reverse()\n",
    "  \n",
    "    flag = True\n",
    "    n = digit[0]\n",
    "    for i in range(1, len(digit)):\n",
    "\n",
    "        n = n * 10 + digit[i] # second digit  \n",
    "   \n",
    "        if (n % (i + 1) != 0):\n",
    "            flag = False\n",
    "            break\n",
    "      \n",
    "    if (flag):\n",
    "        return tempNum, \"is Polydivisible number.\"\n",
    "    else:\n",
    "        return tempNum, \"is Not Polydivisible number.\"\n",
    "    \n",
    "    \n",
    "is_polydivisible(1232)\n"
   ]
  },
  {
   "cell_type": "markdown",
   "id": "66e2d809",
   "metadata": {},
   "source": [
    "Q. 5. Create a function that takes a list of numbers and returns the sum of all\n",
    "\n",
    "prime numbers in the list. Examples sum_primes([1, 2, 3, 4, 5, 6, 7, 8, 9, 10]) ➞ 17 sum_primes([2, 3, 4, 11, 20, 50, 71]) ➞ 87 sum_primes([]) ➞ None"
   ]
  },
  {
   "cell_type": "code",
   "execution_count": 6,
   "id": "ae7aafe0",
   "metadata": {},
   "outputs": [
    {
     "data": {
      "text/plain": [
       "17"
      ]
     },
     "execution_count": 6,
     "metadata": {},
     "output_type": "execute_result"
    }
   ],
   "source": [
    "def is_prime(n):\n",
    "    if n < 2:\n",
    "        return False\n",
    "    elif n <= 3:\n",
    "        return True\n",
    "    elif n % 2 == 0:\n",
    "        return False\n",
    "  \n",
    "    length = int(n**.5) + 1  # n**.5 is equal to sqrt(n)\n",
    "    for i in range(3, length, 2):\n",
    "        if n % i == 0:\n",
    "            return False\n",
    "\n",
    "    return True\n",
    "def sum_primes(l):\n",
    "    return sum(n for n in l if is_prime(n))\n",
    "     \n",
    "    \n",
    "sum_primes([1, 2, 3, 4, 5, 6, 7, 8, 9, 10])\n"
   ]
  }
 ],
 "metadata": {
  "kernelspec": {
   "display_name": "Python 3 (ipykernel)",
   "language": "python",
   "name": "python3"
  },
  "language_info": {
   "codemirror_mode": {
    "name": "ipython",
    "version": 3
   },
   "file_extension": ".py",
   "mimetype": "text/x-python",
   "name": "python",
   "nbconvert_exporter": "python",
   "pygments_lexer": "ipython3",
   "version": "3.9.13"
  }
 },
 "nbformat": 4,
 "nbformat_minor": 5
}
