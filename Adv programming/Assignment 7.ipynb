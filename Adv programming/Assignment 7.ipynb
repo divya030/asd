{
 "cells": [
  {
   "cell_type": "markdown",
   "id": "0a501b8b",
   "metadata": {},
   "source": [
    "Q. 1. Write a function that counts how many concentric layers a rug.\n",
    "\n",
    "Examples count_layers([ 'AAAA', 'ABBA', 'AAAA' ]) ➞ 2 count_layers([ 'AAAAAAAAA', 'ABBBBBBBA', 'ABBAAABBA', 'ABBBBBBBA', 'AAAAAAAAA' ]) ➞ 3"
   ]
  },
  {
   "cell_type": "code",
   "execution_count": 1,
   "id": "a7dcda20",
   "metadata": {},
   "outputs": [
    {
     "name": "stdout",
     "output_type": "stream",
     "text": [
      "AAAA\n",
      "ABBA\n"
     ]
    },
    {
     "data": {
      "text/plain": [
       "('Number of layers -> ', 2)"
      ]
     },
     "execution_count": 1,
     "metadata": {},
     "output_type": "execute_result"
    }
   ],
   "source": [
    "\n",
    "def count_layers(lst):\n",
    "    layers = lenth = len(lst)\n",
    "    if layers % 2 == 0:\n",
    "        print(\"Not a concentric layers\")\n",
    "    else:\n",
    "        mid = len(lst)//2\n",
    "    i = 0\n",
    "    layerCnt = 0\n",
    "    while (i <= mid):     # since concetric layers will be symetric, checking for half of the layers\n",
    "        print(lst[lenth-1])\n",
    "        if lst[i] == lst[lenth-1]: \n",
    "            layerCnt +=1\n",
    "            lenth -=1\n",
    "            i +=1\n",
    "        else:\n",
    "            print('not a concentric layer')\n",
    "            return False\n",
    "    return \"Number of layers -> \",layerCnt\n",
    "\n",
    "\n",
    "count_layers([\n",
    "'AAAA',\n",
    "'ABBA',\n",
    "'AAAA'\n",
    "])"
   ]
  },
  {
   "cell_type": "markdown",
   "id": "ce84dbe8",
   "metadata": {},
   "source": [
    "Q. 2. There are many different styles of music and many albums exhibit multiple\n",
    "\n",
    "styles. Create a function that takes a list of musical styles from albums and returns how many styles are unique. Examples unique_styles([ 'Dub,Dancehall', 'Industrial,Heavy Metal', 'Techno,Dubstep', 'Synth-pop,Euro-Disco', 'Industrial,Techno,Minimal' ]) ➞ 9 unique_styles([\n",
    "\n",
    "'Soul', 'House,Folk', 'Trance,Downtempo,Big Beat,House', 'Deep House', 'Soul'"
   ]
  },
  {
   "cell_type": "code",
   "execution_count": 2,
   "id": "2a513812",
   "metadata": {},
   "outputs": [
    {
     "data": {
      "text/plain": [
       "('unique style ', 9)"
      ]
     },
     "execution_count": 2,
     "metadata": {},
     "output_type": "execute_result"
    }
   ],
   "source": [
    "\n",
    "def unique_styles(lst):\n",
    "    uplst = []\n",
    "    for i in lst:\n",
    "        uplst.extend(i.split(','))\n",
    "    return \"unique style \",len(set(uplst))\n",
    "     \n",
    "    \n",
    "    \n",
    "unique_styles([\n",
    "'Dub,Dancehall',\n",
    "'Industrial,Heavy Metal',\n",
    "'Techno,Dubstep',\n",
    "'Synth-pop,Euro-Disco',\n",
    "'Industrial,Techno,Minimal'\n",
    "])"
   ]
  },
  {
   "cell_type": "markdown",
   "id": "512b36c2",
   "metadata": {},
   "source": [
    "Q. 3. Create a function that finds a target number in a list of prime numbers.\n",
    "\n",
    "Implement a binary search algorithm in your function. The target number will be from 2 through 97. If the target is prime then return 'yes' else return 'no'. Examples primes = [2, 3, 5, 7, 11, 13, 17, 19, 23, 29, 31, 37, 41, 43, 47, 53, 59, 61, 67, 71, 73, 79, 83, 89, 97]\n",
    "\n",
    "is_prime(primes, 3) ➞ 'yes' is_prime(primes, 4) ➞ 'no' is_prime(primes, 67) ➞ 'yes' is_prime(primes, 36) ➞ 'no'\n",
    "\n"
   ]
  },
  {
   "cell_type": "code",
   "execution_count": 3,
   "id": "e149f306",
   "metadata": {},
   "outputs": [
    {
     "data": {
      "text/plain": [
       "'Yes'"
      ]
     },
     "execution_count": 3,
     "metadata": {},
     "output_type": "execute_result"
    }
   ],
   "source": [
    "primes = [2, 3, 5, 7, 11, 13, 17, 19, 23, 29, 31, 37, 41, 43, 47, 53, 59, 61, 67,71, 73, 79, 83, 89, 97]\n",
    "\n",
    "def is_prime(primes,item):\n",
    "    first = 0\n",
    "    last = len(primes)-1\n",
    "    found = False\n",
    "    yes = 'No'\n",
    "    while( first<=last and not found):\n",
    "        mid = (first + last)//2\n",
    "        if primes[mid] == item :\n",
    "            found = True\n",
    "            yes = 'Yes'\n",
    "        else:\n",
    "            if item < primes[mid]:\n",
    "                last = mid - 1\n",
    "            else:\n",
    "                first = mid + 1\t\n",
    "    return yes\n",
    "\n",
    "\n",
    "\n",
    "is_prime(primes, 3)\n"
   ]
  },
  {
   "cell_type": "markdown",
   "id": "3864f57f",
   "metadata": {},
   "source": [
    "Q.4. Create a function that takes in n, a, b and returns the number of positive\n",
    "\n",
    "values raised to the nth power that lie in the range [a, b], inclusive. Examples power_ranger(2, 49, 65) ➞ 2 2 squares (n^2) lie between 49 and 65, 49 (7^2) and 64 (8^2) power_ranger(3, 1, 27) ➞ 3 3 cubes (n^3) lie between 1 and 27, 1 (1^3), 8 (2^3) and 27 (3^3) power_ranger(10, 1, 5) ➞ 1 1 value raised to the 10th power lies between 1 and 5, 1 (1^10) power_ranger(5, 31, 33) ➞ 1 power_ranger(4, 250, 1300) ➞ 3"
   ]
  },
  {
   "cell_type": "code",
   "execution_count": 4,
   "id": "c8633319",
   "metadata": {},
   "outputs": [
    {
     "name": "stdout",
     "output_type": "stream",
     "text": [
      "7^2 lies between 49 and 65\n",
      "8^2 lies between 49 and 65\n"
     ]
    },
    {
     "data": {
      "text/plain": [
       "('Total values found =', 2)"
      ]
     },
     "execution_count": 4,
     "metadata": {},
     "output_type": "execute_result"
    }
   ],
   "source": [
    "\n",
    "def power_ranger(n, min, max):\n",
    "    count = 0 \n",
    "  \n",
    "    for i in range(max): \n",
    "        if i**n in range(min,max): \n",
    "            print('{}^{} lies between {} and {}'.format(i,n,min,max)) \n",
    "            count += 1 \n",
    "    return 'Total values found =',count\n",
    "\n",
    "\n",
    "power_ranger(2, 49, 65)\n"
   ]
  },
  {
   "cell_type": "markdown",
   "id": "28599a48",
   "metadata": {},
   "source": [
    "Q. 5. Given a number, return the difference between the maximum and minimum\n",
    "\n",
    "numbers that can be formed when the digits are rearranged. Examples rearranged_difference(972882) ➞ 760833 988722 - 227889 = 760833 rearranged_difference(3320707) ➞ 7709823 7733200 - 23377 = 7709823 rearranged_difference(90010) ➞ 90981 91000 - 19 = 90981"
   ]
  },
  {
   "cell_type": "code",
   "execution_count": 5,
   "id": "7f4df1d7",
   "metadata": {},
   "outputs": [
    {
     "data": {
      "text/plain": [
       "760833"
      ]
     },
     "execution_count": 5,
     "metadata": {},
     "output_type": "execute_result"
    }
   ],
   "source": [
    "def findDigit(n):\n",
    "    rev = 0\n",
    "    digit = [] \n",
    "    while(n > 0): \n",
    "        a = n % 10\n",
    "        rev = rev * 10 + a \n",
    "        digit.append(a)\n",
    "        n = n // 10  \n",
    "    return digit\n",
    "    \n",
    "\n",
    "def findMax(digit):\n",
    "    max = int(''.join([str(i) for i in sorted(digit,reverse = True)]))\n",
    "    return max\n",
    "      \n",
    "def finMin(digit):  \n",
    "    min = int(''.join([str(i) for i in sorted(digit,reverse = False)]))\n",
    "    return min\n",
    "def rearranged_difference(n):\n",
    "    digit = findDigit(n)\n",
    "    return findMax(digit) - finMin(digit)\n",
    "\n",
    "\n",
    "\n",
    "rearranged_difference(972882)\n"
   ]
  }
 ],
 "metadata": {
  "kernelspec": {
   "display_name": "Python 3 (ipykernel)",
   "language": "python",
   "name": "python3"
  },
  "language_info": {
   "codemirror_mode": {
    "name": "ipython",
    "version": 3
   },
   "file_extension": ".py",
   "mimetype": "text/x-python",
   "name": "python",
   "nbconvert_exporter": "python",
   "pygments_lexer": "ipython3",
   "version": "3.9.13"
  }
 },
 "nbformat": 4,
 "nbformat_minor": 5
}
