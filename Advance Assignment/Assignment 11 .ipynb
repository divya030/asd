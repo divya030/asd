{
 "cells": [
  {
   "cell_type": "markdown",
   "id": "bef15641",
   "metadata": {},
   "source": [
    "Q1. What is the concept of a metaclass?\n",
    "\n",
    "A metaclass in Python is a class of a class that defines how a class behaves. A class is itself an instance of a metaclass. A class in Python defines how the instance of the class will behave."
   ]
  },
  {
   "cell_type": "markdown",
   "id": "0beea3c6",
   "metadata": {},
   "source": [
    "Q2. What is the best way to declare a class&#39;s metaclass?\n",
    "\n",
    "Metaclasses are used at the time the class is defined, so setting it explicitly after the class definition has no effect. The best idea I can think of is to re-define whole class and add the __metaclass__ attribute dynamically "
   ]
  },
  {
   "cell_type": "markdown",
   "id": "0e5ab07f",
   "metadata": {},
   "source": [
    "Q3. How do class decorators overlap with metaclasses for handling classes?\n",
    "\n",
    "Decorators and metaclasses can be used together to achieve more complex functionality. For example, a decorator can be used to add an attribute to a method, and a metaclass can be used to modify the behavior of all methods with that attribute."
   ]
  },
  {
   "cell_type": "markdown",
   "id": "c7c4d9a3",
   "metadata": {},
   "source": [
    "Q4. How do class decorators overlap with metaclasses for handling classes?\n",
    "\n",
    "Decorators and metaclasses can be used together to achieve more complex functionality. For example, a decorator can be used to add an attribute to a method, and a metaclass can be used to modify the behavior of all methods with that attribute."
   ]
  }
 ],
 "metadata": {
  "kernelspec": {
   "display_name": "Python 3 (ipykernel)",
   "language": "python",
   "name": "python3"
  },
  "language_info": {
   "codemirror_mode": {
    "name": "ipython",
    "version": 3
   },
   "file_extension": ".py",
   "mimetype": "text/x-python",
   "name": "python",
   "nbconvert_exporter": "python",
   "pygments_lexer": "ipython3",
   "version": "3.9.13"
  }
 },
 "nbformat": 4,
 "nbformat_minor": 5
}
