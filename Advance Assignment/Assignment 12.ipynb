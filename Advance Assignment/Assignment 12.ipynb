{
 "cells": [
  {
   "cell_type": "markdown",
   "id": "7ec2b884",
   "metadata": {},
   "source": [
    "Q1. Does assigning a value to a string&#39;s indexed character violate Python&#39;s string immutability?\n",
    "\n",
    "They are not mutable. we can't modify the parts of a string by index. and most string functions return a new string from an existing string, so a new object must be created if you want to store the newly returned string"
   ]
  },
  {
   "cell_type": "markdown",
   "id": "1110c9ac",
   "metadata": {},
   "source": [
    "Q2. Does using the += operator to concatenate strings violate Python&#39;s string immutability? Why or\n",
    "why not?\n",
    "\n",
    "Yes, since strings are immutable, the line name += \" Saab\" creates a new string object. we can see the difference between immutable strings and, say, mutable lists, by creating a second reference to the original object before the modification."
   ]
  },
  {
   "cell_type": "markdown",
   "id": "956692a8",
   "metadata": {},
   "source": [
    "Q3. In Python, how many different ways are there to index a character?\n",
    "\n",
    "Individual characters in a string can be accessed by specifying the string name followed by a number in square brackets ( [] ). String indexing in Python is zero-based: the first character in the string has index 0 , the next has index 1 , and so on."
   ]
  },
  {
   "cell_type": "markdown",
   "id": "48fe3f63",
   "metadata": {},
   "source": [
    "Q4. What is the relationship between indexing and slicing?\n",
    "\n",
    "“Indexing” means referring to an element of an iterable by its position within the iterable. “Slicing” means getting a subset of elements from an iterable based on their indices."
   ]
  },
  {
   "cell_type": "markdown",
   "id": "b74ed877",
   "metadata": {},
   "source": [
    "Q5. What is an indexed character&#39;s exact data type? What is the data form of a slicing-generated\n",
    "substring?\n",
    "\n",
    "When the start index, end index and the steps syntax are specified in a slicing operator to generate a substring from a string then a substring generates from the start index to the end index where every character is at an interval of steps which are passed in the parameter. The default value of steps is set to 1."
   ]
  },
  {
   "cell_type": "markdown",
   "id": "8d53075d",
   "metadata": {},
   "source": [
    "Q6. What is the relationship between string and character &quot;types&quot; in Python?\n",
    "\n",
    "strings in Python are arrays of bytes representing unicode characters. However, Python does not have a character data type, a single character is simply a string with a length of 1."
   ]
  },
  {
   "cell_type": "markdown",
   "id": "60384093",
   "metadata": {},
   "source": [
    "Q7. Identify at least two operators and one method that allow you to combine one or more smaller\n",
    "strings to create a larger string.\n",
    "\n",
    "Concatenation is the process of appending one string to the end of another string. You concatenate strings by using the + operator."
   ]
  },
  {
   "cell_type": "markdown",
   "id": "d674c04e",
   "metadata": {},
   "source": [
    "Q8. What is the benefit of first checking the target string with in or not in before using the index\n",
    "method to find a substring?\n",
    "\n",
    "In Python, we can get the index of the first occurrence of the substring using the find() and index() methods. Both of these methods take substring, start index(optional), and end index(optional) as arguments.\n"
   ]
  },
  {
   "cell_type": "markdown",
   "id": "bf8c571a",
   "metadata": {},
   "source": [
    "Q9. Which operators and built-in string methods produce simple Boolean (true/false) results?\n",
    "\n",
    "Boolean values are not strings! It is extremely important to realize that True and False are not strings. They are not surrounded by quotes. They are the only two values in the data type bool ."
   ]
  }
 ],
 "metadata": {
  "kernelspec": {
   "display_name": "Python 3 (ipykernel)",
   "language": "python",
   "name": "python3"
  },
  "language_info": {
   "codemirror_mode": {
    "name": "ipython",
    "version": 3
   },
   "file_extension": ".py",
   "mimetype": "text/x-python",
   "name": "python",
   "nbconvert_exporter": "python",
   "pygments_lexer": "ipython3",
   "version": "3.9.13"
  }
 },
 "nbformat": 4,
 "nbformat_minor": 5
}
