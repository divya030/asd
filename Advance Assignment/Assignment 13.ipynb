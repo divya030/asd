{
 "cells": [
  {
   "cell_type": "markdown",
   "id": "774c5060",
   "metadata": {},
   "source": [
    "Q1. Can you create a programme or function that employs both positive and negative indexing? Is\n",
    "there any repercussion if you do so?\n",
    "\n",
    "The default index for each machine starts at 0 and continues up to n-1. In this case, n represents the overall number of items in the corresponding data structure. Types include. Positive indexing − Increases from 0 to 1. Negative indexing − each traversal moves from tail to head, starting with the last element."
   ]
  },
  {
   "cell_type": "markdown",
   "id": "11bf4936",
   "metadata": {},
   "source": [
    "Q2. What is the most effective way of starting with 1,000 elements in a Python list? Assume that all\n",
    "elements should be set to the same value.\n",
    "\n",
    "The following are some of the ways to initialize lists(we create lists of size 1000 and initialize with zeros) in Python. We create an empty an list and run a for loop for n times using the append() method to add elements to the list. This is similar to the above method. However we use while loop instead."
   ]
  },
  {
   "cell_type": "markdown",
   "id": "b9e0ac7d",
   "metadata": {},
   "source": [
    "Q3. How do you slice a list to get any other part while missing the rest? (For example, suppose you\n",
    "want to make a new list with the elements first, third, fifth, seventh, and so on.)\n",
    "\n",
    "One way to do this is to use the simple slicing operator i.e. colon(:). With this operator, one can specify where to start the slicing, where to end, and specify the step. List slicing returns a new list from the existing list"
   ]
  },
  {
   "cell_type": "markdown",
   "id": "afc6f957",
   "metadata": {},
   "source": [
    "Q4. Explain the distinctions between indexing and slicing.\n",
    "\n",
    "“Indexing” means referring to an element of an iterable by its position within the iterable. “Slicing” means getting a subset of elements from an iterable based on their indices"
   ]
  },
  {
   "cell_type": "markdown",
   "id": "52dd3eb1",
   "metadata": {},
   "source": [
    "Q5. What happens if one of the slicing expression&#39;s indexes is out of range?\n",
    "\n",
    "The slice just takes all elements up to the maximal element. If the start index is out of bounds as well, it returns the empty slice."
   ]
  },
  {
   "cell_type": "markdown",
   "id": "a3daff71",
   "metadata": {},
   "source": [
    "Q6. If you pass a list to a function, and if you want the function to be able to change the values of the\n",
    "list—so that the list is different after the function returns—what action should you avoid?\n",
    "\n",
    "In Python, you can expand a list, tuple, and dictionary ( dict ) and pass their elements as arguments by prefixing a list or tuple with an asterisk ( * ), and prefixing a dictionary with two asterisks ( ** ) when calling functions."
   ]
  },
  {
   "cell_type": "markdown",
   "id": "82ed4794",
   "metadata": {},
   "source": [
    "Q7. What is the concept of an unbalanced matrix?\n",
    "\n",
    "Whenever the cost matrix of an assignment problem is not a square matrix, that is, whenever the number of sources is not equal to the number of destinations, the assignment problem is called an unbalanced assignment problem."
   ]
  },
  {
   "cell_type": "markdown",
   "id": "2bf119a2",
   "metadata": {},
   "source": [
    "Q8. Why is it necessary to use either list comprehension or a loop to create arbitrarily large matrices?\n",
    "\n",
    "The for loop is a common way to iterate through a list. List comprehension, on the other hand, is a more efficient way to iterate through a list because it requires fewer lines of code. List comprehension requires less computation power than a for loop because it takes up less space and code"
   ]
  }
 ],
 "metadata": {
  "kernelspec": {
   "display_name": "Python 3 (ipykernel)",
   "language": "python",
   "name": "python3"
  },
  "language_info": {
   "codemirror_mode": {
    "name": "ipython",
    "version": 3
   },
   "file_extension": ".py",
   "mimetype": "text/x-python",
   "name": "python",
   "nbconvert_exporter": "python",
   "pygments_lexer": "ipython3",
   "version": "3.9.13"
  }
 },
 "nbformat": 4,
 "nbformat_minor": 5
}
