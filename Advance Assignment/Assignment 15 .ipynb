{
 "cells": [
  {
   "cell_type": "markdown",
   "id": "498892ac",
   "metadata": {},
   "source": [
    "1. What are the new features added in Python 3.8 version?\n",
    "\n",
    "* Positional-only parameters(/) \n",
    "* Assignment Expressions(:=) \n",
    "* f-strings now support “=” \n",
    "* reversed() works with a dictionary. \n",
    "* No parentheses for return and yield statements. \n",
    "* Output \n",
    "* pow() function. \n",
    "* Syntax Warning."
   ]
  },
  {
   "cell_type": "markdown",
   "id": "8d472d6c",
   "metadata": {},
   "source": [
    "2. What is monkey patching in Python?\n",
    "\n",
    "Monkey patching in python refers to modifying or updating a piece of code or class or any module at the runtime. "
   ]
  },
  {
   "cell_type": "markdown",
   "id": "e1993447",
   "metadata": {},
   "source": [
    "3. What is the difference between a shallow copy and deep copy?\n",
    "\n",
    "In Shallow copy, a copy of the original object is stored and only the reference address is finally copied. In Deep copy, the copy of the original object and the repetitive copies both are stored."
   ]
  },
  {
   "cell_type": "markdown",
   "id": "c0fa16d2",
   "metadata": {},
   "source": [
    "4. What is the maximum possible length of an identifier?\n",
    "\n",
    "The maximum possible length of an identifier in the Python language is 79 characters. Moreover, the PEP-8 prevents you from breaking the limit of 79 characters while creating identifiers"
   ]
  },
  {
   "cell_type": "markdown",
   "id": "c155be43",
   "metadata": {},
   "source": [
    "5. What is generator comprehension?\n",
    "\n",
    "\n",
    "Generator comprehension is an approach to create iterables, something like a cursor which moves on a resource. If you know mysql cursor or mongodb cursor, you may be aware of that the whole actual data never gets loaded into the memory at once, but one at a time. Your cursor moves back and forth, but there is always a one row/list element in memory.\n",
    "\n",
    "In short, by using generators comprehension we can easily create cursors in python.\n",
    "\n"
   ]
  }
 ],
 "metadata": {
  "kernelspec": {
   "display_name": "Python 3 (ipykernel)",
   "language": "python",
   "name": "python3"
  },
  "language_info": {
   "codemirror_mode": {
    "name": "ipython",
    "version": 3
   },
   "file_extension": ".py",
   "mimetype": "text/x-python",
   "name": "python",
   "nbconvert_exporter": "python",
   "pygments_lexer": "ipython3",
   "version": "3.9.13"
  }
 },
 "nbformat": 4,
 "nbformat_minor": 5
}
