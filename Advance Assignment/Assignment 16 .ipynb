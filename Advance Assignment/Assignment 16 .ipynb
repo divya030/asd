{
 "cells": [
  {
   "cell_type": "markdown",
   "id": "4c9c9cb6",
   "metadata": {},
   "source": [
    "Q1. What is the benefit of regular expressions?\n",
    "\n",
    "Regular expressions will let you: Match on types of characters (e.g. 'upper case letters', 'digits', 'spaces', etc.). Match patterns that repeat any number of times. Capture the parts of the original string that match your pattern."
   ]
  },
  {
   "cell_type": "markdown",
   "id": "cda0f3d7",
   "metadata": {},
   "source": [
    "Q2. Describe the difference between the effects of &quot;(ab)c+&quot; and &quot;a(bc)+.&quot; Which of these, if any, is the\n",
    "unqualified pattern &quot;abc+&quot;?\n",
    "\n",
    "The actual difference is, in  a+b⋅c\n",
    " , the order in which the operations are performed is not explicitly marked; whereas, in  (a+b)⋅c\n",
    " , the order in which the operations are performed is explicitly marked. That is, while there are two possible ways of interpreting  a+b⋅c\n",
    " —as performing the addition first and then the multiplication or as performing the multiplication fist and then the addition, there is only one way of interpreting  (a+b)⋅c\n",
    " —as performing the addition first and then the multiplication.\n",
    "\n",
    "The almost universally used convention is tip assume that  a+b⋅c\n",
    "  means  a+(b⋅c)\n",
    "  not  (a+b)⋅c\n",
    " . However, since the preceding is a convention and not a axiom of our theorem about, in this case, real numbers, it is always good to understand the convention that is being used in whatever your context is."
   ]
  },
  {
   "cell_type": "markdown",
   "id": "885cba8f",
   "metadata": {},
   "source": [
    "Q3. How much do you need to use the following sentence while using regular expressions?\n",
    "\n",
    "import re\n"
   ]
  },
  {
   "cell_type": "markdown",
   "id": "07d6e9d1",
   "metadata": {},
   "source": [
    "Q4. Which characters have special significance in square brackets when expressing a range, and\n",
    "under what circumstances?\n",
    "\n",
    "/[xyz]+/\" will match \"x\", \"xx\", \"y\", \"yy\", and so on. Within square brackets, a range of characters can be defined using the dash (-). For example, \"[a-z]\" matches any lowercase letter, and \"[A-Z]\" matches any uppercase letter."
   ]
  },
  {
   "cell_type": "markdown",
   "id": "858730d2",
   "metadata": {},
   "source": [
    "Q5. How does compiling a regular-expression object benefit you?\n",
    "\n",
    "Compiling the regular expression is slightly more costly, but then the result of the compilation can be used to match several strings more efficiently."
   ]
  },
  {
   "cell_type": "markdown",
   "id": "28c72701",
   "metadata": {},
   "source": [
    "Q6. What are some examples of how to use the match object returned by re.match and re.search?\n",
    "\n",
    "re.match is anchored at the beginning of a string, while re.search scans through the entire string. So in the following example, x and y match the same thing.\n",
    "\n",
    "x = re.match('pat', s)       # <--- already anchored at the beginning of string\n",
    "y = re.search('\\Apat', s)    # <--- match at the beginning\n"
   ]
  },
  {
   "cell_type": "markdown",
   "id": "85ca6cf1",
   "metadata": {},
   "source": [
    "Q7. What is the difference between using a vertical bar (|) as an alteration and using square brackets\n",
    "as a character set?\n",
    "\n",
    "\n",
    "The brakcets ([]) negate the effect of the +. So when you have [\\\\d+\\\\W], that matches a single character (digit, + or non-word)"
   ]
  },
  {
   "cell_type": "markdown",
   "id": "fd4e1db8",
   "metadata": {},
   "source": [
    "Q8. In regular-expression search patterns, why is it necessary to use the raw-string indicator (r)? In  \n",
    "replacement strings?\n",
    "\n",
    "For regular expression patterns, the answer is to utilize Python's raw string notation; backslashes are not treated differently in a string literal prefixed with \"r.\" Therefore, r\"\\n\" is a two-character string made up of the letters \"\" and \"n,\" whereas \"\\n\" is a one-character string made up of the letter \"n.\""
   ]
  }
 ],
 "metadata": {
  "kernelspec": {
   "display_name": "Python 3 (ipykernel)",
   "language": "python",
   "name": "python3"
  },
  "language_info": {
   "codemirror_mode": {
    "name": "ipython",
    "version": 3
   },
   "file_extension": ".py",
   "mimetype": "text/x-python",
   "name": "python",
   "nbconvert_exporter": "python",
   "pygments_lexer": "ipython3",
   "version": "3.9.13"
  }
 },
 "nbformat": 4,
 "nbformat_minor": 5
}
