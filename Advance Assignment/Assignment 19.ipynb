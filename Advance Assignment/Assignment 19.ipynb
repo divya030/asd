{
 "cells": [
  {
   "cell_type": "markdown",
   "id": "88da6bf8",
   "metadata": {},
   "source": [
    "Q1. Define the relationship between a class and its instances. Is it a one-to-one or a one-to-many\n",
    "partnership, for example?\n",
    "\n",
    "an object is an element (or instance) of a class; objects have the behaviors of their class. The object is the actual component of programs, while the class specifies how instances are created and how they behave"
   ]
  },
  {
   "cell_type": "markdown",
   "id": "5de21937",
   "metadata": {},
   "source": [
    "Q2. What kind of data is held only in an instance?\n",
    "\n",
    "Python List Data Type. The list is a versatile data type exclusive in Python. In a sense, it is the same as the array in C/C++. But the interesting thing about the list in Python is it can simultaneously hold different types of data."
   ]
  },
  {
   "cell_type": "markdown",
   "id": "e7ccfb27",
   "metadata": {},
   "source": [
    "Q3. What kind of knowledge is stored in a class?\n",
    "\n",
    "Python is an object-oriented language, and everything in it is an object. Each object is a specific type, and a class defines each type — this is the definition of a data type in Python. When instantiating an object belonging to a class, we're creating a new variable — the class is the type of this variable"
   ]
  },
  {
   "cell_type": "markdown",
   "id": "58a9cb69",
   "metadata": {},
   "source": [
    "Q4. What exactly is a method, and how is it different from a regular function?\n",
    "\n",
    "A method, like a function, is a set of instructions that perform a task. The difference is that a method is associated with an object, while a function is not."
   ]
  },
  {
   "cell_type": "markdown",
   "id": "a9df11e6",
   "metadata": {},
   "source": [
    "Q5. Is inheritance supported in Python, and if so, what is the syntax?\n",
    "\n",
    "In Python, every class inherits from a built-in basic class called 'object'. The constructor i.e. the '__init__' function of a class is invoked when we create an object variable or an instance of the class. The variables defined within __init__() are called instance variables or objects."
   ]
  },
  {
   "cell_type": "markdown",
   "id": "f1b06a6a",
   "metadata": {},
   "source": [
    "Q6. How much encapsulation (making instance or class variables private) does Python support?\n",
    "\n",
    "In Python, there is no existence of Private instance variables that cannot be accessed except inside a class. However, to define a private member prefix the member name with double underscore “__”. "
   ]
  },
  {
   "cell_type": "markdown",
   "id": "0dc359aa",
   "metadata": {},
   "source": [
    "Q7. How do you distinguish between a class variable and an instance variable?\n",
    "\n",
    "Instance variables are declared in a class, but outside a method, constructor or any block."
   ]
  },
  {
   "cell_type": "markdown",
   "id": "f92dbeec",
   "metadata": {},
   "source": [
    "Q8. When, if ever, can self be included in a class&#39;s method definitions\n",
    "\n",
    " SELF should be used when you define an instance method, as it's passed automatically as the first parameter when the method is called. You should also use self in Python when referencing a class attribute from inside an instance method."
   ]
  },
  {
   "cell_type": "markdown",
   "id": "23656615",
   "metadata": {},
   "source": [
    "Q9. What is the difference between the _ _add_ _ and the _ _radd_ _ methods?\n",
    "\n",
    "the difference between x. __add__(y) and x. __radd__(y) is that the former calculates x + y whereas the latter calculates y + x — both calling the respective method defined on the object x . —but as it's not implemented, Python simply calls the reverse operation on the right operand y"
   ]
  },
  {
   "cell_type": "markdown",
   "id": "b66fa2b1",
   "metadata": {},
   "source": [
    "Q10. When is it necessary to use a reflection method? When do you not need it, even though you\n",
    "support the operation in question?\n",
    "\n",
    "Reflection refers to the ability for code to be able to examine attributes about objects that might be passed as parameters to a function. For example, if we write type(obj) then Python will return an object which represents the type of obj."
   ]
  },
  {
   "cell_type": "markdown",
   "id": "c0c8ed5d",
   "metadata": {},
   "source": [
    "Q11. What is the _ _iadd_ _ method called?\n",
    "\n",
    "To get a list of all dunder methods with explanation, check out our dunder cheat sheet article on this blog."
   ]
  }
 ],
 "metadata": {
  "kernelspec": {
   "display_name": "Python 3 (ipykernel)",
   "language": "python",
   "name": "python3"
  },
  "language_info": {
   "codemirror_mode": {
    "name": "ipython",
    "version": 3
   },
   "file_extension": ".py",
   "mimetype": "text/x-python",
   "name": "python",
   "nbconvert_exporter": "python",
   "pygments_lexer": "ipython3",
   "version": "3.9.13"
  }
 },
 "nbformat": 4,
 "nbformat_minor": 5
}
