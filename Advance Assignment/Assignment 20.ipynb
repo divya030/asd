{
 "cells": [
  {
   "cell_type": "markdown",
   "id": "7c2d44c3",
   "metadata": {},
   "source": [
    "1. Compare and contrast the float and Decimal classes&#39; benefits and drawbacks.\n",
    "\n",
    "\n",
    "The decimal declared as a float is not technically 0.01, which results in an equality test of false. All decimals should be initialized using strings to prevent precision issues. If decimals aren't initialized with strings, we lose some of the precision benefits of decimals and create subtle bugs."
   ]
  },
  {
   "cell_type": "markdown",
   "id": "6e3518b9",
   "metadata": {},
   "source": [
    "4. Why is it preferable to start a Decimal object with a string rather than a floating-point value?\n",
    "\n",
    "Normally Decimal is used to avoid the floating point precision problem. For example, the float literal 71.60 isn't mathematically 71.60 , but a number very close to it. As a result, using float to initialize Decimal won't avoid the problem. "
   ]
  },
  {
   "cell_type": "markdown",
   "id": "4edd6984",
   "metadata": {},
   "source": [
    "6. Can Decimal objects and floating-point values be combined easily?\n",
    "\n",
    "Decimal objects cannot generally be combined with floats or instances of fractions.Fraction in arithmetic operations: an attempt to add a Decimal to a float , for example, will raise a TypeError ."
   ]
  },
  {
   "cell_type": "markdown",
   "id": "fde92f62",
   "metadata": {},
   "source": [
    "Q10. How do the Fraction class and the integer type (int) relate to each other? Containment or\n",
    "inheritance?\n",
    "\n",
    "A Fraction instance can be constructed from a pair of integers, from another rational number, or from a string. The Fraction class inherits from the abstract base class numbers.\n"
   ]
  }
 ],
 "metadata": {
  "kernelspec": {
   "display_name": "Python 3 (ipykernel)",
   "language": "python",
   "name": "python3"
  },
  "language_info": {
   "codemirror_mode": {
    "name": "ipython",
    "version": 3
   },
   "file_extension": ".py",
   "mimetype": "text/x-python",
   "name": "python",
   "nbconvert_exporter": "python",
   "pygments_lexer": "ipython3",
   "version": "3.9.13"
  }
 },
 "nbformat": 4,
 "nbformat_minor": 5
}
