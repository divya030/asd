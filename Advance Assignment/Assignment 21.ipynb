{
 "cells": [
  {
   "cell_type": "markdown",
   "id": "a4e6bcd6",
   "metadata": {},
   "source": [
    "Q1. What is a probability distribution, exactly? If the values are meant to be random, how can you\n",
    "predict them at all?\n",
    "\n",
    "A probability distribution is a list of all of the possible outcomes of a random variable, along with its corresponding probability values. A probability distribution links each outcome of a random variable or process with its probability of occurrence."
   ]
  },
  {
   "cell_type": "markdown",
   "id": "dc0c496d",
   "metadata": {},
   "source": [
    "Q2. Is there a distinction between true random numbers and pseudo-random numbers, if there is\n",
    "one? Why are the latter considered “good enough”?\n",
    "\n",
    "truly random number generators do not exist but pseudo random number generators most certainly do exist. In theory, a truly random number generator would produce a series of truly random numbers"
   ]
  },
  {
   "cell_type": "markdown",
   "id": "5c8fa7a6",
   "metadata": {},
   "source": [
    "Q3. What are the two main factors that influence the behaviour of a &quot;normal&quot; probability distribution?\n",
    "\n",
    "This range will be bounded between the minimum and maximum possible values, but precisely where the possible value is likely to be plotted on the probability distribution depends on a number of factors. These factors include the distribution's mean (average), standard deviation, skewness, and kurtosis"
   ]
  },
  {
   "cell_type": "markdown",
   "id": "9ea758dd",
   "metadata": {},
   "source": [
    "Q4. Provide a real-life example of a normal distribution.\n",
    "\n",
    "If something is said to follow the normal distribution, it means in the most simple terms that most of the data lies around the average. An easy example is the distribution of test grades in schools. Most people will score around the average, with a few high scores and a few low scores."
   ]
  },
  {
   "cell_type": "markdown",
   "id": "946b859b",
   "metadata": {},
   "source": [
    "Q5. In the short term, how can you expect a probability distribution to behave? What do you think will\n",
    "happen as the number of trials grows?\n",
    "\n",
    "A probability distribution is a mathematical function that describes the probability of different possible values of a variable. Probability distributions are often depicted using graphs or probability tables."
   ]
  },
  {
   "cell_type": "markdown",
   "id": "441a9a90",
   "metadata": {},
   "source": [
    "Q6. What kind of object can be shuffled by using random.shuffle?\n",
    "\n",
    "shuffle() function in Python. The shuffle() is an inbuilt method of the random module. It is used to shuffle a sequence (list)"
   ]
  },
  {
   "cell_type": "markdown",
   "id": "d65dd318",
   "metadata": {},
   "source": [
    "Q7. Describe the math package&#39;s general categories of functions.\n",
    "\n",
    "Using The math Module in Python. math is a built-in module in the Python 3 standard library that provides standard mathematical constants and functions. You can use the math module to perform various mathematical calculations, such as numeric, trigonometric, logarithmic, and exponential calculations"
   ]
  },
  {
   "cell_type": "markdown",
   "id": "3dc88c0b",
   "metadata": {},
   "source": [
    "Q8. What is the relationship between exponentiation and logarithms?\n",
    "\n",
    "An exponential function has the form ax, where a is a constant; examples are 2x, 10x, ex. The logarithmic functions are the inverses of the exponential functions, that is, functions that \"undo'' the exponential functions, just as, for example, the cube root function \"undoes'' the cube function: 3√23=2."
   ]
  },
  {
   "cell_type": "markdown",
   "id": "cf621292",
   "metadata": {},
   "source": [
    "Q9. What are the three logarithmic functions that Python supports?\n",
    "\n",
    "The following are the variants of the basic log function in Python: log2(x) log(x, Base) log10(x)"
   ]
  }
 ],
 "metadata": {
  "kernelspec": {
   "display_name": "Python 3 (ipykernel)",
   "language": "python",
   "name": "python3"
  },
  "language_info": {
   "codemirror_mode": {
    "name": "ipython",
    "version": 3
   },
   "file_extension": ".py",
   "mimetype": "text/x-python",
   "name": "python",
   "nbconvert_exporter": "python",
   "pygments_lexer": "ipython3",
   "version": "3.9.13"
  }
 },
 "nbformat": 4,
 "nbformat_minor": 5
}
