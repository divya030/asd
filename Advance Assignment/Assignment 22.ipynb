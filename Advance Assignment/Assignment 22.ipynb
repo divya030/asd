{
 "cells": [
  {
   "cell_type": "markdown",
   "id": "b1d35ea1",
   "metadata": {},
   "source": [
    "Q1. What are the benefits of the built-in array package, if any?\n",
    "\n",
    "Arrays can handle very large datasets efficiently.\n",
    "Computationally-memory efficient.\n",
    "Faster calculations and analysis than lists.\n",
    "Diverse functionality (many functions in Python packages). With several Python packages that make trend modeling, statistics, and visualization easier."
   ]
  },
  {
   "cell_type": "markdown",
   "id": "83b3eac6",
   "metadata": {},
   "source": [
    "Q2. What are some of the array package&#39;s limitations?\n",
    "\n",
    "1 The size of an array is limited. It must be redefined to resize an array.\n",
    "The order of the element in an array is limited as one by one.\n",
    "Operations such as search and insertion must be linear.\n"
   ]
  },
  {
   "cell_type": "markdown",
   "id": "8efa5a5f",
   "metadata": {},
   "source": [
    "Q3. Describe the main differences between the array and numpy packages.\n",
    "\n",
    "NumPy arrays are faster and more compact than Python lists. An array consumes less memory and is convenient to use. NumPy uses much less memory to store data and it provides a mechanism of specifying the data types. This allows the code to be optimized even further."
   ]
  },
  {
   "cell_type": "markdown",
   "id": "7436edc3",
   "metadata": {},
   "source": [
    "Q4. Explain the distinctions between the empty, ones, and zeros functions.\n",
    "\n",
    "empty, unlike zeros, does not set the array values to zero, and may therefore be marginally faster. On the other hand, it requires the user to manually set all the values in the array, and should be used with caution. Return a new array setting values to zero."
   ]
  },
  {
   "cell_type": "markdown",
   "id": "9f38cceb",
   "metadata": {},
   "source": [
    "Q5. In the fromfunction function, which is used to construct new arrays, what is the role of the callable\n",
    "argument?\n",
    "\n",
    "We can create a NumPy ndarray object by using the array() function. A callable in Python is any object that you can call using a pair of parentheses and a series of arguments if required."
   ]
  },
  {
   "cell_type": "markdown",
   "id": "7ce1a744",
   "metadata": {},
   "source": [
    "Q8. Does a numpy array contain fixed-length strings? What happens if you allocate a longer string to\n",
    "one of these arrays?\n",
    "\n",
    "Creating a numpy array of arbitrary length strings\n",
    "If we try to assign a long string to a normal NumPy array, it truncates the string."
   ]
  },
  {
   "cell_type": "markdown",
   "id": "4f87d355",
   "metadata": {},
   "source": [
    "Q9. What happens when you combine two numpy arrays using an operation like addition (+) or\n",
    "multiplication (*)? What are the conditions for combining two numpy arrays?\n",
    "\n",
    "we need to combine arrays based on certain conditions. This is where the np. where function comes into play. It takes three arguments: a condition, an array (or value) to use if the condition is true, and an array (or value) to use if the condition is false."
   ]
  },
  {
   "cell_type": "markdown",
   "id": "4607b6a1",
   "metadata": {},
   "source": [
    "Q10. What is the best way to use a Boolean array to mask another array?\n",
    "\n",
    "Using masked_where() function: Pass the two array in the function as a parameter then use numpy. ma. masked_where() function in which pass the condition for masking and array to be masked. ...\n",
    "Using masked_where(), getmask() and masked_array() function: Pass the two array in the function as a parameter then use numpy. ma."
   ]
  },
  {
   "cell_type": "markdown",
   "id": "235c309a",
   "metadata": {},
   "source": [
    "\n",
    "Q11. What are three different ways to get the standard deviation of a wide collection of data using\n",
    "both standard Python and its packages? Sort the three of them by how quickly they execute.\n",
    "\n",
    "Step 1: Find the mean. Step 2: For each data point, find the square of its distance to the mean. Step 3: Sum the values from Step 2. Step 4: Divide by the number of data points"
   ]
  },
  {
   "cell_type": "markdown",
   "id": "474fe1ae",
   "metadata": {},
   "source": [
    "12. What is the dimensionality of a Boolean mask-generated array?\n",
    "\n",
    "What is returned is a one-dimensional array filled with all the values that meet this condition; in other words, all the values in positions at which the mask array is True ."
   ]
  }
 ],
 "metadata": {
  "kernelspec": {
   "display_name": "Python 3 (ipykernel)",
   "language": "python",
   "name": "python3"
  },
  "language_info": {
   "codemirror_mode": {
    "name": "ipython",
    "version": 3
   },
   "file_extension": ".py",
   "mimetype": "text/x-python",
   "name": "python",
   "nbconvert_exporter": "python",
   "pygments_lexer": "ipython3",
   "version": "3.9.13"
  }
 },
 "nbformat": 4,
 "nbformat_minor": 5
}
