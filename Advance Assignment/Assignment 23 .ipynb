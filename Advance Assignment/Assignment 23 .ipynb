{
 "cells": [
  {
   "cell_type": "markdown",
   "id": "c863d33e",
   "metadata": {},
   "source": [
    "Q1. If you have any, what are your choices for increasing the comparison between different figures on\n",
    "the same graph?\n",
    "\n",
    "Bar graphs are used to compare things between different groups or to track changes over time."
   ]
  },
  {
   "cell_type": "markdown",
   "id": "bfa54ae0",
   "metadata": {},
   "source": [
    "Q2. Can you explain the benefit of compound interest over a higher rate of interest that does not\n",
    "compound after reading this chapter?\n",
    "\n",
    "It makes a sum of money grow at a faster rate than simple interest because you will earn returns on the money you invest, as well as on returns at the end of every compounding period."
   ]
  },
  {
   "cell_type": "markdown",
   "id": "36585f25",
   "metadata": {},
   "source": [
    "Q3. What is a histogram, exactly? Name a numpy method for creating such a graph.\n",
    "\n",
    "Numpy has a built-in numpy. histogram() function which represents the frequency of data distribution in the graphical form. The rectangles having equal horizontal size corresponds to class interval called bin and variable height corresponding to the frequency"
   ]
  },
  {
   "cell_type": "markdown",
   "id": "400bdd85",
   "metadata": {},
   "source": [
    "Q4. If necessary, how do you change the aspect ratios between the X and Y axes?\n",
    "\n",
    "You can change the aspect ratio using the pbaspect function. Set the ratio as a three-element vector of positive values that represent the relative axis lengths. "
   ]
  },
  {
   "cell_type": "markdown",
   "id": "f0a01b43",
   "metadata": {},
   "source": [
    "Q5. Compare and contrast the three types of array multiplication between two numpy arrays: dot\n",
    "product, outer product, and regular multiplication of two numpy arrays.\n",
    "\n",
    "np. dot is the dot product of two matrices. Whereas np. multiply does an element-wise multiplication of two matrices. multiplication of two real numbers gives you back a real number, whereas the dot product of two vectors in general does not give you back a vector of the same space, but a real number"
   ]
  },
  {
   "cell_type": "markdown",
   "id": "187d9924",
   "metadata": {},
   "source": [
    "Q6. Before you buy a home, which numpy function will you use to measure your monthly mortgage\n",
    "payment?\n",
    "\n",
    "pmt() function. The pmt() function is used to compute the payment against loan principal plus interest"
   ]
  },
  {
   "cell_type": "markdown",
   "id": "ee1197a0",
   "metadata": {},
   "source": [
    "Q7. Can string data be stored in numpy arrays? If so, list at least one restriction that applies to this\n",
    "data.\n",
    "\n",
    "The dtype of any numpy array containing string values is the maximum length of any string present in the array. Once set, it will only be able to store new string having length not more than the maximum length at the time of the creation"
   ]
  }
 ],
 "metadata": {
  "kernelspec": {
   "display_name": "Python 3 (ipykernel)",
   "language": "python",
   "name": "python3"
  },
  "language_info": {
   "codemirror_mode": {
    "name": "ipython",
    "version": 3
   },
   "file_extension": ".py",
   "mimetype": "text/x-python",
   "name": "python",
   "nbconvert_exporter": "python",
   "pygments_lexer": "ipython3",
   "version": "3.9.13"
  }
 },
 "nbformat": 4,
 "nbformat_minor": 5
}
