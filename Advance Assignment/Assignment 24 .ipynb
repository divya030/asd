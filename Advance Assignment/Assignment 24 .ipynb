{
 "cells": [
  {
   "cell_type": "markdown",
   "id": "3bf515d2",
   "metadata": {},
   "source": [
    "Q1. Is it permissible to use several import statements to import the same module? What would the\n",
    "goal be? Can you think of a situation where it would be beneficial?\n",
    "\n",
    "No. This is actually the norm in Python. In fact, Python only loads the module when it is imported in the first file and all subsequent files simply set the name to refer to the already loaded module."
   ]
  },
  {
   "cell_type": "markdown",
   "id": "dac1eb9f",
   "metadata": {},
   "source": [
    "Q2. What are some of a module&#39;s characteristics? (Name at least one.)\n",
    "\n",
    "Modules contain instructions, processing logic, and data."
   ]
  },
  {
   "cell_type": "markdown",
   "id": "2982a3a1",
   "metadata": {},
   "source": [
    "Why is _ _all_ _ in Python?\n",
    "\n",
    "The purpose of __all__ is simply to define which symbols should be imported as part of a wildcard import that targets that module. If a symbol is importable through a wildcard import, it makes sense that it should be considered public."
   ]
  },
  {
   "cell_type": "markdown",
   "id": "a3c81ff8",
   "metadata": {},
   "source": [
    "Q5. In what situation is it useful to refer to the _ _name_ _ attribute or the string &#39;_ _main_ _&#39;?\n",
    "\n",
    "Every Python module has a specified __name__ and if this is '__main__', it indicates that the module is being executed independently by the user, allowing us to take the necessary action."
   ]
  },
  {
   "cell_type": "markdown",
   "id": "1d42c993",
   "metadata": {},
   "source": [
    "Q6. What are some of the benefits of attaching a program counter to the RPN interpreter\n",
    "application, which interprets an RPN script line by line?\n",
    "\n",
    "The advantage of reverse Polish notation is that it removes the need for order of operations and parentheses that are required by infix notation and can be evaluated linearly, left-to-right. For example, the infix expression (3 × 4) + (5 × 6) becomes 3 4 × 5 6 × + in reverse Polish notation."
   ]
  }
 ],
 "metadata": {
  "kernelspec": {
   "display_name": "Python 3 (ipykernel)",
   "language": "python",
   "name": "python3"
  },
  "language_info": {
   "codemirror_mode": {
    "name": "ipython",
    "version": 3
   },
   "file_extension": ".py",
   "mimetype": "text/x-python",
   "name": "python",
   "nbconvert_exporter": "python",
   "pygments_lexer": "ipython3",
   "version": "3.9.13"
  }
 },
 "nbformat": 4,
 "nbformat_minor": 5
}
