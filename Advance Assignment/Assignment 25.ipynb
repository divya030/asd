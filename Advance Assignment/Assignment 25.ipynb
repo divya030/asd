{
 "cells": [
  {
   "cell_type": "markdown",
   "id": "4234bbeb",
   "metadata": {},
   "source": [
    "Q1. What is the distinction between a numpy array and a pandas data frame? Is there a way to\n",
    "convert between the two if there is?\n",
    "\n",
    "Numpy arrays can be multi-dimensional whereas DataFrame can only be two-dimensional. Arrays contain similar types of objects or elements whereas DataFrame can have objects or multiple or similar data types. Both array and DataFrames are mutable"
   ]
  },
  {
   "cell_type": "markdown",
   "id": "45e61aca",
   "metadata": {},
   "source": [
    "Q2. What can go wrong when an user enters in a stock-ticker symbol, and how do you handle it?\n",
    "\n",
    "if a trading friend talks about a trending stock, and another trader enters the wrong ticker symbol while making a trade, that trader ends up with the wrong asset. That can be a costly mistake. Tickers allow traders to set up watch lists or to use software to keep track of stock prices."
   ]
  },
  {
   "cell_type": "markdown",
   "id": "dd1c811c",
   "metadata": {},
   "source": [
    "Q3. Identify some of the plotting techniques that are used to produce a stock-market chart.\n",
    "\n",
    "There are many types of charts that are used for technical analysis. However, the four types that are most common are—line chart, bar chart, point and figure chart and candlestick chart."
   ]
  },
  {
   "cell_type": "markdown",
   "id": "7a9edc74",
   "metadata": {},
   "source": [
    "Q4. Why is it essential to print a legend on a stock market chart?\n",
    "\n",
    "The most common legend on private stock certificates contains language informing the holder of the restrictions on the sale or transfer of unregistered securities. There may also be further restrictions on the sale of stock in private companies where shareholders have agreed to a shareholder buy-sell agreement."
   ]
  },
  {
   "cell_type": "markdown",
   "id": "8f2cb2cb",
   "metadata": {},
   "source": [
    "Q5. What is the best way to limit the length of a pandas data frame to less than a year?\n",
    "\n",
    "Iterate over every column.\n",
    "Determine if the column is numeric.\n",
    "Determine if the column can be represented by an integer.\n",
    "Find the min and the max value.\n",
    "Determine and apply the smallest datatype that can fit the range of values."
   ]
  },
  {
   "cell_type": "markdown",
   "id": "03e03ac8",
   "metadata": {},
   "source": [
    "Q6. What is the definition of a 180-day moving average?\n",
    "\n",
    "A moving average is a statistic that captures the average change in a data series over time. In finance, moving averages are often used by technical analysts to keep track of price trends for specific securities."
   ]
  }
 ],
 "metadata": {
  "kernelspec": {
   "display_name": "Python 3 (ipykernel)",
   "language": "python",
   "name": "python3"
  },
  "language_info": {
   "codemirror_mode": {
    "name": "ipython",
    "version": 3
   },
   "file_extension": ".py",
   "mimetype": "text/x-python",
   "name": "python",
   "nbconvert_exporter": "python",
   "pygments_lexer": "ipython3",
   "version": "3.9.13"
  }
 },
 "nbformat": 4,
 "nbformat_minor": 5
}
