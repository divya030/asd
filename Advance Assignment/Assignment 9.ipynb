{
 "cells": [
  {
   "cell_type": "markdown",
   "id": "14cf625b",
   "metadata": {},
   "source": [
    "Q1. In Python 3.X, what are the names and functions of string object types?\n",
    "\n",
    "* capitalize()\t- Converts the first character of the string to a capital (uppercase) letter\n",
    "* casefold()\t- Implements caseless string matching\n",
    "* center()\t- Pad the string with the specified character.\n",
    "* count()\t- Returns the number of occurrences of a substring in the string.\n",
    "* encode()\t- Encodes strings with the specified encoded scheme\n",
    "* endswith()\t- Returns “True” if a string ends with the given suffix\n",
    "* expandtabs()\t- Specifies the amount of space to be substituted with the “\\t” symbol in the string\n",
    "* find()\t- Returns the lowest index of the substring if it is found\n",
    "* format()\t- Formats the string for printing it to console\n",
    "* format_map()\t- Formats specified values in a string using a dictionary\n",
    "* index()\t- Returns the position of the first occurrence of a substring in a string\n",
    "* isalnum()\t- Checks whether all the characters in a given string is alphanumeric or not\n",
    "* isalpha()\t- Returns “True” if all characters in the string are alphabets\n",
    "* isdecimal()\t- Returns true if all characters in a string are decimal\n",
    "* isdigit()\t- Returns “True” if all characters in the string are digits\n",
    "* isidentifier()\t- Check whether a string is a valid identifier or not\n",
    "* islower()\t- Checks if all characters in the string are lowercase\n",
    "* isnumeric()\t- Returns “True” if all characters in the string are numeric characters\n",
    "* isprintable()\t- Returns “True” if all characters in the string are printable or the string is empty\n",
    "* isspace()\t- Returns “True” if all characters in the string are whitespace characters\n",
    "* istitle()\t- Returns “True” if the string is a title cased string\n",
    "* isupper()\t- Checks if all characters in the string are uppercase\n",
    "* join()\t- Returns a concatenated String\n",
    "* ljust()\t - Left aligns the string according to the width specified\n",
    "* lower()\t- Converts all uppercase characters in a string into lowercase"
   ]
  },
  {
   "cell_type": "markdown",
   "id": "955b94de",
   "metadata": {},
   "source": [
    "Q2. How do the string forms in Python 3.X vary in terms of operations?\n",
    "\n",
    "Assignment operator: “=”\n",
    "Concatenate operator: “+”\n",
    "String repetition operator: “*”\n",
    "String slicing operator: “[]”\n",
    "String comparison operator: “==” & “!=”\n",
    "Membership operator: “in” & “not in”"
   ]
  },
  {
   "cell_type": "markdown",
   "id": "0b3f43ca",
   "metadata": {},
   "source": [
    "Q3. In 3.X, how do you put non-ASCII Unicode characters in a string?\n",
    "\n",
    "In order to use non-ASCII characters, Python requires explicit encoding and decoding of strings into Unicode. In IBM® SPSS® Modeler, Python scripts are assumed to be encoded in UTF-8, which is a standard Unicode encoding that supports non-ASCII characters."
   ]
  },
  {
   "cell_type": "markdown",
   "id": "50239865",
   "metadata": {},
   "source": [
    "Q4. In Python 3.X, what are the key differences between text-mode and binary-mode files?\n",
    "\n",
    "In text mode, Python automatically handles the encoding and decoding of the data, depending on the platform's default encoding scheme. Binary files, on the other hand, are files that contain non-text data, such as images, audio files, and executable files."
   ]
  },
  {
   "cell_type": "markdown",
   "id": "2dd1d8d9",
   "metadata": {},
   "source": [
    "Q5. How can you interpret a Unicode text file containing text encoded in a different encoding than\n",
    "your platform&#39;s default?\n",
    "\n",
    "To write a file in Unicode (UTF-8) encoding in Python, you can use the built-in open() function with the 'w' mode and specifying the encoding as \"utf-8\". Here's an example: with open(\"file. txt\", \"w\", encoding=\"utf-8\") as f: f."
   ]
  },
  {
   "cell_type": "markdown",
   "id": "b53f2b27",
   "metadata": {},
   "source": [
    "Q6. What is the best way to make a Unicode text file in a particular encoding format?\n",
    "\n",
    "To write a file in Unicode (UTF-8) encoding in Python, you can use the built-in open() function with the 'w' mode and specifying the encoding as \"utf-8\". Here's an example: with open(\"file. txt\", \"w\", encoding=\"utf-8\") as f: f.\n"
   ]
  },
  {
   "cell_type": "markdown",
   "id": "7f85b860",
   "metadata": {},
   "source": [
    "Q7. What qualifies ASCII text as a form of Unicode text?\n",
    "\n",
    "ASCII encodes symbols, digits, letters, etc., whereas Unicode encodes special texts from different languages, letters, symbols, etc."
   ]
  }
 ],
 "metadata": {
  "kernelspec": {
   "display_name": "Python 3 (ipykernel)",
   "language": "python",
   "name": "python3"
  },
  "language_info": {
   "codemirror_mode": {
    "name": "ipython",
    "version": 3
   },
   "file_extension": ".py",
   "mimetype": "text/x-python",
   "name": "python",
   "nbconvert_exporter": "python",
   "pygments_lexer": "ipython3",
   "version": "3.9.13"
  }
 },
 "nbformat": 4,
 "nbformat_minor": 5
}
