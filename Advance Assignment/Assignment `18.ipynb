{
 "cells": [
  {
   "cell_type": "markdown",
   "id": "5bfb0601",
   "metadata": {},
   "source": [
    "Q1. Describe the differences between text and binary files in a single paragraph.\n",
    "\n",
    "A text file is processed as a sequence of characters. A binary file is processed as a sequence of bytes. In a text file you have the illusion that the file is divided into lines. There is a special end-of-line symbol that creates this illusion."
   ]
  },
  {
   "cell_type": "markdown",
   "id": "33e70292",
   "metadata": {},
   "source": [
    "Q2. What are some scenarios where using text files will be the better option? When would you like to\n",
    "use binary files instead of text files?\n",
    "\n",
    "When file does need to be read by people or need to be ported to a different type of system, text files should be preferred over binary files.1"
   ]
  },
  {
   "cell_type": "markdown",
   "id": "fb1a650b",
   "metadata": {},
   "source": [
    "Q4. Describe a benefit of using the with keyword instead of explicitly opening a file.\n",
    "\n",
    "Using with means that the file will be closed as soon as you leave the block. This is beneficial because closing a file is something that can easily be forgotten and ties up resources that you no longer need."
   ]
  },
  {
   "cell_type": "markdown",
   "id": "961f9794",
   "metadata": {},
   "source": [
    "Q5. Does Python have the trailing newline while reading a line of text? Does Python append a\n",
    "newline when you write a line of text?\n",
    "\n",
    "Python readline() is a file method that helps to read one complete line from the given file. It has a trailing newline (“\\n”) at the end of the string returned. You can also make use of the size parameter to get a specific length of the line."
   ]
  },
  {
   "cell_type": "markdown",
   "id": "96ff4afe",
   "metadata": {},
   "source": [
    "Q6. What file operations enable for random-access operation?\n",
    "\n",
    "position – Returns the channel's current position.\n",
    "position(long) – Sets the channel's position.\n",
    "read(ByteBuffer) – Reads bytes into the buffer from the channel.\n",
    "write(ByteBuffer) – Writes bytes from the buffer to the channel.\n",
    "truncate(long) – Truncates the file (or other entity) connected to the channel."
   ]
  },
  {
   "cell_type": "markdown",
   "id": "8afa3861",
   "metadata": {},
   "source": [
    "Q7. When do you think you&#39;ll use the struct package the most?\n",
    "\n",
    "It is used mostly for handling binary data stored in files or from network connections, among other sources. This process needs to be done at the start of the program."
   ]
  },
  {
   "cell_type": "markdown",
   "id": "5848d3dc",
   "metadata": {},
   "source": [
    "Q8. When is pickling the best option?\n",
    "\n",
    "The process of pickling refers to sterilizing a Python object, which means converting a byte stream into python object hierarchy. The process which is the opposite of pickling is called unpickling."
   ]
  },
  {
   "cell_type": "markdown",
   "id": "0a8d5127",
   "metadata": {},
   "source": [
    "Q9. When will it be best to use the shelve package?\n",
    "\n",
    "The Shelve module is used to store data when using a relational database is not recommended. A shelf object is a dictionary-like object, which is defined in this module. Keys in shelf objects are strings and values are Python objects, that can be handled by the Pickle module"
   ]
  },
  {
   "cell_type": "markdown",
   "id": "6f6b286c",
   "metadata": {},
   "source": [
    "Q10. What is a special restriction when using the shelve package, as opposed to using other data\n",
    "dictionaries?\n",
    "\n",
    "The shelf dictionary has certain restrictions. Only string data type can be used as key in this special dictionary object, whereas any picklable Python object can be used as value."
   ]
  }
 ],
 "metadata": {
  "kernelspec": {
   "display_name": "Python 3 (ipykernel)",
   "language": "python",
   "name": "python3"
  },
  "language_info": {
   "codemirror_mode": {
    "name": "ipython",
    "version": 3
   },
   "file_extension": ".py",
   "mimetype": "text/x-python",
   "name": "python",
   "nbconvert_exporter": "python",
   "pygments_lexer": "ipython3",
   "version": "3.9.13"
  }
 },
 "nbformat": 4,
 "nbformat_minor": 5
}
