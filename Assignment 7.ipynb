{
 "cells": [
  {
   "cell_type": "markdown",
   "id": "7bc73715",
   "metadata": {},
   "source": [
    "1. What is the name of the feature responsible for generating Regex objects?\n",
    "\n",
    "There are two ways to create a RegExp object: a literal notation and a constructor. The literal notation takes a pattern between two slashes, followed by optional flags, after the second slash"
   ]
  },
  {
   "cell_type": "markdown",
   "id": "c4b564cd",
   "metadata": {},
   "source": [
    "2. Why do raw strings often appear in Regex objects?\n",
    "\n",
    "Raw strings are particularly useful when working with regular expressions, as they allow you to specify patterns that may contain backslashes without having to escape them."
   ]
  },
  {
   "cell_type": "markdown",
   "id": "291a4202",
   "metadata": {},
   "source": [
    "3. What is the return value of the search() method?\n",
    "\n",
    "The search() method returns the index (position) of the first match. The search() method returns -1 if no match is found. The search() method is case sensitive."
   ]
  },
  {
   "cell_type": "markdown",
   "id": "d57900a5",
   "metadata": {},
   "source": [
    "4. From a Match item, how do you get the actual strings that match the pattern?\n",
    "\n",
    "A Regex object’s search() method searches the string it is passed for any matches to the regex. Match objects have a group() method that will return the actual matched text from the searched string"
   ]
  },
  {
   "cell_type": "markdown",
   "id": "e9f4f697",
   "metadata": {},
   "source": [
    "5. In the regex which created from the r&#39;(\\d\\d\\d)-(\\d\\d\\d-\\d\\d\\d\\d)&#39;, what does group zero cover?\n",
    "Group 2? Group 1?\n",
    "\n",
    "Group 0 is the entire match, group 1 covers the first set of parentheses, and group 2 covers the second set of parentheses."
   ]
  },
  {
   "cell_type": "markdown",
   "id": "a25023f4",
   "metadata": {},
   "source": [
    "6. In standard expression syntax, parentheses and intervals have distinct meanings. How can you tell\n",
    "a regex that you want it to fit real parentheses and periods?\n",
    "\n",
    "In standard expression syntax, parentheses and intervals have distinct meanings. How can you tell a regex that you want it to fit real parentheses and periods? Ans: Periods and parentheses can be escaped with a backslash: \\., \\(, and \\)."
   ]
  },
  {
   "cell_type": "markdown",
   "id": "6bfa1953",
   "metadata": {},
   "source": [
    "7. The findall() method returns a string list or a list of string tuples. What causes it to return one of\n",
    "the two options?\n",
    "\n",
    "If the pattern has one capturing group, the findall() function returns a list of strings that match the group. If the pattern has multiple capturing groups, the findall() function returns the tuples of strings that match the groups."
   ]
  },
  {
   "cell_type": "markdown",
   "id": "3113403d",
   "metadata": {},
   "source": [
    "8. In standard expressions, what does the | character mean?\n",
    "\n",
    "Consistent with the whole match being the longest of the leftmost matches, each subpattern, from left to right, shall match the longest possible string. For this purpose, a null string shall be considered to be longer than no match at all."
   ]
  },
  {
   "cell_type": "markdown",
   "id": "0332f8f8",
   "metadata": {},
   "source": [
    "9. In regular expressions, what does the character stand for?\n",
    "\n",
    "All characters, except those having special meaning in regex, matches themselves. E.g., the regex x matches substring \"x\"; regex 9 matches \"9\"; regex = matches \"=\"; and regex @ matches \"@\"."
   ]
  },
  {
   "cell_type": "markdown",
   "id": "06075df3",
   "metadata": {},
   "source": [
    "10.In regular expressions, what is the difference between the + and * characters?\n",
    "\n",
    "Each of them are quantifiers, the star quantifier( * ) means that the preceding expression can match zero or more times it is like {0,} while the plus quantifier( + ) indicate that the preceding expression MUST match at least one time or multiple times and it is the same as {1,} ."
   ]
  },
  {
   "cell_type": "markdown",
   "id": "0c98a07b",
   "metadata": {},
   "source": [
    "11. What is the difference between {4} and {4,5} in regular expression?\n",
    "\n",
    "he {4} matches exactly three instances of the preceding group. The {4,5} matches between three and five instances."
   ]
  },
  {
   "cell_type": "markdown",
   "id": "c57222e1",
   "metadata": {},
   "source": [
    "12. What do you mean by the \\d, \\w, and \\s shorthand character classes signify in regular\n",
    "expressions?\n",
    "\n",
    "The \\d, \\w, and \\s shorthand character classes match a single digit, word, or space character, respectively."
   ]
  },
  {
   "cell_type": "markdown",
   "id": "91cbec77",
   "metadata": {},
   "source": [
    "13. What do means by \\D, \\W, and \\S shorthand character classes signify in regular expressions?\n",
    "\n",
    "The \\d, \\w, and \\s shorthand character classes match a single digit, word, or space character, respectively"
   ]
  },
  {
   "cell_type": "markdown",
   "id": "50789f10",
   "metadata": {},
   "source": [
    "14. What is the difference between .*? and .*?\n",
    "\n",
    "*?) matches any character ( . ) any number of times ( * ), as few times as possible to make the regex match ( ? )"
   ]
  },
  {
   "cell_type": "markdown",
   "id": "c273a88b",
   "metadata": {},
   "source": [
    "15. What is the syntax for matching both numbers and lowercase letters with a character class?\n",
    "\n",
    "The pattern within the brackets of a regular expression defines a character set that is used to match a single character. For example, the regular expression \"[ A-Za-z] \" specifies to match any single uppercase or lowercase letter.\n"
   ]
  }
 ],
 "metadata": {
  "kernelspec": {
   "display_name": "Python 3 (ipykernel)",
   "language": "python",
   "name": "python3"
  },
  "language_info": {
   "codemirror_mode": {
    "name": "ipython",
    "version": 3
   },
   "file_extension": ".py",
   "mimetype": "text/x-python",
   "name": "python",
   "nbconvert_exporter": "python",
   "pygments_lexer": "ipython3",
   "version": "3.9.13"
  }
 },
 "nbformat": 4,
 "nbformat_minor": 5
}
