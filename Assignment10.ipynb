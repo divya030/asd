{
 "cells": [
  {
   "cell_type": "code",
   "execution_count": null,
   "metadata": {},
   "outputs": [],
   "source": [
    "1. How do you distinguish between shutil.copy() and shutil.copytree()?\n",
    "\n",
    "-- shutil.copy():\n",
    "    -- It will copy the entire content of the source file to the destination file or directory.\n",
    "    -- It preserve the file permission mode but not the creation and modification time of the file.\n",
    "    -- The source file sholud be a file and destination can be a file or directory.\n",
    "    -- if its a directory , the file will be copied by base filename from source.\n",
    "    -- if its a destination, the existing file will get replaced with the copied file.\n",
    "    \n",
    "-- shutil.copytree():\n",
    "    -- It will repeatedly copy the entire directory from source to destination directory.\n",
    "    -- The destination directory should not exists, it will be created at the time of copying.\n",
    "    -- The permission and times of directories are copied by copystat() and individual files are copied by shutil.copy2()"
   ]
  },
  {
   "cell_type": "code",
   "execution_count": null,
   "metadata": {},
   "outputs": [],
   "source": [
    "2. What function is used to rename files??\n",
    "\n",
    "-- os.rename() is used to rename a file or directory"
   ]
  },
  {
   "cell_type": "code",
   "execution_count": null,
   "metadata": {},
   "outputs": [],
   "source": [
    "3. What is the difference between the delete functions in the send2trash and shutil modules?\n",
    "\n",
    "-- send2trash will send a file or dirctory to recycle bin.\n",
    "-- shutil.rmtree() will delete a file or directory permanently."
   ]
  },
  {
   "cell_type": "code",
   "execution_count": null,
   "metadata": {},
   "outputs": [],
   "source": [
    "4. ZipFile objects have a close() method just like File objects’ close() method. What ZipFile method is\n",
    "   equivalent to File objects’ open() method?\n",
    "\n",
    "-- zipfile.ZipFile.open() is equivalent to File objects’ open().\n",
    "-- first argument is the file name, second argument is the mode(read,write or append)"
   ]
  },
  {
   "cell_type": "code",
   "execution_count": null,
   "metadata": {},
   "outputs": [],
   "source": [
    "5. Create a programme that searches a folder tree for files with a certain file extension (such as .pdf\n",
    "   or .jpg). Copy these files from whatever location they are in to a new folder."
   ]
  },
  {
   "cell_type": "code",
   "execution_count": null,
   "metadata": {},
   "outputs": [],
   "source": [
    "import os\n",
    "import shutil\n",
    "\n",
    "try:\n",
    "    \n",
    "    src = input(\"Enter a path:\")\n",
    "    file = os.listdir(src)\n",
    "    dest = input(\"Enter a destiation path:\")\n",
    "\n",
    "    folder = os.makedirs(f\"{dest}\\copied_files\")\n",
    "\n",
    "    sort_files = [i  for i in file   if i.endswith(\".pdf\") or i.endswith(\".jpg\")]\n",
    "    \n",
    "except Exception as e:\n",
    "    print(e)\n",
    "    \n",
    "\n",
    "for i in sort_files:\n",
    "    copy_files = shutil.copy2(f\"{src}\\{i}\",f\"{dest}\\copied_files\")\n",
    "     \n",
    "print(f\"The files are successfuly copied to {dest}\\copied_files\")"
   ]
  }
 ],
 "metadata": {
  "kernelspec": {
   "display_name": "Python 3",
   "language": "python",
   "name": "python3"
  },
  "language_info": {
   "codemirror_mode": {
    "name": "ipython",
    "version": 3
   },
   "file_extension": ".py",
   "mimetype": "text/x-python",
   "name": "python",
   "nbconvert_exporter": "python",
   "pygments_lexer": "ipython3",
   "version": "3.8.5"
  }
 },
 "nbformat": 4,
 "nbformat_minor": 4
}
