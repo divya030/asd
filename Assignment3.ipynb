{
 "cells": [
  {
   "cell_type": "code",
   "execution_count": null,
   "metadata": {},
   "outputs": [],
   "source": [
    "# 1. Why are functions advantageous to have in your programs?\n",
    "\n",
    "-- Functions will reduce the repitation of the same code.\n",
    "-- It helps us to break a complex code into a manageable parts. \n",
    "-- It makes the program shorter and easier to read and update.\n",
    "-- A Function call is all needed to execute the program by using function.\n",
    "-- Debugging time is reduced as we can debug only a function not several codes."
   ]
  },
  {
   "cell_type": "code",
   "execution_count": null,
   "metadata": {},
   "outputs": [],
   "source": [
    "# 2. When does the code in a function run: when its specified or when its called?\n",
    "\n",
    "-- Function runs when its called."
   ]
  },
  {
   "cell_type": "code",
   "execution_count": null,
   "metadata": {},
   "outputs": [],
   "source": [
    "# 3. What statement creates a function?\n",
    "\n",
    "-- The def statement creates a function.\n",
    "-- Its followed by () and a colon :\n",
    "-- Return statement returns the value."
   ]
  },
  {
   "cell_type": "code",
   "execution_count": null,
   "metadata": {},
   "outputs": [],
   "source": [
    "# 4. What is the difference between a function and a function call?\n",
    "\n",
    "Function:\n",
    "    -- A function is a block of code which performs operation and return a value.\n",
    "    -- The def statement creates a function, followed by () and a colon :\n",
    "    -- Return statement is used to returns a value.\n",
    "    -- eg: \n",
    "        def add(a,b):\n",
    "            pass\n",
    "    \n",
    "Function Call:\n",
    "    -- Function call calls the function written elsewhere to perform operations for the code.\n",
    "    -- It gives control over to the function.\n",
    "    -- Functions are called by using its name followed by parameters if mentioned in function.\n",
    "    -- eg: add(5,4)\n"
   ]
  },
  {
   "cell_type": "code",
   "execution_count": null,
   "metadata": {},
   "outputs": [],
   "source": [
    "# 5. How many global scopes are there in a Python program? How many local scopes?\n",
    "\n",
    "-- There is one global scope in python which will be deleted as the program terminates.\n",
    "-- local scopes are created whenever the functions are called."
   ]
  },
  {
   "cell_type": "code",
   "execution_count": null,
   "metadata": {},
   "outputs": [],
   "source": [
    "# 6. What happens to variables in a local scope when the function call returns?\n",
    "\n",
    "-- Local variables can be accessed within the function.\n",
    "-- Once the function call returns, the local variables are destroyed.\n",
    "-- eg: \n",
    "    def add():\n",
    "        a = 15\n",
    "        return (\"The local variable value is\",a)"
   ]
  },
  {
   "cell_type": "code",
   "execution_count": null,
   "metadata": {},
   "outputs": [],
   "source": [
    "# 7. What is the concept of a return value? Is it possible to have a return value in an expression?\n",
    "\n",
    "-- Return is used to end the execution of the function.\n",
    "-- The code after return will not be executed.\n",
    "-- If the return statement is without any expression, will return a None value.\n",
    "-- The type of values it returns will be based on the operations of the functions.\n",
    "-- The return value can be used in an expression.\n"
   ]
  },
  {
   "cell_type": "code",
   "execution_count": null,
   "metadata": {},
   "outputs": [],
   "source": [
    "# 8. If a function does not have a return statement, what is the return value of a call to that function?\n",
    "\n",
    "-- If there is no return in function, then its return value is None\n",
    "-- eg:\n",
    "    def add(a,b):\n",
    "        c=a+b\n",
    "        c\n",
    "add(4,5)"
   ]
  },
  {
   "cell_type": "code",
   "execution_count": 11,
   "metadata": {},
   "outputs": [],
   "source": [
    "# 9. How do you make a function variable refer to the global variable?\n",
    "\n",
    "-- By using global keyword, which declares function variable as a global one.\n",
    "-- eg:\n",
    "    def add():\n",
    "        global x\n",
    "        x = 10\n",
    "        return (\"The global variable is\",x)\n",
    "add()"
   ]
  },
  {
   "cell_type": "code",
   "execution_count": 25,
   "metadata": {},
   "outputs": [
    {
     "name": "stdout",
     "output_type": "stream",
     "text": [
      "<class 'NoneType'>\n"
     ]
    }
   ],
   "source": [
    "# 10. What is the data type of None?\n",
    "\n",
    "-- None keyword is used to define a null value not 0 or an empty string.\n",
    "-- Nonetype is the datatype of None.\n",
    "-- eg:\n",
    "x=None\n",
    "print(type(x))"
   ]
  },
  {
   "cell_type": "code",
   "execution_count": null,
   "metadata": {},
   "outputs": [],
   "source": [
    "# 11. What does the sentence import areallyourpetsnamederic do?\n",
    "\n",
    "-- This will import areallyourpetsnamederic module\n",
    "-- import areallyourpetsnamederic"
   ]
  },
  {
   "cell_type": "code",
   "execution_count": null,
   "metadata": {},
   "outputs": [],
   "source": [
    "# 12. If you had a bacon() feature in a spam module, what would you call it after importing spam?\n",
    "\n",
    "import spam \n",
    "spam.bacon()\n"
   ]
  },
  {
   "cell_type": "code",
   "execution_count": 28,
   "metadata": {},
   "outputs": [
    {
     "name": "stdout",
     "output_type": "stream",
     "text": [
      "can only concatenate list (not \"int\") to list\n"
     ]
    }
   ],
   "source": [
    "# 13. What can you do to save a programme from crashing if it encounters an error?\n",
    "\n",
    "-- That bit of a code can be written inside a try and except clause to handle the error.\n",
    "\n",
    "eg:\n",
    "a = 13\n",
    "b = 45\n",
    "l1= [1,2,3,4]\n",
    "c = a+b\n",
    "try:\n",
    "    l1=l1+c\n",
    "except Exception as e:\n",
    "    print(e)\n"
   ]
  },
  {
   "cell_type": "code",
   "execution_count": 35,
   "metadata": {},
   "outputs": [
    {
     "name": "stdout",
     "output_type": "stream",
     "text": [
      "unsupported operand type(s) for ** or pow(): 'list' and 'int'\n"
     ]
    }
   ],
   "source": [
    "# 14. What is the purpose of the try clause? What is the purpose of the except clause?\n",
    "\n",
    "-- The purpose of try and except clause is to handel an error if we are not sure of certain parts of code.\n",
    "-- Try block will excute the code if no error occured.\n",
    "-- If error occured than it goes to except block to handel it.\n",
    "\n",
    "eg:\n",
    "a = 13\n",
    "l1= [1,2,3,4]\n",
    "try:\n",
    "    l1=l1**a\n",
    "    print(l1)\n",
    "except Exception as e:\n",
    "    print(e)"
   ]
  }
 ],
 "metadata": {
  "kernelspec": {
   "display_name": "Python 3",
   "language": "python",
   "name": "python3"
  },
  "language_info": {
   "codemirror_mode": {
    "name": "ipython",
    "version": 3
   },
   "file_extension": ".py",
   "mimetype": "text/x-python",
   "name": "python",
   "nbconvert_exporter": "python",
   "pygments_lexer": "ipython3",
   "version": "3.8.5"
  }
 },
 "nbformat": 4,
 "nbformat_minor": 4
}
