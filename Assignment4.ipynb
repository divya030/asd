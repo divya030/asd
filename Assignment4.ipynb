{
 "cells": [
  {
   "cell_type": "code",
   "execution_count": null,
   "metadata": {},
   "outputs": [],
   "source": [
    "# 1. What exactly is []?\n",
    "\n",
    "-- is an empty list with no values in it."
   ]
  },
  {
   "cell_type": "code",
   "execution_count": 4,
   "metadata": {},
   "outputs": [
    {
     "data": {
      "text/plain": [
       "[2, 4, 'hello', 8, 10]"
      ]
     },
     "execution_count": 4,
     "metadata": {},
     "output_type": "execute_result"
    }
   ],
   "source": [
    "# 2. In a list of values stored in a variable called spam, how would you assign the value 'hello' as the\n",
    "# third value? (Assume [2, 4, 6, 8, 10] are in spam.)\n",
    "\n",
    "spam = [2,4,6,8,10]\n",
    "spam[2] = 'hello'\n",
    "spam"
   ]
  },
  {
   "cell_type": "code",
   "execution_count": 8,
   "metadata": {},
   "outputs": [
    {
     "name": "stdout",
     "output_type": "stream",
     "text": [
      "[3]\n"
     ]
    }
   ],
   "source": [
    "# Let's pretend the spam includes the list ['a','b','c','d'] for the next three queries.\n",
    "\n",
    "# 3. What is the value of spam[int(int('3' * 2) / 11)]?\n",
    "\n",
    "a = [int(int('3' * 2) / 11)]\n",
    "print(a)"
   ]
  },
  {
   "cell_type": "code",
   "execution_count": 9,
   "metadata": {},
   "outputs": [
    {
     "data": {
      "text/plain": [
       "'d'"
      ]
     },
     "execution_count": 9,
     "metadata": {},
     "output_type": "execute_result"
    }
   ],
   "source": [
    "# 4. What is the value of spam[-1]?\n",
    "\n",
    "spam = ['a','b','c','d']\n",
    "\n",
    "spam[-1]"
   ]
  },
  {
   "cell_type": "code",
   "execution_count": 10,
   "metadata": {},
   "outputs": [
    {
     "data": {
      "text/plain": [
       "['a', 'b']"
      ]
     },
     "execution_count": 10,
     "metadata": {},
     "output_type": "execute_result"
    }
   ],
   "source": [
    "# 5. What is the value of spam[:2]?\n",
    "\n",
    "spam = ['a','b','c','d']\n",
    "spam[:2]"
   ]
  },
  {
   "cell_type": "code",
   "execution_count": 11,
   "metadata": {},
   "outputs": [
    {
     "data": {
      "text/plain": [
       "1"
      ]
     },
     "execution_count": 11,
     "metadata": {},
     "output_type": "execute_result"
    }
   ],
   "source": [
    "# Let's pretend bacon has the list [3.14,'cat',11,'cat',True] for the next three questions.\n",
    "\n",
    "# 6. What is the value of bacon.index('cat)'?\n",
    "\n",
    "bacon = [3.14,'cat',11,'cat',True]\n",
    "bacon.index('cat')"
   ]
  },
  {
   "cell_type": "code",
   "execution_count": 13,
   "metadata": {},
   "outputs": [
    {
     "data": {
      "text/plain": [
       "[3.14, 'cat', 11, 'cat', True, 99]"
      ]
     },
     "execution_count": 13,
     "metadata": {},
     "output_type": "execute_result"
    }
   ],
   "source": [
    "# 7. How does bacon.append(99) change the look of the list value in bacon?\n",
    "\n",
    "bacon = [3.14,'cat',11,'cat',True]\n",
    "bacon.append(99)\n",
    "bacon"
   ]
  },
  {
   "cell_type": "code",
   "execution_count": 14,
   "metadata": {},
   "outputs": [
    {
     "data": {
      "text/plain": [
       "[3.14, 11, 'cat', True]"
      ]
     },
     "execution_count": 14,
     "metadata": {},
     "output_type": "execute_result"
    }
   ],
   "source": [
    "# 8. How does bacon.remove('cat') change the look of the list in bacon?\n",
    "\n",
    "bacon = [3.14,'cat',11,'cat',True]\n",
    "bacon.remove('cat')\n",
    "bacon"
   ]
  },
  {
   "cell_type": "code",
   "execution_count": 17,
   "metadata": {},
   "outputs": [
    {
     "data": {
      "text/plain": [
       "[1, 2, 3, 4, 5, 6]"
      ]
     },
     "execution_count": 17,
     "metadata": {},
     "output_type": "execute_result"
    }
   ],
   "source": [
    "# 9.What are the list concatenation and list replication operators?\n",
    "\n",
    "list concatenation:\n",
    "    -- '+' is used for concatenation\n",
    "    -- concat two or more list to a single one\n",
    "    -- eg:\n",
    "        \n",
    "l1=[1,2,3]\n",
    "l2=[4,5,6]\n",
    "l1+l2\n",
    "\n",
    "list replication :\n",
    "    -- '*' used for replication\n",
    "    -- will return a number of times of elements in a list to a single list\n",
    "    -- eg:\n",
    "l1=[1,2,3]\n",
    "l1*3"
   ]
  },
  {
   "cell_type": "code",
   "execution_count": null,
   "metadata": {},
   "outputs": [],
   "source": [
    "# 10. What is difference between the list methods append() and insert()?\n",
    "\n",
    "append():\n",
    "    -- will add the value to the end of the list\n",
    "    -- can append only one value at a time.\n",
    "\n",
    "insert():\n",
    "    -- will insert the value before the index mentioned.\n",
    "    -- the index and value to be placed should be mentioned\n",
    "    -- will push the remaining values one step forwared creating a space to insert the entered value."
   ]
  },
  {
   "cell_type": "code",
   "execution_count": null,
   "metadata": {},
   "outputs": [],
   "source": [
    "# 11. What are the two methods for removing items from a list?\n",
    "\n",
    "remove() and pop() to remove items from list\n",
    "\n",
    "remove():\n",
    "    -- will remove the first occurence of the specified item in the list\n",
    "    \n",
    "pop():\n",
    "    -- by default will delete the item in index -1.\n",
    "    -- if index is metioned, the item in that index will be deleted"
   ]
  },
  {
   "cell_type": "code",
   "execution_count": null,
   "metadata": {},
   "outputs": [],
   "source": [
    "# 12. Describe how list values and string values are identical.\n",
    "\n",
    "-- list and string are both iterables, can be accessed through index.\n",
    "-- string contains a sequence of charecters, list contains sequential collection of data types\n",
    "-- both are ordered collection of data."
   ]
  },
  {
   "cell_type": "code",
   "execution_count": null,
   "metadata": {},
   "outputs": [],
   "source": [
    "# 13. What's the difference between tuples and lists?\n",
    "\n",
    "-- list are mutable where as tuple is inmutable\n",
    "-- the memory allocated is minimum compared to list as list is mutable\n",
    "-- time efficiency has advantage over list\n",
    "-- Both are used to store data but in list the datas can be altered."
   ]
  },
  {
   "cell_type": "code",
   "execution_count": 21,
   "metadata": {},
   "outputs": [
    {
     "name": "stdout",
     "output_type": "stream",
     "text": [
      "(42,)\n",
      "<class 'tuple'>\n"
     ]
    }
   ],
   "source": [
    "# 14. How do you type a tuple value that only contains the integer 42?\n",
    "\n",
    "a = 42\n",
    "b = (42,)\n",
    "print(b)\n",
    "print(type(b))"
   ]
  },
  {
   "cell_type": "code",
   "execution_count": 25,
   "metadata": {},
   "outputs": [
    {
     "name": "stdout",
     "output_type": "stream",
     "text": [
      "[1, 2, 3, 4]\n",
      "<class 'tuple'> (1, 2, 3, 4)\n",
      "----\n",
      "(9, 8, 7, 6)\n",
      "<class 'list'> [9, 8, 7, 6]\n"
     ]
    }
   ],
   "source": [
    "# 15. How do you get a list value's tuple form? How do you get a tuple value's list form?\n",
    "\n",
    "l1 =[1,2,3,4]\n",
    "a = tuple(l1)\n",
    "print(l1)\n",
    "print(type(a),a)\n",
    "print(\"----\")\n",
    "t = (9,8,7,6)\n",
    "b = list(t)\n",
    "print(t)\n",
    "print(type(b),b)"
   ]
  },
  {
   "cell_type": "code",
   "execution_count": null,
   "metadata": {},
   "outputs": [],
   "source": [
    "# 16. Variables that \"contain\" list values are not necessarily lists themselves. Instead, what do they\n",
    "# contain?\n",
    "\n",
    "-- They contain references to the list values \n",
    "-- eg:\n",
    "    l1=[1,2,3]\n",
    "    a(l1)\n",
    "    print(l1)"
   ]
  },
  {
   "cell_type": "code",
   "execution_count": null,
   "metadata": {},
   "outputs": [],
   "source": [
    "# 17. How do you distinguish between copy.copy() and copy.deepcopy()?\n",
    "\n",
    "copy.copy():\n",
    "    -- creates a shallow copy with different memory location for a single dimention list\n",
    "    -- In a nested list case if an object inside an item is changed both the list get changed.\n",
    "\n",
    "deep.copy():\n",
    "    -- Have to import copy module\n",
    "    -- creates a copy with different memory location for both single and nested list.\n",
    "    -- if an object is changed will not affect the other one."
   ]
  },
  {
   "cell_type": "code",
   "execution_count": 31,
   "metadata": {},
   "outputs": [
    {
     "name": "stdout",
     "output_type": "stream",
     "text": [
      "[[1, 2, 3, 4], [9, 8, 7, 6]] [[1, 2, 3, 4], [9, 8, 7, 6]]\n",
      "After change: [[1, 2, 3, 4], [100, 8, 7, 6]] [[1, 2, 3, 4], [100, 8, 7, 6]]\n"
     ]
    }
   ],
   "source": [
    "# copy.copy() -- both l1 and l2 will be changed\n",
    "\n",
    "l1=[[1,2,3,4],[9,8,7,6]]\n",
    "l2=l1.copy()\n",
    "print(l1,l2)\n",
    "l2[1][0]=100\n",
    "print(\"After change:\",l1,l2)"
   ]
  },
  {
   "cell_type": "code",
   "execution_count": 34,
   "metadata": {},
   "outputs": [
    {
     "name": "stdout",
     "output_type": "stream",
     "text": [
      "[[1, 2, 3, 4], [9, 8, 7, 6]] [[1, 2, 3, 4], [9, 8, 7, 6]]\n",
      "After change: [[1, 2, 3, 4], [9, 8, 7, 6]] [[1, 2, 3, 4], [100, 8, 7, 6]]\n"
     ]
    }
   ],
   "source": [
    "# deep.copy() -- only l2 gets changed\n",
    "\n",
    "import copy\n",
    "\n",
    "l1=[[1,2,3,4],[9,8,7,6]]\n",
    "l2=copy.deepcopy(l1)\n",
    "print(l1,l2)\n",
    "l2[1][0]=100\n",
    "print(\"After change:\",l1,l2)"
   ]
  }
 ],
 "metadata": {
  "kernelspec": {
   "display_name": "Python 3",
   "language": "python",
   "name": "python3"
  },
  "language_info": {
   "codemirror_mode": {
    "name": "ipython",
    "version": 3
   },
   "file_extension": ".py",
   "mimetype": "text/x-python",
   "name": "python",
   "nbconvert_exporter": "python",
   "pygments_lexer": "ipython3",
   "version": "3.8.5"
  }
 },
 "nbformat": 4,
 "nbformat_minor": 4
}
