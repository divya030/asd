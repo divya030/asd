{
 "cells": [
  {
   "cell_type": "code",
   "execution_count": null,
   "metadata": {},
   "outputs": [],
   "source": [
    "# 1. What are escape characters, and how do you use them?\n",
    "\n",
    "-- To insert character in a string escape character is used.\n",
    "-- \"\\\" is an escape character.\n",
    "-- An escape character is a backslash followed by the character to insert.\n",
    "\n",
    "ex:\n",
    "    s = \" Hello! \\n Greatings\""
   ]
  },
  {
   "cell_type": "code",
   "execution_count": null,
   "metadata": {},
   "outputs": [],
   "source": [
    "# 2. What do the escape characters n and t stand for?\n",
    "\n",
    "-- \\n -- is used to start a new line, when used the character after this will be displayed in new line.\n",
    "-- \\t -- is used in representing a tab whitespace between characters.\n",
    "\n",
    "ex:\n",
    "    n = \" Hello! \\n How are you?\"\n",
    "    \n",
    "    t = \"Hello!\\tHow are you?\""
   ]
  },
  {
   "cell_type": "code",
   "execution_count": null,
   "metadata": {},
   "outputs": [],
   "source": [
    "# 3. What is the way to include backslash characters in a string?\n",
    "\n",
    "-- \"\\\\\" is used to include single backslash in a string\n",
    "-- r -- raw string to insert backslash.\n",
    "\n",
    "eg:\n",
    "    c = \"abc\\\\123\"\n",
    "    \n",
    "    v = r\"abc\\123\""
   ]
  },
  {
   "cell_type": "code",
   "execution_count": null,
   "metadata": {},
   "outputs": [],
   "source": [
    "# 4. The string \"Howl's Moving Castle\" is a correct value. Why isn't the single quote character in the\n",
    "# word Howl's not escaped a problem?\n",
    "\n",
    "-- Because double quotes are used to mention a string so it's a correct value"
   ]
  },
  {
   "cell_type": "code",
   "execution_count": null,
   "metadata": {},
   "outputs": [],
   "source": [
    "# 5. How do you write a string of newlines if you don't want to use the n character?\n",
    "\n",
    "-- by using triple quotes \"\"\" \"\"\"\n",
    "\n",
    "eg:\n",
    "    print(\"\"\"hello\n",
    "    how \n",
    "    are \n",
    "    you \"\"\")"
   ]
  },
  {
   "cell_type": "code",
   "execution_count": null,
   "metadata": {},
   "outputs": [],
   "source": [
    "# 6. What are the values of the given expressions?\n",
    "\n",
    "'Hello world!'[1]     -- 'e'\n",
    "\n",
    "'Hello world!'[0:5]   -- 'Hello'\n",
    "\n",
    "'Hello world!'[:5]    -- 'Hello'\n",
    "\n",
    "'Hello world!'[3:]    -- 'lo world!'"
   ]
  },
  {
   "cell_type": "code",
   "execution_count": null,
   "metadata": {},
   "outputs": [],
   "source": [
    "# 7. What are the values of the following expressions?\n",
    "\n",
    "'Hello'.upper()             -- 'HELLO'\n",
    "\n",
    "'Hello'.upper().isupper()   --  True\n",
    "\n",
    "'Hello'.upper().lower()     -- 'hello'"
   ]
  },
  {
   "cell_type": "code",
   "execution_count": null,
   "metadata": {},
   "outputs": [],
   "source": [
    "# 8. What are the values of the following expressions?\n",
    "\n",
    "'Remember, remember, the fifth of November.'.split() \n",
    "\n",
    "-- ['Remember,', 'remember,', 'the', 'fifth', 'of', 'November.']\n",
    "\n",
    "'-'.join('There can be only one.'.split())\n",
    "\n",
    "-- 'There-can-be-only-one.'"
   ]
  },
  {
   "cell_type": "code",
   "execution_count": null,
   "metadata": {},
   "outputs": [],
   "source": [
    "# 9. What are the methods for right-justifying, left-justifying, and centering a string?\n",
    "\n",
    "-- center()\n",
    "    --This function alligns the string according to the width specified with a white space if fillchr is not mentioned.\n",
    "-- rjust()\n",
    "    --This function right alligns the string according to the width specified with a white space if fillchr is\n",
    "      not mentioned.\n",
    "-- ljust()\n",
    "     --This function left alligns the string according to the width specified with a white space if fillchr is\n",
    "      not mentioned.\n",
    "        \n",
    "eg:\n",
    "    center() -- s = \"ineuronFSDS\"\n",
    "                s.center(30)\n",
    "    rjust() -- s = \"ineuronFSDS\"\n",
    "                s.rjust(30.'*')\n",
    "    ljust() -- s = \"ineuronFSDS\"\n",
    "                s.ljust(30,\"*\")"
   ]
  },
  {
   "cell_type": "code",
   "execution_count": null,
   "metadata": {},
   "outputs": [],
   "source": [
    "# 10. What is the best way to remove whitespace characters from the start or end?\n",
    "\n",
    "-- rstrip() \n",
    "    -- To remove white space at the end of a string.\n",
    "-- lstrip()\n",
    "    -- To remove white space at the begining of a string."
   ]
  }
 ],
 "metadata": {
  "kernelspec": {
   "display_name": "Python 3",
   "language": "python",
   "name": "python3"
  },
  "language_info": {
   "codemirror_mode": {
    "name": "ipython",
    "version": 3
   },
   "file_extension": ".py",
   "mimetype": "text/x-python",
   "name": "python",
   "nbconvert_exporter": "python",
   "pygments_lexer": "ipython3",
   "version": "3.8.5"
  }
 },
 "nbformat": 4,
 "nbformat_minor": 4
}
