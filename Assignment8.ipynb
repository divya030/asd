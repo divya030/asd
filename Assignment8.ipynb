{
 "cells": [
  {
   "cell_type": "code",
   "execution_count": null,
   "metadata": {},
   "outputs": [],
   "source": [
    "1. Is the Python Standard Library included with PyInputPlus?\n",
    "\n",
    "-- PyInputPlus is not included in Python Standard Library.\n",
    "-- Can install it by using pip\n",
    "-- !pip install PyInputPlus"
   ]
  },
  {
   "cell_type": "code",
   "execution_count": null,
   "metadata": {},
   "outputs": [],
   "source": [
    "2. Why is PyInputPlus commonly imported with import pyinputplus as pypi?\n",
    "\n",
    "-- For easy access. \n",
    "-- not mandetory to be pypi, can have different names as we wish."
   ]
  },
  {
   "cell_type": "code",
   "execution_count": null,
   "metadata": {},
   "outputs": [],
   "source": [
    "3. How do you distinguish between inputInt() and inputFloat()?\n",
    "\n",
    "-- pyip.inputInt():\n",
    "    -- accepts only integer, if  any other type inputs entered it retries until an integer is entered.\n",
    "    -- limit parameter is used to specify the number of tries.\n",
    "    -- min ,max,lessThan or greaterThan can be assignned to set lower and upper bounds to the input.\n",
    "    \n",
    "-- pyip.inputFloat():\n",
    "    -- accepts only a floating number, has same parameters as inputInt()\n",
    "    \n",
    "eg:\n",
    "    a = pyip.inputInt(prompt = \"Enter the number: \",limit = 4, min = 4, max = 9)\n",
    "    b = pyip.inputFloat(prompt = \"Enter the number: \",limit = 3, min = 5.5, lessThan = 11.25)"
   ]
  },
  {
   "cell_type": "code",
   "execution_count": null,
   "metadata": {},
   "outputs": [],
   "source": [
    "4. Using PyInputPlus, how do you ensure that the user enters a whole number between 0 and 99?\n",
    "\n",
    "-- by using pyip.inputInt()\n",
    "\n",
    "a = pyip.inputInt(prompt = \"Enter the number: \",limit = 4, min = 0, max = 99)"
   ]
  },
  {
   "cell_type": "code",
   "execution_count": null,
   "metadata": {},
   "outputs": [],
   "source": [
    "5. What is transferred to the keyword arguments allowRegexes and blockRegexes?\n",
    "\n",
    "-- allowRegexes:\n",
    "    -- will match any part of the input the entire string will be valid.\n",
    "    \n",
    "-- blockRegexes:\n",
    "    -- if match found in the input, it won't pass the validation"
   ]
  },
  {
   "cell_type": "code",
   "execution_count": null,
   "metadata": {},
   "outputs": [],
   "source": [
    "6. If a blank input is entered three times, what does inputStr(limit=3) do?\n",
    "\n",
    "a = pyip.inputStr(prompt = \"Enter a string\",limit = 3)\n",
    "\n",
    "-- raises a RetryLimitException exception"
   ]
  },
  {
   "cell_type": "code",
   "execution_count": null,
   "metadata": {},
   "outputs": [],
   "source": [
    "7. If blank input is entered three times, what does inputStr(limit=3, default='hello') do?\n",
    "                                                             \n",
    "a = pyip.inputStr(prompt = \"Enter a string\",limit = 3,default='hello')\n",
    "\n",
    "-- than the input will be of default value, in this case it will be 'hello'."
   ]
  }
 ],
 "metadata": {
  "kernelspec": {
   "display_name": "Python 3",
   "language": "python",
   "name": "python3"
  },
  "language_info": {
   "codemirror_mode": {
    "name": "ipython",
    "version": 3
   },
   "file_extension": ".py",
   "mimetype": "text/x-python",
   "name": "python",
   "nbconvert_exporter": "python",
   "pygments_lexer": "ipython3",
   "version": "3.8.5"
  }
 },
 "nbformat": 4,
 "nbformat_minor": 4
}
