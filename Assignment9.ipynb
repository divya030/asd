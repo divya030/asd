{
 "cells": [
  {
   "cell_type": "code",
   "execution_count": null,
   "metadata": {},
   "outputs": [],
   "source": [
    " 1. To what does a relative path refer?\n",
    "\n",
    "-- relative path is a url that has certain portion of the absolute path.\n",
    "-- the location is related to the directory its linking\n",
    "-- (.) -- represent the path starts in the same folder\n",
    "-- (..) -- represent the path that starts in the folder before it.\n",
    "\n",
    "eg:\n",
    "    ./Folder_B/Folder_C/target_topic.htm\n",
    "    ../../Folder_D/target_topic.htm"
   ]
  },
  {
   "cell_type": "code",
   "execution_count": null,
   "metadata": {},
   "outputs": [],
   "source": [
    "2. What does an absolute path start with your operating system?\n",
    "\n",
    "-- Absolute path always begin with the drive letter followed by colon.\n",
    "\n",
    "eg:\n",
    "    D:,C:,E:"
   ]
  },
  {
   "cell_type": "code",
   "execution_count": null,
   "metadata": {},
   "outputs": [],
   "source": [
    "3. What do the functions os.getcwd() and os.chdir() do?\n",
    "\n",
    "os.getcwd():\n",
    "    returns a current working directory of a working file.\n",
    "\n",
    "os.chdir():\n",
    "    changes the current working directory to a given path."
   ]
  },
  {
   "cell_type": "code",
   "execution_count": null,
   "metadata": {},
   "outputs": [],
   "source": [
    "4. What are the . and .. folders?\n",
    "\n",
    "-- (.) -- represent the path starts in the same folder\n",
    "-- (..) -- represent the path that starts in the folder before it."
   ]
  },
  {
   "cell_type": "code",
   "execution_count": null,
   "metadata": {},
   "outputs": [],
   "source": [
    "5. In C:\\bacon\\eggs\\spam.txt, which part is the dir name, and which part is the base name?\n",
    "    \n",
    "-- C:\\bacon\\eggs -- dir name\n",
    "-- spam.txt - base name "
   ]
  },
  {
   "cell_type": "code",
   "execution_count": null,
   "metadata": {},
   "outputs": [],
   "source": [
    "6. What are the three “mode” arguments that can be passed to the open() function?\n",
    "\n",
    "-- 'r'-- only for reading\n",
    "-- 'w'-- only for writting\n",
    "-- 'r+' -- for both read and write "
   ]
  },
  {
   "cell_type": "code",
   "execution_count": null,
   "metadata": {},
   "outputs": [],
   "source": [
    "7. What happens if an existing file is opened in write mode?\n",
    "\n",
    "-- write mode erases the content in the file and overwrite if file exists."
   ]
  },
  {
   "cell_type": "code",
   "execution_count": null,
   "metadata": {},
   "outputs": [],
   "source": [
    "8. How do you tell the difference between read() and readlines()?\n",
    "\n",
    "-- read()\n",
    "    --The entire content will be displayed in a single string value\n",
    "    \n",
    "-- readlines()\n",
    "    --Returns a list of strings, where each string is a single line from the file."
   ]
  },
  {
   "cell_type": "code",
   "execution_count": null,
   "metadata": {},
   "outputs": [],
   "source": [
    "9. What data structure does a shelf value resemble?\n",
    "\n",
    "-- shelf value resembles dictionary value - key and value pair."
   ]
  }
 ],
 "metadata": {
  "kernelspec": {
   "display_name": "Python 3",
   "language": "python",
   "name": "python3"
  },
  "language_info": {
   "codemirror_mode": {
    "name": "ipython",
    "version": 3
   },
   "file_extension": ".py",
   "mimetype": "text/x-python",
   "name": "python",
   "nbconvert_exporter": "python",
   "pygments_lexer": "ipython3",
   "version": "3.8.5"
  }
 },
 "nbformat": 4,
 "nbformat_minor": 4
}
