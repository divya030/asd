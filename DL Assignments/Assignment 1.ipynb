{
 "cells": [
  {
   "cell_type": "markdown",
   "id": "f9b5d9d9",
   "metadata": {},
   "source": [
    "1. What is the function of a summation junction of a neuron? What is threshold activation\n",
    "function?\n",
    "\n",
    "The linear combiner or the summing junction adds all the products of the synapses and parameters."
   ]
  },
  {
   "cell_type": "markdown",
   "id": "71e4abe6",
   "metadata": {},
   "source": [
    "2. What is a step function? What is the difference of step function with threshold function?\n",
    "\n",
    "A step function is one of the simplest kind of activation functions and is based on threshold. If the value of Y is above a certain threshold value, then perceptron is activated and if it is less, then it is not."
   ]
  },
  {
   "cell_type": "markdown",
   "id": "8dc86b69",
   "metadata": {},
   "source": [
    "3. Explain the McCulloch–Pitts model of neuron.\n",
    "\n",
    "The main elements of the McCulloch-Pitts model can be summarized as follow: Neuron activation is binary. A neuron either fire or not-fire. For a neuron to fire, the weighted sum of inputs has to be equal or larger than a predefined threshold."
   ]
  },
  {
   "cell_type": "markdown",
   "id": "3fae8a4c",
   "metadata": {},
   "source": [
    "4. Explain the ADALINE network model.\n",
    "\n",
    "A network with a single linear unit is called Adaline (Adaptive Linear Neural). A unit with a linear activation function is called a linear unit. In Adaline, there is only one output unit and output values are bipolar (+1,-1). Weights between the input unit and output unit are adjustable"
   ]
  },
  {
   "cell_type": "markdown",
   "id": "403b7f40",
   "metadata": {},
   "source": [
    "5. What is the constraint of a simple perceptron? Why it may fail with a real-world data set?\n",
    "\n",
    "Perceptron networks have several limitations. First, the output values of a perceptron can take on only one of two values (0 or 1) due to the hard-limit transfer function. Second, perceptrons can only classify linearly separable sets of vectors."
   ]
  },
  {
   "cell_type": "markdown",
   "id": "95bf1a6a",
   "metadata": {},
   "source": [
    "6. What is linearly inseparable problem? What is the role of the hidden layer?\n",
    "\n",
    "The hidden layers are responsible for learning the complex patterns in the data by adjusting the weights between neurons. Without hidden layers, a neural network would only be able to learn linear patterns in the data, which would limit its ability to make accurate predictions."
   ]
  },
  {
   "cell_type": "markdown",
   "id": "d002d2c8",
   "metadata": {},
   "source": [
    "7. Explain XOR problem in case of a simple perceptron.\n",
    "\n",
    "The XOr problem is that we need to build a Neural Network (a perceptron in our case) to produce the truth table related to the XOr logical operator. This is a binary classification problem. Hence, supervised learning is a better way to solve it. In this case, we will be using perceptrons."
   ]
  },
  {
   "cell_type": "markdown",
   "id": "7b8da1f5",
   "metadata": {},
   "source": [
    "8. Design a multi-layer perceptron to implement A XOR B.\n",
    "\n",
    "The XOR problem can be overcome by using a multi-layer perceptron (MLP), also known as a neural network. An MLP consists of multiple layers of perceptrons, allowing it to model more complex, non-linear functions."
   ]
  },
  {
   "cell_type": "markdown",
   "id": "0954ff32",
   "metadata": {},
   "source": [
    "9. Explain the single-layer feed forward architecture of ANN.\n",
    "\n",
    "The output layer is formed when different weights are applied to input nodes and the cumulative effect per node is taken. After this, the neurons collectively give the output layer to compute the output signals"
   ]
  },
  {
   "cell_type": "markdown",
   "id": "992a6077",
   "metadata": {},
   "source": [
    "10. Explain the competitive network architecture of ANN.\n",
    "\n",
    "For a given input, the output neurons compete against themselves to represent the input. It represents a form of an unsupervised learning algorithm in ANN that is suitable to find the clusters in a data set."
   ]
  },
  {
   "cell_type": "markdown",
   "id": "30a11780",
   "metadata": {},
   "source": [
    "11. Consider a multi-layer feed forward neural network. Enumerate and explain steps in the\n",
    "backpropagation algorithm used to train the network.\n",
    "\n",
    "The backpropagation algorithm performs learning on a multilayer feed-forward neural network. It iteratively learns a set of weights for prediction of the class label of tuples. A multilayer feed-forward neural network consists of an input layer, one or more hidden layers, and an output layer"
   ]
  },
  {
   "cell_type": "markdown",
   "id": "52a8ec18",
   "metadata": {},
   "source": [
    "12. What are the advantages and disadvantages of neural networks?\n",
    "\n",
    "The network problem does not immediately corrode. Ability to train machine: Artificial neural networks learn events and make decisions by commenting on similar events. Parallel processing ability: Artificial neural networks have numerical strength that can perform more than one job at the same time."
   ]
  },
  {
   "cell_type": "markdown",
   "id": "443d0966",
   "metadata": {},
   "source": [
    "Biological neuron\n",
    "\n",
    "In the biological systems, a neuron is a cell just like any other cell of the body, which has a DNA code and is generated in the same way as the other cells. Though it might have different DNA, the function is similar in all the organisms"
   ]
  },
  {
   "cell_type": "markdown",
   "id": "47837ac8",
   "metadata": {},
   "source": [
    "ReLU function\n",
    "\n",
    "A rectified linear unit (ReLU) is an activation function that introduces the property of non-linearity to a deep learning model and solves the vanishing gradients issue. \"It interprets the positive part of its argument. It is one of the most popular activation functions in deep learning"
   ]
  }
 ],
 "metadata": {
  "kernelspec": {
   "display_name": "Python 3 (ipykernel)",
   "language": "python",
   "name": "python3"
  },
  "language_info": {
   "codemirror_mode": {
    "name": "ipython",
    "version": 3
   },
   "file_extension": ".py",
   "mimetype": "text/x-python",
   "name": "python",
   "nbconvert_exporter": "python",
   "pygments_lexer": "ipython3",
   "version": "3.9.13"
  }
 },
 "nbformat": 4,
 "nbformat_minor": 5
}
