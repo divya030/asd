{
 "cells": [
  {
   "cell_type": "markdown",
   "id": "cda81693",
   "metadata": {},
   "source": [
    "1. Describe the structure of an artificial neuron. How is it similar to a biological neuron? What\n",
    "are its main components?\n",
    "\n",
    "An artificial neuron is a connection point in an artificial neural network. Artificial neural networks, like the human body's biological neural network, have a layered architecture and each network node (connection point) has the capability to process input and forward output to other nodes in the network."
   ]
  },
  {
   "cell_type": "markdown",
   "id": "939254c0",
   "metadata": {},
   "source": [
    "2. What are the different types of activation functions popularly used? Explain each of them.\n",
    "\n",
    "The basic rule of thumb is if you really don't know what activation function to use, then simply use RELU as it is a general activation function in hidden layers and is used in most cases these days. If your output is for binary classification then, sigmoid function is very natural choice for output layer"
   ]
  },
  {
   "cell_type": "markdown",
   "id": "dc89dda9",
   "metadata": {},
   "source": [
    "Explain the basic structure of a multi-layer perceptron. Explain how it can solve the XOR\n",
    "problem.\n",
    "\n",
    "MLP solves the XOR problem efficiently by visualizing the data points in multi-dimensions and thus constructing an n-variable equation to fit in the output values."
   ]
  },
  {
   "cell_type": "markdown",
   "id": "7650515b",
   "metadata": {},
   "source": [
    "3. What is artificial neural network (ANN)? Explain some of the salient highlights in the\n",
    "different architectural options for ANN.\n",
    "\n",
    "An ANN is based on a collection of connected units or nodes called artificial neurons, which loosely model the neurons in a biological brain. Each connection, like the synapses in a biological brain, can transmit a signal to other neurons."
   ]
  },
  {
   "cell_type": "markdown",
   "id": "567721fc",
   "metadata": {},
   "source": [
    "4. Explain the learning process of an ANN. Explain, with example, the challenge in assigning\n",
    "synaptic weights for the interconnection between neurons? How can this challenge be\n",
    "addressed?\n",
    "\n",
    "deciding the number of hidden layers, the number of nodes in each of the hidden layers, the direction of signal flow, deciding the connection weight."
   ]
  },
  {
   "cell_type": "markdown",
   "id": "08c0e9a2",
   "metadata": {},
   "source": [
    "5. Explain, in details, the backpropagation algorithm. What are the limitations of this\n",
    "algorithm?\n",
    "\n",
    "It prefers a matrix-based approach over a mini-batch approach. Data mining is sensitive to noise and irregularities. Performance is highly dependent on input data."
   ]
  },
  {
   "cell_type": "markdown",
   "id": "858b580d",
   "metadata": {},
   "source": [
    "6. Describe, in details, the process of adjusting the interconnection weights in a multi-layer\n",
    "neural network.\n",
    "\n",
    "Backpropagation is the process of adjusting the weights of a neural network by analyzing the error rate from the previous iteration. Hinted at by its name, backpropagation involves working backward from outputs to inputs to figure out how to reduce the number of errors and make a neural network more reliable."
   ]
  },
  {
   "cell_type": "markdown",
   "id": "07e73e12",
   "metadata": {},
   "source": [
    "7. What are the steps in the backpropagation algorithm? Why a multi-layer neural network is\n",
    "required?\n",
    "\n",
    "Step 1: Inputs X, arrive through the preconnected path. Step 2: The input is modeled using true weights W. Weights are usually chosen randomly. Step 3: Calculate the output of each neuron from the input layer to the hidden layer to the output layer"
   ]
  },
  {
   "cell_type": "markdown",
   "id": "3cec9ea2",
   "metadata": {},
   "source": [
    "Artificial neuron\n",
    "\n",
    "An artificial neuron is a connection point in an artificial neural network. Artificial neural networks, like the human body's biological neural network, have a layered architecture and each network node (connection point) has the capability to process input and forward output to other nodes in the network.\n",
    "\n",
    "Multi-layer perceptron\n",
    "\n",
    "Multi layer perceptron (MLP) is a supplement of feed forward neural network. It consists of three types of layers—the input layer, output layer and hidden layer, as shown in Fig. 3. The input layer receives the input signal to be processed.\n",
    "\n",
    "Deep learning\n",
    "\n",
    "Deep learning is a subset of machine learning, which is essentially a neural network with three or more layers. \n",
    "\n",
    "Learning rate\n",
    "\n",
    "The learning rate, denoted by the symbol α, is a hyper-parameter used to govern the pace at which an algorithm updates or learns the values of a parameter estimate."
   ]
  },
  {
   "cell_type": "markdown",
   "id": "8eb7e71e",
   "metadata": {},
   "source": [
    "Activation function vs threshold function\n",
    "\n",
    "The activation function compares the input value to a threshold value. If the input value is greater than the threshold value, the neuron is activated. It's disabled if the input value is less than the threshold value, which means its output isn't sent on to the next or hidden layer.\n",
    "\n",
    "Step function vs sigmoid function\n",
    "\n",
    "The main difference between the step activation function and the sigmoid activation function is the range of outputs that they produce. The step activation function produces only two outputs, 0 and 1, while the sigmoid activation function produces a continuous range of outputs between 0 and 1.\n",
    "\n",
    "Single layer vs multi-layer perceptron\n",
    "\n",
    "A Multi Layer Perceptron (MLP) contains one or more hidden layers (apart from one input and one output layer). While a single layer perceptron can only learn linear functions, a multi layer perceptron can also learn non - linear functions."
   ]
  }
 ],
 "metadata": {
  "kernelspec": {
   "display_name": "Python 3 (ipykernel)",
   "language": "python",
   "name": "python3"
  },
  "language_info": {
   "codemirror_mode": {
    "name": "ipython",
    "version": 3
   },
   "file_extension": ".py",
   "mimetype": "text/x-python",
   "name": "python",
   "nbconvert_exporter": "python",
   "pygments_lexer": "ipython3",
   "version": "3.9.13"
  }
 },
 "nbformat": 4,
 "nbformat_minor": 5
}
