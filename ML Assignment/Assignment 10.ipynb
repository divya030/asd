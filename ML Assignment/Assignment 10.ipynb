{
 "cells": [
  {
   "cell_type": "markdown",
   "id": "6c93063a",
   "metadata": {},
   "source": [
    "1. Define the Bayesian interpretation of probability.\n",
    "\n",
    "The Bayesian interpretation of probability can be seen as an extension of propositional logic that enables reasoning with hypotheses; that is, with propositions whose truth or falsity is unknown."
   ]
  },
  {
   "cell_type": "markdown",
   "id": "bfb88468",
   "metadata": {},
   "source": [
    "2. Define probability of a union of two events with equation.\n",
    "\n",
    "If two events A and B are not disjoint, then the probability of their union (the event that A or B occurs) is equal to the sum of their probabilities minus the sum of their intersection. P(A) + P(B) - P(A and B)"
   ]
  },
  {
   "cell_type": "markdown",
   "id": "37061784",
   "metadata": {},
   "source": [
    "3. What is joint probability? What is its formula?\n",
    "\n",
    "A joint probability is a possibility of occurring one or more independent events simultaneously, denoted as P (A∩B) or P (A and B). One can calculate it by multiplying the probability of both outcomes = P (A)*P (B)."
   ]
  },
  {
   "cell_type": "markdown",
   "id": "61f552a6",
   "metadata": {},
   "source": [
    "4. What is chain rule of probability?\n",
    "\n",
    " the chain rule (also called the general product rule) describes how to calculate the probability of the intersection of, not necessarily independent, events or the joint distribution of random variables respectively, using conditional probabilities."
   ]
  },
  {
   "cell_type": "markdown",
   "id": "91ace08f",
   "metadata": {},
   "source": [
    "5. What is conditional probability means? What is the formula of it?\n",
    "\n",
    "Conditional probability is known as the possibility of an event or outcome happening, based on the existence of a previous event or outcome. It is calculated by multiplying the probability of the preceding event by the renewed probability of the succeeding, or conditional, event."
   ]
  },
  {
   "cell_type": "markdown",
   "id": "e61e7db8",
   "metadata": {},
   "source": [
    "6. What are continuous random variables?\n",
    "\n",
    "A continuous random variable is one which takes an infinite number of possible values. Continuous random variables are usually measurements. Examples include height, weight, the amount of sugar in an orange, the time required to run a mile"
   ]
  },
  {
   "cell_type": "markdown",
   "id": "04c650cd",
   "metadata": {},
   "source": [
    "7. What are Bernoulli distributions? What is the formula of it?\n",
    "\n",
    "It describes a single trial of a Bernoulli experiment. A closed form of the probability density function of Bernoulli distribution is P ( x ) = p x ( 1 − p ) 1 − x P(x) = p^{x}(1-p)^{1-x} P(x)=px(1−p)1−x"
   ]
  },
  {
   "cell_type": "markdown",
   "id": "acde8da2",
   "metadata": {},
   "source": [
    "8. What is binomial distribution? What is the formula?\n",
    "\n",
    "the probability of k such outcomes in n repetitions is equal to the kth term (where k starts with 0) in the expansion of the binomial expression (p + q)n, where q = 1 − p."
   ]
  },
  {
   "cell_type": "markdown",
   "id": "71d70b94",
   "metadata": {},
   "source": [
    "9. What is Poisson distribution? What is the formula?\n",
    "\n",
    "A random variable is said to have a Poisson distribution with the parameter λ, where “λ” is considered as an expected value of the Poisson distribution. The expected value of the Poisson distribution is given as follows: E(x) = μ = d(eλ(t-1))/dt, at t=1."
   ]
  },
  {
   "cell_type": "markdown",
   "id": "b18f549c",
   "metadata": {},
   "source": [
    "10. Define covariance.\n",
    "\n",
    "covariance is a measure of the relationship between two random variables"
   ]
  },
  {
   "cell_type": "markdown",
   "id": "898217a0",
   "metadata": {},
   "source": [
    "11. Define correlation\n",
    "\n",
    "Correlation is a statistical calculation that indicates that two variables are parallelly related"
   ]
  },
  {
   "cell_type": "markdown",
   "id": "7335efbd",
   "metadata": {},
   "source": [
    "12. Define sampling with replacement. Give example.\n",
    "\n",
    "sampling with replacement, in which a subset of observations are selected randomly, and an observation may be selected more than once.\n",
    "\n",
    "If you are sampling with replacement from the jar, the chance of randomly selecting any 1 of the glass beads is 1/12. After selecting a bead, return it to the jar so that the probability of selecting any of the 12 beads in future sampling doesn't change (1/12)."
   ]
  },
  {
   "cell_type": "markdown",
   "id": "e45305ae",
   "metadata": {},
   "source": [
    "13. What is sampling without replacement? Give example.\n",
    "\n",
    "sampling without replacement, in which a subset of the observations are selected randomly, and once an observation is selected it cannot be selected again. sampling with replacement, in which a subset of observations are selected randomly, and an observation may be selected more than once.\n",
    "\n",
    "Consider the same population of potato sacks, each of which has either 12, 13, 14, 15, 16, 17, or 18 potatoes, and all the values are equally likely. Suppose that, in this population, there is exactly one sack with each number. So the whole population has seven sacks."
   ]
  },
  {
   "cell_type": "markdown",
   "id": "64654a25",
   "metadata": {},
   "source": [
    "14. What is hypothesis? Give example.\n",
    "\n",
    "A simple hypothesis suggests only the relationship between two variables: one independent and one dependent. Examples: If you stay up late, then you feel tired the next day. Turning off your phone makes it charge faster."
   ]
  }
 ],
 "metadata": {
  "kernelspec": {
   "display_name": "Python 3 (ipykernel)",
   "language": "python",
   "name": "python3"
  },
  "language_info": {
   "codemirror_mode": {
    "name": "ipython",
    "version": 3
   },
   "file_extension": ".py",
   "mimetype": "text/x-python",
   "name": "python",
   "nbconvert_exporter": "python",
   "pygments_lexer": "ipython3",
   "version": "3.9.13"
  }
 },
 "nbformat": 4,
 "nbformat_minor": 5
}
