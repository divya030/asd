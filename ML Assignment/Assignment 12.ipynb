{
 "cells": [
  {
   "cell_type": "markdown",
   "id": "77631a64",
   "metadata": {},
   "source": [
    "1. What is prior probability? Give an example.\n",
    "\n",
    "Prior probability shows the likelihood of an outcome in a given dataset. For example, in the mortgage case, P(Y) is the default rate on a home mortgage, which is 2%"
   ]
  },
  {
   "cell_type": "markdown",
   "id": "3af6c025",
   "metadata": {},
   "source": [
    "2. What is posterior probability? Give an example.\n",
    "\n",
    "Posterior probability is a revised probability that takes into account new available information. For example, let there be two urns, urn A having 5 black balls and 10 red balls and urn B having 10 black balls and 5 red balls. Now if an urn is selected at random, the probability that urn A is chosen is 0.5."
   ]
  },
  {
   "cell_type": "markdown",
   "id": "6e74cb93",
   "metadata": {},
   "source": [
    "3. What is likelihood probability? Give an example.\n",
    "\n",
    "The likelihood refers to the probability of observing a specific outcome given a particular model or hypothesis. On the other hand, probability represents the long-term frequency of an event occurring over multiple trials. Let's consider a fair coin toss"
   ]
  },
  {
   "cell_type": "markdown",
   "id": "d7f19903",
   "metadata": {},
   "source": [
    "4. What is Naïve Bayes classifier? Why is it named so?\n",
    "\n",
    "Naive Bayes is called naive because it assumes that each input variable is independent. This is a strong assumption and unrealistic for real data; however, the technique is very effective on a large range of complex problems."
   ]
  },
  {
   "cell_type": "markdown",
   "id": "f31b8798",
   "metadata": {},
   "source": [
    "5. What is optimal Bayes classifier?\n",
    "\n",
    "Bayes Optimal Classifier is a probabilistic framework that finds the most probable prediction using the training data and space of hypotheses to make a prediction for a new data instance.19"
   ]
  },
  {
   "cell_type": "markdown",
   "id": "a95d964a",
   "metadata": {},
   "source": [
    "6. Write any two features of Bayesian learning methods.\n",
    "\n",
    "Features of Bayesian learning methods:\n",
    "– This provides a more flexible approach to learning than algorithms that completely eliminate a hypothesis if it is found to be inconsistent with any single example. – a probability distribution over observed data for each possible hypothesis."
   ]
  },
  {
   "cell_type": "markdown",
   "id": "504b14ea",
   "metadata": {},
   "source": [
    "7. Define the concept of consistent learners.\n",
    "\n",
    "A learner L using a hypothesis H and training data D is said to be a consistent learner if it always outputs a hypothesis with zero error on D whenever H contains such a hypothesis.\n"
   ]
  },
  {
   "cell_type": "markdown",
   "id": "0999d358",
   "metadata": {},
   "source": [
    "8. Write any two strengths of Bayes classifier.\n",
    "\n",
    "Simple to Implement. The conditional probabilities are easy to evaluate.\n",
    "Very fast – no iterations since the probabilities can be directly computed. ...\n",
    "If the conditional Independence assumption holds, it could give great results."
   ]
  },
  {
   "cell_type": "markdown",
   "id": "5ef5efcf",
   "metadata": {},
   "source": [
    "9. Write any two weaknesses of Bayes classifier.\n",
    "\n",
    "In most situations, the feature show some form of dependency. Zero probability problem : When we encounter words in the test data for a particular class that are not present in the training data, we might end up with zero class probabilities"
   ]
  },
  {
   "cell_type": "markdown",
   "id": "c291854b",
   "metadata": {},
   "source": [
    "Text classification\n",
    "\n",
    "Text classification is a machine learning technique that assigns a set of predefined categories to open-ended text. Text classifiers can be used to organize, structure, and categorize pretty much any kind of text – from documents, medical studies and files, and all over the web."
   ]
  },
  {
   "cell_type": "markdown",
   "id": "100678e0",
   "metadata": {},
   "source": [
    "Spam filtering\n",
    "\n",
    "Spam filters are designed to identify emails that attackers or marketers use to send unwanted or dangerous content. They use specific filtering methods to identify the content of emails or their senders and then flag the email as spam."
   ]
  },
  {
   "cell_type": "markdown",
   "id": "0272f55a",
   "metadata": {},
   "source": [
    "Market sentiment analysis\n",
    "\n",
    "Market sentiment is the psychology of players in the overall market or the trade of a particular security. It signifies the attitude or thought process of investors, whether positive or negative, which can affect the future prices of the security or the market in which they are involved."
   ]
  },
  {
   "cell_type": "code",
   "execution_count": null,
   "id": "97272a0f",
   "metadata": {},
   "outputs": [],
   "source": []
  }
 ],
 "metadata": {
  "kernelspec": {
   "display_name": "Python 3 (ipykernel)",
   "language": "python",
   "name": "python3"
  },
  "language_info": {
   "codemirror_mode": {
    "name": "ipython",
    "version": 3
   },
   "file_extension": ".py",
   "mimetype": "text/x-python",
   "name": "python",
   "nbconvert_exporter": "python",
   "pygments_lexer": "ipython3",
   "version": "3.9.13"
  }
 },
 "nbformat": 4,
 "nbformat_minor": 5
}
