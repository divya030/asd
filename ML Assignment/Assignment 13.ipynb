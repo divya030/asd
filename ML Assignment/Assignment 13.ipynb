{
 "cells": [
  {
   "cell_type": "markdown",
   "id": "9b54212e",
   "metadata": {},
   "source": [
    "1. Provide an example of the concepts of Prior, Posterior, and Likelihood.\n",
    "\n",
    "Prior: Probability distribution representing knowledge or uncertainty of a data object prior or before observing it. Posterior: Conditional probability distribution representing what parameters are likely after observing the data object. Likelihood: The probability of falling under a specific category or class."
   ]
  },
  {
   "cell_type": "markdown",
   "id": "ec711237",
   "metadata": {},
   "source": [
    "2. What role does Bayes&#39; theorem play in the concept learning principle?\n",
    "\n",
    "The Bayes theorem is frequently referred to as the Bayes rule or Bayes Law. One of the most well-known theories in machine learning, the Bayes theorem helps determine the likelihood that one event will occur with unclear information while another has already happened.\n"
   ]
  },
  {
   "cell_type": "markdown",
   "id": "281ecf42",
   "metadata": {},
   "source": [
    "3. Offer an example of how the Nave Bayes classifier is used in real life.\n",
    "\n",
    "It is derived from Bayes' probability theory and is used for text classification, where you train high-dimensional datasets. Some best examples of the Naive Bayes Algorithm are sentimental analysis, classifying new articles, and spam filtration."
   ]
  },
  {
   "cell_type": "markdown",
   "id": "e24cc08a",
   "metadata": {},
   "source": [
    "4. Can the Nave Bayes classifier be used on continuous numeric data? If so, how can you go about\n",
    "doing it?\n",
    "\n",
    "In case of continuous data, we need to make some assumptions regarding the distribution of values of each feature. The different naive Bayes classifiers differ mainly by the assumptions they make regarding the distribution of P(xi | y). Now, we discuss one of such classifiers here."
   ]
  },
  {
   "cell_type": "markdown",
   "id": "0d7bae09",
   "metadata": {},
   "source": [
    "5. What are Bayesian Belief Networks, and how do they work? What are their applications? Are they\n",
    "capable of resolving a wide range of issues?\n",
    "\n",
    "A Bayesian network is a type of graphical model that uses probability to determine the occurrence of an event. It is also known as a belief network or a causal network. It consists of directed cyclic graphs (DCGs) and a table of conditional probabilities to find out the probability of an event happening."
   ]
  }
 ],
 "metadata": {
  "kernelspec": {
   "display_name": "Python 3 (ipykernel)",
   "language": "python",
   "name": "python3"
  },
  "language_info": {
   "codemirror_mode": {
    "name": "ipython",
    "version": 3
   },
   "file_extension": ".py",
   "mimetype": "text/x-python",
   "name": "python",
   "nbconvert_exporter": "python",
   "pygments_lexer": "ipython3",
   "version": "3.9.13"
  }
 },
 "nbformat": 4,
 "nbformat_minor": 5
}
