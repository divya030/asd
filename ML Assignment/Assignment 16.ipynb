{
 "cells": [
  {
   "cell_type": "markdown",
   "id": "ae06e59d",
   "metadata": {},
   "source": [
    "1. In a linear equation, what is the difference between a dependent variable and an independent\n",
    "variable?\n",
    "\n",
    "The independent variable is the cause. Its value is independent of other variables in your study. The dependent variable is the effect. Its value depends on changes in the independent variable."
   ]
  },
  {
   "cell_type": "markdown",
   "id": "76abd828",
   "metadata": {},
   "source": [
    "2. What is the concept of simple linear regression? Give a specific example.\n",
    "\n",
    "Simple linear regression is used to estimate the relationship between two quantitative variables. You can use simple linear regression when you want to know: How strong the relationship is between two variables (e.g., the relationship between rainfall and soil erosion)."
   ]
  },
  {
   "cell_type": "markdown",
   "id": "38c2bc32",
   "metadata": {},
   "source": [
    "3. In a linear regression, define the slope.\n",
    "\n",
    "In a regression line passing through a set of data points in data sets Argument1 and Argument2, the slope is the vertical distance divided by the horizontal distance between any two points on the line. This ratio is also known as the rate of change along the line."
   ]
  },
  {
   "cell_type": "markdown",
   "id": "a40e6eee",
   "metadata": {},
   "source": [
    "5. In linear regression, what are the conditions for a positive slope?\n",
    "\n",
    " if the slope is positive, y increases as x increases, and the function runs \"uphill\" (going left to right). If the slope is negative, y decreases as x increases and the function runs downhill. If the slope is zero, y does not change, thus is constant—a horizontal line."
   ]
  },
  {
   "cell_type": "markdown",
   "id": "fb32f56b",
   "metadata": {},
   "source": [
    "6. In linear regression, what are the conditions for a negative slope?\n",
    "\n",
    "If the slope is negative, y decreases as x increases and the function runs downhill. If the slope is zero, y does not change, thus is constant—a horizontal line."
   ]
  },
  {
   "cell_type": "markdown",
   "id": "40639b9c",
   "metadata": {},
   "source": [
    "7. What is multiple linear regression and how does it work?\n",
    "\n",
    "Multiple linear regression refers to a statistical technique that uses two or more independent variables to predict the outcome of a dependent variable. "
   ]
  },
  {
   "cell_type": "markdown",
   "id": "76a59109",
   "metadata": {},
   "source": [
    "8. In multiple linear regression, define the number of squares due to error.\n",
    "\n",
    "The Mean Squared Error measures how close a regression line is to a set of data points. It is a risk function corresponding to the expected value of the squared error loss. Mean square error is calculated by taking the average, specifically the mean, of errors squared from data as it relates to a function."
   ]
  },
  {
   "cell_type": "markdown",
   "id": "afe58fa4",
   "metadata": {},
   "source": [
    "9. In multiple linear regression, define the number of squares due to regression.\n",
    "\n",
    "Multiple linear regression refers to a statistical technique that uses two or more independent variables to predict the outcome of a dependent variable. The technique enables analysts to determine the variation of the model and the relative contribution of each independent variable in the total variance."
   ]
  },
  {
   "cell_type": "markdown",
   "id": "78584147",
   "metadata": {},
   "source": [
    "In a regression equation, what is multicollinearity?\n",
    "\n",
    "Multicollinearity occurs when two or more independent variables have a high correlation with one another in a regression model, which makes it difficult to determine the individual effect of each independent variable on the dependent variable"
   ]
  },
  {
   "cell_type": "markdown",
   "id": "2a04b1c3",
   "metadata": {},
   "source": [
    "11. What is heteroskedasticity, and what does it mean?\n",
    "\n",
    "Heteroskedasticity means that the variance of the errors is not constant across observations. • In particular the variance of the errors may be a function of explanatory variables."
   ]
  },
  {
   "cell_type": "markdown",
   "id": "e3d93c49",
   "metadata": {},
   "source": [
    "12. Describe the concept of ridge regression.\n",
    "\n",
    "Ridge regression is a model tuning method that is used to analyse any data that suffers from multicollinearity. This method performs L2 regularization. When the issue of multicollinearity occurs, least-squares are unbiased, and variances are large, this results in predicted values being far away from the actual values."
   ]
  },
  {
   "cell_type": "markdown",
   "id": "57f4169d",
   "metadata": {},
   "source": [
    "13. Describe the concept of lasso regression.\n",
    "\n",
    "LASSO regression, also known as L1 regularization, is a popular technique used in statistical modeling and machine learning to estimate the relationships between variables and make predictions. LASSO stands for Least Absolute Shrinkage and Selection Operator.m"
   ]
  },
  {
   "cell_type": "markdown",
   "id": "701cb655",
   "metadata": {},
   "source": [
    "14. What is polynomial regression and how does it work?\n",
    "\n",
    "A polynomial regression model is a machine learning model that can capture non-linear relationships between variables by fitting a non-linear regression line, which may not be possible with simple linear regression. It is used when linear regression models may not adequately capture the complexity of the relationship"
   ]
  },
  {
   "cell_type": "markdown",
   "id": "f760c683",
   "metadata": {},
   "source": [
    "15. Describe the basis function.\n",
    "\n",
    "a basis function is an element of a particular basis for a function space. Every function in the function space can be represented as a linear combination of basis functions, just as every vector in a vector space can be represented as a linear combination of basis vectors."
   ]
  },
  {
   "cell_type": "markdown",
   "id": "a2a060fb",
   "metadata": {},
   "source": [
    "16. Describe how logistic regression works.\n",
    "\n",
    "Logistic regression is a data analysis technique that uses mathematics to find the relationships between two data factors. It then uses this relationship to predict the value of one of those factors based on the other. The prediction usually has a finite number of outcomes, like yes or no."
   ]
  }
 ],
 "metadata": {
  "kernelspec": {
   "display_name": "Python 3 (ipykernel)",
   "language": "python",
   "name": "python3"
  },
  "language_info": {
   "codemirror_mode": {
    "name": "ipython",
    "version": 3
   },
   "file_extension": ".py",
   "mimetype": "text/x-python",
   "name": "python",
   "nbconvert_exporter": "python",
   "pygments_lexer": "ipython3",
   "version": "3.9.13"
  }
 },
 "nbformat": 4,
 "nbformat_minor": 5
}
