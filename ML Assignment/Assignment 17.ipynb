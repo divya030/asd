{
 "cells": [
  {
   "cell_type": "markdown",
   "id": "adcbccaf",
   "metadata": {},
   "source": [
    "1. Using a graph to illustrate slope and intercept, define basic linear regression.\n",
    "\n",
    "A linear regression line has an equation of the form Y = a + bX, where X is the explanatory variable and Y is the dependent variable. The slope of the line is b, and a is the intercep"
   ]
  },
  {
   "cell_type": "markdown",
   "id": "7e4015b7",
   "metadata": {},
   "source": [
    "2. In a graph, explain the terms rise, run, and slope.\n",
    "\n",
    "The vertical change between two points is called the rise, and the horizontal change is called the run. The slope equals the rise divided by the run: Slope =riserun Slope = rise run ."
   ]
  },
  {
   "cell_type": "markdown",
   "id": "43de9a95",
   "metadata": {},
   "source": [
    "3. Use a graph to demonstrate slope, linear positive slope, and linear negative slope, as well as the\n",
    "different conditions that contribute to the slope.\n",
    "\n",
    "With positive slope the line moves upward when going from left to right. With negative slope the line moves down when going from left to right. If two linear functions have the same slope they are parallel. The slope of a linear function is the same no matter where on the line it is measured."
   ]
  },
  {
   "cell_type": "markdown",
   "id": "5112f68e",
   "metadata": {},
   "source": [
    "5. Use a graph to show the maximum and low points of curves.\n",
    "\n",
    "To find the maximum/minimum of a curve you must first differentiate the function and then equate it to zero. This gives you one coordinate. To find the other you must resubstitute the one already found into the original function."
   ]
  },
  {
   "cell_type": "markdown",
   "id": "0f38e014",
   "metadata": {},
   "source": [
    "7. Provide a step-by-step explanation of the OLS algorithm.\n",
    "\n",
    "It consists of 3 stages – (1) analyzing the correlation and directionality of the data, (2) estimating the model, i.e., fitting the line, and (3) evaluating the validity and usefulness of the model."
   ]
  },
  {
   "cell_type": "markdown",
   "id": "0c2636c9",
   "metadata": {},
   "source": [
    "8. What is the regression&#39;s standard error? To represent the same, make a graph.\n",
    "\n",
    "The standard error of the regression (S), also known as the standard error of the estimate, represents the average distance that the observed values fall from the regression line. Conveniently, it tells you how wrong the regression model is on average using the units of the response variable."
   ]
  },
  {
   "cell_type": "markdown",
   "id": "3942eb6a",
   "metadata": {},
   "source": [
    "9. Provide an example of multiple linear regression.\n",
    "\n",
    "Multiple Linear Regression is one of the important regression algorithms which models the linear relationship between a single dependent continuous variable and more than one independent variable. Example: Prediction of CO2 emission based on engine size and number of cylinders in a car."
   ]
  },
  {
   "cell_type": "markdown",
   "id": "02724c64",
   "metadata": {},
   "source": [
    "10. Describe the regression analysis assumptions and the BLUE principle.\n",
    "\n",
    "The chosen sample is representative of the population. There is a linear relationship between the independent variable(s) and the dependent variable. All the variables are normally distributed; to check, plot a histogram of the residuals."
   ]
  },
  {
   "cell_type": "markdown",
   "id": "717dd46f",
   "metadata": {},
   "source": [
    "11. Describe two major issues with regression analysis.\n",
    "\n",
    "Heteroskedasticity: variance of error term is not constant. F-test is unreliable. Standard error underestimated."
   ]
  },
  {
   "cell_type": "markdown",
   "id": "a1e5f00c",
   "metadata": {},
   "source": [
    "12. How can the linear regression model&#39;s accuracy be improved?\n",
    "\n",
    "There are several ways to increase the accuracy of a regression model, such as collecting more data, relevant feature selection, feature scaling, regularization, cross-validation, hyperparameter tuning, adjusting the learning rate, and ensemble methods like bagging, boosting, and stacking."
   ]
  },
  {
   "cell_type": "markdown",
   "id": "980dfb74",
   "metadata": {},
   "source": [
    "13. Using an example, describe the polynomial regression model in detail.\n",
    "\n",
    "In polynomial regression, we describe the relationship between the independent variable x and the dependent variable y using an nth-degree polynomial in x."
   ]
  },
  {
   "cell_type": "markdown",
   "id": "31de510b",
   "metadata": {},
   "source": [
    "14. Provide a detailed explanation of logistic regression.\n",
    "\n",
    "Logistic regression is a data analysis technique that uses mathematics to find the relationships between two data factors. It then uses this relationship to predict the value of one of those factors based on the other. The prediction usually has a finite number of outcomes, like yes or no."
   ]
  },
  {
   "cell_type": "markdown",
   "id": "b4b01cd7",
   "metadata": {},
   "source": [
    "15. What are the logistic regression assumptions?\n",
    "\n",
    "The logistic regression method assumes that: The outcome is a binary or dichotomous variable like yes vs no, positive vs negative, 1 vs 0. There is a linear relationship between the logit of the outcome and each predictor variables."
   ]
  },
  {
   "cell_type": "markdown",
   "id": "3eda7c38",
   "metadata": {},
   "source": [
    "16. Go through the details of maximum likelihood estimation.\n",
    "\n",
    "In statistics, maximum likelihood estimation (MLE) is a method of estimating the parameters of an assumed probability distribution, given some observed data."
   ]
  }
 ],
 "metadata": {
  "kernelspec": {
   "display_name": "Python 3 (ipykernel)",
   "language": "python",
   "name": "python3"
  },
  "language_info": {
   "codemirror_mode": {
    "name": "ipython",
    "version": 3
   },
   "file_extension": ".py",
   "mimetype": "text/x-python",
   "name": "python",
   "nbconvert_exporter": "python",
   "pygments_lexer": "ipython3",
   "version": "3.9.13"
  }
 },
 "nbformat": 4,
 "nbformat_minor": 5
}
