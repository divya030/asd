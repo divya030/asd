{
 "cells": [
  {
   "cell_type": "markdown",
   "id": "17fc74a3",
   "metadata": {},
   "source": [
    "1. What is the difference between supervised and unsupervised learning? Give some examples to\n",
    "illustrate your point.\n",
    "\n",
    "There is less computational complexity in Unsupervised Learning when compared to Supervised Learning. Unsupervised Learning uses Real time analysis of data. Some of the applications of Supervised Learning are Spam detection, handwriting detection, pattern recognition, speech recognition etc."
   ]
  },
  {
   "cell_type": "markdown",
   "id": "66f44ce3",
   "metadata": {},
   "source": [
    "2. Mention a few unsupervised learning applications.\n",
    "\n",
    "Some applications of unsupervised learning include natural language processing, image and video analysis, anomaly detection, customer segmentation, and recommendation engines."
   ]
  },
  {
   "cell_type": "markdown",
   "id": "7437a2d8",
   "metadata": {},
   "source": [
    "3. What are the three main types of clustering methods? Briefly describe the characteristics of each.\n",
    "\n",
    "The major types of cluster analysis are Centroid Based/ Partition Clustering, Hierarchical Based Clustering, Distribution Based Clustering, Density-Based Clustering, and Fuzzy Based Clustering."
   ]
  },
  {
   "cell_type": "markdown",
   "id": "2b14fc9c",
   "metadata": {},
   "source": [
    "4. Explain how the k-means algorithm determines the consistency of clustering.\n",
    "\n",
    "A big problem with k-means clustering is its consistency. k-means isn't very consistent due to its random initialization. The algorithm can produce very different results depending on where you initialize the cluster centers. In the GIF above the same model as before but with different initialization"
   ]
  },
  {
   "cell_type": "markdown",
   "id": "6359f86b",
   "metadata": {},
   "source": [
    "5. With a simple illustration, explain the key difference between the k-means and k-medoids\n",
    "algorithms.\n",
    "\n",
    "K-means focuses on reducing the sum of squared distances, also known as the sum of squared error (SSE). K-medoids focuses on reducing the dissimilarities between clusters of data from the dataset. K-means uses Euclidean distance."
   ]
  },
  {
   "cell_type": "markdown",
   "id": "622243b8",
   "metadata": {},
   "source": [
    "6. What is a dendrogram, and how does it work? Explain how to do it.\n",
    "\n",
    "A dendrogram is a diagram that shows the hierarchical relationship between objects. It is most commonly created as an output from hierarchical clustering. The main use of a dendrogram is to work out the best way to allocate objects to clusters."
   ]
  },
  {
   "cell_type": "markdown",
   "id": "13d7c15a",
   "metadata": {},
   "source": [
    "7. What exactly is SSE? What role does it play in the k-means algorithm?\n",
    "\n",
    "Sum of Squared Errors (SSE): This measures the sum of the squared distances between each data point and its assigned centroid. Silhouette Coefficient: This measures the similarity of a data point to its own cluster compared to other clusters."
   ]
  },
  {
   "cell_type": "markdown",
   "id": "5bb3db3f",
   "metadata": {},
   "source": [
    "8. With a step-by-step algorithm, explain the k-means procedure.\n",
    "\n",
    "Step-1: Select the number K to decide the number of clusters. Step-2: Select random K points or centroids. (It can be other from the input dataset). Step-3: Assign each data point to their closest centroid, which will form the predefined K clusters."
   ]
  },
  {
   "cell_type": "markdown",
   "id": "4d6a315e",
   "metadata": {},
   "source": [
    "9. In the sense of hierarchical clustering, define the terms single link and complete link.\n",
    "\n",
    "In Single Linkage, the distance between two clusters is the minimum distance between members of the two clusters. In Complete Linkage, the distance between two clusters is the maximum distance between members of the two clusters."
   ]
  },
  {
   "cell_type": "markdown",
   "id": "25ee8632",
   "metadata": {},
   "source": [
    "10. How does the apriori concept aid in the reduction of measurement overhead in a business\n",
    "basket analysis? Give an example to demonstrate your point.\n",
    "\n",
    "It identifies the items in a data set and further extends them to larger and larger item sets. However, the Apriori Algorithm only extends if the item sets are frequent, that is the probability of the itemset is beyond a certain predetermined threshold."
   ]
  }
 ],
 "metadata": {
  "kernelspec": {
   "display_name": "Python 3 (ipykernel)",
   "language": "python",
   "name": "python3"
  },
  "language_info": {
   "codemirror_mode": {
    "name": "ipython",
    "version": 3
   },
   "file_extension": ".py",
   "mimetype": "text/x-python",
   "name": "python",
   "nbconvert_exporter": "python",
   "pygments_lexer": "ipython3",
   "version": "3.9.13"
  }
 },
 "nbformat": 4,
 "nbformat_minor": 5
}
