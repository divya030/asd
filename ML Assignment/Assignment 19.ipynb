{
 "cells": [
  {
   "cell_type": "markdown",
   "id": "bfbb8790",
   "metadata": {},
   "source": [
    "Describe how the Market Basket Research makes use of association analysis concepts.\n",
    "\n",
    "In market basket analysis, association rules are used to predict the likelihood of products being purchased together. Association rules count the frequency of items that occur together, seeking to find associations that occur far more often than expected."
   ]
  },
  {
   "cell_type": "markdown",
   "id": "5a868030",
   "metadata": {},
   "source": [
    "3. Give an example of the Apriori algorithm for learning association rules.\n",
    "\n",
    "Apriori is an algorithm for frequent item set mining and association rule learning over relational databases. It proceeds by identifying the frequent individual items in the database and extending them to larger and larger item sets as long as those item sets appear sufficiently often in the database."
   ]
  },
  {
   "cell_type": "markdown",
   "id": "52ba9687",
   "metadata": {},
   "source": [
    "4. In hierarchical clustering, how is the distance between clusters measured? Explain how this metric\n",
    "is used to decide when to end the iteration.\n",
    "\n",
    "For most common hierarchical clustering software, the default distance measure is the Euclidean distance. This is the square root of the sum of the square differences. However, for gene expression, correlation distance is often used."
   ]
  },
  {
   "cell_type": "markdown",
   "id": "f6d28085",
   "metadata": {},
   "source": [
    "5. In the k-means algorithm, how do you recompute the cluster centroids?\n",
    "\n",
    "Select centroids. These will be the center point for each segment.\n",
    "\n",
    "Assign data points to nearest centroid.\n",
    "\n",
    "Reassign centroid value to be the calculated mean value for each cluster.\n",
    "\n",
    "Reassign data points to nearest centroid.\n",
    "\n",
    "Repeat until data points stay in the same cluster."
   ]
  },
  {
   "cell_type": "markdown",
   "id": "372744f4",
   "metadata": {},
   "source": [
    "6. At the start of the clustering exercise, discuss one method for determining the required number of\n",
    "clusters.\n",
    "\n",
    "The total WSS measures the compactness of the clustering and we want it to be as small as possible. The Elbow method looks at the total WSS as a function of the number of clusters: One should choose a number of clusters so that adding another cluster doesn't improve much better the total WSS."
   ]
  },
  {
   "cell_type": "markdown",
   "id": "f6af7d27",
   "metadata": {},
   "source": [
    "7. Discuss the k-means algorithm&#39;s advantages and disadvantages.\n",
    "\n",
    "k-means has trouble clustering data where clusters are of varying sizes and density. To cluster such data, you need to generalize k-means as described in the Advantages section. Clustering outliers. Centroids can be dragged by outliers, or outliers might get their own cluster instead of being ignored."
   ]
  },
  {
   "cell_type": "markdown",
   "id": "207a1e32",
   "metadata": {},
   "source": [
    "8. Draw a diagram to demonstrate the principle of clustering.\n",
    "\n",
    "The basic criterion for any clustering is distance. Objects that are near each other should belong to the same cluster, and objects that are far from each other should belong to different clusters."
   ]
  },
  {
   "cell_type": "code",
   "execution_count": null,
   "id": "c76438f4",
   "metadata": {},
   "outputs": [],
   "source": []
  }
 ],
 "metadata": {
  "kernelspec": {
   "display_name": "Python 3 (ipykernel)",
   "language": "python",
   "name": "python3"
  },
  "language_info": {
   "codemirror_mode": {
    "name": "ipython",
    "version": 3
   },
   "file_extension": ".py",
   "mimetype": "text/x-python",
   "name": "python",
   "nbconvert_exporter": "python",
   "pygments_lexer": "ipython3",
   "version": "3.9.13"
  }
 },
 "nbformat": 4,
 "nbformat_minor": 5
}
