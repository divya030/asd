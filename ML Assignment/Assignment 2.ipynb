{
 "cells": [
  {
   "cell_type": "markdown",
   "id": "973edd6e",
   "metadata": {},
   "source": [
    "1. What is the concept of human learning? Please give two examples.\n",
    "\n",
    "All human learning is — observing something, identifying a pattern, building a theory (model) to explain this pattern and testing this theory to check if its fits in most or all observations."
   ]
  },
  {
   "cell_type": "markdown",
   "id": "cbd14087",
   "metadata": {},
   "source": [
    "2. What different forms of human learning are there? Are there any machine learning equivalents?\n",
    "\n",
    "Reinforcement learning is the closest machine learning type to how humans learn. The algorithm or agent used learns by interacting with its environment and getting a positive or negative reward. Common algorithms include temporal difference, deep adversarial networks, and Q-learning"
   ]
  },
  {
   "cell_type": "markdown",
   "id": "a6abf228",
   "metadata": {},
   "source": [
    "3. What is machine learning, and how does it work? What are the key responsibilities of machine\n",
    "learning?\n",
    "\n",
    "Machine learning algorithms use computational methods to “learn” information directly from data without relying on a predetermined equation as a model. The algorithms adaptively improve their performance as the number of samples available for learning increases. Deep learning is a specialized form of machine learning."
   ]
  },
  {
   "cell_type": "markdown",
   "id": "62048c0c",
   "metadata": {},
   "source": [
    "4. Define the terms &quot;penalty&quot; and &quot;reward&quot; in the context of reinforcement learning.\n",
    "\n",
    "This type of machine learning uses a reward-penalty method to teach an AI system. If it makes the right move, it gets rewarded. If it makes a mistake, it receives a penalty. In other words, reinforcement learning forces a system to learn and adapt quickly, or it otherwise loses serious numerical rewards."
   ]
  },
  {
   "cell_type": "markdown",
   "id": "6bec911b",
   "metadata": {},
   "source": [
    "5. Explain the term &quot;learning as a search&quot;?\n",
    "\n",
    "Learning can be viewed as a search through the space of all sentences in a concept description language for a sentence that best describes the data. Alternatively, it can be viewed as a search through all hypotheses in a hypothesis space."
   ]
  },
  {
   "cell_type": "markdown",
   "id": "7828e5af",
   "metadata": {},
   "source": [
    "6. What are the various goals of machine learning? What is the relationship between these and\n",
    "human learning?\n",
    "\n",
    "To make the computers smarter, more intelligent. The more direct objective in this aspect is to develop systems (programs) for specific practical learning tasks in application domains. (2) To dev elop computational models of human learning process and perform computer simulations."
   ]
  },
  {
   "cell_type": "markdown",
   "id": "bdba2a4f",
   "metadata": {},
   "source": [
    "7. Illustrate the various elements of machine learning using a real-life illustration.\n",
    "\n",
    "\n",
    "1. Data\n",
    "\n",
    "2. Defining a Task\n",
    "\n",
    "3. Applying Model\n",
    "\n",
    "4. Calculating Loss\n",
    "\n",
    "5. Learning Algorithm\n",
    "\n",
    "6. Evaluation"
   ]
  },
  {
   "cell_type": "markdown",
   "id": "ed8a4db3",
   "metadata": {},
   "source": [
    "8. Provide an example of the abstraction method.\n",
    "\n",
    "Your car is a great example of abstraction. You can start a car by turning the key or pressing the start button. You don't need to know how the engine is getting started, what all components your car has. The car internal implementation and complex logic is completely hidden from the user"
   ]
  },
  {
   "cell_type": "markdown",
   "id": "f48c4b81",
   "metadata": {},
   "source": [
    "9. What is the concept of generalization? What function does it play in the machine learning\n",
    "process?\n",
    "\n",
    "Generalization refers to your model's ability to adapt properly to new, previously unseen data, drawn from the same distribution as the one used to create the model. Develop intuition about overfitting. Determine whether a model is good or not. Divide a data set into a training set and a test set."
   ]
  },
  {
   "cell_type": "markdown",
   "id": "39db4a42",
   "metadata": {},
   "source": [
    "11. What is regression, and how does it work? Give an example of a real-world problem that was\n",
    "solved using regression.\n",
    "\n",
    "A regression is a statistical technique that relates a dependent variable to one or more independent (explanatory) variables. A regression model is able to show whether changes observed in the dependent variable are associated with changes in one or more of the explanatory variables."
   ]
  },
  {
   "cell_type": "markdown",
   "id": "39572bb8",
   "metadata": {},
   "source": [
    "12. Describe the clustering mechanism in detail.\n",
    "\n",
    "Cluster analysis or clustering is the task of grouping a set of objects in such a way that objects in the same group (called a cluster) are more similar (in some sense) to each other than to those in other groups (clusters)."
   ]
  },
  {
   "cell_type": "markdown",
   "id": "aa418613",
   "metadata": {},
   "source": [
    "13. Make brief observations on two of the following topics:\n",
    "    \n",
    "i. Machine learning algorithms are used\n",
    "    \n",
    "    \n",
    "In the real world, machine learning algorithms are used on massive datasets to perform a range of prediction tasks, such as powering recommendation engines and performing spam and fraud detection, risk assessments, image and text classification, natural language processing, sentiment analysis, and so much more"
   ]
  },
  {
   "cell_type": "markdown",
   "id": "98aad81e",
   "metadata": {},
   "source": [
    "ii. Studying under supervision\n",
    "\n",
    "Reinforcement learning is an autonomous, self-teaching system that essentially learns by trial and error. It performs actions with the aim of maximizing rewards, or in other words, it is learning by doing in order to achieve the best outcomes."
   ]
  }
 ],
 "metadata": {
  "kernelspec": {
   "display_name": "Python 3 (ipykernel)",
   "language": "python",
   "name": "python3"
  },
  "language_info": {
   "codemirror_mode": {
    "name": "ipython",
    "version": 3
   },
   "file_extension": ".py",
   "mimetype": "text/x-python",
   "name": "python",
   "nbconvert_exporter": "python",
   "pygments_lexer": "ipython3",
   "version": "3.9.13"
  }
 },
 "nbformat": 4,
 "nbformat_minor": 5
}
