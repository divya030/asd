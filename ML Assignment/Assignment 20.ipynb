{
 "cells": [
  {
   "cell_type": "markdown",
   "id": "642b28d1",
   "metadata": {},
   "source": [
    "1. What is the underlying concept of Support Vector Machines?\n",
    "\n",
    "The key idea behind SVMs is to transform the input data into a higher-dimensional feature space. This transformation makes it easier to find a linear separation or to more effectively classify the data set."
   ]
  },
  {
   "cell_type": "markdown",
   "id": "cbf6c457",
   "metadata": {},
   "source": [
    "2. What is the concept of a support vector?\n",
    "\n",
    "A support vector is a data point or node lying closest to the decision boundary or hyperplane. These points play a vital role in defining the decision boundary and the margin of separation."
   ]
  },
  {
   "cell_type": "markdown",
   "id": "3f9b7780",
   "metadata": {},
   "source": [
    "3. When using SVMs, why is it necessary to scale the inputs?\n",
    "\n",
    "In Support Vector Machines (SVM), feature scaling or normalization are not strictly required, but are highly recommended, as it can significantly improve model performance and convergence speed. SVM tries to find the optimal hyperplane that separates the data points of different classes with the maximum margin"
   ]
  },
  {
   "cell_type": "markdown",
   "id": "616584fa",
   "metadata": {},
   "source": [
    "4. When an SVM classifier classifies a case, can it output a confidence score? What about a\n",
    "percentage chance?\n",
    "\n",
    "An SVM classifier can output the distance between the test instance and the decision boundary, and you can use this as a confidence score. However, this score cannot be directly converted into an estimation of the class probability."
   ]
  },
  {
   "cell_type": "markdown",
   "id": "cd6330cf",
   "metadata": {},
   "source": [
    "5. Should you train a model on a training set with millions of instances and hundreds of features\n",
    "using the primal or dual form of the SVM problem?\n",
    "\n",
    "So if there are millions of instances, you should definitely use the primal form, because the dual form will be much too slow. Say you trained an SVM classifier with an RBF kernel."
   ]
  },
  {
   "cell_type": "markdown",
   "id": "4fb3f06a",
   "metadata": {},
   "source": [
    "6. Let&#39;s say you&#39;ve used an RBF kernel to train an SVM classifier, but it appears to underfit the\n",
    "training collection. Is it better to raise or lower (gamma)? What about the letter C?\n",
    "\n",
    "When gamma is very small, the model is too constrained and cannot capture the complexity or “shape” of the data. The region of influence of any selected support vector would include the whole training set."
   ]
  },
  {
   "cell_type": "markdown",
   "id": "88a1eddf",
   "metadata": {},
   "source": [
    "8. On a linearly separable dataset, train a LinearSVC. Then, using the same dataset, train an SVC and\n",
    "an SGDClassifier. See if you can get them to make a model that is similar to yours.\n",
    "\n",
    "LinearSVM uses the full data and solve a convex optimization problem with respect to these data points. SGDClassifier can treat the data in batches and performs a gradient descent aiming to minimize expected loss with respect to the sample distribution, assuming that the examples are iid samples of that distribution"
   ]
  }
 ],
 "metadata": {
  "kernelspec": {
   "display_name": "Python 3 (ipykernel)",
   "language": "python",
   "name": "python3"
  },
  "language_info": {
   "codemirror_mode": {
    "name": "ipython",
    "version": 3
   },
   "file_extension": ".py",
   "mimetype": "text/x-python",
   "name": "python",
   "nbconvert_exporter": "python",
   "pygments_lexer": "ipython3",
   "version": "3.9.13"
  }
 },
 "nbformat": 4,
 "nbformat_minor": 5
}
