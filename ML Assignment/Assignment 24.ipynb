{
 "cells": [
  {
   "cell_type": "markdown",
   "id": "c05a4842",
   "metadata": {},
   "source": [
    "1. What is your definition of clustering? What are a few clustering algorithms you might think of?\n",
    "\n",
    "The method of identifying similar groups of data in a large dataset is called clustering or cluster analysis. It is one of the most popular clustering techniques in data science used by data scientists. Entities in each group are comparatively more similar to entities of that group than those of the other groups"
   ]
  },
  {
   "cell_type": "markdown",
   "id": "6f085331",
   "metadata": {},
   "source": [
    "2. What are some of the most popular clustering algorithm applications?\n",
    "\n",
    "The most common use of cluster analysis is classification. Subjects are separated into groups so that each subject is more similar to other subjects in its group than to subjects outside the group."
   ]
  },
  {
   "cell_type": "markdown",
   "id": "37c5abbe",
   "metadata": {},
   "source": [
    "3. When using K-Means, describe two strategies for selecting the appropriate number of clusters.\n",
    "\n",
    "For each k, calculate the total within-cluster sum of square (wss). Plot the curve of wss according to the number of clusters k. The location of a bend (knee) in the plot is generally considered as an indicator of the appropriate number of clusters."
   ]
  },
  {
   "cell_type": "markdown",
   "id": "3b589329",
   "metadata": {},
   "source": [
    "4. What is mark propagation and how does it work? Why would you do it, and how would you do it?\n",
    "\n",
    "Backpropagation is a process involved in training a neural network. It involves taking the error rate of a forward propagation and feeding this loss backward through the neural network layers to fine-tune the weights. Backpropagation is the essence of neural net training.\n"
   ]
  },
  {
   "cell_type": "markdown",
   "id": "259a4629",
   "metadata": {},
   "source": [
    "5. Provide two examples of clustering algorithms that can handle large datasets. And two that look\n",
    "for high-density areas?\n",
    "\n",
    "Density-based\n",
    "In density-based clustering, data is grouped by areas of high concentrations of data points surrounded by areas of low concentrations of data points. Basically the algorithm finds the places that are dense with data points and calls those clusters.\n",
    "\n",
    "Distribution-based\n",
    "With a distribution-based clustering approach, all of the data points are considered parts of a cluster based on the probability that they belong to a given cluster.\n",
    "\n",
    "Centroid-based\n",
    "Centroid-based clustering is the one you probably hear about the most. It's a little sensitive to the initial parameters you give it, but it's fast and efficient."
   ]
  },
  {
   "cell_type": "markdown",
   "id": "7c5d8cec",
   "metadata": {},
   "source": [
    "6. Can you think of a scenario in which constructive learning will be advantageous? How can you go\n",
    "about putting it into action?\n",
    "\n",
    "Allow pairs of students to teach each other. Learners pose their own questions and seek answers to their questions via research and direct observation. They present their supporting evidence to answer the questions.\n"
   ]
  },
  {
   "cell_type": "markdown",
   "id": "af4d8c14",
   "metadata": {},
   "source": [
    "7. How do you tell the difference between anomaly and novelty detection?\n",
    "\n",
    "In simple terms, we can think of anomalies as unusual or unexpected data instances within a dataset. The term is often used interchangeably with outliers. Similarly, novelties are also anomalies in data, but they only exist in new instances. They don't reside in the original dataset"
   ]
  },
  {
   "cell_type": "markdown",
   "id": "dbcbe65f",
   "metadata": {},
   "source": [
    "8. What is a Gaussian mixture, and how does it work? What are some of the things you can do about\n",
    "it?\n",
    "\n",
    "A Gaussian Mixture is a function that is comprised of several Gaussians, each identified by k ∈ {1,…, K}, where K is the number of clusters of our dataset. Each Gaussian k in the mixture is comprised of the following parameters: A mean μ that defines its centre. A covariance Σ that defines its width."
   ]
  }
 ],
 "metadata": {
  "kernelspec": {
   "display_name": "Python 3 (ipykernel)",
   "language": "python",
   "name": "python3"
  },
  "language_info": {
   "codemirror_mode": {
    "name": "ipython",
    "version": 3
   },
   "file_extension": ".py",
   "mimetype": "text/x-python",
   "name": "python",
   "nbconvert_exporter": "python",
   "pygments_lexer": "ipython3",
   "version": "3.9.13"
  }
 },
 "nbformat": 4,
 "nbformat_minor": 5
}
