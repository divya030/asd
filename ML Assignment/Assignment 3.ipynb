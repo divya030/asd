{
 "cells": [
  {
   "cell_type": "markdown",
   "id": "679c817a",
   "metadata": {},
   "source": [
    "i. Under the supervision of experts\n",
    "\n",
    "The phrase \"under expert supervision\" is correct and usable in written English. It can be used to indicate that something is being done with careful oversight and direction from an experienced specialist."
   ]
  },
  {
   "cell_type": "markdown",
   "id": "5da514eb",
   "metadata": {},
   "source": [
    "ii. With the assistance of experts in an indirect manner\n",
    "\n",
    "For example, in learning to play checkers, the system might learn from direct training examples consisting of individual checkers board states and the correct move for each. Alternatively, it might have available only indirect information consisting of the move sequences and final outcomes of various games played.12"
   ]
  },
  {
   "cell_type": "markdown",
   "id": "e6ed1a92",
   "metadata": {},
   "source": [
    "3. Provide a few examples of various types of machine learning.\n",
    "\n",
    "Machine learning involves showing a large volume of data to a machine so that it can learn and make predictions, find patterns, or classify data. The three machine learning types are supervised - Predicting real estate prices, unsupervised - Creating customer groups based on purchase behavior, and reinforcement learning - vTeaching cars to park themselves and drive autonomously\n"
   ]
  },
  {
   "cell_type": "markdown",
   "id": "b5113446",
   "metadata": {},
   "source": [
    "4. Examine the various forms of machine learning.\n",
    "The three machine learning types are supervised, unsupervised, and reinforcement learning."
   ]
  },
  {
   "cell_type": "markdown",
   "id": "77fe85a0",
   "metadata": {},
   "source": [
    "5. Can you explain what a well-posed learning problem is? Explain the main characteristics that must\n",
    "be present to identify a learning problem properly.\n",
    "\n",
    "Well Posed Learning Problem – A computer program is said to learn from experience E in context to some task T and some performance measure P, if its performance on T, as was measured by P, upgrades with experience E."
   ]
  },
  {
   "cell_type": "markdown",
   "id": "295c2872",
   "metadata": {},
   "source": [
    "6. Is machine learning capable of solving all problems? Give a detailed explanation of your answer.\n",
    "\n",
    "While machine learning is a powerful tool for solving problems, improving business operations and automating tasks, it's also a complex and challenging technology, requiring deep expertise and significant resources. Choosing the right algorithm for a task calls for a strong grasp of mathematics and statistics"
   ]
  },
  {
   "cell_type": "markdown",
   "id": "beb724c6",
   "metadata": {},
   "source": [
    "7. What are the various methods and technologies for solving machine learning problems? Any two\n",
    "of them should be defined in detail.\n",
    "\n",
    "Machine learning uses two types of techniques: supervised learning, which trains a model on known input and output data so that it can predict future outputs, and unsupervised learning, which finds hidden patterns or intrinsic structures in input data.\n"
   ]
  },
  {
   "cell_type": "markdown",
   "id": "8780e390",
   "metadata": {},
   "source": [
    "8. Can you explain the various forms of supervised learning? Explain each one with an example\n",
    "application.\n",
    "\n",
    "Image- and object-recognition: Supervised learning algorithms can be used to locate, isolate, and categorize objects out of videos or images, making them useful when applied to various computer vision techniques and imagery analysis.\n",
    "\n",
    "Predictive analytics: A widespread use case for supervised learning models is in creating predictive analytics systems to provide deep insights into various business data points. This allows enterprises to anticipate certain results based on a given output variable, helping business leaders justify decisions or pivot for the benefit of the organization.\n",
    "\n",
    "Customer sentiment analysis: Using supervised machine learning algorithms, organizations can extract and classify important pieces of information from large volumes of data—including context, emotion, and intent—with very little human intervention. This can be incredibly useful when gaining a better understanding of customer interactions and can be used to improve brand engagement efforts.\n",
    "\n",
    "Spam detection: Spam detection is another example of a supervised learning model. Using supervised classification algorithms, organizations can train databases to recognize patterns or anomalies in new data to organize spam and non-spam-related correspondences effectively."
   ]
  },
  {
   "cell_type": "markdown",
   "id": "0fb6c407",
   "metadata": {},
   "source": [
    "9. What is the difference between supervised and unsupervised learning? With a sample application\n",
    "in each region, explain the differences.\n",
    "\n",
    "The main difference between supervised and unsupervised learning: Labeled data. The main distinction between the two approaches is the use of labeled datasets. To put it simply, supervised learning uses labeled input and output data, while an unsupervised learning algorithm does not"
   ]
  },
  {
   "cell_type": "markdown",
   "id": "ea93053c",
   "metadata": {},
   "source": [
    "10. Describe the machine learning process in depth.\n",
    "\n",
    "Machine learning is the process of making systems that learn and improve by themselves, by being specifically programmed. The ultimate goal of machine learning is to design algorithms that automatically help a system gather data and use that data to learn more\n",
    "\n",
    "ii. Deep learning applications in healthcare\n",
    "\n",
    "By assessing patients’ medical histories, symptoms, and tests, deep learning systems enable healthcare companies to provide individualized patient care. Natural language processing (NLP) extracts valuable information from free-text medical data for the most common medical procedures.\n",
    "\n",
    "iii. Study of the market basket\n",
    "\n",
    "A market basket refers to a selection of goods and services that are consistently purchased and sold throughout an economic system. Economists, politicians, and financial analysts use market baskets to track price changes over time and determine inflation levels.\n",
    "\n",
    "iv. Linear regression (simple)\n",
    "\n",
    "What is simple linear regression? Simple linear regression is a regression model that estimates the relationship between one independent variable and one dependent variable using a straight line. Both variables should be quantitative."
   ]
  },
  {
   "cell_type": "markdown",
   "id": "0f48d9b8",
   "metadata": {},
   "source": [
    "1. Generalization and abstraction\n",
    "\n",
    "Abstraction is the skill of understanding the world by thinking about the characteristics that things possess rather than those things themselves. Generalization is the application of abstract characteristics to an entire class of things. Generalization allows us to make broad claims about the natural world.\n",
    "\n",
    "2. Learning that is guided and unsupervised\n",
    "\n",
    "Supervised learning harnesses the power of labeled data to train models that can make accurate predictions or classifications. In contrast, unsupervised learning focuses on uncovering hidden patterns and structures within unlabeled data, using techniques like clustering or anomaly detection.\n",
    "\n",
    "3. Regression and classification\n",
    "\n",
    "The key distinction between Classification vs Regression algorithms is Regression algorithms are used to determine continuous values such as price, income, age, etc. and Classification algorithms are used to forecast or classify the distinct values such as Real or False, Male or Female, Spam or Not Spam, etc."
   ]
  }
 ],
 "metadata": {
  "kernelspec": {
   "display_name": "Python 3 (ipykernel)",
   "language": "python",
   "name": "python3"
  },
  "language_info": {
   "codemirror_mode": {
    "name": "ipython",
    "version": 3
   },
   "file_extension": ".py",
   "mimetype": "text/x-python",
   "name": "python",
   "nbconvert_exporter": "python",
   "pygments_lexer": "ipython3",
   "version": "3.9.13"
  }
 },
 "nbformat": 4,
 "nbformat_minor": 5
}
