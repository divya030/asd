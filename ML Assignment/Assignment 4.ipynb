{
 "cells": [
  {
   "cell_type": "markdown",
   "id": "90410e9b",
   "metadata": {},
   "source": [
    "1. What are the key tasks involved in getting ready to work with machine learning modeling?\n",
    "\n",
    "\n",
    "1. Collecting Data:\n",
    "machines initially learn from the data that give them. It is of the utmost importance to collect reliable data so that\n",
    "machine learning model can find the correct patterns. The quality of the data that you feed to the machine will determine how accurate your model is. If you have incorrect or outdated data, you will have wrong outcomes or predictions which are not relevant\n",
    "\n",
    "2. Preparing the Data:\n",
    "After you have your data, you have to prepare it. You can do this by :\n",
    "\n",
    "Putting together all the data you have and randomizing it. This helps make sure that data is evenly distributed, and the ordering does not affect the learning process.\n",
    "Cleaning the data to remove unwanted data, missing values, rows, and columns, duplicate values, data type conversion, etc. You might even have to restructure the dataset and change the rows and columns or index of rows and columns.\n",
    "Visualize the data to understand how it is structured and understand the relationship between various variables and classes present.\n",
    "Splitting the cleaned data into two sets - a training set and a testing set. The training set is the set your model learns from. A testing set is used to check the accuracy of your model after training.\n",
    "\n",
    "\n",
    "3. Choosing a Model: \n",
    "A machine learning model determines the output you get after running a machine learning algorithm on the collected data. It is important to choose a model which is relevant to the task at hand. Over the years, scientists and engineers developed various models suited for different tasks like speech recognition, image recognition, prediction, etc. Apart from this, you also have to see if your model is suited for numerical or categorical data and choose accordingly.\n",
    "\n",
    "4. Training the Model:\n",
    "Training is the most important step in machine learning. In training, you pass the prepared data to your machine learning model to find patterns and make predictions. It results in the model learning from the data so that it can accomplish the task set. Over time, with training, the model gets better at predicting. \n",
    "\n",
    "5. Evaluating the Model:\n",
    "After training your model, you have to check to see how it’s performing. This is done by testing the performance of the model on previously unseen data. The unseen data used is the testing set that you split our data into earlier. If testing was done on the same data which is used for training, you will not get an accurate measure, as the model is already used to the data, and finds the same patterns in it, as it previously did. This will give you disproportionately high accuracy. \n",
    "\n",
    "6. Parameter Tuning:\n",
    "Once you have created and evaluated your model, see if its accuracy can be improved in any way. This is done by tuning the parameters present in your model. Parameters are the variables in the model that the programmer generally decides. At a particular value of your parameter, the accuracy will be the maximum. Parameter tuning refers to finding these values.\n",
    "\n",
    "7. Making Predictions\n",
    "In the end, you can use your model on unseen data to make predictions accurately."
   ]
  },
  {
   "cell_type": "markdown",
   "id": "fec9a161",
   "metadata": {},
   "source": [
    "What are the different forms of data used in machine learning? Give a specific example for each of\n",
    "them.\n",
    "\n",
    "The data used in machine learning is typically numerical or categorical. Numerical data includes values that can be ordered and measured, such as age or income. Categorical data includes values that represent categories, such as gender or type of fruit. Data can be divided into training and testing sets"
   ]
  },
  {
   "cell_type": "markdown",
   "id": "80d5d6bb",
   "metadata": {},
   "source": [
    "Numeric vs. categorical attributes\n",
    "\n",
    "A categorical variable is a variable with a set number of groups (gender, colors of the rainbow, brands of cereal), while a numeric variable is generally something that can be measured "
   ]
  },
  {
   "cell_type": "markdown",
   "id": "d6e2beb4",
   "metadata": {},
   "source": [
    "Feature selection vs. dimensionality reduction\n",
    "\n",
    "Feature Selection: Selects a subset of relevant features while keeping the original feature space intact. The focus is on identifying the most informative features for modelling. Dimensionality Reduction: Projects the data onto a lower-dimensional space by transforming the feature space."
   ]
  },
  {
   "cell_type": "markdown",
   "id": "1dc9c519",
   "metadata": {},
   "source": [
    "The histogram\n",
    "\n",
    "How a Histogram Works to Display Data\n",
    "A histogram is a graphical representation of data points organized into user-specified ranges. Similar in appearance to a bar graph, the histogram condenses a data series into an easily interpreted visual by taking many data points and grouping them into logical ranges or bins."
   ]
  },
  {
   "cell_type": "markdown",
   "id": "0d3622d1",
   "metadata": {},
   "source": [
    "Use a scatter plot\n",
    "\n",
    "The most common use of the scatter plot is to display the relationship between two variables and observe the nature of the relationship. The relationships observed can either be positive or negative, non-linear or linear, and/or, strong or weak."
   ]
  },
  {
   "cell_type": "markdown",
   "id": "b8414a95",
   "metadata": {},
   "source": [
    "5. Why is it necessary to investigate data? Is there a discrepancy in how qualitative and quantitative\n",
    "data are explored?\n",
    "\n",
    "Quantitative research is based on numeric data. Qualitative research focuses on the qualities of users—the 'why' behind the numbers. It's hard to conduct a successful data analysis without qualitative and quantitative data. They both have their advantages and disadvantages and often complement each other\n"
   ]
  },
  {
   "cell_type": "markdown",
   "id": "bb48a815",
   "metadata": {},
   "source": [
    "6. What are the various histogram shapes? What exactly are ‘bins&#39;?\n",
    "\n",
    "A histogram displays numerical data by grouping data into \"bins\" of equal width. Each bin is plotted as a bar whose height corresponds to how many data points are in that bin. Bins are also sometimes called \"intervals\", \"classes\", or \"buckets\"."
   ]
  },
  {
   "cell_type": "markdown",
   "id": "c1b1975c",
   "metadata": {},
   "source": [
    "7. How do we deal with data outliers?\n",
    "\n",
    "There are different approaches such as replacing the outlier with the mean value, or median value or in some cases dropping the observation with the suspected outlier so as to avoid any bias in them. We tend to delete the outlier if they are due to data entry errors caused due to human error, data processing errors"
   ]
  },
  {
   "cell_type": "markdown",
   "id": "be3e1428",
   "metadata": {},
   "source": [
    "8. What are the various central inclination measures? Why does mean vary too much from median in\n",
    "certain data sets?\n",
    "\n",
    "Measures of central tendency are called such because they tell us what is happening in the middle of the data. When we are looking at a group of numbers, the mean, mode, and median give us information about the numbers in the middle, but not about any outliers."
   ]
  },
  {
   "cell_type": "markdown",
   "id": "87a25573",
   "metadata": {},
   "source": [
    "9. Describe how a scatter plot can be used to investigate bivariate relationships. Is it possible to find\n",
    "outliers using a scatter plot?\n",
    "\n",
    "A scatterplot shows the relationship between two quantitative variables measured for the same individuals. The values of one variable appear on the horizontal axis, and the values of the other variable appear on the vertical axis. Each individual in the data appears as a point on the graph."
   ]
  },
  {
   "cell_type": "markdown",
   "id": "ca5dd137",
   "metadata": {},
   "source": [
    "10. Describe how cross-tabs can be used to figure out how two variables are related.\n",
    "\n",
    "Cross tabulation is a method to quantitatively analyze the relationship between multiple variables. Also known as contingency tables or cross tabs, cross tabulation groups variables to understand the correlation between different variables. It also shows how correlations change from one variable grouping to another"
   ]
  }
 ],
 "metadata": {
  "kernelspec": {
   "display_name": "Python 3 (ipykernel)",
   "language": "python",
   "name": "python3"
  },
  "language_info": {
   "codemirror_mode": {
    "name": "ipython",
    "version": 3
   },
   "file_extension": ".py",
   "mimetype": "text/x-python",
   "name": "python",
   "nbconvert_exporter": "python",
   "pygments_lexer": "ipython3",
   "version": "3.9.13"
  }
 },
 "nbformat": 4,
 "nbformat_minor": 5
}
