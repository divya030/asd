{
 "cells": [
  {
   "cell_type": "markdown",
   "id": "6c7d8b24",
   "metadata": {},
   "source": [
    "1. What are the key tasks that machine learning entails? What does data pre-processing imply?\n",
    "\n",
    "Data Preprocessing includes the steps we need to follow to transform or encode data so that it may be easily parsed by the machine. The main agenda for a model to be accurate and precise in predictions is that the algorithm should be able to easily interpret the data's features"
   ]
  },
  {
   "cell_type": "markdown",
   "id": "fa957272",
   "metadata": {},
   "source": [
    "2. Describe quantitative and qualitative data in depth. Make a distinction between the two.\n",
    "\n",
    "Quantitative data is numbers-based, countable, or measurable. Qualitative data is interpretation-based, descriptive, and relating to language. Quantitative data tells us how many, how much, or how often in calculations"
   ]
  },
  {
   "cell_type": "markdown",
   "id": "0d98d68c",
   "metadata": {},
   "source": [
    "3. Create a basic data collection that includes some sample records. Have at least one attribute from\n",
    "each of the machine learning data types.\n",
    "\n",
    "The data used in machine learning is typically numerical or categorical. Numerical data includes values that can be ordered and measured, such as age or income. Categorical data includes values that represent categories, such as gender or type of fruit. Data can be divided into training and testing sets"
   ]
  },
  {
   "cell_type": "markdown",
   "id": "16b6ea87",
   "metadata": {},
   "source": [
    "4. What are the various causes of machine learning data issues? What are the ramifications?\n",
    "\n",
    "Noisy data, incomplete data, inaccurate data, and unclean data lead to less accuracy in classification and low-quality results. Hence, data quality can also be considered as a major common problem while processing machine learning algorithms."
   ]
  },
  {
   "cell_type": "markdown",
   "id": "a8edc5b6",
   "metadata": {},
   "source": [
    "5. Demonstrate various approaches to categorical data exploration with appropriate examples.\n",
    "\n",
    "Bar Charts : Frequency of each category plotted as bars\n",
    "Pie Charts : Frequency of each category plotted as pie or wedges. It is a circular graph, where the arc length of each slice is proportional to the quantity it represents. "
   ]
  },
  {
   "cell_type": "markdown",
   "id": "cc25e1ea",
   "metadata": {},
   "source": [
    "6. How would the learning activity be affected if certain variables have missing values? Having said\n",
    "that, what can be done about it?\n",
    "\n",
    "Missing values can be handled by deleting the rows or columns having null values. If columns have more than half of the rows as null then the entire column can be dropped. The rows which are having one or more columns values as null can also be dropped."
   ]
  },
  {
   "cell_type": "markdown",
   "id": "35048d31",
   "metadata": {},
   "source": [
    "7. Describe the various methods for dealing with missing data values in depth.\n",
    "\n",
    "When dealing with missing data, data scientists can use two primary methods to solve the error: imputation or the removal of data. The imputation method develops reasonable guesses for missing data. It's most useful when the percentage of missing data is low."
   ]
  },
  {
   "cell_type": "markdown",
   "id": "12e9bd46",
   "metadata": {},
   "source": [
    "8. What are the various data pre-processing techniques? Explain dimensionality reduction and\n",
    "function selection in a few words.\n",
    "\n",
    "The various data reduction strategies include: Dimensionality Reduction: Dimensionality reduction is done by reducing the number of attributes to be considered. Some dimensionality reduction methods are: Wavelet transforms- This involves converting the data vector into a vector of wavelet coefficients"
   ]
  },
  {
   "cell_type": "markdown",
   "id": "4f947b5e",
   "metadata": {},
   "source": [
    "i. What is the IQR? What criteria are used to assess it?\n",
    "\n",
    "The interquartile range (IQR) is the range of values that resides in the middle of the scores. When a distribution is skewed, and the median is used instead of the mean to show a central tendency, the appropriate measure of variability is the Interquartile range.\n",
    "\n",
    "Using the Interquartile Rule to Find Outliers\n",
    "\n",
    "Multiply the interquartile range (IQR) by 1.5 (a constant used to discern outliers). Add 1.5 x (IQR) to the third quartile. Any number greater than this is a suspected outlier."
   ]
  },
  {
   "cell_type": "markdown",
   "id": "c0b95760",
   "metadata": {},
   "source": [
    "Data collected at regular intervals\n",
    "\n",
    "Interval data, also called an integer, is defined as a data type which is measured along a scale, in which each point is placed at equal distance from one another. Interval data always appears in the form of numbers or numerical values where the distance between the two points is standardized and equal."
   ]
  },
  {
   "cell_type": "markdown",
   "id": "fb21b311",
   "metadata": {},
   "source": [
    "2. The gap between the quartiles\n",
    "\n",
    "The interquartile range is the difference between upper and lower quartiles. The semi-interquartile range is half the interquartile range. When the data set is small, it is simple to identify the values of quartiles"
   ]
  },
  {
   "cell_type": "markdown",
   "id": "88e51d94",
   "metadata": {},
   "source": [
    "Data with nominal and ordinal values\n",
    "\n",
    "The main differences between Nominal Data and Ordinal Data are: While Nominal Data is classified without any intrinsic ordering or rank, Ordinal Data has some predetermined or natural order. Nominal data is qualitative or categorical data, while Ordinal data is considered “in-between” qualitative and quantitative data."
   ]
  },
  {
   "cell_type": "markdown",
   "id": "2ea0d93a",
   "metadata": {},
   "source": [
    "Histogram and box plot\n",
    "\n",
    "Histograms are a special kind of bar graph that shows a bar for a range of data values instead of a single value. A box plot is a data display that draws a box over a number line to show the interquartile range of the data."
   ]
  },
  {
   "cell_type": "markdown",
   "id": "866a04c5",
   "metadata": {},
   "source": [
    "The average and median\n",
    "\n",
    "The mean (average) of a data set is found by adding all numbers in the data set and then dividing by the number of values in the set. The median is the middle value when a data set is ordered from least to greatest. The mode is the number that occurs most often in a data set."
   ]
  },
  {
   "cell_type": "code",
   "execution_count": null,
   "id": "f255ac01",
   "metadata": {},
   "outputs": [],
   "source": []
  }
 ],
 "metadata": {
  "kernelspec": {
   "display_name": "Python 3 (ipykernel)",
   "language": "python",
   "name": "python3"
  },
  "language_info": {
   "codemirror_mode": {
    "name": "ipython",
    "version": 3
   },
   "file_extension": ".py",
   "mimetype": "text/x-python",
   "name": "python",
   "nbconvert_exporter": "python",
   "pygments_lexer": "ipython3",
   "version": "3.9.13"
  }
 },
 "nbformat": 4,
 "nbformat_minor": 5
}
