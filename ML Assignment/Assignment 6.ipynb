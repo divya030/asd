{
 "cells": [
  {
   "cell_type": "markdown",
   "id": "e198449f",
   "metadata": {},
   "source": [
    "1. In the sense of machine learning, what is a model? What is the best way to train a model?\n",
    "\n",
    "A machine learning model is a file that has been trained to recognize certain types of patterns. You train a model over a set of data, providing it an algorithm that it can use to reason over and learn from those data."
   ]
  },
  {
   "cell_type": "markdown",
   "id": "3b7e2b15",
   "metadata": {},
   "source": [
    "2. In the sense of machine learning, explain the &quot;No Free Lunch&quot; theorem.\n",
    "\n",
    "According to the “No Free Lunch” theory, there is no one model that works best for every situation. Because the assumptions of a great model for one issue may not hold true for another, it is typical in machine learning to attempt many models to discover the one that performs best for a specific problem"
   ]
  },
  {
   "cell_type": "markdown",
   "id": "17765ae9",
   "metadata": {},
   "source": [
    "3. Describe the K-fold cross-validation mechanism in detail.\n",
    "\n",
    "K-fold cross-validation is a technique for evaluating predictive models. The dataset is divided into k subsets or folds. The model is trained and evaluated k times, using a different fold as the validation set each time. Performance metrics from each fold are averaged to estimate the model's generalization performance\n"
   ]
  },
  {
   "cell_type": "markdown",
   "id": "d870cae2",
   "metadata": {},
   "source": [
    "4. Describe the bootstrap sampling method. What is the aim of it?\n",
    "\n",
    "The advantage of bootstrap sampling is that it allows for robust statistical inference without relying on strong assumptions about the underlying data distribution. By repeatedly resampling from the original data, it provides an estimate of the sampling distribution of a statistic, helping to quantify its uncertainty"
   ]
  },
  {
   "cell_type": "markdown",
   "id": "fa52dd56",
   "metadata": {},
   "source": [
    "5. What is the significance of calculating the Kappa value for a classification model? Demonstrate\n",
    "how to measure the Kappa value of a classification model using a sample collection of results.\n",
    "\n",
    "What is the significance of calculating the kappa value for a classification model?\n",
    "The kappa score is an interesting metric. Its origins are in the field of psychology: it is used for measuring the agreement between two human evaluators or raters (e.g., psychologists) when rating subjects (patients). It was later “appropriated” by the machine-learning community to measure classification performance."
   ]
  },
  {
   "cell_type": "markdown",
   "id": "b8bac256",
   "metadata": {},
   "source": [
    "6. Describe the model ensemble method. In machine learning, what part does it play?\n",
    "\n",
    "Ensemble models are a machine learning approach to combine multiple other models in the prediction process. These models are referred to as base estimators. Ensemble models offer a solution to overcome the technical challenges of building a single estimator."
   ]
  },
  {
   "cell_type": "markdown",
   "id": "056283e0",
   "metadata": {},
   "source": [
    "7. What is a descriptive model&#39;s main purpose? Give examples of real-world problems that\n",
    "descriptive models were used to solve.\n",
    "\n",
    "Descriptive modeling can be used to solve a variety of real-world problems and questions. When carrying out descriptive modeling, the individual will identify a real-world problem of concern in any number of disciplines, such as biology, ecology, chemistry, engineering, urban planning, and public policy."
   ]
  },
  {
   "cell_type": "markdown",
   "id": "399c94b2",
   "metadata": {},
   "source": [
    "8. Describe how to evaluate a linear regression model.\n",
    "\n",
    "calculate mean value of dependent variables . Then we can compare mean value of dependent variable and RMSE error score . After that , we can see some of percentage of deviation from real value."
   ]
  },
  {
   "cell_type": "markdown",
   "id": "73245d22",
   "metadata": {},
   "source": [
    "1. Descriptive vs. predictive models\n",
    "\n",
    "Descriptive Analytics tells you what happened in the past. Diagnostic Analytics helps you understand why something happened in the past. Predictive Analytics predicts what is most likely to happen in the future. Prescriptive Analytics recommends actions you can take to affect those outcomes."
   ]
  },
  {
   "cell_type": "markdown",
   "id": "52112b8e",
   "metadata": {},
   "source": [
    "2. Underfitting vs. overfitting the model\n",
    "\n",
    "Overfitting: Good performance on the training data, poor generliazation to other data. Underfitting: Poor performance on the training data and poor generalization to other data."
   ]
  },
  {
   "cell_type": "markdown",
   "id": "815ee0e7",
   "metadata": {},
   "source": [
    "3. Bootstrapping vs. cross-validation\n",
    "\n",
    "Bootstrapping contains repeated elements in every subset. Bootstrapping relies on random sampling. Cross-validation does not rely on random sampling, just splitting the dataset into k unique subsets. Cross-validation is usually used to test an ML model's generalization capabilities."
   ]
  },
  {
   "cell_type": "markdown",
   "id": "dc77474d",
   "metadata": {},
   "source": [
    "LOOCV.\n",
    "\n",
    "LOOCV(Leave One Out Cross-Validation) is a type of cross-validation approach in which each observation is considered as the validation set and the rest (N-1) observations are considered as the training set. In LOOCV, fitting of the model is done and predicting using one observation validation set."
   ]
  },
  {
   "cell_type": "markdown",
   "id": "e66c5fdb",
   "metadata": {},
   "source": [
    "F-measurement\n",
    "\n",
    "In statistical analysis of binary classification, the F-score or F-measure is a measure of a test's accuracy. It is calculated from the precision and recall of the test, where the precision is the number of true positive results divided by the number of all positive results, including those not identified correctly, and the recall is the number of true positive results divided by the number of all samples that should have been identified as positive. Precision is also known as positive predictive value, and recall is also known as sensitivity in diagnostic binary classification."
   ]
  },
  {
   "cell_type": "markdown",
   "id": "77005c93",
   "metadata": {},
   "source": [
    "The width of the silhouette\n",
    "\n",
    "a(i) is defined as the average dissimilarity between i and all other objects in A, while c(i,C) is the average dissimilarity between i and all objects in C. s(i) ranges between −1 and 1.\n"
   ]
  },
  {
   "cell_type": "markdown",
   "id": "b8a09a3a",
   "metadata": {},
   "source": [
    "Receiver operating characteristic curve\n",
    "\n",
    "An ROC curve (receiver operating characteristic curve) is a graph showing the performance of a classification model at all classification thresholds. This curve plots two parameters: True Positive Rate.\n"
   ]
  }
 ],
 "metadata": {
  "kernelspec": {
   "display_name": "Python 3 (ipykernel)",
   "language": "python",
   "name": "python3"
  },
  "language_info": {
   "codemirror_mode": {
    "name": "ipython",
    "version": 3
   },
   "file_extension": ".py",
   "mimetype": "text/x-python",
   "name": "python",
   "nbconvert_exporter": "python",
   "pygments_lexer": "ipython3",
   "version": "3.9.13"
  }
 },
 "nbformat": 4,
 "nbformat_minor": 5
}
