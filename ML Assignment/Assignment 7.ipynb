{
 "cells": [
  {
   "cell_type": "markdown",
   "id": "bd9f7006",
   "metadata": {},
   "source": [
    "1. What is the definition of a target function? In the sense of a real-life example, express the target\n",
    "function. How is a target function&#39;s fitness assessed?\n",
    "\n",
    "The target function is essentially the formula that an algorithm feeds data to in order to calculate predictions. As in algebra, it is common when training AI to find the variable from the solution, working in reverse."
   ]
  },
  {
   "cell_type": "markdown",
   "id": "79b69d1f",
   "metadata": {},
   "source": [
    "2. What are predictive models, and how do they work? What are descriptive types, and how do you\n",
    "use them? Examples of both types of models should be provided. Distinguish between these two\n",
    "forms of models.\n",
    "\n",
    "Predictive modeling is a mathematical process used to predict future events or outcomes by analyzing patterns in a given set of input data. It is a crucial component of predictive analytics, a type of data analytics which uses current and historical data to forecast activity, behavior and trends."
   ]
  },
  {
   "cell_type": "markdown",
   "id": "54d5a72a",
   "metadata": {},
   "source": [
    "3. Describe the method of assessing a classification model&#39;s efficiency in detail. Describe the various\n",
    "measurement parameters.\n",
    "\n",
    "Metrics like accuracy, precision, recall are good ways to evaluate classification models for balanced datasets, but if the data is imbalanced then other methods like ROC/AUC perform better in evaluating the model performance"
   ]
  },
  {
   "cell_type": "markdown",
   "id": "b96212ab",
   "metadata": {},
   "source": [
    "i. In the sense of machine learning models, what is underfitting? What is the most common\n",
    "reason for underfitting?\n",
    "\n",
    "It occurs when a model is too simple, which can be a result of a model needing more training time, more input features, or less regularization. Like overfitting, when a model is underfitted, it cannot establish the dominant trend within the data, resulting in training errors and poor performance of the model."
   ]
  },
  {
   "cell_type": "markdown",
   "id": "beffa063",
   "metadata": {},
   "source": [
    "ii. What does it mean to overfit? When is it going to happen?\n",
    "\n",
    "Overfitting occurs when the model cannot generalize and fits too closely to the training dataset instead. Overfitting happens due to several reasons, such as: • The training data size is too small and does not contain enough data samples to accurately represent all possible input data values."
   ]
  },
  {
   "cell_type": "markdown",
   "id": "3aa90f7b",
   "metadata": {},
   "source": [
    "iii. In the sense of model fitting, explain the bias-variance trade-off.\n",
    "\n",
    "if algorithms fit too complex (hypothesis with high degree equation) then it may be on high variance and low bias. In the latter condition, the new entries will not perform well. Well, there is something between both of these conditions, known as a Trade-off or Bias Variance Trade-off"
   ]
  },
  {
   "cell_type": "markdown",
   "id": "fcbefd1b",
   "metadata": {},
   "source": [
    "5. Is it possible to boost the efficiency of a learning model? If so, please clarify how.\n",
    "\n",
    "There are many ways to improve the accuracy of your machine learning models. By using methods like feature engineering, adjusting hyperparameters, and trying multiple algorithms, you give yourself a great change to create a really accurate model"
   ]
  },
  {
   "cell_type": "markdown",
   "id": "47b7eb16",
   "metadata": {},
   "source": [
    "6. How would you rate an unsupervised learning model&#39;s success? What are the most common\n",
    "success indicators for an unsupervised learning model?\n",
    "\n",
    "Twin sample validation can be used to validate results of unsupervised learning. It should be used in combination with internal validation. It can prove to be highly useful in case of time-series data where we want to ensure that our results remain same across time."
   ]
  },
  {
   "cell_type": "markdown",
   "id": "dbea2cb2",
   "metadata": {},
   "source": [
    "7. Is it possible to use a classification model for numerical data or a regression model for categorical\n",
    "data with a classification model? Explain your answer.\n",
    "\n",
    "Simply, choose Regression if the dependent value is continuous else choose Classification if the dependent value is a class. Are the target values ordered? Then it is likely to be regression"
   ]
  },
  {
   "cell_type": "markdown",
   "id": "be9e51f5",
   "metadata": {},
   "source": [
    "8. Describe the predictive modeling method for numerical values. What distinguishes it from\n",
    "categorical predictive modeling?\n",
    "\n",
    "Predictive modeling is a mathematical process used to predict future events or outcomes by analyzing patterns in a given set of input data. It is a crucial component of predictive analytics, a type of data analytics which uses current and historical data to forecast activity, behavior and trends."
   ]
  },
  {
   "cell_type": "markdown",
   "id": "263cb3b9",
   "metadata": {},
   "source": [
    "The process of holding out\n",
    "\n",
    "The hold-out method for training a machine learning model is the process of splitting the data into different splits and using one split for training the model and other splits for validating and testing the models. The hold-out method is used for both model evaluation and model selection"
   ]
  },
  {
   "cell_type": "markdown",
   "id": "79dabbd5",
   "metadata": {},
   "source": [
    "Cross-validation by tenfold\n",
    "\n",
    "Each training set consists of ( n − 1 ) / n of the data set and the remaining 1 / n is used as test data. In 10-fold cross-validation, a given data set is partitioned into ten subsets. Out of these ten subsets, nine are used to perform a training fold and a single subset is retained as testing data."
   ]
  },
  {
   "cell_type": "markdown",
   "id": "2c266498",
   "metadata": {},
   "source": [
    "Adjusting the parameters\n",
    "\n",
    "A parameter that determines the adjustment speed of a variable when a long-run disequilibrium occurs. It is estimated within a VEC model. Dynamics of the Relation Between Producer and Consumer Price Indices: A Comparative Analysis in the U.S. Market."
   ]
  },
  {
   "cell_type": "markdown",
   "id": "71ac04db",
   "metadata": {},
   "source": [
    "Purity vs. Silhouette width\n",
    "\n",
    "Silhouette width is a widely used index for assessing the fit of individual objects in the classification, as well as the quality of clusters and the entire classification.\n",
    "\n"
   ]
  },
  {
   "cell_type": "markdown",
   "id": "f2294fe9",
   "metadata": {},
   "source": [
    "Boosting vs. Bagging\n",
    "\n",
    "Bagging is a method of merging the same type of predictions. Boosting is a method of merging different types of predictions. Bagging decreases variance, not bias, and solves over-fitting issues in a model. Boosting decreases bias, not variance"
   ]
  },
  {
   "cell_type": "markdown",
   "id": "7075b2f3",
   "metadata": {},
   "source": [
    "The eager learner vs. the lazy learner\n",
    "\n",
    "Lazy learning algorithms take a shorter time for training and a longer time for predicting. The eager learning algorithm processes the data while the training phase is only. Eager learning algorithms are faster than lazy learning algorithms for predicting data observations."
   ]
  }
 ],
 "metadata": {
  "kernelspec": {
   "display_name": "Python 3 (ipykernel)",
   "language": "python",
   "name": "python3"
  },
  "language_info": {
   "codemirror_mode": {
    "name": "ipython",
    "version": 3
   },
   "file_extension": ".py",
   "mimetype": "text/x-python",
   "name": "python",
   "nbconvert_exporter": "python",
   "pygments_lexer": "ipython3",
   "version": "3.9.13"
  }
 },
 "nbformat": 4,
 "nbformat_minor": 5
}
