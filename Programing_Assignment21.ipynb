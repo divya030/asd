{
 "cells": [
  {
   "cell_type": "markdown",
   "metadata": {},
   "source": [
    "Question1\n",
    "\n",
    "Write a function that takes a list and a number as arguments. Add the number to the end of\n",
    "the list, then remove the first element of the list. The function should then return the updated\n",
    "list.\n",
    "Examples\n",
    "next_in_line([5, 6, 7, 8, 9], 1) ➞ [6, 7, 8, 9, 1]\n",
    "next_in_line([7, 6, 3, 23, 17], 10) ➞ [6, 3, 23, 17, 10]\n",
    "next_in_line([1, 10, 20, 42 ], 6) ➞ [10, 20, 42, 6]\n",
    "next_in_line([], 6) ➞ &quot;No list has been selected&quot;"
   ]
  },
  {
   "cell_type": "code",
   "execution_count": 15,
   "metadata": {},
   "outputs": [
    {
     "name": "stdout",
     "output_type": "stream",
     "text": [
      "output: No list has been selected\n"
     ]
    }
   ],
   "source": [
    "def list_(listt,num):\n",
    "    \"\"\"Add the number to the end of the list, then removes the first element of the list\"\"\"\n",
    "    import traceback\n",
    "    try:\n",
    "        if len(listt) > 0:\n",
    "            listt.pop(0)\n",
    "            listt.append(num)\n",
    "            return listt\n",
    "        else:\n",
    "            return (\"No list has been selected\")\n",
    "    except:\n",
    "        print(traceback.format_exc)\n",
    "        \n",
    "listt = []\n",
    "num = 6\n",
    "\n",
    "x = list_(listt,num)\n",
    "print(\"output:\",x)"
   ]
  },
  {
   "cell_type": "markdown",
   "metadata": {},
   "source": [
    "Question2\n",
    "\n",
    "Create the function that takes a list of dictionaries and returns the sum of people&#39;s budgets.\n",
    "Examples\n",
    "get_budgets([\n",
    "{ &quot;name&quot;: &quot;John&quot;, &quot;age&quot;: 21, &quot;budget&quot;: 23000 },\n",
    "{ &quot;name&quot;: &quot;Steve&quot;, &quot;age&quot;: 32, &quot;budget&quot;: 40000 },\n",
    "{ &quot;name&quot;: &quot;Martin&quot;, &quot;age&quot;: 16, &quot;budget&quot;: 2700 }\n",
    "]) ➞ 65700\n",
    "get_budgets([\n",
    "{ &quot;name&quot;: &quot;John&quot;, &quot;age&quot;: 21, &quot;budget&quot;: 29000 },\n",
    "{ &quot;name&quot;: &quot;Steve&quot;, &quot;age&quot;: 32, &quot;budget&quot;: 32000 },\n",
    "{ &quot;name&quot;: &quot;Martin&quot;, &quot;age&quot;: 16, &quot;budget&quot;: 1600 }\n",
    "]) ➞ 62600"
   ]
  },
  {
   "cell_type": "markdown",
   "metadata": {},
   "source": [
    "get_budgets([\n",
    "{ &quot;name&quot;: &quot;John&quot;, &quot;age&quot;: 21, &quot;budget&quot;: 29000 },\n",
    "{ &quot;name&quot;: &quot;Steve&quot;, &quot;age&quot;: 32, &quot;budget&quot;: 32000 },\n",
    "{ &quot;name&quot;: &quot;Martin&quot;, &quot;age&quot;: 16, &quot;budget&quot;: 1600 }\n",
    "]) ➞ 62600"
   ]
  },
  {
   "cell_type": "code",
   "execution_count": 31,
   "metadata": {},
   "outputs": [
    {
     "name": "stdout",
     "output_type": "stream",
     "text": [
      "Budget: 62600\n"
     ]
    }
   ],
   "source": [
    "def get_budgets(list_dict):\n",
    "    \"\"\" takes a list of dictionaries and returns the sum of people's budgets.\"\"\"\n",
    "    import traceback\n",
    "    count = 0\n",
    "    try:\n",
    "        for i in range (0,len(l)):\n",
    "            a = l[0].keys()\n",
    "            for j in a:\n",
    "                if j == \"budget\":\n",
    "                    count+=l[i][\"budget\"]\n",
    "        return (count)\n",
    "    except:\n",
    "        print(traceback.format_exc())\n",
    "        \n",
    "l = ([ { \"name\": \"John\", \"age\": 21, \"budget\": 29000 }, \n",
    "      { \"name\": \"Steve\", \"age\": 32, \"budget\": 32000 }, \n",
    "      { \"name\": \"Martin\", \"age\": 16, \"budget\": 1600 } ])\n",
    "        \n",
    "x = get_budgets(l)\n",
    "print(\"Budget:\",x)"
   ]
  },
  {
   "cell_type": "markdown",
   "metadata": {},
   "source": [
    "Question3\n",
    "\n",
    "Create a function that takes a string and returns a string with its letters in alphabetical order.\n",
    "Examples\n",
    "alphabet_soup(&quot;hello&quot;) ➞ &quot;ehllo&quot;\n",
    "alphabet_soup(&quot;edabit&quot;) ➞ &quot;abdeit&quot;\n",
    "alphabet_soup(&quot;hacker&quot;) ➞ &quot;acehkr&quot;\n",
    "alphabet_soup(&quot;geek&quot;) ➞ &quot;eegk&quot;\n",
    "alphabet_soup(&quot;javascript&quot;) ➞ &quot;aacijprstv&quot;"
   ]
  },
  {
   "cell_type": "code",
   "execution_count": 15,
   "metadata": {},
   "outputs": [
    {
     "name": "stdout",
     "output_type": "stream",
     "text": [
      "Enter a string:javascript\n",
      "alphabet_soup:  aacijprstv\n"
     ]
    }
   ],
   "source": [
    "def sort(strr):\n",
    "    \"\"\"takes a string and returns a string with its letters in alphabetical order \"\"\"\n",
    "    try:\n",
    "        sorttt = sorted(strr)\n",
    "        sorttt = \"\".join(sorttt)\n",
    "        return sorttt\n",
    "    except Exception as e:\n",
    "        print(e)\n",
    "\n",
    "strr = input(\"Enter a string:\")\n",
    "print(\"alphabet_soup: \",sort(strr))"
   ]
  },
  {
   "cell_type": "markdown",
   "metadata": {},
   "source": [
    "Question4\n",
    "\n",
    "Suppose that you invest $10,000 for 10 years at an interest rate of 6% compounded monthly.\n",
    "What will be the value of your investment at the end of the 10 year period?\n",
    "Create a function that accepts the principal p, the term in years t, the interest rate r, and the\n",
    "number of compounding periods per year n. The function returns the value at the end of term\n",
    "rounded to the nearest cent.\n",
    "For the example above:\n",
    "compound_interest(10000, 10, 0.06, 12) ➞ 18193.97\n",
    "Note that the interest rate is given as a decimal and n=12 because with monthly compounding\n",
    "there are 12 periods per year. Compounding can also be done annually, quarterly, weekly, or\n",
    "daily.\n",
    "Examples\n",
    "compound_interest(100, 1, 0.05, 1) ➞ 105.0\n",
    "compound_interest(3500, 15, 0.1, 4) ➞ 15399.26\n",
    "compound_interest(100000, 20, 0.15, 365) ➞ 2007316.26"
   ]
  },
  {
   "cell_type": "code",
   "execution_count": 43,
   "metadata": {},
   "outputs": [
    {
     "name": "stdout",
     "output_type": "stream",
     "text": [
      "compound_interest: 20073162.63\n"
     ]
    }
   ],
   "source": [
    "def compound_interest(principle,term,interest_rate,num_com_per_yr):\n",
    "    \"\"\"returns the compound value at the end of term rounded to the nearest cent\"\"\"\n",
    "    Amount = principle * (1+(interest_rate/num_com_per_yr))**(num_com_per_yr * term)\n",
    "    return Amount\n",
    "try:\n",
    "    x = round(compound_interest(1000000,20,0.15,365),2)\n",
    "    print(\"compound_interest:\",x)\n",
    "except Exception as e:\n",
    "    print(e)"
   ]
  },
  {
   "cell_type": "markdown",
   "metadata": {},
   "source": [
    "Question5\n",
    "\n",
    "Write a function that takes a list of elements and returns only the integers.\n",
    "Examples\n",
    "return_only_integer([9, 2, &quot;space&quot;, &quot;car&quot;, &quot;lion&quot;, 16]) ➞ [9, 2, 16]\n",
    "return_only_integer([&quot;hello&quot;, 81, &quot;basketball&quot;, 123, &quot;fox&quot;]) ➞ [81, 123]\n",
    "return_only_integer([10, &quot;121&quot;, 56, 20, &quot;car&quot;, 3, &quot;lion&quot;]) ➞ [10, 56, 20,\n",
    "3]\n",
    "return_only_integer([&quot;String&quot;, True, 3.3, 1]) ➞ [1]"
   ]
  },
  {
   "cell_type": "code",
   "execution_count": 7,
   "metadata": {},
   "outputs": [
    {
     "name": "stdout",
     "output_type": "stream",
     "text": [
      "[10, 56, 20, 3]\n"
     ]
    }
   ],
   "source": [
    "def int_list(list_):\n",
    "    \"\"\"takes a list of elements as input and returns only the integers\"\"\"\n",
    "    try:\n",
    "        if type(list_) == list:\n",
    "            l1 = [i  for i in list_  if type(i)==int]\n",
    "            return l1\n",
    "        else:\n",
    "            raise Exception (\"Enter a list\")\n",
    "    except Exception as e:\n",
    "        print(e)\n",
    "\n",
    "l = [10, \"121\", 56, 20, \"car\", 3, \"lion\"]\n",
    "x = int_list(l)\n",
    "print(x)"
   ]
  }
 ],
 "metadata": {
  "kernelspec": {
   "display_name": "Python 3",
   "language": "python",
   "name": "python3"
  },
  "language_info": {
   "codemirror_mode": {
    "name": "ipython",
    "version": 3
   },
   "file_extension": ".py",
   "mimetype": "text/x-python",
   "name": "python",
   "nbconvert_exporter": "python",
   "pygments_lexer": "ipython3",
   "version": "3.8.5"
  }
 },
 "nbformat": 4,
 "nbformat_minor": 4
}
