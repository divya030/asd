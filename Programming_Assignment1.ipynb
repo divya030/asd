{
 "cells": [
  {
   "cell_type": "code",
   "execution_count": 1,
   "metadata": {},
   "outputs": [
    {
     "name": "stdout",
     "output_type": "stream",
     "text": [
      "Hello Python\n"
     ]
    }
   ],
   "source": [
    "# 1. Write a Python program to print \"Hello Python\"?\n",
    "\n",
    "print(\"Hello Python\")"
   ]
  },
  {
   "cell_type": "code",
   "execution_count": 24,
   "metadata": {},
   "outputs": [
    {
     "name": "stdout",
     "output_type": "stream",
     "text": [
      "choose which operation to be performed (addition/dividion):division\n",
      "1st value:4.4444\n",
      "2nd value:5.55555\n",
      "the values are 4.4444 and 5.55555\n",
      "division: 0.7999927999927999\n"
     ]
    }
   ],
   "source": [
    "# 2. Write a Python program to do arithmetical operations addition and division.?\n",
    "\n",
    "try:\n",
    "    op=input(\"choose which operation to be performed (addition/dividion):\")\n",
    "\n",
    "    if op in(\"addition,add\"):\n",
    "        num_of_val=int(input(\"enter no.of inputs:\"))\n",
    "        add=0\n",
    "        l=[]\n",
    "        for i in range (1,num_of_val+1):\n",
    "            val=float(input(f\"{i}_value:\"))\n",
    "            add+=val\n",
    "            l.append(val)\n",
    "        print(f\"the values are {l}\")\n",
    "        print(\"total sum:\",add)\n",
    "    elif op in (\"division,div\"):\n",
    "        val_1=float(input(\"1st value:\"))\n",
    "        val_2=float(input(\"2nd value:\"))\n",
    "        div=val_1/val_2\n",
    "        print(f\"the values are {val_1} and {val_2}\")\n",
    "        print(\"division:\",div)\n",
    "    else:\n",
    "        print(\"please enter valid operation (addition/dividion)\")\n",
    "        \n",
    "except Exception as e:\n",
    "    print(\"Error:\",e)"
   ]
  },
  {
   "cell_type": "code",
   "execution_count": 36,
   "metadata": {},
   "outputs": [
    {
     "name": "stdout",
     "output_type": "stream",
     "text": [
      "Please enter base value of the triangle:10\n",
      "Please enter the height of the triangle:7\n",
      "Please mention the metric of these values:cm\n",
      "The area of the triangle is 35.0 sq.cm\n"
     ]
    }
   ],
   "source": [
    "# 3. Write a Python program to find the area of a triangle?\n",
    "\n",
    "try:\n",
    "    b=float(input(\"Please enter base value of the triangle:\"))\n",
    "    h=float(input(\"Please enter the height of the triangle:\"))\n",
    "    metric = str(input(\"Please mention the metric of these values:\"))\n",
    "    area=1/2*(b*h)\n",
    "    print(f\"The area of the triangle is {area} sq.{metric}\")\n",
    "except Exception as e:\n",
    "    print(\"Error:\",e)"
   ]
  },
  {
   "cell_type": "code",
   "execution_count": 62,
   "metadata": {},
   "outputs": [
    {
     "name": "stdout",
     "output_type": "stream",
     "text": [
      "value of a:45\n",
      "value of b:frs\n",
      "---------------\n",
      "value of a:frs\n",
      "value of b:45\n"
     ]
    }
   ],
   "source": [
    "# 4. Write a Python program to swap two variables?\n",
    "\n",
    "try:\n",
    "    a=(input(\"value of a:\"))\n",
    "    b=(input(\"value of b:\"))\n",
    "    print(\"---------------\")\n",
    "    a,b=b,a\n",
    "    print(f\"value of a:{a}\")\n",
    "    print(f\"value of b:{b}\")\n",
    "except Exception as e:\n",
    "    print(\"Error:\",e)"
   ]
  },
  {
   "cell_type": "code",
   "execution_count": 60,
   "metadata": {},
   "outputs": [
    {
     "name": "stdout",
     "output_type": "stream",
     "text": [
      "enter the starting value of the range:10\n",
      "enter the ending value of the range:200\n",
      "enter the step value of the range:6\n",
      "random number: 46\n"
     ]
    }
   ],
   "source": [
    "# 5. Write a Python program to generate a random number?\n",
    "\n",
    "import random\n",
    "try:\n",
    "    a=float(input(\"enter the starting value of the range:\"))\n",
    "    b=float(input(\"enter the ending value of the range:\"))\n",
    "    c=int(input(\"enter the step value of the range:\"))\n",
    "    ran_num=random.randrange(a,b,c)\n",
    "    print(\"random number:\",ran_num)\n",
    "except Exception as e:\n",
    "    print(\"Error:\",e)"
   ]
  }
 ],
 "metadata": {
  "kernelspec": {
   "display_name": "Python 3",
   "language": "python",
   "name": "python3"
  },
  "language_info": {
   "codemirror_mode": {
    "name": "ipython",
    "version": 3
   },
   "file_extension": ".py",
   "mimetype": "text/x-python",
   "name": "python",
   "nbconvert_exporter": "python",
   "pygments_lexer": "ipython3",
   "version": "3.8.5"
  }
 },
 "nbformat": 4,
 "nbformat_minor": 4
}
