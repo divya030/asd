{
 "cells": [
  {
   "cell_type": "code",
   "execution_count": 23,
   "metadata": {},
   "outputs": [
    {
     "name": "stdout",
     "output_type": "stream",
     "text": [
      "Enter the len of list:5\n",
      "Enter the 1 element:10\n",
      "Enter the 2 element:20\n",
      "Enter the 3 element:30\n",
      "Enter the 4 element:40\n",
      "Enter the 5 element:50\n",
      "list: [10, 20, 30, 40, 50]\n",
      "sum: 150\n"
     ]
    }
   ],
   "source": [
    "# 1. Write a Python program to find sum of elements in list?\n",
    "\n",
    "def list_():\n",
    "    import traceback\n",
    "    \"\"\" Return a list of the numbers given\"\"\"\n",
    "    try:\n",
    "        l = int(input(\"Enter the len of list:\"))\n",
    "        n = []\n",
    "        for i in range(1,l+1):\n",
    "            n.append(int(input(f\"Enter the {i} element:\")))\n",
    "        return n\n",
    "    except:\n",
    "        print(traceback.format_exc())\n",
    "        \n",
    "\n",
    "\n",
    "s = 0\n",
    "x = list_()\n",
    "print(\"list:\",x)\n",
    "try:\n",
    "    for i in x:\n",
    "        s = s+i\n",
    "    print(\"sum:\",s)\n",
    "except Exception as e:\n",
    "    print(e)"
   ]
  },
  {
   "cell_type": "code",
   "execution_count": 20,
   "metadata": {},
   "outputs": [
    {
     "name": "stdout",
     "output_type": "stream",
     "text": [
      "Enter the len of list:6\n",
      "Enter the 1 element:100\n",
      "Enter the 2 element:200\n",
      "Enter the 3 element:300\n",
      "Enter the 4 element:400\n",
      "Enter the 5 element:500\n",
      "Enter the 6 element:500\n",
      "list: [100, 200, 300, 400, 500, 500]\n",
      "Multiplication: 600000000000000\n"
     ]
    }
   ],
   "source": [
    "# 2. Write a Python program to Multiply all numbers in the list?\n",
    "\n",
    "x = list_()\n",
    "s = 1\n",
    "print(\"list:\",x)\n",
    "try:\n",
    "    for i in x:\n",
    "        s = s*i\n",
    "    print(\"Multiplication:\",s)\n",
    "except Exception as e:\n",
    "    print(e)"
   ]
  },
  {
   "cell_type": "code",
   "execution_count": 8,
   "metadata": {},
   "outputs": [
    {
     "name": "stdout",
     "output_type": "stream",
     "text": [
      "Enter the len of list:5\n",
      "Enter the 1 element:4\n",
      "Enter the 2 element:3\n",
      "Enter the 3 element:5\n",
      "Enter the 4 element:1\n",
      "Enter the 5 element:2\n",
      "list: [4, 3, 5, 1, 2]\n",
      "smallest number: 1\n"
     ]
    }
   ],
   "source": [
    "# 3. Write a Python program to find smallest number in a list?\n",
    "\n",
    "x = list_()\n",
    "s = x[0]\n",
    "print(\"list:\",x)\n",
    "try:\n",
    "    for i in x:\n",
    "        if i<s:\n",
    "            s = i\n",
    "    print(\"smallest number:\",s)\n",
    "except Exception as e:\n",
    "    print(e)"
   ]
  },
  {
   "cell_type": "code",
   "execution_count": 9,
   "metadata": {},
   "outputs": [
    {
     "name": "stdout",
     "output_type": "stream",
     "text": [
      "Enter the len of list:5\n",
      "Enter the 1 element:45\n",
      "Enter the 2 element:54\n",
      "Enter the 3 element:65\n",
      "Enter the 4 element:78\n",
      "Enter the 5 element:90\n",
      "list: [45, 54, 65, 78, 90]\n",
      "largest number: 90\n"
     ]
    }
   ],
   "source": [
    "# 4. Write a Python program to find largest number in a list?\n",
    "\n",
    "x = list_()\n",
    "l = x[0]\n",
    "print(\"list:\",x)\n",
    "try:\n",
    "    for i in x:\n",
    "        if i>l:\n",
    "            l = i\n",
    "    print(\"largest number:\",l)\n",
    "except Exception as e:\n",
    "    print(e)"
   ]
  },
  {
   "cell_type": "code",
   "execution_count": 10,
   "metadata": {},
   "outputs": [
    {
     "name": "stdout",
     "output_type": "stream",
     "text": [
      "Enter the len of list:6\n",
      "Enter the 1 element:45\n",
      "Enter the 2 element:34\n",
      "Enter the 3 element:23\n",
      "Enter the 4 element:45\n",
      "Enter the 5 element:46\n",
      "Enter the 6 element:32\n",
      "list: [23, 32, 34, 45, 45, 46]\n",
      "second largest number: 45\n"
     ]
    }
   ],
   "source": [
    "# 5. Write a Python program to find second largest number in a list?\n",
    "\n",
    "x = list_()\n",
    "x.sort()\n",
    "print(\"list:\",x)\n",
    "print(\"second largest number:\",x[len(x)-2])"
   ]
  },
  {
   "cell_type": "code",
   "execution_count": 11,
   "metadata": {},
   "outputs": [
    {
     "name": "stdout",
     "output_type": "stream",
     "text": [
      "Enter the len of list:6\n",
      "Enter the 1 element:4\n",
      "Enter the 2 element:5\n",
      "Enter the 3 element:3\n",
      "Enter the 4 element:5\n",
      "Enter the 5 element:7\n",
      "Enter the 6 element:3\n",
      "list: [3, 3, 4, 5, 5, 7]\n",
      "Enter the number of largest element to be displayed:3\n",
      "3 largest elements from a list:[5, 5, 7]\n"
     ]
    }
   ],
   "source": [
    "# 6. Write a Python program to find N largest elements from a list?\n",
    "\n",
    "x = list_()\n",
    "x.sort()\n",
    "print(\"list:\",x)\n",
    "try:\n",
    "    n = int(input(\"Enter the number of largest element to be displayed:\"))\n",
    "\n",
    "    print(f\"{n} largest elements from a list:{x[len(x)-n:len(x)]}\")\n",
    "\n",
    "except Exception as e:\n",
    "    print(e)"
   ]
  },
  {
   "cell_type": "code",
   "execution_count": 13,
   "metadata": {},
   "outputs": [
    {
     "name": "stdout",
     "output_type": "stream",
     "text": [
      "Enter the len of list:7\n",
      "Enter the 1 element:1\n",
      "Enter the 2 element:3\n",
      "Enter the 3 element:5\n",
      "Enter the 4 element:7\n",
      "Enter the 5 element:9\n",
      "Enter the 6 element:2\n",
      "Enter the 7 element:11\n",
      "list: [1, 3, 5, 7, 9, 2, 11]\n",
      "[2] are the even numbers in a list\n"
     ]
    }
   ],
   "source": [
    "# 7. Write a Python program to print even numbers in a list?\n",
    "\n",
    "x = list_()\n",
    "l = []\n",
    "print(\"list:\",x)\n",
    "try:\n",
    "    for i in x:\n",
    "        if i%2==0:\n",
    "            l.append(i)\n",
    "    print(f\"{l} are the even numbers in a list\")\n",
    "except Exception as e:\n",
    "    print(e)"
   ]
  },
  {
   "cell_type": "code",
   "execution_count": 14,
   "metadata": {},
   "outputs": [
    {
     "name": "stdout",
     "output_type": "stream",
     "text": [
      "Enter the len of list:7\n",
      "Enter the 1 element:2\n",
      "Enter the 2 element:4\n",
      "Enter the 3 element:6\n",
      "Enter the 4 element:8\n",
      "Enter the 5 element:11\n",
      "Enter the 6 element:13\n",
      "Enter the 7 element:37\n",
      "list: [2, 4, 6, 8, 11, 13, 37]\n",
      "[11, 13, 37] are the odd numbers in a list\n"
     ]
    }
   ],
   "source": [
    "# 8. Write a Python program to print odd numbers in a List?\n",
    "\n",
    "x = list_()\n",
    "l = []\n",
    "print(\"list:\",x)\n",
    "try:\n",
    "    for i in x:\n",
    "        if i%2!=0:\n",
    "            l.append(i)\n",
    "    print(f\"{l} are the odd numbers in a list\")\n",
    "except Exception as e:\n",
    "    print(e)"
   ]
  },
  {
   "cell_type": "code",
   "execution_count": 19,
   "metadata": {},
   "outputs": [
    {
     "name": "stdout",
     "output_type": "stream",
     "text": [
      "[5, 6, 3, 9]\n"
     ]
    }
   ],
   "source": [
    "# 9. Write a Python program to Remove empty List from List?\n",
    "\n",
    "l1 = [5, 6, [], 3, [], [], 9]\n",
    "l = []\n",
    "try:\n",
    "    for i in l1:\n",
    "        if i!=[]:\n",
    "            l.append(i)\n",
    "    print(l)\n",
    "except Exception as e:\n",
    "    print(e)"
   ]
  },
  {
   "cell_type": "code",
   "execution_count": 25,
   "metadata": {},
   "outputs": [
    {
     "name": "stdout",
     "output_type": "stream",
     "text": [
      "Enter the len of list:6\n",
      "Enter the 1 element:1\n",
      "Enter the 2 element:2\n",
      "Enter the 3 element:3\n",
      "Enter the 4 element:4\n",
      "Enter the 5 element:5\n",
      "Enter the 6 element:6\n",
      "Original list: [1, 2, 3, 4, 5, 6]\n",
      "Copied list: [1, 2, 3, 4, 5, 6]\n"
     ]
    }
   ],
   "source": [
    "# 10. Write a Python program to Cloning or Copying a list?\n",
    "\n",
    "x = list_()\n",
    "print(\"Original list:\",x)\n",
    "l = x\n",
    "print(\"Copied list:\",l)"
   ]
  },
  {
   "cell_type": "code",
   "execution_count": 30,
   "metadata": {},
   "outputs": [
    {
     "name": "stdout",
     "output_type": "stream",
     "text": [
      "Enter the len of list:6\n",
      "Enter the 1 element:3\n",
      "Enter the 2 element:45\n",
      "Enter the 3 element:56\n",
      "Enter the 4 element:3\n",
      "Enter the 5 element:45\n",
      "Enter the 6 element:56\n",
      "Enter the element:45\n",
      "list: [3, 45, 56, 3, 45, 56]\n",
      "45 has occured over 2 times\n"
     ]
    }
   ],
   "source": [
    "# 11. Write a Python program to Count occurrences of an element in a list?\n",
    "\n",
    "x = list_()\n",
    "n = int(input(\"Enter the element:\"))\n",
    "print(\"list:\",x)\n",
    "count = 0\n",
    "try:\n",
    "    for i in x:\n",
    "        if i == n:\n",
    "            count+=1\n",
    "    print(f\"{n} has occured over {count} times\")\n",
    "except Exception as e:\n",
    "    print(e)"
   ]
  }
 ],
 "metadata": {
  "kernelspec": {
   "display_name": "Python 3",
   "language": "python",
   "name": "python3"
  },
  "language_info": {
   "codemirror_mode": {
    "name": "ipython",
    "version": 3
   },
   "file_extension": ".py",
   "mimetype": "text/x-python",
   "name": "python",
   "nbconvert_exporter": "python",
   "pygments_lexer": "ipython3",
   "version": "3.8.5"
  }
 },
 "nbformat": 4,
 "nbformat_minor": 4
}
