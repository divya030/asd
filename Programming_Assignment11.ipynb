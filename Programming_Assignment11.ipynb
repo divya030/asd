{
 "cells": [
  {
   "cell_type": "code",
   "execution_count": 19,
   "metadata": {},
   "outputs": [
    {
     "data": {
      "text/plain": [
       "'Mary Samantha arrived station early waited until noon'"
      ]
     },
     "execution_count": 19,
     "metadata": {},
     "output_type": "execute_result"
    }
   ],
   "source": [
    "# 1. Write a Python program to find words which are greater than given length k?\n",
    "\n",
    "def great(a,k):\n",
    "    \"\"\"Return words which are greater than given length\n",
    "    a -- string\n",
    "    k -- length\"\"\"\n",
    "    try:\n",
    "        l = []\n",
    "        a = a.split()\n",
    "        for i in a:\n",
    "            if len(i) > k:\n",
    "                l.append(i)\n",
    "        s = \" \".join(l)\n",
    "        return s\n",
    "    except Exception as e:\n",
    "        print(e)\n",
    "        \n",
    "a = \"Mary and Samantha arrived at the bus station early but waited until noon for the bus\" \n",
    "      \n",
    "great(a,3)"
   ]
  },
  {
   "cell_type": "code",
   "execution_count": 39,
   "metadata": {},
   "outputs": [
    {
     "data": {
      "text/plain": [
       "'Mar and Samantha arrived at the bus station'"
      ]
     },
     "execution_count": 39,
     "metadata": {},
     "output_type": "execute_result"
    }
   ],
   "source": [
    "# 2. Write a Python program for removing i-th character from a string?\n",
    "\n",
    "\n",
    "def remove(n,k):\n",
    "    \"\"\" Removes k-th character from a string\"\"\"\n",
    "    try:\n",
    "        for i in range (0,len(n)):\n",
    "            if i == k:\n",
    "                a = n[:i]\n",
    "                b = n[i+1:]\n",
    "                return(a+b)\n",
    "    except Exception as e:\n",
    "        print(e)\n",
    "        \n",
    "n = 'Mary and Samantha arrived at the bus station'\n",
    "\n",
    "remove(n,3)"
   ]
  },
  {
   "cell_type": "code",
   "execution_count": 43,
   "metadata": {},
   "outputs": [
    {
     "name": "stdout",
     "output_type": "stream",
     "text": [
      "Enter a string:\"Mary and Samantha arrived at the bus station early but waited until noon for the bus\"\n",
      "\"Mary()and()Samantha()arrived()at()the()bus()station()early()but()waited()until()noon()for()the()bus\"\n"
     ]
    }
   ],
   "source": [
    "# 3. Write a Python program to split and join a string?\n",
    "\n",
    "try:\n",
    "    a = str(input(\"Enter a string:\"))\n",
    "    a = a.split()\n",
    "    s = \"()\".join(a)\n",
    "    print(s)\n",
    "except Exception as e:\n",
    "        print(e)"
   ]
  },
  {
   "cell_type": "code",
   "execution_count": 63,
   "metadata": {},
   "outputs": [
    {
     "name": "stdout",
     "output_type": "stream",
     "text": [
      "Enter a binary string:00100101\n",
      "00100101 is a  binary string\n"
     ]
    }
   ],
   "source": [
    "# 4. Write a Python to check if a given string is binary string or not?\n",
    "\n",
    "a = str(input(\"Enter a binary string:\"))\n",
    "\n",
    "try:\n",
    "    for i in a:\n",
    "        if i in (\"0\",\"1\"):\n",
    "            continue\n",
    "        else:\n",
    "            print(f\"{a} is not a  binary string\")\n",
    "            break\n",
    "    else:\n",
    "        print(f\"{a} is a  binary string\")\n",
    "except Exception as e:\n",
    "        print(e)"
   ]
  },
  {
   "cell_type": "code",
   "execution_count": 101,
   "metadata": {},
   "outputs": [
    {
     "data": {
      "text/plain": [
       "'Mary and Samantha early until noon for the bus'"
      ]
     },
     "execution_count": 101,
     "metadata": {},
     "output_type": "execute_result"
    }
   ],
   "source": [
    "# 5. Write a Python program to find uncommon words from two Strings?\n",
    "    \n",
    "a = \"arrived at the bus station but waited\"\n",
    "\n",
    "b = \"Mary and Samantha arrived at the bus station early but waited until noon for the bus\"\n",
    "    \n",
    "def uncom(a,b):\n",
    "    \"\"\"Returns uncommon words from two Strings \"\"\"\n",
    "    a = a.split()\n",
    "    b = b.split()\n",
    "\n",
    "    for i in a:\n",
    "        if i in b:\n",
    "            b.remove(i)\n",
    "    return (\" \".join(b))\n",
    "\n",
    "uncom(a,b)"
   ]
  },
  {
   "cell_type": "code",
   "execution_count": 116,
   "metadata": {},
   "outputs": [
    {
     "name": "stdout",
     "output_type": "stream",
     "text": [
      "Enter a string:characters\n",
      "c,a,r are the duplicate characters in string\n"
     ]
    }
   ],
   "source": [
    "# 6. Write a Python to find all duplicate characters in string?\n",
    "\n",
    "a = str(input(\"Enter a string:\"))\n",
    "l = []\n",
    "for i in list(a):\n",
    "    if a.count(i)>=2 and i not in l:\n",
    "        l.append(i)\n",
    "print(\",\".join(l),\"are the duplicate characters in string\")"
   ]
  },
  {
   "cell_type": "code",
   "execution_count": 125,
   "metadata": {},
   "outputs": [
    {
     "name": "stdout",
     "output_type": "stream",
     "text": [
      "Enter a string: Samantha\n",
      "No! Samantha has no special characters \n"
     ]
    }
   ],
   "source": [
    "# 7. Write a Python Program to check if a string contains any special character?\n",
    "\n",
    "spl = '[@_!#$%^&*()<>?/\\|}{~:]'\n",
    "\n",
    "a = str(input(\"Enter a string: \"))\n",
    "\n",
    "for i in list(a):\n",
    "    if i in spl:\n",
    "        print(f\"Yes! {a} has special characters \")\n",
    "        break\n",
    "else:\n",
    "    print(f\"No! {a} has no special characters \")\n"
   ]
  }
 ],
 "metadata": {
  "kernelspec": {
   "display_name": "Python 3",
   "language": "python",
   "name": "python3"
  },
  "language_info": {
   "codemirror_mode": {
    "name": "ipython",
    "version": 3
   },
   "file_extension": ".py",
   "mimetype": "text/x-python",
   "name": "python",
   "nbconvert_exporter": "python",
   "pygments_lexer": "ipython3",
   "version": "3.8.5"
  }
 },
 "nbformat": 4,
 "nbformat_minor": 4
}
