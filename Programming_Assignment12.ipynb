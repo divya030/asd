{
 "cells": [
  {
   "cell_type": "code",
   "execution_count": 1,
   "metadata": {},
   "outputs": [
    {
     "name": "stdout",
     "output_type": "stream",
     "text": [
      "Enter key: rt\n",
      "Enter value: 1\n",
      "Enter key: rf\n",
      "Enter value: 1\n",
      "Enter key: ty\n",
      "Enter value: 2\n",
      "Enter key: yh\n",
      "Enter value: 4\n",
      "Enter key: gh\n",
      "Enter value: 4\n",
      "Enter key: yu\n",
      "Enter value: 3\n",
      "dictionary: {'rt': 1, 'rf': 1, 'ty': 2, 'yh': 4, 'gh': 4, 'yu': 3}\n",
      "Unique values: {1, 2, 3, 4}\n"
     ]
    }
   ],
   "source": [
    "# 1. Write a Python program to Extract Unique values dictionary values?\n",
    "\n",
    "\n",
    "def dictt(n):\n",
    "    \"\"\" n -- length of the dictionary\n",
    "        Returns a dictionary\"\"\"\n",
    "    di={}\n",
    "    try:\n",
    "        for i in range(n):\n",
    "            key = input(\"Enter key: \")\n",
    "            val = int(input(\"Enter value: \"))\n",
    "            di[key] = val\n",
    "        return di\n",
    "    except Exception as e:\n",
    "        print(e)\n",
    "        \n",
    "        \n",
    "a = dictt(6)\n",
    "print(\"dictionary:\",a)\n",
    "print(f\"Unique values: {set(a.values())}\")"
   ]
  },
  {
   "cell_type": "code",
   "execution_count": 19,
   "metadata": {},
   "outputs": [
    {
     "name": "stdout",
     "output_type": "stream",
     "text": [
      "Enter key: rt\n",
      "Enter value: 45\n",
      "Enter key: uy\n",
      "Enter value: 56\n",
      "Enter key: ij\n",
      "Enter value: 6\n",
      "sum of all items in {'rt': 45, 'uy': 56, 'ij': 6} is 107\n"
     ]
    }
   ],
   "source": [
    "# 2. Write a Python program to find the sum of all items in a dictionary?\n",
    "\n",
    "a = dictt(3)\n",
    "summ =0\n",
    "for i in a.values():\n",
    "    summ = summ+i\n",
    "print(f\"sum of all items in {a} is {summ}\")"
   ]
  },
  {
   "cell_type": "code",
   "execution_count": 22,
   "metadata": {},
   "outputs": [
    {
     "name": "stdout",
     "output_type": "stream",
     "text": [
      "Enter key: ty\n",
      "Enter value: 54\n",
      "Enter key: hg\n",
      "Enter value: 67\n",
      "Enter key: ty\n",
      "Enter value: 89\n",
      "Enter key: rb\n",
      "Enter value: 90\n",
      "dictionary:  {'ty': 54, 'hg': 67}\n",
      "dictionary:  {'ty': 89, 'rb': 90}\n",
      "merged dictionary:  {'ty': 89, 'hg': 67, 'rb': 90}\n"
     ]
    }
   ],
   "source": [
    "# 3. Write a Python program to Merging two Dictionaries?\n",
    "\n",
    "a = dictt(2)\n",
    "b = dictt(2)\n",
    "print(\"dictionary: \",a)\n",
    "print(\"dictionary: \",b)\n",
    "a.update(b)\n",
    "print(\"merged dictionary: \",a)"
   ]
  },
  {
   "cell_type": "code",
   "execution_count": 36,
   "metadata": {},
   "outputs": [
    {
     "name": "stdout",
     "output_type": "stream",
     "text": [
      "Original dictionary:  {'num': [1, 2, 3, 4, 5, 6], 'name': ['Monica', 'Joey', 'Chandler', 'Ross', 'Rachel', 'Pheobe']}\n",
      "flat dictionary:  {1: 'Monica', 2: 'Joey', 3: 'Chandler', 4: 'Ross', 5: 'Rachel', 6: 'Pheobe'}\n"
     ]
    }
   ],
   "source": [
    "# 4. Write a Python program to convert key-values list to flat dictionary?\n",
    "\n",
    "dic= { \"num\": [1, 2, 3, 4, 5, 6], \"name\": ['Monica', 'Joey', 'Chandler', 'Ross', 'Rachel', 'Pheobe' ] }\n",
    "\n",
    "print(\"Original dictionary: \",dic)\n",
    "\n",
    "x = dict(zip(dic[\"num\"],dic[\"name\"]))\n",
    "\n",
    "print(\"flat dictionary: \",x)"
   ]
  },
  {
   "cell_type": "code",
   "execution_count": 8,
   "metadata": {},
   "outputs": [
    {
     "name": "stdout",
     "output_type": "stream",
     "text": [
      "Enter key: a\n",
      "Enter value: 1\n",
      "Enter key: b\n",
      "Enter value: 2\n",
      "{'a': 1, 'b': 2}\n",
      "Enter key: c\n",
      "Enter value: 3\n",
      "Enter key: d\n",
      "Enter value: 4\n",
      "{'c': 3, 'd': 4}\n",
      "{'d': 4, 'c': 3, 'a': 1, 'b': 2}\n"
     ]
    }
   ],
   "source": [
    "# 5. Write a Python program to insertion at the beginning in OrderedDict?\n",
    "\n",
    "from collections import OrderedDict\n",
    "\n",
    "try:\n",
    "    x = dictt(2)\n",
    "    n = OrderedDict(x)\n",
    "    print(x)\n",
    "    y = dictt(2)\n",
    "    n.update(y)\n",
    "    print(y)\n",
    "    for i in y.keys() :\n",
    "        n.move_to_end(i,last = False)\n",
    "    print(dict(n))\n",
    "except Exception as e:\n",
    "        print(e)"
   ]
  },
  {
   "cell_type": "code",
   "execution_count": 99,
   "metadata": {},
   "outputs": [
    {
     "data": {
      "text/plain": [
       "'False'"
      ]
     },
     "execution_count": 99,
     "metadata": {},
     "output_type": "execute_result"
    }
   ],
   "source": [
    "# 6. Write a Python program to check order of character in string using OrderedDict()?\n",
    "\n",
    "def ch_or(a,b):\n",
    "    \"\"\"check the order of character in string \"\"\"\n",
    "    \n",
    "    x = OrderedDict.fromkeys(a)\n",
    "    c = 0 \n",
    "    for i in x:\n",
    "        if i in b:\n",
    "            c=c+1\n",
    "            if c ==len(b):\n",
    "                return 'True'\n",
    "    return 'False'\n",
    "    \n",
    "a = 'engineers rock'\n",
    "b = 'ed'\n",
    "\n",
    "ch_or(a,b)"
   ]
  },
  {
   "cell_type": "code",
   "execution_count": 5,
   "metadata": {},
   "outputs": [
    {
     "name": "stdout",
     "output_type": "stream",
     "text": [
      "Enter key: land\n",
      "Enter value: 100\n",
      "Enter key: beach\n",
      "Enter value: 110\n",
      "Enter key: sun\n",
      "Enter value: 79\n",
      "Enter key: sky\n",
      "Enter value: 80\n",
      "Enter key: trees\n",
      "Enter value: 200\n",
      "Enter key: fruits\n",
      "Enter value: 165\n",
      "dictionary: {'land': 100, 'beach': 110, 'sun': 79, 'sky': 80, 'trees': 200, 'fruits': 165}\n",
      "['beach', 'fruits', 'land', 'sky', 'sun', 'trees']\n"
     ]
    }
   ],
   "source": [
    "# 7. Write a Python program to sort Python Dictionaries by Key or Value?\n",
    "\n",
    "x = dictt(6)\n",
    "print(\"dictionary:\",x)\n",
    "print(sorted(x))"
   ]
  }
 ],
 "metadata": {
  "kernelspec": {
   "display_name": "Python 3",
   "language": "python",
   "name": "python3"
  },
  "language_info": {
   "codemirror_mode": {
    "name": "ipython",
    "version": 3
   },
   "file_extension": ".py",
   "mimetype": "text/x-python",
   "name": "python",
   "nbconvert_exporter": "python",
   "pygments_lexer": "ipython3",
   "version": "3.8.5"
  }
 },
 "nbformat": 4,
 "nbformat_minor": 4
}
