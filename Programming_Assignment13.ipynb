{
 "cells": [
  {
   "cell_type": "markdown",
   "metadata": {},
   "source": [
    "Question 1:\n",
    "\n",
    "Write a program that calculates and prints the value according to the given formula:\n",
    "Q = Square root of [(2 * C * D)/H]\n",
    "Following are the fixed values of C and H:\n",
    "C is 50. H is 30.\n",
    "D is the variable whose values should be input to your program in a comma-separated\n",
    "sequence.\n",
    "Example\n",
    "Let us assume the following comma separated input sequence is given to the program:\n",
    "100,150,180\n",
    "The output of the program should be:\n",
    "18,22,24"
   ]
  },
  {
   "cell_type": "code",
   "execution_count": 155,
   "metadata": {},
   "outputs": [
    {
     "name": "stdout",
     "output_type": "stream",
     "text": [
      "Enter the len of sequence:3\n",
      "Enter the 1 number: 100\n",
      "Enter the 2 number: 150\n",
      "Enter the 3 number: 180\n",
      "18 , 22 , 24\n"
     ]
    }
   ],
   "source": [
    "import math\n",
    "l = []\n",
    "\n",
    "try:\n",
    "    for i in range(1,int(input(\"Enter the len of sequence:\"))+1):\n",
    "        x = int(input(f\"Enter the {i} number: \"))\n",
    "        q = (round(math.sqrt(2 * 50 * x / 30)))\n",
    "        l.append(q)\n",
    "except Exception as e:\n",
    "    print(e)\n",
    "else:\n",
    "    for i in range(len(l)):\n",
    "        if i < len(l)-1:\n",
    "            print(l[i],end = \" , \")\n",
    "        else:\n",
    "            print(l[i])\n",
    "    "
   ]
  },
  {
   "cell_type": "markdown",
   "metadata": {},
   "source": [
    "Question 2:\n",
    "    \n",
    "Write a program which takes 2 digits, X,Y as input and generates a 2-dimensional array. The\n",
    "element value in the i-th row and j-th column of the array should be i*j.\n",
    "Note: i=0,1.., X-1; j=0,1,¡Y-1.\n",
    "Example\n",
    "Suppose the following inputs are given to the program:\n",
    "3,5\n",
    "Then, the output of the program should be:\n",
    "[[0, 0, 0, 0, 0], [0, 1, 2, 3, 4], [0, 2, 4, 6, 8]]"
   ]
  },
  {
   "cell_type": "code",
   "execution_count": 161,
   "metadata": {},
   "outputs": [
    {
     "name": "stdout",
     "output_type": "stream",
     "text": [
      "Enter rows: 3\n",
      "Enter columns: 5\n",
      "Output:  [[0, 0, 0, 0, 0], [0, 1, 2, 3, 4], [0, 2, 4, 6, 8]]\n"
     ]
    }
   ],
   "source": [
    "l = []\n",
    "try:\n",
    "    r = int(input(\"Enter rows: \"))\n",
    "    c = int(input(\"Enter columns: \"))\n",
    "except Exception as e:\n",
    "    print(e)\n",
    "else:\n",
    "    for i in range(0,r):\n",
    "        l1 = []\n",
    "        for j in range(0,c):\n",
    "            a = i*j\n",
    "            l1.append(a)\n",
    "        l.append(l1)\n",
    "    print(\"Output: \", l )"
   ]
  },
  {
   "cell_type": "markdown",
   "metadata": {},
   "source": [
    "Question 3:\n",
    "    \n",
    "Write a program that accepts a comma separated sequence of words as input and prints the\n",
    "words in a comma-separated sequence after sorting them alphabetically.\n",
    "Suppose the following input is supplied to the program:\n",
    "without,hello,bag,world\n",
    "Then, the output should be:\n",
    "bag,hello,without,world"
   ]
  },
  {
   "cell_type": "code",
   "execution_count": 164,
   "metadata": {},
   "outputs": [
    {
     "name": "stdout",
     "output_type": "stream",
     "text": [
      "Enter a comma separated sequence of words: without,hello,bag,world \n",
      "bag , hello , without , world \n"
     ]
    }
   ],
   "source": [
    "import re\n",
    "\n",
    "try:\n",
    "    a = input(\"Enter a comma separated sequence of words: \")\n",
    "    l = re.split(\",\",a)\n",
    "    q = sorted(set(l))\n",
    "except Exception as e:\n",
    "    print(e)\n",
    "else:\n",
    "    for i in range(len(q)):\n",
    "        if i < len(q)-1:\n",
    "            print(q[i],end = \" , \")\n",
    "        else:\n",
    "            print(q[i])"
   ]
  },
  {
   "cell_type": "markdown",
   "metadata": {},
   "source": [
    "Question 4:\n",
    "    \n",
    "Write a program that accepts a sequence of whitespace separated words as input and prints\n",
    "the words after removing all duplicate words and sorting them alphanumerically.\n",
    "Suppose the following input is supplied to the program:\n",
    "hello world and practice makes perfect and hello world again\n",
    "Then, the output should be:\n",
    "again and hello makes perfect practice world"
   ]
  },
  {
   "cell_type": "code",
   "execution_count": 171,
   "metadata": {},
   "outputs": [
    {
     "name": "stdout",
     "output_type": "stream",
     "text": [
      "Enter a whitespace separated sequence of words:  hello world and practice makes perfect and hello world again \n",
      " again and hello hello makes perfect practice world\n"
     ]
    }
   ],
   "source": [
    "import re\n",
    "try:\n",
    "    a = input(\"Enter a whitespace separated sequence of words: \")\n",
    "    l = re.split(\" \",a)\n",
    "    for i in l:\n",
    "        if l.count(i)!=1:\n",
    "            l.remove(i)\n",
    "    l.sort()\n",
    "    for i in range(0,len(l)):\n",
    "        if i < len(l)-1:\n",
    "            print(l[i],end = \" \")\n",
    "        else:\n",
    "            print(l[i])\n",
    "except Exception as e:\n",
    "    print(e)"
   ]
  },
  {
   "cell_type": "markdown",
   "metadata": {},
   "source": [
    "Question 5:\n",
    "    \n",
    "Write a program that accepts a sentence and calculate the number of letters and digits.\n",
    "Suppose the following input is supplied to the program:\n",
    "hello world! 123\n",
    "Then, the output should be:\n",
    "LETTERS 10\n",
    "DIGITS 3"
   ]
  },
  {
   "cell_type": "code",
   "execution_count": 173,
   "metadata": {},
   "outputs": [
    {
     "name": "stdout",
     "output_type": "stream",
     "text": [
      "Enter a alphanumeric sentence:  hello world! 123\n",
      "LETTERS 10\n",
      "DIGITS 3\n"
     ]
    }
   ],
   "source": [
    "try:\n",
    "    a = input(\"Enter a alphanumeric sentence: \")\n",
    "    a = a.lower()\n",
    "except Exception as e:\n",
    "    print(e)\n",
    "else:\n",
    "    digit = 0\n",
    "    letter = 0\n",
    "    for i in a:\n",
    "        if i>=chr(49) and i<=chr(57):\n",
    "            digit+=1\n",
    "        elif i>=chr(97) and i<=chr(122):\n",
    "            letter+=1\n",
    "    print('LETTERS',letter)\n",
    "    print('DIGITS',digit)"
   ]
  },
  {
   "cell_type": "markdown",
   "metadata": {},
   "source": [
    "Question 6:\n",
    "    \n",
    "A website requires the users to input username and password to register. Write a program to\n",
    "check the validity of password input by users.\n",
    "Following are the criteria for checking the password:\n",
    "1. At least 1 letter between [a-z]\n",
    "2. At least 1 number between [0-9]\n",
    "1. At least 1 letter between [A-Z]\n",
    "3. At least 1 character from [$#@]\n",
    "4. Minimum length of transaction password: 6\n",
    "5. Maximum length of transaction password: 12\n",
    "Your program should accept a sequence of comma separated passwords and will check them\n",
    "according to the above criteria. Passwords that match the criteria are to be printed, each\n",
    "separated by a comma.\n",
    "Example\n",
    "If the following passwords are given as input to the program:\n",
    "ABd1234@1,a F1#,2w3E*,2We3345\n",
    "Then, the output of the program should be:\n",
    "ABd1234@1"
   ]
  },
  {
   "cell_type": "code",
   "execution_count": 119,
   "metadata": {},
   "outputs": [
    {
     "name": "stdout",
     "output_type": "stream",
     "text": [
      "Enter a comma separated sequence of passwords to check: ABd1234@1,a F1#,2w3E*,2We3345\n",
      "The valid password:  ABd1234@1\n",
      "The invalid password: critia 5 is not satified:  a F1#\n",
      "The invalid password: critia 4 is not satified:  2w3E*\n",
      "The invalid password: critia 4 is not satified:  2We3345\n"
     ]
    }
   ],
   "source": [
    "class password_checker():\n",
    "    count = 0\n",
    "    \n",
    "    def __init__(self,a):\n",
    "        self.a = a\n",
    "    \n",
    "    def lower(a):\n",
    "        \"\"\" checks for a lowercase \"\"\"\n",
    "        try:\n",
    "            for i in a:\n",
    "                if i >= chr(97) and i<= chr(122):\n",
    "                    password_checker.count+=1\n",
    "                    if password_checker.count >= 1:\n",
    "                        return True\n",
    "            return False\n",
    "        except Exception as e:\n",
    "            print(e)\n",
    "    \n",
    "    def intt(a):\n",
    "        \"\"\" checks for a integer \"\"\"\n",
    "        try:\n",
    "            for i in a :\n",
    "                if i >= chr(49) and i <= chr(57):\n",
    "                    password_checker.count+=1\n",
    "                    if password_checker.count >= 1:\n",
    "                        return True\n",
    "            return False\n",
    "        except Exception as e:\n",
    "            print(e)\n",
    "    \n",
    "    def upper(a):\n",
    "        \"\"\" checks for a upper case\"\"\"\n",
    "        try:\n",
    "            for i in a :\n",
    "                if i >= chr(65) and i <= chr(90):\n",
    "                    password_checker.count+=1\n",
    "                    if password_checker.count >= 1:\n",
    "                        return True\n",
    "            return False\n",
    "        except Exception as e:\n",
    "            print(e)\n",
    "            \n",
    "    def chrr(a):\n",
    "        \"\"\" checks for (\"$\",\"#\",\"@\") \"\"\"\n",
    "        x = ['$','#','@']\n",
    "        try:\n",
    "            for i in a :\n",
    "                if i in x:\n",
    "                    password_checker.count+=1\n",
    "                    if password_checker.count >= 1:\n",
    "                        return True\n",
    "            return False\n",
    "        except Exception as e:\n",
    "            print(e)\n",
    "        \n",
    "    def lenn(a):\n",
    "        \"\"\" checks the len of the string\"\"\"\n",
    "        try:\n",
    "            if len(a) >= 6 and len(a) <= 12:\n",
    "                return True\n",
    "            return False\n",
    "        except Exception as e:\n",
    "            print(e)\n",
    "    \n",
    "\n",
    "a = input(\"Enter a comma separated sequence of passwords to check: \")\n",
    "\n",
    "import re\n",
    "\n",
    "l = re.split(',',a)\n",
    "for i in l:\n",
    "    if password_checker.lower(i) == True:\n",
    "        if password_checker.upper(i) == True:\n",
    "            if password_checker.intt(i) == True:\n",
    "                if password_checker.chrr(i) == True:\n",
    "                    if password_checker.lenn(i) == True:\n",
    "                        print(\"The valid password: \", i )\n",
    "                    else:\n",
    "                        print(\"The invalid password: critia 5 is not satified: \", i )\n",
    "                else:\n",
    "                    print(\"The invalid password: critia 4 is not satified: \", i )\n",
    "            else:\n",
    "                print(\"The invalid password: critia 3 is not satified: \", i )\n",
    "        else:\n",
    "            print(\"The invalid password: critia 2 is not satified: \", i )\n",
    "    else:\n",
    "        print(\"The invalid password: critia 1 is not satified: \", i )       "
   ]
  },
  {
   "cell_type": "code",
   "execution_count": null,
   "metadata": {},
   "outputs": [],
   "source": []
  }
 ],
 "metadata": {
  "kernelspec": {
   "display_name": "Python 3",
   "language": "python",
   "name": "python3"
  },
  "language_info": {
   "codemirror_mode": {
    "name": "ipython",
    "version": 3
   },
   "file_extension": ".py",
   "mimetype": "text/x-python",
   "name": "python",
   "nbconvert_exporter": "python",
   "pygments_lexer": "ipython3",
   "version": "3.8.5"
  }
 },
 "nbformat": 4,
 "nbformat_minor": 4
}
