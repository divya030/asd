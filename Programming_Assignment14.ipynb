{
 "cells": [
  {
   "cell_type": "markdown",
   "metadata": {},
   "source": [
    "Question 1:\n",
    "    \n",
    "Define a class with a generator which can iterate the numbers, which are divisible by\n",
    "7, between a given range 0 and n."
   ]
  },
  {
   "cell_type": "code",
   "execution_count": 1,
   "metadata": {},
   "outputs": [
    {
     "name": "stdout",
     "output_type": "stream",
     "text": [
      "The numbers divisible by 7: [7, 14, 21, 28, 35, 42, 49, 56, 63, 70]\n"
     ]
    }
   ],
   "source": [
    "class div():\n",
    "    \n",
    "    a = 1\n",
    "    \n",
    "    def div_7(n):\n",
    "        \"\"\"Returns numbers divisible by 7\"\"\"\n",
    "        try:\n",
    "            \n",
    "            for i in range (div.a , n):\n",
    "                if i%7 == 0:\n",
    "                    yield i \n",
    "                    \n",
    "        except Exception as e:\n",
    "            print(e)\n",
    "\n",
    "                \n",
    "x = div.div_7(71)\n",
    "\n",
    "print(f\"The numbers divisible by 7: {list(x)}\")"
   ]
  },
  {
   "cell_type": "markdown",
   "metadata": {},
   "source": [
    "Question 2:\n",
    "    \n",
    "Write a program to compute the frequency of the words from the input. The output\n",
    "should output after sorting the key alphanumerically.\n",
    "Suppose the following input is supplied to the program:\n",
    "New to Python or choosing between Python 2 and Python 3? Read Python 2 or\n",
    "Python 3.\n",
    "Then, the output should be:\n",
    "2:2\n",
    "3.:1\n",
    "3?:1\n",
    "New:1\n",
    "Python:5\n",
    "Read:1\n",
    "and:1\n",
    "between:1\n",
    "choosing:1\n",
    "or:2\n",
    "to:1"
   ]
  },
  {
   "cell_type": "code",
   "execution_count": 2,
   "metadata": {},
   "outputs": [
    {
     "name": "stdout",
     "output_type": "stream",
     "text": [
      "2:2\n",
      "3:1\n",
      "3?:1\n",
      "New:1\n",
      "Python:5\n",
      "Read:1\n",
      "and:1\n",
      "between:1\n",
      "choosing:1\n",
      "or:2\n",
      "to:1\n"
     ]
    }
   ],
   "source": [
    "str_ = \"New to Python or choosing between Python 2 and Python 3? Read Python 2 or Python 3\"\n",
    "lst = []\n",
    "split = str_.split(\" \")\n",
    "\n",
    "for i in split:\n",
    "    z = split.count(i)\n",
    "    lst.append(f\"{i}:{z}\")\n",
    "        \n",
    "lst = [print(i)  for i in (sorted(set(lst)))]"
   ]
  },
  {
   "cell_type": "markdown",
   "metadata": {},
   "source": [
    "Question 3:\n",
    "\n",
    "Define a class Person and its two child classes: Male and Female. All classes have a\n",
    "method &quot;getGender&quot; which can print &quot;Male&quot; for Male class and &quot;Female&quot; for Female\n",
    "class."
   ]
  },
  {
   "cell_type": "code",
   "execution_count": 38,
   "metadata": {},
   "outputs": [],
   "source": [
    "class person:\n",
    "    a = \"male\"\n",
    "    b = \"female\"\n",
    "    def getGender_male(a):\n",
    "        return a\n",
    "    def getGender_female(b):\n",
    "        return b\n",
    "    \n",
    "class male(person):\n",
    "    def getGender(a):\n",
    "        print(person.a)\n",
    "        \n",
    "\n",
    "class female(person):\n",
    "    def getGender(b):\n",
    "        print(person.b)"
   ]
  },
  {
   "cell_type": "code",
   "execution_count": 39,
   "metadata": {},
   "outputs": [
    {
     "name": "stdout",
     "output_type": "stream",
     "text": [
      "female\n",
      "male\n"
     ]
    }
   ],
   "source": [
    "sharon = female()\n",
    "doug = male()\n",
    "sharon.getGender()\n",
    "doug.getGender()"
   ]
  },
  {
   "cell_type": "markdown",
   "metadata": {},
   "source": [
    "Question 4:\n",
    "    \n",
    "Please write a program to generate all sentences where subject is in [&quot;I&quot;, &quot;You&quot;] and\n",
    "verb is in [&quot;Play&quot;, &quot;Love&quot;] and the object is in [&quot;Hockey&quot;,&quot;Football&quot;]."
   ]
  },
  {
   "cell_type": "code",
   "execution_count": 45,
   "metadata": {},
   "outputs": [
    {
     "name": "stdout",
     "output_type": "stream",
     "text": [
      "I Play Hockey\n",
      "I Play Football\n",
      "I Love Hockey\n",
      "I Love Football\n",
      "You Play Hockey\n",
      "You Play Football\n",
      "You Love Hockey\n",
      "You Love Football\n"
     ]
    }
   ],
   "source": [
    "subjects =  [\"I\", \"You\"]\n",
    "verb =  [\"Play\", \"Love\"] \n",
    "objects = [\"Hockey\",\"Football\"]\n",
    "\n",
    "sentences = [(f\"{i} {j} {z}\")   for i in subjects  for j in verb   for z in objects]\n",
    "\n",
    "for i in sentences:\n",
    "    print(i)"
   ]
  },
  {
   "cell_type": "markdown",
   "metadata": {},
   "source": [
    "Question 5:\n",
    "    \n",
    "Please write a program to compress and decompress the string &quot;hello world!hello\n",
    "world!hello world!hello world!&quot;."
   ]
  },
  {
   "cell_type": "code",
   "execution_count": 67,
   "metadata": {},
   "outputs": [
    {
     "name": "stdout",
     "output_type": "stream",
     "text": [
      "compressed string:  b'\\x1f\\x8b\\x08\\x003P\\rb\\x02\\xff\\xcbH\\xcd\\xc9\\xc9W(\\xcf/\\xcaIQ\\xcc \\x82\\r\\x00\\xd3\\xe6\\xcf\\xae0\\x00\\x00\\x00'\n",
      "decompressed string:  b'hello world!hello world!hello world!hello world!'\n"
     ]
    }
   ],
   "source": [
    "import gzip\n",
    "\n",
    "str_ = b\"hello world!hello world!hello world!hello world!\"\n",
    "\n",
    "x = gzip.compress(str_)\n",
    "print(\"compressed string: \",x)\n",
    "y = gzip.decompress(x)\n",
    "print(\"decompressed string: \", y)"
   ]
  },
  {
   "cell_type": "markdown",
   "metadata": {},
   "source": [
    "Question 6:\n",
    "    \n",
    "Please write a binary search function which searches an item in a sorted list. The\n",
    "function should return the index of element to be searched in the list."
   ]
  },
  {
   "cell_type": "code",
   "execution_count": 91,
   "metadata": {},
   "outputs": [
    {
     "name": "stdout",
     "output_type": "stream",
     "text": [
      "Element is present at index  0\n"
     ]
    }
   ],
   "source": [
    "l = [34,5,65,66,782,2,4,3,12]\n",
    "x = 34\n",
    "\n",
    "def bin_search(l,start,end,x):\n",
    "    mid = start + (end - start)//2\n",
    "    \n",
    "    if end > start:\n",
    "    \n",
    "        if l[mid] == x:\n",
    "            return mid\n",
    "\n",
    "        elif mid < x:\n",
    "            return bin_search(l,mid+1,end,x)\n",
    "\n",
    "        else: \n",
    "            return bin_search(l,start,mid-1,x)\n",
    "    \n",
    "    else:\n",
    "        return -1\n",
    "    \n",
    "    \n",
    "c = bin_search(l,0,len(l)-1,x)\n",
    "\n",
    "if result != -1:\n",
    "    print(\"Element is present at index % d\" % result)\n",
    "else:\n",
    "    print(\"Element is not present in array\")"
   ]
  }
 ],
 "metadata": {
  "kernelspec": {
   "display_name": "Python 3",
   "language": "python",
   "name": "python3"
  },
  "language_info": {
   "codemirror_mode": {
    "name": "ipython",
    "version": 3
   },
   "file_extension": ".py",
   "mimetype": "text/x-python",
   "name": "python",
   "nbconvert_exporter": "python",
   "pygments_lexer": "ipython3",
   "version": "3.8.5"
  }
 },
 "nbformat": 4,
 "nbformat_minor": 4
}
