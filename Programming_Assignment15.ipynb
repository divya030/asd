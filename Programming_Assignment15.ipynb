{
 "cells": [
  {
   "cell_type": "markdown",
   "metadata": {},
   "source": [
    "Question 1:\n",
    "    \n",
    "Please write a program using generator to print the numbers which can be divisible by 5 and\n",
    "7 between 0 and n in comma separated form while n is input by console.\n",
    "Example:\n",
    "If the following n is given as input to the program:\n",
    "100\n",
    "Then, the output of the program should be:\n",
    "0,35,70"
   ]
  },
  {
   "cell_type": "code",
   "execution_count": 1,
   "metadata": {},
   "outputs": [
    {
     "name": "stdout",
     "output_type": "stream",
     "text": [
      "Enter the number: 100\n",
      "Output: 0,35,70\n"
     ]
    }
   ],
   "source": [
    "def div_5_7():\n",
    "    \n",
    "    \"\"\" Retuns output divisible by 7 and 5\"\"\"\n",
    "    try:\n",
    "    \n",
    "        for i in range (0,int(input(\"Enter the number: \"))):\n",
    "            if i%5==0 and i%7==0:\n",
    "                yield i \n",
    "            \n",
    "    except Exception as e:\n",
    "        print(e)\n",
    "    \n",
    "l = list (div_5_7())\n",
    "print(\"Output: \",end =\"\")\n",
    "\n",
    "for i in l:\n",
    "    if i == l[-1]:\n",
    "        print(i)\n",
    "    else:\n",
    "        print(i,end = \",\")"
   ]
  },
  {
   "cell_type": "markdown",
   "metadata": {},
   "source": [
    "Question 2:\n",
    "    \n",
    "Please write a program using generator to print the even numbers between 0 and n in comma\n",
    "separated form while n is input by console.\n",
    "Example:\n",
    "If the following n is given as input to the program:\n",
    "10\n",
    "Then, the output of the program should be:\n",
    "0,2,4,6,8,10"
   ]
  },
  {
   "cell_type": "code",
   "execution_count": 2,
   "metadata": {},
   "outputs": [
    {
     "name": "stdout",
     "output_type": "stream",
     "text": [
      "Enter a number: 10\n",
      "Output: 0,2,4,6,8,10\n"
     ]
    }
   ],
   "source": [
    "def even():\n",
    "    \n",
    "    \"\"\"Returns even number from the given range\"\"\"\n",
    "    \n",
    "    try:\n",
    "        \n",
    "        for i in range (0,int(input(\"Enter a number: \"))+1):\n",
    "            if i%2 == 0:\n",
    "                yield i\n",
    "            \n",
    "    except Exception as e:\n",
    "        print(e)\n",
    "        \n",
    "l = list (even())\n",
    "print(\"Output: \",end =\"\")\n",
    "\n",
    "for i in l:\n",
    "    if i == l[-1]:\n",
    "        print(i)\n",
    "    else:\n",
    "        print(i,end = \",\")        "
   ]
  },
  {
   "cell_type": "markdown",
   "metadata": {},
   "source": [
    "Question 3:\n",
    "    \n",
    "The Fibonacci Sequence is computed based on the following formula:\n",
    "f(n)=0 if n=0\n",
    "f(n)=1 if n=1\n",
    "f(n)=f(n-1)+f(n-2) if n&gt;1\n",
    "Please write a program using list comprehension to print the Fibonacci Sequence in comma\n",
    "separated form with a given n input by console.\n",
    "Example:\n",
    "If the following n is given as input to the program:\n",
    "7\n",
    "\n",
    "Then, the output of the program should be:\n",
    "0,1,1,2,3,5,8,13"
   ]
  },
  {
   "cell_type": "code",
   "execution_count": 3,
   "metadata": {},
   "outputs": [
    {
     "name": "stdout",
     "output_type": "stream",
     "text": [
      "[0, 1, 1, 2, 3, 5, 8, 13]\n"
     ]
    }
   ],
   "source": [
    "def fibo(n):\n",
    "    \n",
    "    \"\"\" Print fibonacci series for the input\"\"\"\n",
    "    \n",
    "    try:\n",
    "        l = [0,1]\n",
    "        if n == 0:\n",
    "            return l[0]\n",
    "        elif n == 1:\n",
    "            return l\n",
    "        else:\n",
    "            l1 = [l.append(l[i-1]+l[i-2]) for i in range (2,n+1)]\n",
    "            return l\n",
    "    except Exception as e:\n",
    "        print(e)\n",
    "        \n",
    "x = fibo(7)\n",
    "print(x)"
   ]
  },
  {
   "cell_type": "markdown",
   "metadata": {},
   "source": [
    "Question 4:\n",
    "    \n",
    "Assuming that we have some email addresses in the &quot;username@companyname.com&quot; format,\n",
    "please write program to print the user name of a given email address. Both user names and\n",
    "company names are composed of letters only.\n",
    "Example:\n",
    "If the following email address is given as input to the program:\n",
    "john@google.com\n",
    "Then, the output of the program should be:\n",
    "john\n",
    "\n"
   ]
  },
  {
   "cell_type": "code",
   "execution_count": 4,
   "metadata": {},
   "outputs": [
    {
     "name": "stdout",
     "output_type": "stream",
     "text": [
      "Enter your mail address: john@google.com \n",
      "john\n"
     ]
    }
   ],
   "source": [
    "try:\n",
    "    n = input(\"Enter your mail address: \")\n",
    "    if '@' in n and \".com\" in n:\n",
    "        x = n.split(\"@\")\n",
    "        print(x[0])\n",
    "    else:\n",
    "        print(\"Not a valid mail address\")\n",
    "except Exception as e:\n",
    "        print(e)"
   ]
  },
  {
   "cell_type": "markdown",
   "metadata": {},
   "source": [
    "Question 5:\n",
    "    \n",
    "Define a class named Shape and its subclass Square. The Square class has an init function\n",
    "which takes a length as argument. Both classes have a area function which can print the area\n",
    "of the shape where Shape&#39;s area is 0 by default."
   ]
  },
  {
   "cell_type": "code",
   "execution_count": 37,
   "metadata": {},
   "outputs": [],
   "source": [
    "class shape:\n",
    "    \n",
    "    \"\"\" Returns area od a square default = 0\"\"\"\n",
    "    \n",
    "    def __init__(self,side = 0):\n",
    "        self.length = side\n",
    "        \n",
    "    def area(self):\n",
    "        return (self.length**2)\n",
    "\n",
    "    \n",
    "class square(shape):\n",
    "    \n",
    "     \"\"\" Returns area od a square\"\"\"\n",
    "        \n",
    "    def __init__(self,side):\n",
    "        shape.__init__(self,side)\n",
    "        \n",
    "    def area(self):\n",
    "        return(self.length**2)"
   ]
  },
  {
   "cell_type": "code",
   "execution_count": 41,
   "metadata": {},
   "outputs": [
    {
     "name": "stdout",
     "output_type": "stream",
     "text": [
      "Returns area od a square:  0\n",
      "Returns area od a square:  16\n"
     ]
    }
   ],
   "source": [
    "x = shape()\n",
    "z = x.area()\n",
    "print(\"Returns area od a square: \",z)\n",
    "\n",
    "c = square(4)\n",
    "z = c.area()\n",
    "print(\"Returns area od a square: \",z)"
   ]
  }
 ],
 "metadata": {
  "kernelspec": {
   "display_name": "Python 3",
   "language": "python",
   "name": "python3"
  },
  "language_info": {
   "codemirror_mode": {
    "name": "ipython",
    "version": 3
   },
   "file_extension": ".py",
   "mimetype": "text/x-python",
   "name": "python",
   "nbconvert_exporter": "python",
   "pygments_lexer": "ipython3",
   "version": "3.8.5"
  }
 },
 "nbformat": 4,
 "nbformat_minor": 4
}
