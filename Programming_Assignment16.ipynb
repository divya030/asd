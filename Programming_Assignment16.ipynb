{
 "cells": [
  {
   "cell_type": "markdown",
   "metadata": {},
   "source": [
    "Question1. \n",
    "\n",
    "Write a function that stutters a word as if someone is struggling to read it. The\n",
    "first two letters are repeated twice with an ellipsis ... and space after each, and then the\n",
    "word is pronounced with a question mark ?.\n",
    "\n",
    "Examples\n",
    "stutter(&quot;incredible&quot;) ➞ &quot;in... in... incredible?&quot;\n",
    "stutter(&quot;enthusiastic&quot;) ➞ &quot;en... en... enthusiastic?&quot;\n",
    "stutter(&quot;outstanding&quot;) ➞ &quot;ou... ou... outstanding?&quot;\n",
    "\n",
    "Hint :- Assume all input is in lower case and at least two characters long."
   ]
  },
  {
   "cell_type": "code",
   "execution_count": 1,
   "metadata": {},
   "outputs": [
    {
     "data": {
      "text/plain": [
       "'ou...ou...outstanding?'"
      ]
     },
     "execution_count": 1,
     "metadata": {},
     "output_type": "execute_result"
    }
   ],
   "source": [
    "def stutters(n):\n",
    "    \"\"\"stutters a word\"\"\"\n",
    "    try:\n",
    "        s = n[:2]\n",
    "        x = f\"{s}...\"\n",
    "        return(f\"{x*2}{n}?\")\n",
    "    except Exception as e:\n",
    "        print(e)\n",
    "\n",
    "\n",
    "stutters(\"outstanding\")"
   ]
  },
  {
   "cell_type": "markdown",
   "metadata": {},
   "source": [
    "Question 2.\n",
    "\n",
    "Create a function that takes an angle in radians and returns the corresponding\n",
    "angle in degrees rounded to one decimal place.\n",
    "Examples\n",
    "radians_to_degrees(1) ➞ 57.3\n",
    "radians_to_degrees(20) ➞ 1145.9\n",
    "radians_to_degrees(50) ➞ 2864.8"
   ]
  },
  {
   "cell_type": "code",
   "execution_count": 53,
   "metadata": {},
   "outputs": [
    {
     "name": "stdout",
     "output_type": "stream",
     "text": [
      "Enter radians: 50\n",
      "radians_to_degrees(50):2864.8\n"
     ]
    }
   ],
   "source": [
    "import math\n",
    "\n",
    "try:\n",
    "    radians = int(input(\"Enter radians: \"))\n",
    "except Exception as e:\n",
    "        print(e)\n",
    "x = radians*(180/math.pi)\n",
    "print(f\"radians_to_degrees({radians}):{round(x,1)}\")"
   ]
  },
  {
   "cell_type": "markdown",
   "metadata": {},
   "source": [
    "Question 3. \n",
    "\n",
    "In this challenge, establish if a given integer num is a Curzon number. If 1 plus\n",
    "2 elevated to num is exactly divisible by 1 plus 2 multiplied by num, then num is a Curzon\n",
    "number.\n",
    "Given a non-negative integer num, implement a function that returns True if num is a Curzon\n",
    "number, or False otherwise.\n",
    "Examples\n",
    "is_curzon(5) ➞ True\n",
    " 2 ** 5 + 1 = 33\n",
    " 2 * 5 + 1 = 11\n",
    " 33 is a multiple of 11\n",
    "is_curzon(10) ➞ False\n",
    " 2 ** 10 + 1 = 1025\n",
    " 2 * 10 + 1 = 21\n",
    " 1025 is not a multiple of 21\n",
    "is_curzon(14) ➞ True\n",
    " 2 ** 14 + 1 = 16385\n",
    " 2 * 14 + 1 = 29\n",
    " 16385 is a multiple of 29"
   ]
  },
  {
   "cell_type": "code",
   "execution_count": 31,
   "metadata": {},
   "outputs": [
    {
     "name": "stdout",
     "output_type": "stream",
     "text": [
      "Enter the number: 10\n",
      "False - 10 is not a  Curzon number\n"
     ]
    }
   ],
   "source": [
    "def curzon(n):\n",
    "    \"\"\"establish if a given integer num is a Curzon number.\"\"\"\n",
    "    x = (2**n)+1\n",
    "    y = (2*n)+1\n",
    "    \n",
    "    l = [print(f\"True - {n} is a Curzon number\")  if x%y == 0  else print(f\"False - {n} is not a  Curzon number\")]\n",
    "    \n",
    "    return l\n",
    "        \n",
    "        \n",
    "n = int(input(\"Enter the number: \"))\n",
    "x = curzon(n)"
   ]
  },
  {
   "cell_type": "markdown",
   "metadata": {},
   "source": [
    "Question 4.\n",
    "\n",
    "Given the side length x find the area of a hexagon.\n",
    "\n",
    "Examples\n",
    "area_of_hexagon(1) ➞ 2.6\n",
    "area_of_hexagon(2) ➞ 10.4\n",
    "area_of_hexagon(3) ➞ 23.4"
   ]
  },
  {
   "cell_type": "code",
   "execution_count": 52,
   "metadata": {},
   "outputs": [
    {
     "name": "stdout",
     "output_type": "stream",
     "text": [
      "Enter the number: 3\n",
      "area_of_hexagon(3): 23.4\n"
     ]
    }
   ],
   "source": [
    "import math\n",
    "\n",
    "try:\n",
    "    \n",
    "    side = int(input(\"Enter the number: \"))\n",
    "\n",
    "    area = 3*math.sqrt(3)*(side**2)/2\n",
    "    \n",
    "    print(f\"area_of_hexagon({side}): {round(area,1)}\")\n",
    "    \n",
    "except Exception as e:\n",
    "    print(e)"
   ]
  },
  {
   "cell_type": "markdown",
   "metadata": {},
   "source": [
    "Question 5. \n",
    "\n",
    "Create a function that returns a base-2 (binary) representation of a base-10\n",
    "(decimal) string number. To convert is simple: ((2) means base-2 and (10) means base-10)\n",
    "010101001(2) = 1 + 8 + 32 + 128.\n",
    "Going from right to left, the value of the most right bit is 1, now from that every bit to the left\n",
    "will be x2 the value, value of an 8 bit binary numbers are (256, 128, 64, 32, 16, 8, 4, 2, 1).\n",
    "Examples\n",
    "binary(1) ➞ &quot;1&quot;\n",
    " 1*1 = 1\n",
    "binary(5) ➞ &quot;101&quot;\n",
    " 1*1 + 1*4 = 5\n",
    "binary(10) ➞ &quot;1010&quot;\n",
    " 1*2 + 1*8 = 10"
   ]
  },
  {
   "cell_type": "code",
   "execution_count": 164,
   "metadata": {},
   "outputs": [
    {
     "name": "stdout",
     "output_type": "stream",
     "text": [
      "Enter a number: 010101001\n",
      "169\n"
     ]
    }
   ],
   "source": [
    "l = []\n",
    "decimal = 0\n",
    "i = 0\n",
    "a = 0\n",
    "try:\n",
    "    n = int(input(\"Enter a number: \"))\n",
    "    while n != 0:\n",
    "        binary = n%10\n",
    "        decimal = decimal + (binary*pow(2,i))\n",
    "        n = n//10\n",
    "        i+=1\n",
    "    print(decimal)\n",
    "\n",
    "except Exception as e:\n",
    "    print(e)"
   ]
  }
 ],
 "metadata": {
  "kernelspec": {
   "display_name": "Python 3",
   "language": "python",
   "name": "python3"
  },
  "language_info": {
   "codemirror_mode": {
    "name": "ipython",
    "version": 3
   },
   "file_extension": ".py",
   "mimetype": "text/x-python",
   "name": "python",
   "nbconvert_exporter": "python",
   "pygments_lexer": "ipython3",
   "version": "3.8.5"
  }
 },
 "nbformat": 4,
 "nbformat_minor": 4
}
