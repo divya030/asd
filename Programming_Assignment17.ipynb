{
 "cells": [
  {
   "cell_type": "markdown",
   "metadata": {},
   "source": [
    "Question1. \n",
    "\n",
    "Create a function that takes three arguments a, b, c and returns the sum of the\n",
    "numbers that are evenly divided by c from the range a, b inclusive.\n",
    "Examples\n",
    "evenly_divisible(1, 10, 20) ➞ 0\n",
    " No number between 1 and 10 can be evenly divided by 20.\n",
    "evenly_divisible(1, 10, 2) ➞ 30\n",
    " 2 + 4 + 6 + 8 + 10 = 30\n",
    "evenly_divisible(1, 10, 3) ➞ 18\n",
    " 3 + 6 + 9 = 18"
   ]
  },
  {
   "cell_type": "code",
   "execution_count": 10,
   "metadata": {},
   "outputs": [
    {
     "name": "stdout",
     "output_type": "stream",
     "text": [
      "sum of the numbers that are evenly divided by 20: 0\n"
     ]
    }
   ],
   "source": [
    "def even_div(a,b,c):\n",
    "    \"\"\"returns the sum of the numbers that are evenly divided by c from the range a, b inclusive\"\"\"\n",
    "    summ = 0\n",
    "    try: \n",
    "        for i in range(a,b+1):\n",
    "            if i%c == 0:\n",
    "                summ += i\n",
    "        print(f\"sum of the numbers that are evenly divided by {c}: {summ}\")\n",
    "    except Exception as e:\n",
    "        print(e)\n",
    "        \n",
    "x = even_div(1,10,20)"
   ]
  },
  {
   "cell_type": "markdown",
   "metadata": {},
   "source": [
    "Question2.\n",
    "\n",
    "Create a function that returns True if a given inequality expression is correct and\n",
    "False otherwise.\n",
    "Examples\n",
    "correct_signs(&quot;3 &lt; 7 &lt; 11&quot;) ➞ True\n",
    "correct_signs(&quot;13 &gt; 44 &gt; 33 &gt; 1&quot;) ➞ False\n",
    "correct_signs(&quot;1 &lt; 2 &lt; 6 &lt; 9 &gt; 3&quot;) ➞ True"
   ]
  },
  {
   "cell_type": "code",
   "execution_count": 20,
   "metadata": {},
   "outputs": [
    {
     "name": "stdout",
     "output_type": "stream",
     "text": [
      "Enter a inequality expression: 1<2<6<9>3\n",
      "The given inequality expression is True\n"
     ]
    }
   ],
   "source": [
    "def eval_exp(exp):\n",
    "    \"\"\"checks the given inequality expression is correct or not\"\"\"\n",
    "    if exp:\n",
    "        return (True)\n",
    "    else:\n",
    "        return (False)\n",
    "    \n",
    "try:\n",
    "    exp = eval(input(\"Enter a inequality expression: \"))\n",
    "    x = eval_exp(exp)\n",
    "    print(f\"The given inequality expression is {exp}\")\n",
    "except Exception as e:\n",
    "        print(e)"
   ]
  },
  {
   "cell_type": "markdown",
   "metadata": {},
   "source": [
    "Question3. \n",
    "\n",
    "Create a function that replaces all the vowels in a string with a specified character.\n",
    "Examples\n",
    "replace_vowels(&quot;the aardvark&quot;, &quot;#&quot;) ➞ &quot;th# ##rdv#rk&quot;\n",
    "replace_vowels(&quot;minnie mouse&quot;, &quot;?&quot;) ➞ &quot;m?nn?? m??s?&quot;\n",
    "replace_vowels(&quot;shakespeare&quot;, &quot;*&quot;) ➞ &quot;sh*k*sp**r*&quot;"
   ]
  },
  {
   "cell_type": "code",
   "execution_count": 47,
   "metadata": {},
   "outputs": [
    {
     "name": "stdout",
     "output_type": "stream",
     "text": [
      "Enter a string: minnie mouse\n",
      "Enter a special character to be replaced: ?\n",
      "replace_vowels:m?nn?? m??s?\n"
     ]
    }
   ],
   "source": [
    "def repl_vow_spl(strr,char):\n",
    "    \"\"\" replaces all the vowels in a string with a specified character\"\"\"\n",
    "    \n",
    "    vowels = [\"a\",\"e\",\"i\",\"o\",\"u\"]\n",
    "    try:\n",
    "        for i in strr:\n",
    "            if i in vowels:\n",
    "                strr = strr.replace(i,char)\n",
    "        return (strr)\n",
    "    except Exception as e:\n",
    "        print(e)\n",
    "strr = input(\"Enter a string: \")\n",
    "char = input(\"Enter a special character to be replaced: \")\n",
    "output = repl_vow_spl(strr,char)\n",
    "print(f\"replace_vowels:{output}\")"
   ]
  },
  {
   "cell_type": "markdown",
   "metadata": {},
   "source": [
    "Question4. \n",
    "\n",
    "Write a function that calculates the factorial of a number recursively.\n",
    "Examples\n",
    "factorial(5) ➞ 120\n",
    "factorial(3) ➞ 6\n",
    "factorial(1) ➞ 1\n",
    "factorial(0) ➞ 1"
   ]
  },
  {
   "cell_type": "code",
   "execution_count": 12,
   "metadata": {},
   "outputs": [
    {
     "name": "stdout",
     "output_type": "stream",
     "text": [
      "120\n"
     ]
    }
   ],
   "source": [
    "def fact(n):\n",
    "    \"\"\"calculates the factorial of a number recursively\"\"\"\n",
    "    try:\n",
    "        if n != 0:\n",
    "            return n * fact(n-1)\n",
    "        else:\n",
    "            return 1\n",
    "    except Exception as e:\n",
    "        print(e)\n",
    "    \n",
    "x = fact(5)\n",
    "print(x)"
   ]
  },
  {
   "cell_type": "markdown",
   "metadata": {},
   "source": [
    "Question 5\n",
    "\n",
    "Hamming distance is the number of characters that differ between two strings.\n",
    "To illustrate:\n",
    "String1: &quot;abcbba&quot;\n",
    "String2: &quot;abcbda&quot;\n",
    "Hamming Distance: 1 - &quot;b&quot; vs. &quot;d&quot; is the only difference.\n",
    "Create a function that computes the hamming distance between two strings.\n",
    "Examples\n",
    "hamming_distance(&quot;abcde&quot;, &quot;bcdef&quot;) ➞ 5\n",
    "hamming_distance(&quot;abcde&quot;, &quot;abcde&quot;) ➞ 0\n",
    "hamming_distance(&quot;strong&quot;, &quot;strung&quot;) ➞ 1"
   ]
  },
  {
   "cell_type": "code",
   "execution_count": 4,
   "metadata": {},
   "outputs": [
    {
     "name": "stdout",
     "output_type": "stream",
     "text": [
      "Enter the string: abcde\n",
      "Enter the string: bcdef\n",
      "hamming_distance ('abcde', 'bcdef'): 5\n"
     ]
    }
   ],
   "source": [
    "def hamming_dis(a,b):\n",
    "    \n",
    "    \"\"\"returns the number of characters that differ between two strings\"\"\"\n",
    "    \n",
    "    count = 0\n",
    "    try:\n",
    "        for i in range (0,len(a)):\n",
    "            if a[i] != b[i]:\n",
    "                count +=1\n",
    "        return(count)\n",
    "    except Exception as e:\n",
    "        print(e)\n",
    "        \n",
    "a = input(\"Enter the string: \")\n",
    "b = input(\"Enter the string: \")\n",
    "x = hamming_dis(a,b)\n",
    "print(f\"hamming_distance {a,b}: {x}\")"
   ]
  }
 ],
 "metadata": {
  "kernelspec": {
   "display_name": "Python 3",
   "language": "python",
   "name": "python3"
  },
  "language_info": {
   "codemirror_mode": {
    "name": "ipython",
    "version": 3
   },
   "file_extension": ".py",
   "mimetype": "text/x-python",
   "name": "python",
   "nbconvert_exporter": "python",
   "pygments_lexer": "ipython3",
   "version": "3.8.5"
  }
 },
 "nbformat": 4,
 "nbformat_minor": 4
}
