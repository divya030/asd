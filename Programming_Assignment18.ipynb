{
 "cells": [
  {
   "cell_type": "markdown",
   "metadata": {},
   "source": [
    "Question 1\n",
    "\n",
    "Create a function that takes a list of non-negative integers and strings and return a new list\n",
    "without the strings.\n",
    "Examples\n",
    "filter_list([1, 2, &quot;a&quot;, &quot;b&quot;]) ➞ [1, 2]\n",
    "filter_list([1, &quot;a&quot;, &quot;b&quot;, 0, 15]) ➞ [1, 0, 15]\n",
    "filter_list([1, 2, &quot;aasf&quot;, &quot;1&quot;, &quot;123&quot;, 123]) ➞ [1, 2, 123]"
   ]
  },
  {
   "cell_type": "code",
   "execution_count": 30,
   "metadata": {},
   "outputs": [
    {
     "name": "stdout",
     "output_type": "stream",
     "text": [
      "Enter the len of a list: 6\n",
      "enter 1 element: 1\n",
      "enter 2 element: 2\n",
      "enter 3 element: aasf\n",
      "enter 4 element: \"1\"\n",
      "enter 5 element: \"123\"\n",
      "enter 6 element: 123\n",
      "filter list: [1, 2, 123]\n"
     ]
    }
   ],
   "source": [
    "def non_negative(l):\n",
    "    \"\"\"takes a list of non-negative integers and strings and return a new list without the strings\"\"\"\n",
    "    try:\n",
    "        l1 = [int(i)   for i in l  if i >= chr(48) and i <= chr(57)]\n",
    "\n",
    "        return l1\n",
    "\n",
    "    except Exception as e:\n",
    "        print(e)\n",
    "        \n",
    "l = [input(f\"enter {i} element: \")  for i in range (1,int(input(\"Enter the len of a list: \"))+1)]\n",
    "x = non_negative(l)\n",
    "print(f\"filter list: {x}\")"
   ]
  },
  {
   "cell_type": "markdown",
   "metadata": {},
   "source": [
    "Question 2\n",
    "\n",
    "The &quot;Reverser&quot; takes a string as input and returns that string in reverse order, with the\n",
    "opposite case.\n",
    "Examples\n",
    "reverse(&quot;Hello World&quot;) ➞ &quot;DLROw OLLEh&quot;\n",
    "reverse(&quot;ReVeRsE&quot;) ➞ &quot;eSrEvEr&quot;\n",
    "reverse(&quot;Radar&quot;) ➞ &quot;RADAr&quot;"
   ]
  },
  {
   "cell_type": "code",
   "execution_count": 12,
   "metadata": {},
   "outputs": [
    {
     "name": "stdout",
     "output_type": "stream",
     "text": [
      "Enter a string: Radar\n"
     ]
    },
    {
     "data": {
      "text/plain": [
       "'RADAr'"
      ]
     },
     "execution_count": 12,
     "metadata": {},
     "output_type": "execute_result"
    }
   ],
   "source": [
    "def reverser(a):\n",
    "    \"\"\" returns the string in reverse order, with the opposite case\"\"\"\n",
    "    \n",
    "    import traceback\n",
    "    list_1 = []\n",
    "    try:\n",
    "        for i in a[::-1]:\n",
    "            if i in i.lower():\n",
    "                list_1.append(i.upper())\n",
    "            elif i in i.upper():\n",
    "                list_1.append(i.lower())\n",
    "        string = \"\".join(list_1)\n",
    "        return string\n",
    "    except:\n",
    "        print(traceback.format_exc())\n",
    "\n",
    "        \n",
    "a = input(\"Enter a string: \")\n",
    "reverser(a)"
   ]
  },
  {
   "cell_type": "markdown",
   "metadata": {},
   "source": [
    "Question 3\n",
    "\n",
    "You can assign variables from lists like this:\n",
    "lst = [1, 2, 3, 4, 5, 6]\n",
    "first = lst[0]\n",
    "middle = lst[1:-1]\n",
    "last = lst[-1]\n",
    "print(first) ➞ outputs 1\n",
    "print(middle) ➞ outputs [2, 3, 4, 5]\n",
    "print(last) ➞ outputs 6\n",
    "With Python 3, you can assign variables from lists in a much more succinct way. Create\n",
    "variables first, middle and last from the given list using destructuring assignment\n",
    "(check the Resources tab for some examples), where:\n",
    "first ➞ 1\n",
    "middle ➞ [2, 3, 4, 5]\n",
    "last ➞ 6\n",
    "\n",
    "Your task is to unpack the list writeyourcodehere into three variables, being first,\n",
    "middle, and last, with middle being everything in between the first and last element. Then\n",
    "print all three variables.\n",
    "\n"
   ]
  },
  {
   "cell_type": "code",
   "execution_count": 71,
   "metadata": {},
   "outputs": [
    {
     "name": "stdout",
     "output_type": "stream",
     "text": [
      "first:  1\n",
      "middle:  [2, 3, 4, 5]\n",
      "last:  6\n"
     ]
    }
   ],
   "source": [
    "class destruct():\n",
    "    def __init__(self,list_):\n",
    "        self.list_ = list_\n",
    "        \n",
    "    def check(self):\n",
    "        import traceback\n",
    "        try:\n",
    "            if type(self.list_) == list:\n",
    "                return 1\n",
    "        except:\n",
    "            print(traceback.format_exc())\n",
    "            \n",
    "    def first(self):\n",
    "        \"\"\" Returns the first variable in the list\"\"\"\n",
    "        if destruct.check(self) == 1:\n",
    "            first = self.list_[0]\n",
    "            return first\n",
    "        \n",
    "    def middle(self):\n",
    "        \"\"\" Returns the middle variables in the list\"\"\"\n",
    "        if destruct.check(self) == 1:\n",
    "            middle = self.list_[1:len(self.list_)-1]\n",
    "            return middle\n",
    "    \n",
    "    def last(self):\n",
    "        \"\"\" Returns the last variable in the list\"\"\"\n",
    "        if destruct.check(self) == 1:\n",
    "            last = self.list_[-1]\n",
    "            return last\n",
    "\n",
    "x = destruct([1, 2, 3, 4, 5, 6])\n",
    "print(\"first: \", x.first())\n",
    "print(\"middle: \", x.middle())\n",
    "print(\"last: \", x.last())"
   ]
  },
  {
   "cell_type": "markdown",
   "metadata": {},
   "source": [
    "Question 4\n",
    "\n",
    "Write a function that calculates the factorial of a number recursively.\n",
    "Examples\n",
    "factorial(5) ➞ 120\n",
    "factorial(3) ➞ 6\n",
    "factorial(1) ➞ 1\n",
    "factorial(0) ➞ 1"
   ]
  },
  {
   "cell_type": "code",
   "execution_count": 92,
   "metadata": {},
   "outputs": [
    {
     "name": "stdout",
     "output_type": "stream",
     "text": [
      "Enter a number: 5\n",
      "factorial of 5 is 120\n"
     ]
    }
   ],
   "source": [
    "def fact(n):\n",
    "    \"\"\" calculates the factorial of a number recursively\"\"\"\n",
    "    import traceback\n",
    "    try:\n",
    "        if n == 0:\n",
    "            return 1\n",
    "        else:\n",
    "            a = n-1\n",
    "            return n*fact(a)\n",
    "    except:\n",
    "        print(traceback.format_exc())\n",
    "\n",
    "n = int(input(\"Enter a number: \"))\n",
    "print(f\"factorial of {n} is\",fact(n))"
   ]
  },
  {
   "cell_type": "markdown",
   "metadata": {},
   "source": [
    "Question 5\n",
    "\n",
    "Write a function that moves all elements of one type to the end of the list.\n",
    "Examples\n",
    "move_to_end([1, 3, 2, 4, 4, 1], 1) ➞ [3, 2, 4, 4, 1, 1]\n",
    "Move all the 1s to the end of the array.\n",
    "move_to_end([7, 8, 9, 1, 2, 3, 4], 9) ➞ [7, 8, 1, 2, 3, 4, 9]\n",
    "move_to_end([&quot;a&quot;, &quot;a&quot;, &quot;a&quot;, &quot;b&quot;], &quot;a&quot;) ➞ [&quot;b&quot;, &quot;a&quot;, &quot;a&quot;, &quot;a&quot;]"
   ]
  },
  {
   "cell_type": "code",
   "execution_count": 27,
   "metadata": {},
   "outputs": [
    {
     "name": "stdout",
     "output_type": "stream",
     "text": [
      "['b', 'a', 'a', 'a']\n"
     ]
    }
   ],
   "source": [
    "def move_num_elements(list_,num):\n",
    "    \"\"\"moves all elements of one type to the end of the list\"\"\"\n",
    "    import traceback\n",
    "    count = 0\n",
    "    l1 = []\n",
    "    try:\n",
    "        if type(list_) == list:\n",
    "            for i in list_:\n",
    "                if i != num:\n",
    "                    l1.append(i)\n",
    "                else:\n",
    "                    a = i\n",
    "                    count+=1\n",
    "            while count >= 1:\n",
    "                l1.append(a)\n",
    "                count-=1\n",
    "            return l1\n",
    "        else:\n",
    "            raise Exception(\"Enter a list\")\n",
    "    except:\n",
    "        print(traceback.format_exc())\n",
    "\n",
    "\n",
    "x = move_num_elements([\"a\", \"a\", \"a\", \"b\"], \"a\")\n",
    "print(x)"
   ]
  }
 ],
 "metadata": {
  "kernelspec": {
   "display_name": "Python 3",
   "language": "python",
   "name": "python3"
  },
  "language_info": {
   "codemirror_mode": {
    "name": "ipython",
    "version": 3
   },
   "file_extension": ".py",
   "mimetype": "text/x-python",
   "name": "python",
   "nbconvert_exporter": "python",
   "pygments_lexer": "ipython3",
   "version": "3.8.5"
  }
 },
 "nbformat": 4,
 "nbformat_minor": 4
}
