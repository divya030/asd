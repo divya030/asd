{
 "cells": [
  {
   "cell_type": "markdown",
   "metadata": {},
   "source": [
    "Question1\n",
    "\n",
    "Create a function that takes a string and returns a string in which each character is repeated\n",
    "once.\n",
    "Examples\n",
    "double_char(&quot;String&quot;) ➞ &quot;SSttrriinngg&quot;\n",
    "double_char(&quot;Hello World!&quot;) ➞ &quot;HHeelllloo WWoorrlldd!!&quot;\n",
    "double_char(&quot;1234!_ &quot;) ➞ &quot;11223344!!__ &quot;"
   ]
  },
  {
   "cell_type": "code",
   "execution_count": 42,
   "metadata": {},
   "outputs": [
    {
     "name": "stdout",
     "output_type": "stream",
     "text": [
      "Enter a string: Hello World\n",
      "output: HHeelllloo  WWoorrlldd\n"
     ]
    }
   ],
   "source": [
    "def repeat(n):\n",
    "    \"\"\"takes a string and returns a string in which each character is repeated once\"\"\"\n",
    "    import traceback\n",
    "    try:\n",
    "        a = \"\"\n",
    "        for i in n:\n",
    "            a = a+i+i\n",
    "        return (a)\n",
    "    except:\n",
    "        print(traceback.format_exe())\n",
    "\n",
    "n =input(\"Enter a string: \")\n",
    "x = repeat(n)\n",
    "print(\"output:\",x)"
   ]
  },
  {
   "cell_type": "markdown",
   "metadata": {},
   "source": [
    "Question2\n",
    "\n",
    "Create a function that reverses a boolean value and returns the string &quot;boolean expected&quot;\n",
    "if another variable type is given.\n",
    "Examples\n",
    "reverse(True) ➞ False\n",
    "reverse(False) ➞ True\n",
    "reverse(0) ➞ &quot;boolean expected&quot;\n",
    "reverse(None) ➞ &quot;boolean expected&quot;"
   ]
  },
  {
   "cell_type": "code",
   "execution_count": 32,
   "metadata": {},
   "outputs": [
    {
     "name": "stdout",
     "output_type": "stream",
     "text": [
      "Enter a boolean:none\n",
      "output: boolean expected\n"
     ]
    }
   ],
   "source": [
    "def rev_bool(n):\n",
    "    \"\"\" reverses a boolean value\"\"\"\n",
    "    import traceback\n",
    "    try:\n",
    "        if n == \"True\":\n",
    "            return False\n",
    "        elif n == \"False\":\n",
    "            return True\n",
    "        else:\n",
    "            return (\"boolean expected\")\n",
    "    except:\n",
    "        print(traceback.format_exe())\n",
    "\n",
    "n = input(\"Enter a boolean:\")\n",
    "x = rev_bool(n)\n",
    "print(\"output:\",x)"
   ]
  },
  {
   "cell_type": "markdown",
   "metadata": {},
   "source": [
    "Question3\n",
    "\n",
    "Create a function that returns the thickness (in meters) of a piece of paper after folding it n\n",
    "number of times. The paper starts off with a thickness of 0.5mm.\n",
    "Examples\n",
    "num_layers(1) ➞ &quot;0.001m&quot;\n",
    "Paper folded once is 1mm (equal to 0.001m)\n",
    "num_layers(4) ➞ &quot;0.008m&quot;\n",
    "Paper folded 4 times is 8mm (equal to 0.008m)\n",
    "num_layers(21) ➞ &quot;1048.576m&quot;\n",
    "Paper folded 21 times is 1048576mm (equal to 1048.576m)"
   ]
  },
  {
   "cell_type": "code",
   "execution_count": 47,
   "metadata": {},
   "outputs": [
    {
     "name": "stdout",
     "output_type": "stream",
     "text": [
      "Enter the number of foldes: 21\n",
      "1048.576 m\n"
     ]
    }
   ],
   "source": [
    "def paper_thick(num_layers):\n",
    "    \"\"\"returns the thickness (in meters) of a piece of paper after folding it n number of times.\"\"\"\n",
    "    try:\n",
    "        if type(num_layers) == int:\n",
    "            thick = 0.5\n",
    "            for i in range(num_layers):\n",
    "                thick *= 2\n",
    "            thick = (thick/1000)\n",
    "        return thick\n",
    "    except Exception as e:\n",
    "        print(e)\n",
    "\n",
    "num_layers = int(input(\"Enter the number of foldes: \"))\n",
    "x = paper_thick(num_layers)\n",
    "print(f\"{x} m\")"
   ]
  },
  {
   "cell_type": "markdown",
   "metadata": {},
   "source": [
    "Question4\n",
    "\n",
    "Create a function that takes a single string as argument and returns an ordered list containing\n",
    "the indices of all capital letters in the string.\n",
    "Examples\n",
    "index_of_caps(&quot;eDaBiT&quot;) ➞ [1, 3, 5]\n",
    "index_of_caps(&quot;eQuINoX&quot;) ➞ [1, 3, 4, 6]\n",
    "index_of_caps(&quot;determine&quot;) ➞ []\n",
    "index_of_caps(&quot;STRIKE&quot;) ➞ [0, 1, 2, 3, 4, 5]\n",
    "index_of_caps(&quot;sUn&quot;) ➞ [1]"
   ]
  },
  {
   "cell_type": "code",
   "execution_count": 30,
   "metadata": {},
   "outputs": [
    {
     "name": "stdout",
     "output_type": "stream",
     "text": [
      "Enter a string: eQuINoX\n",
      "output: [1, 3, 4, 6]\n"
     ]
    }
   ],
   "source": [
    "def index_of_caps(strr):\n",
    "    \"\"\"returns an ordered list containing the indices of all capital letters in the string\"\"\"\n",
    "    import traceback\n",
    "    l = []\n",
    "    try:\n",
    "        for i in range(0,len(strr)):\n",
    "            if strr[i]==strr[i].upper():\n",
    "                l.append(i)\n",
    "        return l\n",
    "    except:\n",
    "        print(traceback.format_exe())\n",
    "\n",
    "n = input(\"Enter a string: \")\n",
    "x = index_of_caps(n)\n",
    "print(\"output:\",x)"
   ]
  },
  {
   "cell_type": "markdown",
   "metadata": {},
   "source": [
    "Question5\n",
    "\n",
    "Using list comprehensions, create a function that finds all even numbers from 1 to the given\n",
    "number.\n",
    "Examples\n",
    "find_even_nums(8) ➞ [2, 4, 6, 8]\n",
    "find_even_nums(4) ➞ [2, 4]\n",
    "find_even_nums(2) ➞ [2]"
   ]
  },
  {
   "cell_type": "code",
   "execution_count": 48,
   "metadata": {},
   "outputs": [
    {
     "name": "stdout",
     "output_type": "stream",
     "text": [
      "Enter a number: 8\n",
      "Even_nums: [2, 4, 6, 8]\n"
     ]
    }
   ],
   "source": [
    "def even(n):\n",
    "    \"\"\"finds all even numbers from 1 to the given number.\"\"\"\n",
    "    try:\n",
    "        l = [i  for i in range(1,n+1)  if i%2==0]\n",
    "        return l\n",
    "    except Exception as e:\n",
    "        print(e)\n",
    "    \n",
    "n = int(input(\"Enter a number: \"))\n",
    "x = even(n)\n",
    "print(\"Even_nums:\",x)"
   ]
  }
 ],
 "metadata": {
  "kernelspec": {
   "display_name": "Python 3",
   "language": "python",
   "name": "python3"
  },
  "language_info": {
   "codemirror_mode": {
    "name": "ipython",
    "version": 3
   },
   "file_extension": ".py",
   "mimetype": "text/x-python",
   "name": "python",
   "nbconvert_exporter": "python",
   "pygments_lexer": "ipython3",
   "version": "3.8.5"
  }
 },
 "nbformat": 4,
 "nbformat_minor": 4
}
