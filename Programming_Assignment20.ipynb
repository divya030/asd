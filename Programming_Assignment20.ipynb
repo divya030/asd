{
 "cells": [
  {
   "cell_type": "markdown",
   "metadata": {},
   "source": [
    "Question1\n",
    "\n",
    "Create a function that takes a list of strings and integers, and filters out the list so that it\n",
    "returns a list of integers only.\n",
    "Examples\n",
    "filter_list([1, 2, 3, &quot;a&quot;, &quot;b&quot;, 4]) ➞ [1, 2, 3, 4]\n",
    "filter_list([&quot;A&quot;, 0, &quot;Edabit&quot;, 1729, &quot;Python&quot;, &quot;1729&quot;]) ➞ [0, 1729]\n",
    "filter_list([&quot;Nothing&quot;, &quot;here&quot;]) ➞ []"
   ]
  },
  {
   "cell_type": "code",
   "execution_count": 71,
   "metadata": {},
   "outputs": [
    {
     "name": "stdout",
     "output_type": "stream",
     "text": [
      "Enter the len of list:6\n",
      "Enter 1 element:A\n",
      "Enter 2 element:0\n",
      "Enter 3 element:Edabit\n",
      "Enter 4 element:1729\n",
      "Enter 5 element:Python\n",
      "Enter 6 element:1729\n",
      "output: [0, 1729]\n"
     ]
    }
   ],
   "source": [
    "def str_int(n):\n",
    "    \"\"\"takes a list of strings and integers, and filters out the list so that it returns a list of integers only.\"\"\"\n",
    "    import traceback\n",
    "    try:\n",
    "        l1 =[]\n",
    "        l = [input(f\"Enter {i} element:\")   for i in range(1,n+1)]\n",
    "        for i in l:\n",
    "            if i >= chr(48) and i <= chr(57):\n",
    "                if int(i) not in l1:\n",
    "                    l1.append(int(i))\n",
    "                else:\n",
    "                    continue\n",
    "        return (l1)\n",
    "    except:\n",
    "        print(traceback.format_exc())\n",
    "try:      \n",
    "    n = int(input(\"Enter the len of list:\"))\n",
    "    x = str_int(n)\n",
    "    print(\"output:\",x)\n",
    "except Exception as e:\n",
    "    print(e)"
   ]
  },
  {
   "cell_type": "markdown",
   "metadata": {},
   "source": [
    "Question2\n",
    "\n",
    "Given a list of numbers, create a function which returns the list but with each element&#39;s\n",
    "index in the list added to itself. This means you add 0 to the number at index 0, add 1 to the\n",
    "number at index 1, etc...\n",
    "Examples\n",
    "add_indexes([0, 0, 0, 0, 0]) ➞ [0, 1, 2, 3, 4]\n",
    "add_indexes([1, 2, 3, 4, 5]) ➞ [1, 3, 5, 7, 9]\n",
    "add_indexes([5, 4, 3, 2, 1]) ➞ [5, 5, 5, 5, 5]"
   ]
  },
  {
   "cell_type": "code",
   "execution_count": 73,
   "metadata": {},
   "outputs": [
    {
     "name": "stdout",
     "output_type": "stream",
     "text": [
      "Enter the len of list:5\n",
      "Enter 1 element:5\n",
      "Enter 2 element:4\n",
      "Enter 3 element:3\n",
      "Enter 4 element:2\n",
      "Enter 5 element:1\n",
      "output: [5, 5, 5, 5, 5]\n"
     ]
    }
   ],
   "source": [
    "def index_add(n):\n",
    "    \"\"\"returns the list but with each element's index in the list added to itself\"\"\"\n",
    "    import traceback\n",
    "    try:\n",
    "    \n",
    "        l = [int(input(f\"Enter {i} element:\"))  for i in range(1,n+1)]\n",
    "\n",
    "        l1 = [l[i]+i   for i in range(len(l))]\n",
    "        \n",
    "        return (l1)\n",
    "    except:\n",
    "        print(traceback.format_exc())\n",
    "\n",
    "try:\n",
    "    n =int(input(\"Enter the len of list:\"))\n",
    "    x = index_add(n)\n",
    "    print(\"output:\",x)\n",
    "except Exception as e:\n",
    "    print(e)"
   ]
  },
  {
   "cell_type": "markdown",
   "metadata": {},
   "source": [
    "Question3\n",
    "\n",
    "Create a function that takes the height and radius of a cone as arguments and returns the\n",
    "volume of the cone rounded to the nearest hundredth. See the resources tab for the formula.\n",
    "\n",
    "Examples\n",
    "cone_volume(3, 2) ➞ 12.57\n",
    "\n",
    "cone_volume(15, 6) ➞ 565.49\n",
    "cone_volume(18, 0) ➞ 0"
   ]
  },
  {
   "cell_type": "code",
   "execution_count": 30,
   "metadata": {},
   "outputs": [
    {
     "name": "stdout",
     "output_type": "stream",
     "text": [
      "Enter the height of the cone:18\n",
      "Enter the radius of the cone:0\n",
      "volume of the cone (height:18.0 ,radius:0.0) : 0.0\n"
     ]
    }
   ],
   "source": [
    "def vol_cone(height,radius):\n",
    "    \"\"\"the volume of the cone\"\"\"\n",
    "    import math\n",
    "    try:\n",
    "        vol = math.pi * (radius*radius) * (height/3)\n",
    "        return vol\n",
    "    except Exception as e:\n",
    "        print(e)\n",
    "\n",
    "try:\n",
    "    height = float(input(\"Enter the height of the cone:\"))\n",
    "    radius = float(input(\"Enter the radius of the cone:\"))\n",
    "\n",
    "    x = vol_cone(height,radius)\n",
    "\n",
    "    print(f\"volume of the cone (height:{height} ,radius:{radius}) : {round(x,2)}\")\n",
    "except Exception as e:\n",
    "        print(e)"
   ]
  },
  {
   "cell_type": "markdown",
   "metadata": {},
   "source": [
    "Question4\n",
    "\n",
    "This Triangular Number Sequence is generated from a pattern of dots that form a triangle.\n",
    "The first 5 numbers of the sequence, or dots, are:\n",
    "1, 3, 6, 10, 15\n",
    "This means that the first triangle has just one dot, the second one has three dots, the third one\n",
    "has 6 dots and so on.\n",
    "Write a function that gives the number of dots with its corresponding triangle number of the\n",
    "sequence.\n",
    "Examples\n",
    "triangle(1) ➞ 1\n",
    "triangle(6) ➞ 21\n",
    "triangle(215) ➞ 23220"
   ]
  },
  {
   "cell_type": "code",
   "execution_count": 55,
   "metadata": {},
   "outputs": [
    {
     "name": "stdout",
     "output_type": "stream",
     "text": [
      "Enter the number of triangle: 215\n",
      "number of dots: 23220\n"
     ]
    }
   ],
   "source": [
    "def num_dots(num_tri):\n",
    "    \"\"\"gives the number of dots with its corresponding triangle number of the sequence\"\"\"\n",
    "    import traceback\n",
    "    num_dot = 3\n",
    "    try:\n",
    "        for i in range(3,num_tri+1):\n",
    "            if num_tri == 1:\n",
    "                print(1)\n",
    "            elif num_tri>1:\n",
    "                num_dot += i\n",
    "        return (num_dot)\n",
    "    except:\n",
    "        print(traceback.format_exc())\n",
    "\n",
    "num_dott = int(input(\"Enter the number of triangle: \"))\n",
    "x = num_dots(num_dott)\n",
    "print(f\"number of dots: {x}\")"
   ]
  },
  {
   "cell_type": "markdown",
   "metadata": {},
   "source": [
    "Question5\n",
    "\n",
    "Create a function that takes a list of numbers between 1 and 10 (excluding one number) and\n",
    "returns the missing number.\n",
    "Examples\n",
    "missing_num([1, 2, 3, 4, 6, 7, 8, 9, 10]) ➞ 5\n",
    "missing_num([7, 2, 3, 6, 5, 9, 1, 4, 8]) ➞ 10\n",
    "missing_num([10, 5, 1, 2, 4, 6, 8, 3, 9]) ➞ 7"
   ]
  },
  {
   "cell_type": "code",
   "execution_count": 74,
   "metadata": {},
   "outputs": [
    {
     "name": "stdout",
     "output_type": "stream",
     "text": [
      "Enter the len of list:9\n",
      "Enter 1 element:10\n",
      "Enter 2 element:5\n",
      "Enter 3 element:1\n",
      "Enter 4 element:2\n",
      "Enter 5 element:4\n",
      "Enter 6 element:6\n",
      "Enter 7 element:8\n",
      "Enter 8 element:3\n",
      "Enter 9 element:9\n",
      "missing_num: 7\n",
      "missing_num: None\n"
     ]
    }
   ],
   "source": [
    "def miss_num(n):\n",
    "    \"\"\"that takes a list of numbers between 1 and 10 (excluding one number) and returns the missing number.\"\"\"\n",
    "    try:\n",
    "        num = [1,2,3,4,5,6,7,8,9,10]\n",
    "        list_ = [int(input(f\"Enter {i} element:\"))   for i in range(1,n+1)]\n",
    "        for i in num:\n",
    "            if i not in list_:\n",
    "                print(\"missing_num:\",i)\n",
    "    except Exception as e:\n",
    "        print(e)\n",
    "    \n",
    "n = int(input(\"Enter the len of list:\"))\n",
    "x = miss_num(n)\n",
    "print(\"missing_num:\",x)"
   ]
  }
 ],
 "metadata": {
  "kernelspec": {
   "display_name": "Python 3",
   "language": "python",
   "name": "python3"
  },
  "language_info": {
   "codemirror_mode": {
    "name": "ipython",
    "version": 3
   },
   "file_extension": ".py",
   "mimetype": "text/x-python",
   "name": "python",
   "nbconvert_exporter": "python",
   "pygments_lexer": "ipython3",
   "version": "3.8.5"
  }
 },
 "nbformat": 4,
 "nbformat_minor": 4
}
