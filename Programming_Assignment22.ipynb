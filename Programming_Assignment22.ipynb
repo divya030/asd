{
 "cells": [
  {
   "cell_type": "markdown",
   "metadata": {},
   "source": [
    "Question1\n",
    "\n",
    "Create a function that takes three parameters where:\n",
    " x is the start of the range (inclusive).\n",
    " y is the end of the range (inclusive).\n",
    " n is the divisor to be checked against.\n",
    "Return an ordered list with numbers in the range that are divisible by the third parameter n.\n",
    "Return an empty list if there are no numbers that are divisible by n.\n",
    "Examples\n",
    "list_operation(1, 10, 3) ➞ [3, 6, 9]\n",
    "list_operation(7, 9, 2) ➞ [8]\n",
    "list_operation(15, 20, 7) ➞ []"
   ]
  },
  {
   "cell_type": "code",
   "execution_count": 4,
   "metadata": {},
   "outputs": [
    {
     "name": "stdout",
     "output_type": "stream",
     "text": [
      "[]\n"
     ]
    }
   ],
   "source": [
    "def list_oper(x,y,n):\n",
    "    \"\"\"Return an ordered list with numbers in the range that are divisible by the third parameter n\"\"\"\n",
    "    import traceback\n",
    "    l = []\n",
    "    try:\n",
    "        for i in range(x,y):\n",
    "            if i%n == 0:\n",
    "                l.append(i)\n",
    "        return l\n",
    "    except:\n",
    "        print(traceback.format_exc())\n",
    "        \n",
    "x = list_oper(15,20,7)\n",
    "print(x)"
   ]
  },
  {
   "cell_type": "markdown",
   "metadata": {},
   "source": [
    "Question2\n",
    "\n",
    "Create a function that takes in two lists and returns True if the second list follows the first list\n",
    "by one element, and False otherwise. In other words, determine if the second list is the first\n",
    "list shifted to the right by 1.\n",
    "Examples\n",
    "simon_says([1, 2], [5, 1]) ➞ True\n",
    "simon_says([1, 2], [5, 5]) ➞ False\n",
    "simon_says([1, 2, 3, 4, 5], [0, 1, 2, 3, 4]) ➞ True\n",
    "simon_says([1, 2, 3, 4, 5], [5, 5, 1, 2, 3]) ➞ False\n",
    "Notes\n",
    " Both input lists will be of the same length, and will have a minimum length of 2.\n",
    " The values of the 0-indexed element in the second list and the n-1th indexed element\n",
    "in the first list do not matter."
   ]
  },
  {
   "cell_type": "code",
   "execution_count": 7,
   "metadata": {},
   "outputs": [
    {
     "name": "stdout",
     "output_type": "stream",
     "text": [
      "False\n"
     ]
    }
   ],
   "source": [
    "def rgt_shift(l,l1):\n",
    "    \"\"\" returns True if the second list follows the first list by one element, and False otherwise\"\"\"\n",
    "    import traceback\n",
    "    try:\n",
    "        if len(l) == len(l1) and len(l)>=2:\n",
    "            for i in range(0,len(l)):\n",
    "                if i < len(l)-1:\n",
    "                    if l[i]==l1[i+1]:\n",
    "                        continue\n",
    "                    else:\n",
    "                        return(\"False\")\n",
    "                        break\n",
    "            else:\n",
    "                return(\"True\")\n",
    "        else:\n",
    "            raise Exception(\"The len of both list should be same\")\n",
    "    except:\n",
    "        print(traceback.format_exc())\n",
    "        \n",
    "        \n",
    "\n",
    "x = rgt_shift([1, 2, 3, 4, 5], [5, 5, 1, 2, 3])\n",
    "print(x)"
   ]
  },
  {
   "cell_type": "markdown",
   "metadata": {},
   "source": [
    "Question3\n",
    "\n",
    "A group of friends have decided to start a secret society. The name will be the first letter of\n",
    "each of their names, sorted in alphabetical order.\n",
    "Create a function that takes in a list of names and returns the name of the secret society.\n",
    "\n",
    "Examples\n",
    "society_name([&quot;Adam&quot;, &quot;Sarah&quot;, &quot;Malcolm&quot;]) ➞ &quot;AMS&quot;\n",
    "society_name([&quot;Harry&quot;, &quot;Newt&quot;, &quot;Luna&quot;, &quot;Cho&quot;]) ➞ &quot;CHLN&quot;\n",
    "society_name([&quot;Phoebe&quot;, &quot;Chandler&quot;, &quot;Rachel&quot;, &quot;Ross&quot;, &quot;Monica&quot;, &quot;Joey&quot;])"
   ]
  },
  {
   "cell_type": "code",
   "execution_count": 22,
   "metadata": {},
   "outputs": [
    {
     "name": "stdout",
     "output_type": "stream",
     "text": [
      "name of the secret society: CJMPRR\n"
     ]
    }
   ],
   "source": [
    "def sec_society(l):\n",
    "    \"\"\"takes in a list of names and returns the name of the secret society\"\"\"\n",
    "    import traceback\n",
    "    try:\n",
    "        l1 = [i[0]  for i in l]\n",
    "        l1 = \"\".join(sorted(l1))\n",
    "        return(l1)\n",
    "    except:\n",
    "        print(traceback.format_exc())\n",
    "        \n",
    "\n",
    "x = sec_society([\"Phoebe\", \"Chandler\", \"Rachel\", \"Ross\", \"Monica\", \"Joey\"])\n",
    "print(f\"name of the secret society: {x}\")"
   ]
  },
  {
   "cell_type": "markdown",
   "metadata": {},
   "source": [
    "Question4\n",
    "\n",
    "An isogram is a word that has no duplicate letters. Create a function that takes a string and\n",
    "returns either True or False depending on whether or not it&#39;s an &quot;isogram&quot;.\n",
    "Examples\n",
    "is_isogram(&quot;Algorism&quot;) ➞ True\n",
    "is_isogram(&quot;PasSword&quot;) ➞ False\n",
    "Not case sensitive.\n",
    "is_isogram(&quot;Consecutive&quot;) ➞ False\n",
    "Notes\n",
    " Ignore letter case (should not be case sensitive).\n",
    " All test cases contain valid one word strings."
   ]
  },
  {
   "cell_type": "code",
   "execution_count": 37,
   "metadata": {},
   "outputs": [
    {
     "name": "stdout",
     "output_type": "stream",
     "text": [
      "False\n"
     ]
    }
   ],
   "source": [
    "def isogram(strr):\n",
    "    \"\"\" takes a string and returns either True or False depending on whether or not it's an \"isogram \"\"\"\n",
    "    import traceback\n",
    "    try:\n",
    "        lower = strr.lower()\n",
    "        for i in lower:\n",
    "            if \" \" not in lower:\n",
    "                if lower.count(i) == 1:\n",
    "                    continue\n",
    "                else:\n",
    "                    return (\"False\")\n",
    "            else:\n",
    "                return (\"Enter one word string\")\n",
    "        else:\n",
    "            return (\"True\")\n",
    "    except:\n",
    "        print(traceback.format_exc())\n",
    "        \n",
    "x = isogram(\"PasSword\")\n",
    "print(x)"
   ]
  },
  {
   "cell_type": "markdown",
   "metadata": {},
   "source": [
    "Question5\n",
    "\n",
    "Create a function that takes a string and returns True or False, depending on whether the\n",
    "characters are in order or not.\n",
    "Examples\n",
    "is_in_order(&quot;abc&quot;) ➞ True\n",
    "is_in_order(&quot;edabit&quot;) ➞ False\n",
    "is_in_order(&quot;123&quot;) ➞ True\n",
    "is_in_order(&quot;xyzz&quot;) ➞ True\n",
    "Notes\n",
    "You don&#39;t have to handle empty strings."
   ]
  },
  {
   "cell_type": "code",
   "execution_count": 55,
   "metadata": {},
   "outputs": [
    {
     "name": "stdout",
     "output_type": "stream",
     "text": [
      "True\n"
     ]
    }
   ],
   "source": [
    "def order_alpha(n):\n",
    "    \"\"\" checks whether the characters are in order or not\"\"\"\n",
    "    import traceback\n",
    "    try:\n",
    "        l = sorted(n)\n",
    "        l1 = list(n)\n",
    "        if l == l1:\n",
    "            return True\n",
    "        return False\n",
    "    except:\n",
    "        print(traceback.format_exc())\n",
    "\n",
    "n = \"xyzz\"\n",
    "x = order_alpha(n)\n",
    "print(x)"
   ]
  }
 ],
 "metadata": {
  "kernelspec": {
   "display_name": "Python 3",
   "language": "python",
   "name": "python3"
  },
  "language_info": {
   "codemirror_mode": {
    "name": "ipython",
    "version": 3
   },
   "file_extension": ".py",
   "mimetype": "text/x-python",
   "name": "python",
   "nbconvert_exporter": "python",
   "pygments_lexer": "ipython3",
   "version": "3.8.5"
  }
 },
 "nbformat": 4,
 "nbformat_minor": 4
}
