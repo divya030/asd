{
 "cells": [
  {
   "cell_type": "markdown",
   "metadata": {},
   "source": [
    "Question 1\n",
    "\n",
    "Create a function that takes a number as an argument and returns True or False depending\n",
    "on whether the number is symmetrical or not. A number is symmetrical when it is the same as\n",
    "its reverse.\n",
    "Examples\n",
    "is_symmetrical(7227) ➞ True\n",
    "is_symmetrical(12567) ➞ False\n",
    "is_symmetrical(44444444) ➞ True\n",
    "is_symmetrical(9939) ➞ False\n",
    "is_symmetrical(1112111) ➞ True"
   ]
  },
  {
   "cell_type": "code",
   "execution_count": 52,
   "metadata": {},
   "outputs": [
    {
     "name": "stdout",
     "output_type": "stream",
     "text": [
      "True\n"
     ]
    }
   ],
   "source": [
    "def symm(num):\n",
    "    \"\"\"returns True or False depending on whether the number is symmetrical or not\"\"\"\n",
    "    import traceback\n",
    "    try:\n",
    "        if type(num) == int:\n",
    "            num = str(num)\n",
    "            reverse = [num[i]  for i in range(-1,-(len(num)+1),-1)]\n",
    "            reverse = \"\".join(reverse)\n",
    "            if num == reverse:\n",
    "                return True\n",
    "            else:\n",
    "                return False\n",
    "        else:\n",
    "            raise Exception (\"Enter a number\")\n",
    "    except:\n",
    "        print(traceback.format_exc())\n",
    "\n",
    "        \n",
    "x = symm(44544)\n",
    "print(x)"
   ]
  },
  {
   "cell_type": "markdown",
   "metadata": {},
   "source": [
    "Question 2\n",
    "\n",
    "Given a string of numbers separated by a comma and space, return the product of the\n",
    "numbers.\n",
    "Examples\n",
    "multiply_nums(&quot;2, 3&quot;) ➞ 6\n",
    "multiply_nums(&quot;1, 2, 3, 4&quot;) ➞ 24\n",
    "multiply_nums(&quot;54, 75, 453, 0&quot;) ➞ 0\n",
    "multiply_nums(&quot;10, -2&quot;) ➞ -20"
   ]
  },
  {
   "cell_type": "code",
   "execution_count": 75,
   "metadata": {},
   "outputs": [
    {
     "name": "stdout",
     "output_type": "stream",
     "text": [
      "Enter the len tuple:2\n",
      "enter a num: 10\n",
      "enter a num: -2\n",
      "-20\n"
     ]
    }
   ],
   "source": [
    "def mull():\n",
    "    \"\"\"return the product of the numbers\"\"\"\n",
    "    \n",
    "    import traceback\n",
    "    \n",
    "    try:\n",
    "        str_num = int(input(\"Enter the len tuple:\"))\n",
    "\n",
    "        tup = [(input(\"enter a num: \"))  for i in range(str_num)]\n",
    "\n",
    "        mul = 1\n",
    "\n",
    "        for i in tup:\n",
    "            mul*= int(i)  \n",
    "        return (mul)\n",
    "        \n",
    "    except:\n",
    "        print(traceback.format_exc())\n",
    "\n",
    "x = mull()\n",
    "print(x)"
   ]
  },
  {
   "cell_type": "markdown",
   "metadata": {},
   "source": [
    "Question 3\n",
    "\n",
    "Create a function that squares every digit of a number.\n",
    "Examples\n",
    "square_digits(9119) ➞ 811181\n",
    "square_digits(2483) ➞ 416649\n",
    "square_digits(3212) ➞ 9414\n",
    "Notes\n",
    "The function receives an integer and must return an integer."
   ]
  },
  {
   "cell_type": "code",
   "execution_count": 20,
   "metadata": {},
   "outputs": [
    {
     "name": "stdout",
     "output_type": "stream",
     "text": [
      "Enter a number: 3212\n",
      "9414\n"
     ]
    }
   ],
   "source": [
    "def sqr(num):\n",
    "    \"\"\"squares every digit of a number\"\"\"\n",
    "    import traceback\n",
    "    try:\n",
    "        num = str(num)\n",
    "        a = 1\n",
    "        l1 = [str(a*int(i)*int(i))   for i in num ]\n",
    "        l1 = \"\".join(l1)\n",
    "        return (int(l1))\n",
    "    except:\n",
    "        print(traceback.format_exc())\n",
    "\n",
    "try:\n",
    "    num = int(input(\"Enter a number: \"))\n",
    "    x = sqr(num)\n",
    "    print(x)\n",
    "except Exception as e:\n",
    "    print(e)"
   ]
  },
  {
   "cell_type": "markdown",
   "metadata": {},
   "source": [
    "Question 4\n",
    "\n",
    "Create a function that sorts a list and removes all duplicate items from it.\n",
    "Examples\n",
    "setify([1, 3, 3, 5, 5]) ➞ [1, 3, 5]\n",
    "setify([4, 4, 4, 4]) ➞ [4]\n",
    "setify([5, 7, 8, 9, 10, 15]) ➞ [5, 7, 8, 9, 10, 15]\n",
    "setify([3, 3, 3, 2, 1]) ➞ [1, 2, 3]"
   ]
  },
  {
   "cell_type": "code",
   "execution_count": 24,
   "metadata": {},
   "outputs": [
    {
     "name": "stdout",
     "output_type": "stream",
     "text": [
      "[1, 2, 3]\n"
     ]
    }
   ],
   "source": [
    "def remo_list(l):\n",
    "    \"\"\"sorts a list and removes all duplicate items\"\"\"\n",
    "    import traceback\n",
    "    try:\n",
    "        lk = []\n",
    "        remove = [lk.append(i)  for i in l   if i not in lk]\n",
    "        return (sorted(lk))\n",
    "    except:\n",
    "        print(traceback.format_exc())\n",
    "try:\n",
    "    l = [3, 3, 3, 2, 1]\n",
    "    x = remo_list(l)\n",
    "    print(x)\n",
    "except Exception as e:\n",
    "    print(e)"
   ]
  },
  {
   "cell_type": "markdown",
   "metadata": {},
   "source": [
    "Question 5\n",
    "\n",
    "Create a function that returns the mean of all digits.\n",
    "Examples\n",
    "mean(42) ➞ 3\n",
    "mean(12345) ➞ 3\n",
    "mean(666) ➞ 6\n",
    "Notes\n",
    " The mean of all digits is the sum of digits / how many digits there are (e.g. mean of digits in\n",
    "512 is (5+1+2)/3(number of digits) = 8/3=2).\n",
    " The mean will always be an integer."
   ]
  },
  {
   "cell_type": "code",
   "execution_count": 42,
   "metadata": {},
   "outputs": [
    {
     "name": "stdout",
     "output_type": "stream",
     "text": [
      "Enter a number: 666\n",
      "mean: 6\n"
     ]
    }
   ],
   "source": [
    "def mean(num):\n",
    "    \"\"\"returns the mean of all digits\"\"\"\n",
    "    import traceback\n",
    "    try:\n",
    "        num = str(num)\n",
    "        a = 0 \n",
    "        lenn = len(num)\n",
    "        for i in num:\n",
    "            a+=int(i)\n",
    "        return (a//lenn)\n",
    "    except:\n",
    "        print(traceback.format_exc())\n",
    "\n",
    "num = int(input(\"Enter a number: \"))\n",
    "x = mean(num)\n",
    "print(\"mean:\",x)"
   ]
  }
 ],
 "metadata": {
  "kernelspec": {
   "display_name": "Python 3",
   "language": "python",
   "name": "python3"
  }
 },
 "nbformat": 4,
 "nbformat_minor": 4
}
