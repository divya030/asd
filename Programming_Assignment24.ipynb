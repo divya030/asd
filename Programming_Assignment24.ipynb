{
 "cells": [
  {
   "cell_type": "markdown",
   "metadata": {},
   "source": [
    "Question1\n",
    "\n",
    "Create a function that takes an integer and returns a list from 1 to the given number, where:\n",
    "1. If the number can be divided evenly by 4, amplify it by 10 (i.e. return 10 times the\n",
    "number).\n",
    "2. If the number cannot be divided evenly by 4, simply return the number.\n",
    "Examples\n",
    "amplify(4) ➞ [1, 2, 3, 40]\n",
    "amplify(3) ➞ [1, 2, 3]\n",
    "amplify(25) ➞ [1, 2, 3, 40, 5, 6, 7, 80, 9, 10, 11, 120, 13, 14, 15, 160,\n",
    "17, 18, 19, 200, 21, 22, 23, 240, 25]\n",
    "Notes\n",
    " The given integer will always be equal to or greater than 1.\n",
    " Include the number (see example above).\n",
    " To perform this problem with its intended purpose, try doing it with list\n",
    "comprehensions. If that&#39;s too difficult, just solve the challenge any way you can."
   ]
  },
  {
   "cell_type": "code",
   "execution_count": 18,
   "metadata": {},
   "outputs": [
    {
     "name": "stdout",
     "output_type": "stream",
     "text": [
      "[1, 2, 3, 40, 5, 6, 7, 80, 9, 10, 11, 120, 13, 14, 15, 160, 17, 18, 19, 200, 21, 22, 23, 240, 25]\n"
     ]
    }
   ],
   "source": [
    "def amplify(num):\n",
    "    \"\"\" returns a list from 1 to the given number which is divisible by 4 multiplies by 10\"\"\"\n",
    "    import traceback\n",
    "    try:\n",
    "        if type(num) == int:\n",
    "            l = [i*10  if i%4==0 else i  for i in range (1,n+1)]\n",
    "            return l\n",
    "        else:\n",
    "            raise Exception (\"Enter an integer\")\n",
    "    except:\n",
    "        print(traceback.format_exc())\n",
    "        \n",
    "x = amplify(25)\n",
    "print(x)"
   ]
  },
  {
   "cell_type": "markdown",
   "metadata": {},
   "source": [
    "Question2\n",
    "\n",
    "Create a function that takes a list of numbers and return the number that&#39;s unique.\n",
    "Examples\n",
    "unique([3, 3, 3, 7, 3, 3]) ➞ 7\n",
    "unique([0, 0, 0.77, 0, 0]) ➞ 0.77\n",
    "unique([0, 1, 1, 1, 1, 1, 1, 1]) ➞ 0\n",
    "Notes\n",
    "Test cases will always have exactly one unique number while all others are the same."
   ]
  },
  {
   "cell_type": "code",
   "execution_count": 7,
   "metadata": {},
   "outputs": [
    {
     "name": "stdout",
     "output_type": "stream",
     "text": [
      "Enter the len of list:5\n",
      "Enter 1 number:3\n",
      "Enter 2 number:4\n",
      "Enter 3 number:4\n",
      "Enter 4 number:3\n",
      "Enter 5 number:5\n",
      "[5.0]\n"
     ]
    }
   ],
   "source": [
    "def unique(list_):\n",
    "    \"\"\"takes a list of numbers and return the number that's unique\"\"\"\n",
    "    import traceback\n",
    "    try:\n",
    "        if type(list_) == list:\n",
    "            l = [i for i in list_  if list_.count(i)==1]\n",
    "            return l\n",
    "        else:\n",
    "            raise Exception (\"Enter a list\")\n",
    "    except:\n",
    "        print(traceback.format_exc())\n",
    "        \n",
    "\n",
    "try:\n",
    "    list_ = [float(input(f\"Enter {i} number:\"))   for i in range(1,int(input(\"Enter the len of list:\"))+1)]\n",
    "    x = unique(list_)\n",
    "    print(x)\n",
    "except Exception as e:\n",
    "    print(e)"
   ]
  },
  {
   "cell_type": "markdown",
   "metadata": {},
   "source": [
    "Question3\n",
    "\n",
    "Your task is to create a Circle constructor that creates a circle with a radius provided by an\n",
    "argument. The circles constructed must have two getters getArea() (PIr^2) and\n",
    "getPerimeter() (2PI*r) which give both respective areas and perimeter (circumference).\n",
    "\n",
    "For help with this class, I have provided you with a Rectangle constructor which you can use\n",
    "as a base example.\n",
    "Examples\n",
    "circy = Circle(11)\n",
    "circy.getArea()\n",
    "Should return 380.132711084365\n",
    "circy = Circle(4.44)\n",
    "circy.getPerimeter()\n",
    "Should return 27.897342763877365\n",
    "Notes\n",
    "Round results up to the nearest integer."
   ]
  },
  {
   "cell_type": "code",
   "execution_count": 10,
   "metadata": {},
   "outputs": [],
   "source": [
    "class circle:\n",
    "    import math\n",
    "    def __init__(self,radius):\n",
    "        import traceback\n",
    "        try:\n",
    "            if type(radius) in (int,float):\n",
    "                self.radius = radius\n",
    "            else:\n",
    "                raise Exception (\"Enter a valid radius\")\n",
    "        except:\n",
    "            print(traceback.format_exc())\n",
    "        \n",
    "    def area(self):\n",
    "        \"\"\"returns area of a circle\"\"\"\n",
    "        try:\n",
    "            area = circle.math.pi*(self.radius**2)\n",
    "            return round(area,3)\n",
    "        except Exception as e :\n",
    "            print(e)\n",
    "    \n",
    "    def perimeter(self):\n",
    "        \"\"\"returns perimeter of a circle\"\"\"\n",
    "        try:\n",
    "            perimeter = 2*circle.math.pi*self.radius\n",
    "            return round(perimeter,3)\n",
    "        except Exception as e:\n",
    "            print(e)"
   ]
  },
  {
   "cell_type": "code",
   "execution_count": 15,
   "metadata": {},
   "outputs": [
    {
     "name": "stdout",
     "output_type": "stream",
     "text": [
      "perimeter of a circle: 27.897\n"
     ]
    }
   ],
   "source": [
    "x = circle(4.44)\n",
    "z = x.perimeter()\n",
    "print(\"perimeter of a circle:\",z)"
   ]
  },
  {
   "cell_type": "markdown",
   "metadata": {},
   "source": [
    "Question4\n",
    "\n",
    "Create a function that takes a list of strings and return a list, sorted from shortest to longest.\n",
    "Examples\n",
    "sort_by_length([&quot;Google&quot;, &quot;Apple&quot;, &quot;Microsoft&quot;])\n",
    "➞ [&quot;Apple&quot;, &quot;Google&quot;, &quot;Microsoft&quot;]\n",
    "sort_by_length([&quot;Leonardo&quot;, &quot;Michelangelo&quot;, &quot;Raphael&quot;, &quot;Donatello&quot;])\n",
    "➞ [&quot;Raphael&quot;, &quot;Leonardo&quot;, &quot;Donatello&quot;, &quot;Michelangelo&quot;]\n",
    "sort_by_length([&quot;Turing&quot;, &quot;Einstein&quot;, &quot;Jung&quot;])\n",
    "➞ [&quot;Jung&quot;, &quot;Turing&quot;, &quot;Einstein&quot;]\n",
    "Notes\n",
    "All test cases contain lists with strings of different lengths, so you won&#39;t have to deal with\n",
    "multiple strings of the same length."
   ]
  },
  {
   "cell_type": "code",
   "execution_count": 3,
   "metadata": {},
   "outputs": [
    {
     "name": "stdout",
     "output_type": "stream",
     "text": [
      "['Jung', 'Turing', 'Einstein']\n"
     ]
    }
   ],
   "source": [
    "def len_sort(l):\n",
    "    \"\"\"takes a list of strings and return a list, sorted from shortest to longest\"\"\"\n",
    "    import traceback\n",
    "    try:\n",
    "        n = len(l)\n",
    "        for i in range(n):\n",
    "            for j in range(i+1,n):\n",
    "                if len(l[i])>len(l[j]):\n",
    "                    temp = l[j]\n",
    "                    l[j] = l[i]\n",
    "                    l[i] = temp\n",
    "        return l \n",
    "    except:\n",
    "        print(traceback.format_exc())\n",
    "        \n",
    "x = len_sort([\"Turing\", \"Einstein\", \"Jung\"])\n",
    "print(x)"
   ]
  },
  {
   "cell_type": "markdown",
   "metadata": {},
   "source": [
    "Question5\n",
    "\n",
    "Create a function that validates whether three given integers form a Pythagorean triplet. The\n",
    "sum of the squares of the two smallest integers must equal the square of the largest number to\n",
    "be validated.\n",
    "\n",
    "Examples\n",
    "is_triplet(3, 4, 5) ➞ True\n",
    "3² + 4² = 25\n",
    "5² = 25\n",
    "is_triplet(13, 5, 12) ➞ True\n",
    "5² + 12² = 169\n",
    "13² = 169\n",
    "is_triplet(1, 2, 3) ➞ False\n",
    "1² + 2² = 5\n",
    "3² = 9\n",
    "Notes\n",
    "Numbers may not be given in a sorted order."
   ]
  },
  {
   "cell_type": "code",
   "execution_count": 23,
   "metadata": {},
   "outputs": [
    {
     "name": "stdout",
     "output_type": "stream",
     "text": [
      "False\n"
     ]
    }
   ],
   "source": [
    "def triplet(l):\n",
    "    \"\"\"validates whether three given integers form a Pythagorean triplet\"\"\"\n",
    "    import traceback\n",
    "    try:\n",
    "        if type(l) == list:\n",
    "            maxx = max(l)\n",
    "            l.remove(maxx)\n",
    "            maxx = maxx**2\n",
    "            minn = 0\n",
    "            for i in l:\n",
    "                minn += i**2\n",
    "            if minn == maxx:\n",
    "                return True\n",
    "            return False\n",
    "        else:\n",
    "            raise Exception(\"Enter a list\")\n",
    "    except:\n",
    "        print(traceback.format_exc())\n",
    "\n",
    "x = triplet([1,2,3])\n",
    "print(x)"
   ]
  }
 ],
 "metadata": {
  "kernelspec": {
   "display_name": "Python 3",
   "language": "python",
   "name": "python3"
  },
  "language_info": {
   "codemirror_mode": {
    "name": "ipython",
    "version": 3
   },
   "file_extension": ".py",
   "mimetype": "text/x-python",
   "name": "python",
   "nbconvert_exporter": "python",
   "pygments_lexer": "ipython3",
   "version": "3.8.5"
  }
 },
 "nbformat": 4,
 "nbformat_minor": 4
}
