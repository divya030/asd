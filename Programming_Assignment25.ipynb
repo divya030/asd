{
 "cells": [
  {
   "cell_type": "markdown",
   "metadata": {},
   "source": [
    "Question1\n",
    "\n",
    "Create a function that takes three integer arguments (a, b, c) and returns the amount of\n",
    "integers which are of equal value.\n",
    "Examples\n",
    "equal(3, 4, 3) ➞ 2\n",
    "equal(1, 1, 1) ➞ 3\n",
    "equal(3, 4, 1) ➞ 0\n",
    "Notes\n",
    "Your function must return 0, 2 or 3."
   ]
  },
  {
   "cell_type": "code",
   "execution_count": 41,
   "metadata": {},
   "outputs": [
    {
     "name": "stdout",
     "output_type": "stream",
     "text": [
      "3\n"
     ]
    }
   ],
   "source": [
    "def equal(a,b,c):\n",
    "    \"\"\"the amount of integers which are of equal value\"\"\"\n",
    "    import traceback\n",
    "    try:\n",
    "        if type(a) == int and type(b) == int and type(c) == int:\n",
    "            l = list((a,b,c))\n",
    "            l1 = [l.count(i)  for i in l]\n",
    "            if max(l1) in (2,3):\n",
    "                return max(l1)\n",
    "            elif max(l1) == 1:\n",
    "                return 0\n",
    "        else:\n",
    "            raise Exception (\"Enter only integer\")\n",
    "    except:\n",
    "        print(traceback.format_exc())\n",
    "\n",
    "x = equal(1,1,1)\n",
    "print(x)"
   ]
  },
  {
   "cell_type": "markdown",
   "metadata": {},
   "source": [
    "Question2\n",
    "\n",
    "Write a function that converts a dictionary into a list of keys-values tuples.\n",
    "Examples\n",
    "dict_to_list({\n",
    "&quot;D&quot;: 1,\n",
    "&quot;B&quot;: 2,\n",
    "&quot;C&quot;: 3\n",
    "}) ➞ [(&quot;B&quot;, 2), (&quot;C&quot;, 3), (&quot;D&quot;, 1)]\n",
    "dict_to_list({\n",
    "&quot;likes&quot;: 2,\n",
    "&quot;dislikes&quot;: 3,\n",
    "&quot;followers&quot;: 10\n",
    "}) ➞ [(&quot;dislikes&quot;, 3), (&quot;followers&quot;, 10), (&quot;likes&quot;, 2)]\n",
    "Notes\n",
    "Return the elements in the list in alphabetical order."
   ]
  },
  {
   "cell_type": "code",
   "execution_count": 58,
   "metadata": {},
   "outputs": [
    {
     "name": "stdout",
     "output_type": "stream",
     "text": [
      "[('dislikes', 3), ('followers', 10), ('likes', 2)]\n"
     ]
    }
   ],
   "source": [
    "def dict_list(dic):\n",
    "    \"\"\"converts a dictionary into a list of keys-values tuples\"\"\"\n",
    "    import traceback\n",
    "    try:\n",
    "        l = [i  for i in sorted(dic.items())]\n",
    "        return l\n",
    "    except:\n",
    "        print(traceback.format_exc())\n",
    "\n",
    "d = { \"likes\": 2, \"dislikes\": 3, \"followers\": 10 }\n",
    "x = dict_list(d)\n",
    "print(x)"
   ]
  },
  {
   "cell_type": "markdown",
   "metadata": {},
   "source": [
    "Question3\n",
    "\n",
    "Write a function that creates a dictionary with each (key, value) pair being the (lower case,\n",
    "upper case) versions of a letter, respectively.\n",
    "Examples\n",
    "mapping([&quot;p&quot;, &quot;s&quot;]) ➞ { &quot;p&quot;: &quot;P&quot;, &quot;s&quot;: &quot;S&quot; }\n",
    "\n",
    "mapping([&quot;a&quot;, &quot;b&quot;, &quot;c&quot;]) ➞ { &quot;a&quot;: &quot;A&quot;, &quot;b&quot;: &quot;B&quot;, &quot;c&quot;: &quot;C&quot; }\n",
    "mapping([&quot;a&quot;, &quot;v&quot;, &quot;y&quot;, &quot;z&quot;]) ➞ { &quot;a&quot;: &quot;A&quot;, &quot;v&quot;: &quot;V&quot;, &quot;y&quot;: &quot;Y&quot;, &quot;z&quot;: &quot;Z&quot; }\n",
    "Notes\n",
    "All of the letters in the input list will always be lowercase."
   ]
  },
  {
   "cell_type": "code",
   "execution_count": 69,
   "metadata": {},
   "outputs": [
    {
     "name": "stdout",
     "output_type": "stream",
     "text": [
      "{'a': 'A', 'v': 'V', 'y': 'Y', 'z': 'Z'}\n"
     ]
    }
   ],
   "source": [
    "def dict_map(list_):\n",
    "    \"\"\"creates a dictionary with each (key, value) pair being the (lower case, upper case) versions of a letter\"\"\"\n",
    "    import traceback\n",
    "    try:\n",
    "        dictt = {}\n",
    "        for i in list_:\n",
    "            dictt[i] = i.upper()\n",
    "        return dictt\n",
    "    except:\n",
    "        print(traceback.format_exc())\n",
    "        \n",
    "        \n",
    "x = dict_map([\"a\", \"v\", \"y\", \"z\"])\n",
    "print(x)"
   ]
  },
  {
   "cell_type": "markdown",
   "metadata": {},
   "source": [
    "Question4\n",
    "\n",
    "Write a function, that replaces all vowels in a string with a specified vowel.\n",
    "Examples\n",
    "vow_replace(&quot;apples and bananas&quot;, &quot;u&quot;) ➞ &quot;upplus und bununus&quot;\n",
    "vow_replace(&quot;cheese casserole&quot;, &quot;o&quot;) ➞ &quot;chooso cossorolo&quot;\n",
    "vow_replace(&quot;stuffed jalapeno poppers&quot;, &quot;e&quot;) ➞ &quot;steffed jelepene peppers&quot;\n",
    "Notes\n",
    "All words will be lowercase. Y is not considered a vowel."
   ]
  },
  {
   "cell_type": "code",
   "execution_count": 89,
   "metadata": {},
   "outputs": [
    {
     "name": "stdout",
     "output_type": "stream",
     "text": [
      "steffed jelepene peppers\n"
     ]
    }
   ],
   "source": [
    "def str_replace(string,repalce_vowels):\n",
    "    \"\"\"replaces all vowels in a string with a specified vowel\"\"\"\n",
    "    import traceback\n",
    "    try:\n",
    "        string = string.lower()\n",
    "        for i in string:\n",
    "            if i in (\"aeiou\"):\n",
    "                string = string.replace(i,repalce_vowels)\n",
    "        return (string)\n",
    "    except:\n",
    "        print(traceback.format_exc())\n",
    "        \n",
    "x = str_replace(\"stuffED jalapeno poppers\",\"e\")\n",
    "print(x)"
   ]
  },
  {
   "cell_type": "markdown",
   "metadata": {},
   "source": [
    "Question5\n",
    "\n",
    "Create a function that takes a string as input and capitalizes a letter if its ASCII code is even\n",
    "and returns its lower case version if its ASCII code is odd.\n",
    "Examples\n",
    "ascii_capitalize(&quot;to be or not to be!&quot;) ➞ &quot;To Be oR NoT To Be!&quot;\n",
    "ascii_capitalize(&quot;THE LITTLE MERMAID&quot;) ➞ &quot;THe LiTTLe meRmaiD&quot;\n",
    "ascii_capitalize(&quot;Oh what a beautiful morning.&quot;) ➞ &quot;oH wHaT a BeauTiFuL\n",
    "moRNiNg.&quot;"
   ]
  },
  {
   "cell_type": "code",
   "execution_count": 117,
   "metadata": {},
   "outputs": [
    {
     "name": "stdout",
     "output_type": "stream",
     "text": [
      "oH wHaT a BeauTiFuL moRNiNg.\n"
     ]
    }
   ],
   "source": [
    "def ascii_cap_low(strr):\n",
    "    \"\"\" takes a string as input and capitalizes a letter if \n",
    "    its ASCII code is even and returns its lower case version \n",
    "    if its ASCII code is odd.\"\"\"\n",
    "    import traceback\n",
    "    try:\n",
    "        for i in strr:\n",
    "            if ord(i) >= 97 and ord(i) <= 122 or ord(i) >= 65 and ord(i) <= 90:\n",
    "                if ord(i)%2==0:\n",
    "                    strr = n.replace(i,i.upper())\n",
    "                else:\n",
    "                    strr = n.replace(i,i.lower())\n",
    "        return (strr)\n",
    "    except:\n",
    "        print(traceback.format_exc())\n",
    "        \n",
    "x = ascii_cap_low(\"Oh what a beautiful morning.\")\n",
    "print(x)"
   ]
  }
 ],
 "metadata": {
  "kernelspec": {
   "display_name": "Python 3",
   "language": "python",
   "name": "python3"
  },
  "language_info": {
   "codemirror_mode": {
    "name": "ipython",
    "version": 3
   },
   "file_extension": ".py",
   "mimetype": "text/x-python",
   "name": "python",
   "nbconvert_exporter": "python",
   "pygments_lexer": "ipython3",
   "version": "3.8.5"
  }
 },
 "nbformat": 4,
 "nbformat_minor": 4
}
