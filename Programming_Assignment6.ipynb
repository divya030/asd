{
 "cells": [
  {
   "cell_type": "code",
   "execution_count": 7,
   "metadata": {},
   "outputs": [
    {
     "name": "stdout",
     "output_type": "stream",
     "text": [
      "Enter the number:23\n",
      "0 1 1 2 3 5 8 13 21 34 55 89 144 233 377 610 987 1597 2584 4181 6765 10946 17711 "
     ]
    }
   ],
   "source": [
    "# 1. Write a Python Program to Display Fibonacci Sequence Using Recursion?\n",
    "\n",
    "def fibonacci(x):\n",
    "    \"\"\" Returns fibonacci series till the given number\"\"\"\n",
    "    if x == 0:\n",
    "        return 0\n",
    "    elif x == 1:\n",
    "        return 1\n",
    "    else:\n",
    "        return (fibonacci(x-2)+fibonacci(x-1))\n",
    "    \n",
    "n = int(input(\"Enter the number:\"))\n",
    "\n",
    "for i in range (0,n):\n",
    "    print(fibonacci(i),end=\" \")"
   ]
  },
  {
   "cell_type": "code",
   "execution_count": 11,
   "metadata": {},
   "outputs": [
    {
     "data": {
      "text/plain": [
       "479001600"
      ]
     },
     "execution_count": 11,
     "metadata": {},
     "output_type": "execute_result"
    }
   ],
   "source": [
    "# 2. Write a Python Program to Find Factorial of Number Using Recursion?\n",
    "\n",
    "def fact(n):\n",
    "    \"\"\" Returns the factorial of a number\"\"\"\n",
    "    if n == 1:\n",
    "        return 1\n",
    "    else:\n",
    "        return n*fact(n-1)\n",
    "    \n",
    "fact(12)"
   ]
  },
  {
   "cell_type": "code",
   "execution_count": 58,
   "metadata": {},
   "outputs": [
    {
     "name": "stdout",
     "output_type": "stream",
     "text": [
      "Enter your weight in kg:57\n",
      "Enter your height in ft:5.7\n",
      "Your Body Mass Index is 18.884. This is considered Normal.\n"
     ]
    }
   ],
   "source": [
    "# 3. Write a Python Program to calculate your Body Mass Index?\n",
    "\n",
    "# BMI = kg/sq.m\n",
    "\n",
    "try:\n",
    "    kg = float(input(\"Enter your weight in kg:\"))\n",
    "    ft  = float(input(\"Enter your height in ft:\"))\n",
    "    \n",
    "    m = ft/3.2808\n",
    "\n",
    "    BMI=round(kg/(m**2),3)\n",
    "\n",
    "    if BMI<=18.5:\n",
    "        print(f\"Your Body Mass Index is {BMI}. This is considered underweight.\")\n",
    "    elif BMI>=18.5 and BMI<=24.9:\n",
    "        print(f\"Your Body Mass Index is {BMI}. This is considered Normal.\")\n",
    "    elif BMI>=25 and BMI<=29.9:\n",
    "        print(f\"Your Body Mass Index is {BMI}. This is considered Overweight.\")\n",
    "    elif BMI>=30 and BMI<=39.9:\n",
    "        print(f\"Your Body Mass Index is {BMI}. This is in Obese range.\")\n",
    "    else:\n",
    "        raise Exception(\"Enter a valid height and weight\")\n",
    "except Exception as e:\n",
    "    print(e)"
   ]
  },
  {
   "cell_type": "code",
   "execution_count": 67,
   "metadata": {},
   "outputs": [
    {
     "name": "stdout",
     "output_type": "stream",
     "text": [
      "Enter the number:0.5\n",
      "-0.6931471805599453\n"
     ]
    }
   ],
   "source": [
    "# 4. Write a Python Program to calculate the natural logarithm of any number?\n",
    "\n",
    "import math\n",
    "try:\n",
    "    n = float(input(\"Enter the number:\"))\n",
    "\n",
    "    print(math.log(n))\n",
    "except Exception as e:\n",
    "    print(e)"
   ]
  },
  {
   "cell_type": "code",
   "execution_count": 77,
   "metadata": {},
   "outputs": [
    {
     "data": {
      "text/plain": [
       "741321"
      ]
     },
     "execution_count": 77,
     "metadata": {},
     "output_type": "execute_result"
    }
   ],
   "source": [
    "# 5. Write a Python Program for cube sum of first n natural numbers?\n",
    "\n",
    "def cube_sum(n):\n",
    "    \"\"\" Returns the cube sum of the n natural numbers \"\"\"\n",
    "    if n ==1:\n",
    "        return 1\n",
    "    else:\n",
    "        try:\n",
    "            c = n**3\n",
    "            return c+cube_sum(n-1)\n",
    "        except Exception as e:\n",
    "            print(e)\n",
    "    \n",
    "    \n",
    "cube_sum(41)"
   ]
  }
 ],
 "metadata": {
  "kernelspec": {
   "display_name": "Python 3",
   "language": "python",
   "name": "python3"
  },
  "language_info": {
   "codemirror_mode": {
    "name": "ipython",
    "version": 3
   },
   "file_extension": ".py",
   "mimetype": "text/x-python",
   "name": "python",
   "nbconvert_exporter": "python",
   "pygments_lexer": "ipython3",
   "version": "3.8.5"
  }
 },
 "nbformat": 4,
 "nbformat_minor": 4
}
