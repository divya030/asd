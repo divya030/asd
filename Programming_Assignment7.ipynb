{
 "cells": [
  {
   "cell_type": "code",
   "execution_count": 1,
   "metadata": {},
   "outputs": [
    {
     "name": "stdout",
     "output_type": "stream",
     "text": [
      "Enter the numbers:1\n",
      "Enter the numbers:2\n",
      "Enter the numbers:3\n",
      "Enter the numbers:4\n",
      "Enter the numbers:5\n",
      "Array: [1, 2, 3, 4, 5]\n",
      "Sum: 15\n"
     ]
    }
   ],
   "source": [
    "# 1. Write a Python Program to find sum of array?\n",
    "\n",
    "import array as arr\n",
    "\n",
    "def array(n):\n",
    "    try:\n",
    "        l1=[]\n",
    "        for i in range (n):\n",
    "            n1=int(input(\"Enter the numbers:\"))\n",
    "            l1.append(n1)\n",
    "        return l1\n",
    "    except Exception as e:\n",
    "        print(e)\n",
    "\n",
    "l1 = array(5)\n",
    "a = arr.array(\"i\",l1)\n",
    "v = 0\n",
    "for i in a:\n",
    "    v+=i\n",
    "print(\"Array:\",l1)\n",
    "print(\"Sum:\",v)\n"
   ]
  },
  {
   "cell_type": "code",
   "execution_count": 2,
   "metadata": {},
   "outputs": [
    {
     "name": "stdout",
     "output_type": "stream",
     "text": [
      "Enter the lenght of an array:5\n",
      "Enter the numbers:45\n",
      "Enter the numbers:56\n",
      "Enter the numbers:67\n",
      "Enter the numbers:89\n",
      "Enter the numbers:87\n",
      "The largest element in [45, 56, 67, 89, 87] is 89\n"
     ]
    }
   ],
   "source": [
    "# 2. Write a Python Program to find largest element in an array?\n",
    "\n",
    "n = int(input(\"Enter the lenght of an array:\"))\n",
    "l1 = array(n)\n",
    "try:\n",
    "    a = arr.array(\"i\",l1)\n",
    "    v = a[0]\n",
    "    for i in a:\n",
    "        if i>v:\n",
    "            v = i\n",
    "    print(f\"The largest element in {l1} is {v}\")\n",
    "except Exception as e:\n",
    "    print(e)"
   ]
  },
  {
   "cell_type": "code",
   "execution_count": 24,
   "metadata": {},
   "outputs": [
    {
     "name": "stdout",
     "output_type": "stream",
     "text": [
      "choose between (left/right) rotation:right\n",
      "Enter the lenght of an array:7\n",
      "Enter the numbers:4\n",
      "Enter the numbers:3\n",
      "Enter the numbers:5\n",
      "Enter the numbers:6\n",
      "Enter the numbers:8\n",
      "Enter the numbers:9\n",
      "Enter the numbers:0\n",
      "Enter how many numbers to get shifted:2\n",
      "[9, 0, 4, 3, 5, 6, 8]\n"
     ]
    }
   ],
   "source": [
    "# 3. Write a Python Program for array rotation?\n",
    "\n",
    "try:\n",
    "    rot = str(input(\"choose between (left/right) rotation:\"))\n",
    "    n = int(input(\"Enter the lenght of an array:\"))\n",
    "    l1 = array(n)\n",
    "    a = arr.array(\"i\",l1)\n",
    "    n1 = int(input(\"Enter how many numbers to get shifted:\"))\n",
    "\n",
    "    if rot == 'left':\n",
    "        for i in range (0,n1):\n",
    "            temp = a[0]\n",
    "            for j in range (0,len(a)-1):\n",
    "                a[j]=a[j+1]\n",
    "            a[len(a)-1]=temp\n",
    "    elif rot == 'right':\n",
    "        for i in range (0,n1):\n",
    "            temp = a[len(a)-1]\n",
    "            for j in range (len(a)-1,0,-1):\n",
    "                a[j]=a[j-1]\n",
    "            a[0]=temp\n",
    "    else:\n",
    "        raise Exception (\"Do enter a valid rotation\")\n",
    "\n",
    "    print(list(a))\n",
    "except Exception as e:\n",
    "    print(e)"
   ]
  },
  {
   "cell_type": "code",
   "execution_count": 33,
   "metadata": {},
   "outputs": [
    {
     "name": "stdout",
     "output_type": "stream",
     "text": [
      "Enter the lenght of an array:5\n",
      "Enter the numbers:1\n",
      "Enter the numbers:2\n",
      "Enter the numbers:3\n",
      "Enter the numbers:4\n",
      "Enter the numbers:5\n",
      "Enter the index to split:2\n",
      "[3, 4, 5, 1, 2]\n"
     ]
    }
   ],
   "source": [
    "# 4. Write a Python Program to Split the array and add the first part to the end?\n",
    "\n",
    "try:\n",
    "    n = int(input(\"Enter the lenght of an array:\"))\n",
    "    l1 = array(n)\n",
    "    a = arr.array(\"i\",l1)\n",
    "    n1 = int(input(\"Enter the index to split:\"))\n",
    "    for i in range (0,n1):\n",
    "        temp = a[0]\n",
    "        for j in range (0,len(a)-1):\n",
    "            a[j]=a[j+1]\n",
    "        a[len(a)-1]=temp\n",
    "    print(list(a))\n",
    "except Exception as e:\n",
    "    print(e)"
   ]
  },
  {
   "cell_type": "code",
   "execution_count": 53,
   "metadata": {},
   "outputs": [
    {
     "name": "stdout",
     "output_type": "stream",
     "text": [
      "Enter the lenght of an array:7\n",
      "Enter the numbers:45\n",
      "Enter the numbers:56\n",
      "Enter the numbers:76\n",
      "Enter the numbers:78\n",
      "Enter the numbers:92\n",
      "Enter the numbers:94\n",
      "Enter the numbers:99\n",
      "The given array [45, 56, 76, 78, 92, 94, 99] is monotonic\n"
     ]
    }
   ],
   "source": [
    "# 5. Write a Python Program to check if given array is Monotonic?\n",
    "\n",
    "def mono(l):\n",
    "    a=0\n",
    "    b=0\n",
    "    for i in range (0,len(l)-1):\n",
    "        if l[i]<=l[i+1]:\n",
    "            a+=1\n",
    "        elif l[i]>=l[i+1]:\n",
    "            b+=1\n",
    "    return (a or b)\n",
    "\n",
    "n = int(input(\"Enter the lenght of an array:\"))\n",
    "l1 = array(n)\n",
    "l = arr.array(\"i\",l1)\n",
    "a = mono(l)\n",
    "if a == len(l)-1 or b == len(l)-1:\n",
    "    print(f\"The given array {list(l)} is monotonic\")\n",
    "else:\n",
    "    print(f\"The given array {list(l)} is not monotonic\")"
   ]
  }
 ],
 "metadata": {
  "kernelspec": {
   "display_name": "Python 3",
   "language": "python",
   "name": "python3"
  },
  "language_info": {
   "codemirror_mode": {
    "name": "ipython",
    "version": 3
   },
   "file_extension": ".py",
   "mimetype": "text/x-python",
   "name": "python",
   "nbconvert_exporter": "python",
   "pygments_lexer": "ipython3",
   "version": "3.8.5"
  }
 },
 "nbformat": 4,
 "nbformat_minor": 4
}
