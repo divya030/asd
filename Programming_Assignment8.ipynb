{
 "cells": [
  {
   "cell_type": "code",
   "execution_count": 199,
   "metadata": {},
   "outputs": [
    {
     "name": "stdout",
     "output_type": "stream",
     "text": [
      "The given matrix:\n",
      "[[10 20 30 40]\n",
      " [50 60 70 80]]\n",
      "[[100 200 300 400]\n",
      " [500 600 700 800]]\n",
      "Output:\n",
      "[110, 220, 330, 440]\n",
      "[550, 660, 770, 880]\n"
     ]
    }
   ],
   "source": [
    "# 1. Write a Python Program to Add Two Matrices?\n",
    "\n",
    "def matrix(r,c,l):\n",
    "    import numpy as np\n",
    "    try:\n",
    "        \"\"\" r -- no. of rows\n",
    "            c -- no. of columns\n",
    "            l1 -- list of elements to be in the matrix \n",
    "               -- len(l1) = r*c \"\"\"\n",
    "        matrix = np.array(l).reshape(r,c)\n",
    "        return (matrix)\n",
    "    except Exception as e:\n",
    "        print(e)\n",
    "\n",
    "l1=[10,20,30,40,50,60,70,80]\n",
    "l2=[100,200,300,400,500,600,700,800]\n",
    "try:\n",
    "    a = matrix(2,4,l1)\n",
    "    b = matrix(2,4,l2)\n",
    "    print(\"The given matrix:\")\n",
    "    print(a)\n",
    "    print(b)\n",
    "    print(\"Output:\")\n",
    "    for i in range(len(a)):\n",
    "        x =[]\n",
    "        for j in range(len(a[i])):\n",
    "            r = a[i][j]+b[i][j]\n",
    "            x.append(r)\n",
    "        print(x)\n",
    "except Exception as e:\n",
    "        print(e)"
   ]
  },
  {
   "cell_type": "code",
   "execution_count": 198,
   "metadata": {},
   "outputs": [
    {
     "name": "stdout",
     "output_type": "stream",
     "text": [
      "The given matrix:\n",
      "[[ 1  3  5]\n",
      " [ 7 11 13]\n",
      " [17 19 23]]\n",
      "[[ 2  4  6]\n",
      " [ 8 10 12]\n",
      " [14 16 18]]\n",
      "Output:\n",
      "[2, 12, 30]\n",
      "[56, 110, 156]\n",
      "[238, 304, 414]\n"
     ]
    }
   ],
   "source": [
    "# 2. Write a Python Program to Multiply Two Matrices?\n",
    "\n",
    "l = [1,3,5,7,11,13,17,19,23]\n",
    "l1= [2,4,6,8,10,12,14,16,18]\n",
    "try:\n",
    "    a = matrix(3,3,l)\n",
    "    b = matrix(3,3,l1)\n",
    "    print(\"The given matrix:\")\n",
    "    print(a)\n",
    "    print(b)\n",
    "    print(\"Output:\")\n",
    "    for i in range(len(a)):\n",
    "        x =[]\n",
    "        for j in range(len(a[i])):\n",
    "            r = a[i][j]*b[i][j]\n",
    "            x.append(r)\n",
    "        print(x)\n",
    "except Exception as e:\n",
    "        print(e)"
   ]
  },
  {
   "cell_type": "code",
   "execution_count": 196,
   "metadata": {},
   "outputs": [
    {
     "name": "stdout",
     "output_type": "stream",
     "text": [
      "The given matrix:\n",
      "[[ 10  20  30  40]\n",
      " [ 50  60  70  80]\n",
      " [ 90 100 110 120]]\n",
      "Output:\n",
      "[[ 10  20  30]\n",
      " [ 40  50  60]\n",
      " [ 70  80  90]\n",
      " [100 110 120]]\n"
     ]
    }
   ],
   "source": [
    "# 3. Write a Python Program to Transpose a Matrix?\n",
    "\n",
    "l = [10,20,30,40,50,60,70,80,90,100,110,120]\n",
    "\n",
    "a = matrix(3,4,l)\n",
    "b = a.shape\n",
    "r = b[1]\n",
    "c = b[0]\n",
    "x =[]\n",
    "print(\"The given matrix:\")\n",
    "print(a)\n",
    "print(\"Output:\")\n",
    "try:\n",
    "    for i in range(len(a)):\n",
    "        for j in range(len(a[i])):\n",
    "            x.append(a[i][j])\n",
    "\n",
    "    transpose = matrix(r,c,x)\n",
    "    print(transpose)\n",
    "except Exception as e:\n",
    "        print(e)"
   ]
  },
  {
   "cell_type": "code",
   "execution_count": 237,
   "metadata": {},
   "outputs": [
    {
     "name": "stdout",
     "output_type": "stream",
     "text": [
      "Enter the string:I looked for Mary and Samantha at the bus station\n",
      "['and', 'at', 'bus', 'for', 'i', 'looked', 'mary', 'samantha', 'station', 'the'] "
     ]
    }
   ],
   "source": [
    "# 4. Write a Python Program to Sort Words in Alphabetic Order?\n",
    "\n",
    "try:\n",
    "    a = str(input(\"Enter the string:\"))\n",
    "    a = a.lower()\n",
    "    s = a.split()\n",
    "    s.sort()\n",
    "    print(s,end=\" \")\n",
    "except Exception as e:\n",
    "        print(e)"
   ]
  },
  {
   "cell_type": "code",
   "execution_count": 251,
   "metadata": {},
   "outputs": [
    {
     "name": "stdout",
     "output_type": "stream",
     "text": [
      "Enter the string: In each town-London, Paris and Rome-we stayed in youth hostels.\n",
      "In each townLondon Paris and Romewe stayed in youth hostels \n"
     ]
    }
   ],
   "source": [
    "# 5. Write a Python Program to Remove Punctuation From a String?\n",
    "\n",
    "p = '''!()-[]{};:'\"\\,<>./?@#$%^&*_~'''\n",
    "\n",
    "a = str(input(\"Enter the string: \"))\n",
    "\n",
    "for i in a:\n",
    "    if i not in p:\n",
    "        print(i,end=\"\")\n",
    "print(\" \")"
   ]
  }
 ],
 "metadata": {
  "kernelspec": {
   "display_name": "Python 3",
   "language": "python",
   "name": "python3"
  },
  "language_info": {
   "codemirror_mode": {
    "name": "ipython",
    "version": 3
   },
   "file_extension": ".py",
   "mimetype": "text/x-python",
   "name": "python",
   "nbconvert_exporter": "python",
   "pygments_lexer": "ipython3",
   "version": "3.8.5"
  }
 },
 "nbformat": 4,
 "nbformat_minor": 4
}
