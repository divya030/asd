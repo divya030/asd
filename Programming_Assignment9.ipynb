{
 "cells": [
  {
   "cell_type": "code",
   "execution_count": 32,
   "metadata": {},
   "outputs": [
    {
     "name": "stdout",
     "output_type": "stream",
     "text": [
      "Enter the number:135\n",
      "135 is a Disarium Number\n"
     ]
    }
   ],
   "source": [
    "# 1. Write a Python program to check if the given number is a Disarium Number?\n",
    "\n",
    "\n",
    "def disarium(n):\n",
    "    \"\"\"check the given number is a Disarium Number \"\"\"\n",
    "    import math\n",
    "    a =list(str(n))\n",
    "    z = 0 \n",
    "    try:\n",
    "        for i in range(0,len(a)):\n",
    "            x = int(a[i])\n",
    "            z = z + math.pow(x,(i+1))\n",
    "        return z\n",
    "    except Exception as e:\n",
    "        print(e)\n",
    "\n",
    "try:\n",
    "    n = int(input(\"Enter the number:\"))\n",
    "    z = disarium(n)\n",
    "\n",
    "    if z == n:\n",
    "        print(f\"{n} is a Disarium Number\")\n",
    "    else:\n",
    "        print(f\"{n} is not a Disarium Number\")\n",
    "except Exception as e:\n",
    "        print(e)"
   ]
  },
  {
   "cell_type": "code",
   "execution_count": 19,
   "metadata": {},
   "outputs": [
    {
     "name": "stdout",
     "output_type": "stream",
     "text": [
      "[1, 2, 3, 4, 5, 6, 7, 8, 9, 89] are disarium numbers between 1 to 100\n"
     ]
    }
   ],
   "source": [
    "# 2. Write a Python program to print all disarium numbers between 1 to 100?\n",
    "\n",
    "l=[]\n",
    "for i in range(1,100):\n",
    "    x = disarium(i)\n",
    "    if x == i:\n",
    "        l.append(i)\n",
    "print(f\"{l} are disarium numbers between 1 to 100\")"
   ]
  },
  {
   "cell_type": "code",
   "execution_count": 47,
   "metadata": {},
   "outputs": [
    {
     "name": "stdout",
     "output_type": "stream",
     "text": [
      "Enter a number:1098\n",
      "1098 is not a Happy Number\n"
     ]
    }
   ],
   "source": [
    "# 3. Write a Python program to check if the given number is Happy Number?\n",
    "\n",
    "\n",
    "def happy(n):\n",
    "    \"\"\"check the given number is Happy Number\"\"\"\n",
    "    n1 = n\n",
    "    try:\n",
    "        while n>1 and n1>=0:\n",
    "            x = 0\n",
    "            for i in str(n):\n",
    "                a = int(i)\n",
    "                x = x+(a*a)\n",
    "            n = x\n",
    "            n1-=1\n",
    "        return n\n",
    "    except Exception as e:\n",
    "        print(e)\n",
    "\n",
    "\n",
    "try:\n",
    "    n = int(input(\"Enter a number:\"))\n",
    "    z = happy(n)\n",
    "\n",
    "    if z == 1:\n",
    "        print(f\"{n} is a Happy Number\")\n",
    "    else:\n",
    "        print(f\"{n} is not a Happy Number\")\n",
    "\n",
    "except Exception as e:\n",
    "    print(e)"
   ]
  },
  {
   "cell_type": "code",
   "execution_count": 48,
   "metadata": {},
   "outputs": [
    {
     "name": "stdout",
     "output_type": "stream",
     "text": [
      "[1, 7, 10, 13, 19, 23, 28, 31, 32, 44, 49, 68, 70, 79, 82, 86, 91, 94, 97] are happy numbers between 1 -100\n"
     ]
    }
   ],
   "source": [
    "# 4. Write a Python program to print all happy numbers between 1 and 100?\n",
    "\n",
    "l = []\n",
    "\n",
    "for i in range (1,100):\n",
    "    x = happy(i)\n",
    "    if x == 1:\n",
    "        l.append(i)\n",
    "print(f\"{l} are happy numbers between 1 -100\")"
   ]
  },
  {
   "cell_type": "code",
   "execution_count": 79,
   "metadata": {},
   "outputs": [
    {
     "name": "stdout",
     "output_type": "stream",
     "text": [
      "Enter the number:72\n",
      "72 is a Harshad Number\n"
     ]
    }
   ],
   "source": [
    "# 5. Write a Python program to determine whether the given number is a Harshad Number?\n",
    "\n",
    "def harshad(n):\n",
    "    \"\"\"checks the given number is a Harshad Number\"\"\"\n",
    "    x = 0\n",
    "    for i in str(n):\n",
    "        a = int(i)\n",
    "        x = x+a\n",
    "    if n%x == 0:\n",
    "        return n\n",
    "    else:\n",
    "        return 0\n",
    "    \n",
    "try:\n",
    "    n = int(input(\"Enter the number:\"))\n",
    "    x = harshad(n)\n",
    "    if x == n:\n",
    "        print(f\"{n} is a Harshad Number\")\n",
    "    else:\n",
    "        print(f\"{n} is not a Harshad Number\")\n",
    "except Exception as e:\n",
    "    print(e)"
   ]
  },
  {
   "cell_type": "code",
   "execution_count": 80,
   "metadata": {},
   "outputs": [
    {
     "name": "stdout",
     "output_type": "stream",
     "text": [
      "[1, 2, 3, 4, 5, 6, 7, 8, 9, 10, 12, 18, 20, 21, 24, 27, 30, 36, 40, 42, 45, 48, 50, 54, 60, 63, 70, 72, 80, 81, 84, 90] are Harshad Number between 1 -100\n"
     ]
    }
   ],
   "source": [
    "# 6. Write a Python program to print all pronic numbers between 1 and 100?\n",
    "l = []\n",
    "for i in range (1,100):\n",
    "    x = harshad(i)\n",
    "    if x == i:\n",
    "        l.append(i)\n",
    "print(f\"{l} are Harshad Number between 1 -100\")"
   ]
  }
 ],
 "metadata": {
  "kernelspec": {
   "display_name": "Python 3",
   "language": "python",
   "name": "python3"
  },
  "language_info": {
   "codemirror_mode": {
    "name": "ipython",
    "version": 3
   },
   "file_extension": ".py",
   "mimetype": "text/x-python",
   "name": "python",
   "nbconvert_exporter": "python",
   "pygments_lexer": "ipython3",
   "version": "3.8.5"
  }
 },
 "nbformat": 4,
 "nbformat_minor": 4
}
