{
 "cells": [
  {
   "cell_type": "code",
   "execution_count": null,
   "metadata": {},
   "outputs": [],
   "source": [
    "# 1. Write a Python Program to Find LCM?\n",
    "\n",
    "# LCM = (a*b)/GCD(a,b)\n",
    "\n",
    "def lcm(x,y):\n",
    "    \"\"\"Returns the Lcm for two numbers\"\"\"\n",
    "    z=1\n",
    "    l1=[]\n",
    "    try:\n",
    "        z = z*x*y\n",
    "        x = Hcf.factors(x,y)\n",
    "        l1=l1+x\n",
    "        y = Hcf.find_com(l1)\n",
    "        lcm = z//y\n",
    "        return lcm\n",
    "    except Exception as e:\n",
    "        print(e)\n",
    "\n",
    "def test(l1):\n",
    "    \"\"\" Returns Lcm for multiple numbers\"\"\"\n",
    "    from functools import reduce\n",
    "    a = reduce(lambda x,y:lcm(x,y),l1)\n",
    "    return a\n",
    "\n",
    "\n",
    "x = test([12,15,75,23,46,57,69])\n",
    "print(\"LCM of the numbers:\",x)"
   ]
  },
  {
   "cell_type": "code",
   "execution_count": null,
   "metadata": {},
   "outputs": [],
   "source": [
    "#2. Write a Python Program to Find HCF?\n",
    "\n",
    "class Hcf:\n",
    "    def factors(*args):\n",
    "        \"\"\" Returns the factors of the numbers\"\"\"\n",
    "        l2=[]\n",
    "        for i in args:\n",
    "            l1=[]\n",
    "            try:\n",
    "                for j in range (1,i+1):\n",
    "                    if i%j==0:\n",
    "                        l1.append(j)\n",
    "                l2=l2+[l1]\n",
    "            except Exception as e:\n",
    "                print(e)\n",
    "        return l2\n",
    "\n",
    "    def find_com(x):\n",
    "        \"\"\" Returns the hcf of the given numbers.\"\"\"\n",
    "        l1=[]\n",
    "        for i in x[0]:\n",
    "            a=0\n",
    "            try:\n",
    "                for j in range(1,len(x)):\n",
    "                    if i in x[j]:\n",
    "                        a+=1\n",
    "                        if a == len(x)-1:\n",
    "                            l1.append(i)\n",
    "            except Exception as e:\n",
    "                print(e)\n",
    "        return (max(l1))\n",
    "\n",
    "\n",
    "\n",
    "fact = Hcf.factors(12, 15, 23, 75)\n",
    "\n",
    "x = Hcf.find_com(fact)\n",
    "\n",
    "print(\"The Hcf of the given numbers is\",x)"
   ]
  },
  {
   "cell_type": "code",
   "execution_count": null,
   "metadata": {},
   "outputs": [],
   "source": [
    "# HCF using math module\n",
    "\n",
    "import math\n",
    "\n",
    "x = int(input(\"Enter the number:\"))\n",
    "y = int(input(\"Enter the number:\"))\n",
    "z = int(input(\"Enter the number:\"))\n",
    "a = math.gcd(math.gcd(x,y),z)\n",
    "print(\"The Hcf of the given numbers is\",a)"
   ]
  },
  {
   "cell_type": "code",
   "execution_count": null,
   "metadata": {},
   "outputs": [],
   "source": [
    "# 3. Write a Python Program to Convert Decimal to Binary, Octal and Hexadecimal?\n",
    "\n",
    "i = int(input(\"Enter the number:\"))\n",
    "print(\"Binary:\",(bin(i)))\n",
    "print(\"Octal:\",(oct(i)))\n",
    "print(\"Hexa:\",(hex(i)))"
   ]
  },
  {
   "cell_type": "code",
   "execution_count": null,
   "metadata": {},
   "outputs": [],
   "source": [
    "# 4. Write a Python Program To Find ASCII value of a character?\n",
    "\n",
    "chr = str(input(\"Enter a character:\"))\n",
    "\n",
    "print(f\"ASCII value of {chr} is {ord(chr)}\")"
   ]
  },
  {
   "cell_type": "code",
   "execution_count": 19,
   "metadata": {},
   "outputs": [],
   "source": [
    "# 5. Write a Python Program to Make a Simple Calculator with 4 basic mathematical operations?\n",
    "\n",
    "\n",
    "class cal():\n",
    "    \n",
    "    def add(x,y):\n",
    "        \"\"\"Performs ADD operation for the given numbers\"\"\"\n",
    "        return x+y\n",
    "    \n",
    "    def sub(x,y):\n",
    "        \"\"\"Performs SUBTRACTION for the given numbers\"\"\"\n",
    "        return x-y\n",
    "    \n",
    "    def mul(x,y):\n",
    "        \"\"\"Performs MUL operation for the given numbers\"\"\"\n",
    "        return x*y\n",
    "    \n",
    "    def div(x,y):\n",
    "        \"\"\"Performs DIV operation for the given numbers\"\"\"\n",
    "        d = x/y\n",
    "        return d"
   ]
  },
  {
   "cell_type": "code",
   "execution_count": 44,
   "metadata": {},
   "outputs": [
    {
     "name": "stdout",
     "output_type": "stream",
     "text": [
      "Enter the operation (add/sub/mul/div):add\n",
      "Enter the nterms:4\n",
      "Enter the number:45\n",
      "Enter the number:56\n",
      "Enter the number:67\n",
      "Enter the number:78\n",
      "add for the numbers [45.0, 56.0, 67.0, 78.0] is 246.0\n"
     ]
    }
   ],
   "source": [
    "try:\n",
    "    op = str(input(\"Enter the operation (add/sub/mul/div):\"))\n",
    "    n = int(input(\"Enter the nterms:\"))\n",
    "    l1 = []\n",
    "    for i in range(n):\n",
    "        n1 = float(input(\"Enter the number:\"))\n",
    "        l1.append(n1)\n",
    "except Exception as e:\n",
    "        print(e)\n",
    "    \n",
    "from functools import reduce\n",
    "\n",
    "try:\n",
    "    if op in (\"add\",\"sub\",\"div\",\"mul\"):\n",
    "        if op == 'add':\n",
    "            x = reduce(lambda x,y:cal.add(x,y),l1)\n",
    "\n",
    "        elif op == 'sub':\n",
    "            x = reduce(lambda x,y:cal.sub(x,y),l1)\n",
    "\n",
    "        elif op == 'mul':\n",
    "            x = reduce(lambda x,y:cal.mul(x,y),l1)\n",
    "\n",
    "        elif op == 'div':\n",
    "            x = reduce(lambda x,y:cal.div(x,y),l1)\n",
    "    else:\n",
    "        raise Exception (\"Do enter the mentioned operation\")\n",
    "    print(f\"{op} for the numbers {l1} is {x}\")\n",
    "except Exception as e:\n",
    "    print(e)\n",
    "    "
   ]
  }
 ],
 "metadata": {
  "kernelspec": {
   "display_name": "Python 3",
   "language": "python",
   "name": "python3"
  },
  "language_info": {
   "codemirror_mode": {
    "name": "ipython",
    "version": 3
   },
   "file_extension": ".py",
   "mimetype": "text/x-python",
   "name": "python",
   "nbconvert_exporter": "python",
   "pygments_lexer": "ipython3",
   "version": "3.8.5"
  }
 },
 "nbformat": 4,
 "nbformat_minor": 4
}
